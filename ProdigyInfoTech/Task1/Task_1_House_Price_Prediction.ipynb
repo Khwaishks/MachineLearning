{
  "nbformat": 4,
  "nbformat_minor": 0,
  "metadata": {
    "colab": {
      "provenance": []
    },
    "kernelspec": {
      "name": "python3",
      "display_name": "Python 3"
    },
    "language_info": {
      "name": "python"
    }
  },
  "cells": [
    {
      "cell_type": "markdown",
      "source": [
        "##MACHINE_LEARNING_PROJECT_TASK# 01 :-\"HOUSE PRICE PREDICTION\""
      ],
      "metadata": {
        "id": "6xVBGKB1pcK8"
      }
    },
    {
      "cell_type": "markdown",
      "source": [
        "**IMPORT THE DATASETS**"
      ],
      "metadata": {
        "id": "MHKvlHnKrCwg"
      }
    },
    {
      "cell_type": "code",
      "source": [
        "import pandas as pd\n",
        "import numpy as np\n",
        "\n",
        "house_data = pd.read_csv('train.csv')\n",
        "house_data.head()"
      ],
      "metadata": {
        "colab": {
          "base_uri": "https://localhost:8080/",
          "height": 206
        },
        "id": "yFUOhdgvq0Wb",
        "outputId": "8bec7d57-67d9-46a5-dd71-e7a4132cac19"
      },
      "execution_count": 4,
      "outputs": [
        {
          "output_type": "execute_result",
          "data": {
            "text/plain": [
              "   beds  baths    size size_units  lot_size lot_size_units  zip_code  \\\n",
              "0     3    2.5  2590.0       sqft   6000.00           sqft     98144   \n",
              "1     4    2.0  2240.0       sqft      0.31           acre     98106   \n",
              "2     4    3.0  2040.0       sqft   3783.00           sqft     98107   \n",
              "3     4    3.0  3800.0       sqft   5175.00           sqft     98199   \n",
              "4     2    2.0  1042.0       sqft       NaN            NaN     98102   \n",
              "\n",
              "       price  \n",
              "0   795000.0  \n",
              "1   915000.0  \n",
              "2   950000.0  \n",
              "3  1950000.0  \n",
              "4   950000.0  "
            ],
            "text/html": [
              "\n",
              "  <div id=\"df-a8468620-5543-470f-a0ea-45cf83b8ab2b\" class=\"colab-df-container\">\n",
              "    <div>\n",
              "<style scoped>\n",
              "    .dataframe tbody tr th:only-of-type {\n",
              "        vertical-align: middle;\n",
              "    }\n",
              "\n",
              "    .dataframe tbody tr th {\n",
              "        vertical-align: top;\n",
              "    }\n",
              "\n",
              "    .dataframe thead th {\n",
              "        text-align: right;\n",
              "    }\n",
              "</style>\n",
              "<table border=\"1\" class=\"dataframe\">\n",
              "  <thead>\n",
              "    <tr style=\"text-align: right;\">\n",
              "      <th></th>\n",
              "      <th>beds</th>\n",
              "      <th>baths</th>\n",
              "      <th>size</th>\n",
              "      <th>size_units</th>\n",
              "      <th>lot_size</th>\n",
              "      <th>lot_size_units</th>\n",
              "      <th>zip_code</th>\n",
              "      <th>price</th>\n",
              "    </tr>\n",
              "  </thead>\n",
              "  <tbody>\n",
              "    <tr>\n",
              "      <th>0</th>\n",
              "      <td>3</td>\n",
              "      <td>2.5</td>\n",
              "      <td>2590.0</td>\n",
              "      <td>sqft</td>\n",
              "      <td>6000.00</td>\n",
              "      <td>sqft</td>\n",
              "      <td>98144</td>\n",
              "      <td>795000.0</td>\n",
              "    </tr>\n",
              "    <tr>\n",
              "      <th>1</th>\n",
              "      <td>4</td>\n",
              "      <td>2.0</td>\n",
              "      <td>2240.0</td>\n",
              "      <td>sqft</td>\n",
              "      <td>0.31</td>\n",
              "      <td>acre</td>\n",
              "      <td>98106</td>\n",
              "      <td>915000.0</td>\n",
              "    </tr>\n",
              "    <tr>\n",
              "      <th>2</th>\n",
              "      <td>4</td>\n",
              "      <td>3.0</td>\n",
              "      <td>2040.0</td>\n",
              "      <td>sqft</td>\n",
              "      <td>3783.00</td>\n",
              "      <td>sqft</td>\n",
              "      <td>98107</td>\n",
              "      <td>950000.0</td>\n",
              "    </tr>\n",
              "    <tr>\n",
              "      <th>3</th>\n",
              "      <td>4</td>\n",
              "      <td>3.0</td>\n",
              "      <td>3800.0</td>\n",
              "      <td>sqft</td>\n",
              "      <td>5175.00</td>\n",
              "      <td>sqft</td>\n",
              "      <td>98199</td>\n",
              "      <td>1950000.0</td>\n",
              "    </tr>\n",
              "    <tr>\n",
              "      <th>4</th>\n",
              "      <td>2</td>\n",
              "      <td>2.0</td>\n",
              "      <td>1042.0</td>\n",
              "      <td>sqft</td>\n",
              "      <td>NaN</td>\n",
              "      <td>NaN</td>\n",
              "      <td>98102</td>\n",
              "      <td>950000.0</td>\n",
              "    </tr>\n",
              "  </tbody>\n",
              "</table>\n",
              "</div>\n",
              "    <div class=\"colab-df-buttons\">\n",
              "\n",
              "  <div class=\"colab-df-container\">\n",
              "    <button class=\"colab-df-convert\" onclick=\"convertToInteractive('df-a8468620-5543-470f-a0ea-45cf83b8ab2b')\"\n",
              "            title=\"Convert this dataframe to an interactive table.\"\n",
              "            style=\"display:none;\">\n",
              "\n",
              "  <svg xmlns=\"http://www.w3.org/2000/svg\" height=\"24px\" viewBox=\"0 -960 960 960\">\n",
              "    <path d=\"M120-120v-720h720v720H120Zm60-500h600v-160H180v160Zm220 220h160v-160H400v160Zm0 220h160v-160H400v160ZM180-400h160v-160H180v160Zm440 0h160v-160H620v160ZM180-180h160v-160H180v160Zm440 0h160v-160H620v160Z\"/>\n",
              "  </svg>\n",
              "    </button>\n",
              "\n",
              "  <style>\n",
              "    .colab-df-container {\n",
              "      display:flex;\n",
              "      gap: 12px;\n",
              "    }\n",
              "\n",
              "    .colab-df-convert {\n",
              "      background-color: #E8F0FE;\n",
              "      border: none;\n",
              "      border-radius: 50%;\n",
              "      cursor: pointer;\n",
              "      display: none;\n",
              "      fill: #1967D2;\n",
              "      height: 32px;\n",
              "      padding: 0 0 0 0;\n",
              "      width: 32px;\n",
              "    }\n",
              "\n",
              "    .colab-df-convert:hover {\n",
              "      background-color: #E2EBFA;\n",
              "      box-shadow: 0px 1px 2px rgba(60, 64, 67, 0.3), 0px 1px 3px 1px rgba(60, 64, 67, 0.15);\n",
              "      fill: #174EA6;\n",
              "    }\n",
              "\n",
              "    .colab-df-buttons div {\n",
              "      margin-bottom: 4px;\n",
              "    }\n",
              "\n",
              "    [theme=dark] .colab-df-convert {\n",
              "      background-color: #3B4455;\n",
              "      fill: #D2E3FC;\n",
              "    }\n",
              "\n",
              "    [theme=dark] .colab-df-convert:hover {\n",
              "      background-color: #434B5C;\n",
              "      box-shadow: 0px 1px 3px 1px rgba(0, 0, 0, 0.15);\n",
              "      filter: drop-shadow(0px 1px 2px rgba(0, 0, 0, 0.3));\n",
              "      fill: #FFFFFF;\n",
              "    }\n",
              "  </style>\n",
              "\n",
              "    <script>\n",
              "      const buttonEl =\n",
              "        document.querySelector('#df-a8468620-5543-470f-a0ea-45cf83b8ab2b button.colab-df-convert');\n",
              "      buttonEl.style.display =\n",
              "        google.colab.kernel.accessAllowed ? 'block' : 'none';\n",
              "\n",
              "      async function convertToInteractive(key) {\n",
              "        const element = document.querySelector('#df-a8468620-5543-470f-a0ea-45cf83b8ab2b');\n",
              "        const dataTable =\n",
              "          await google.colab.kernel.invokeFunction('convertToInteractive',\n",
              "                                                    [key], {});\n",
              "        if (!dataTable) return;\n",
              "\n",
              "        const docLinkHtml = 'Like what you see? Visit the ' +\n",
              "          '<a target=\"_blank\" href=https://colab.research.google.com/notebooks/data_table.ipynb>data table notebook</a>'\n",
              "          + ' to learn more about interactive tables.';\n",
              "        element.innerHTML = '';\n",
              "        dataTable['output_type'] = 'display_data';\n",
              "        await google.colab.output.renderOutput(dataTable, element);\n",
              "        const docLink = document.createElement('div');\n",
              "        docLink.innerHTML = docLinkHtml;\n",
              "        element.appendChild(docLink);\n",
              "      }\n",
              "    </script>\n",
              "  </div>\n",
              "\n",
              "\n",
              "<div id=\"df-63305928-6f90-4f78-abb9-4f14fc1fe01c\">\n",
              "  <button class=\"colab-df-quickchart\" onclick=\"quickchart('df-63305928-6f90-4f78-abb9-4f14fc1fe01c')\"\n",
              "            title=\"Suggest charts\"\n",
              "            style=\"display:none;\">\n",
              "\n",
              "<svg xmlns=\"http://www.w3.org/2000/svg\" height=\"24px\"viewBox=\"0 0 24 24\"\n",
              "     width=\"24px\">\n",
              "    <g>\n",
              "        <path d=\"M19 3H5c-1.1 0-2 .9-2 2v14c0 1.1.9 2 2 2h14c1.1 0 2-.9 2-2V5c0-1.1-.9-2-2-2zM9 17H7v-7h2v7zm4 0h-2V7h2v10zm4 0h-2v-4h2v4z\"/>\n",
              "    </g>\n",
              "</svg>\n",
              "  </button>\n",
              "\n",
              "<style>\n",
              "  .colab-df-quickchart {\n",
              "      --bg-color: #E8F0FE;\n",
              "      --fill-color: #1967D2;\n",
              "      --hover-bg-color: #E2EBFA;\n",
              "      --hover-fill-color: #174EA6;\n",
              "      --disabled-fill-color: #AAA;\n",
              "      --disabled-bg-color: #DDD;\n",
              "  }\n",
              "\n",
              "  [theme=dark] .colab-df-quickchart {\n",
              "      --bg-color: #3B4455;\n",
              "      --fill-color: #D2E3FC;\n",
              "      --hover-bg-color: #434B5C;\n",
              "      --hover-fill-color: #FFFFFF;\n",
              "      --disabled-bg-color: #3B4455;\n",
              "      --disabled-fill-color: #666;\n",
              "  }\n",
              "\n",
              "  .colab-df-quickchart {\n",
              "    background-color: var(--bg-color);\n",
              "    border: none;\n",
              "    border-radius: 50%;\n",
              "    cursor: pointer;\n",
              "    display: none;\n",
              "    fill: var(--fill-color);\n",
              "    height: 32px;\n",
              "    padding: 0;\n",
              "    width: 32px;\n",
              "  }\n",
              "\n",
              "  .colab-df-quickchart:hover {\n",
              "    background-color: var(--hover-bg-color);\n",
              "    box-shadow: 0 1px 2px rgba(60, 64, 67, 0.3), 0 1px 3px 1px rgba(60, 64, 67, 0.15);\n",
              "    fill: var(--button-hover-fill-color);\n",
              "  }\n",
              "\n",
              "  .colab-df-quickchart-complete:disabled,\n",
              "  .colab-df-quickchart-complete:disabled:hover {\n",
              "    background-color: var(--disabled-bg-color);\n",
              "    fill: var(--disabled-fill-color);\n",
              "    box-shadow: none;\n",
              "  }\n",
              "\n",
              "  .colab-df-spinner {\n",
              "    border: 2px solid var(--fill-color);\n",
              "    border-color: transparent;\n",
              "    border-bottom-color: var(--fill-color);\n",
              "    animation:\n",
              "      spin 1s steps(1) infinite;\n",
              "  }\n",
              "\n",
              "  @keyframes spin {\n",
              "    0% {\n",
              "      border-color: transparent;\n",
              "      border-bottom-color: var(--fill-color);\n",
              "      border-left-color: var(--fill-color);\n",
              "    }\n",
              "    20% {\n",
              "      border-color: transparent;\n",
              "      border-left-color: var(--fill-color);\n",
              "      border-top-color: var(--fill-color);\n",
              "    }\n",
              "    30% {\n",
              "      border-color: transparent;\n",
              "      border-left-color: var(--fill-color);\n",
              "      border-top-color: var(--fill-color);\n",
              "      border-right-color: var(--fill-color);\n",
              "    }\n",
              "    40% {\n",
              "      border-color: transparent;\n",
              "      border-right-color: var(--fill-color);\n",
              "      border-top-color: var(--fill-color);\n",
              "    }\n",
              "    60% {\n",
              "      border-color: transparent;\n",
              "      border-right-color: var(--fill-color);\n",
              "    }\n",
              "    80% {\n",
              "      border-color: transparent;\n",
              "      border-right-color: var(--fill-color);\n",
              "      border-bottom-color: var(--fill-color);\n",
              "    }\n",
              "    90% {\n",
              "      border-color: transparent;\n",
              "      border-bottom-color: var(--fill-color);\n",
              "    }\n",
              "  }\n",
              "</style>\n",
              "\n",
              "  <script>\n",
              "    async function quickchart(key) {\n",
              "      const quickchartButtonEl =\n",
              "        document.querySelector('#' + key + ' button');\n",
              "      quickchartButtonEl.disabled = true;  // To prevent multiple clicks.\n",
              "      quickchartButtonEl.classList.add('colab-df-spinner');\n",
              "      try {\n",
              "        const charts = await google.colab.kernel.invokeFunction(\n",
              "            'suggestCharts', [key], {});\n",
              "      } catch (error) {\n",
              "        console.error('Error during call to suggestCharts:', error);\n",
              "      }\n",
              "      quickchartButtonEl.classList.remove('colab-df-spinner');\n",
              "      quickchartButtonEl.classList.add('colab-df-quickchart-complete');\n",
              "    }\n",
              "    (() => {\n",
              "      let quickchartButtonEl =\n",
              "        document.querySelector('#df-63305928-6f90-4f78-abb9-4f14fc1fe01c button');\n",
              "      quickchartButtonEl.style.display =\n",
              "        google.colab.kernel.accessAllowed ? 'block' : 'none';\n",
              "    })();\n",
              "  </script>\n",
              "</div>\n",
              "\n",
              "    </div>\n",
              "  </div>\n"
            ]
          },
          "metadata": {},
          "execution_count": 4
        }
      ]
    },
    {
      "cell_type": "markdown",
      "source": [
        "**#DATA PREPROCESSING AND CLEANING**"
      ],
      "metadata": {
        "id": "ZVrh4p82tUZM"
      }
    },
    {
      "cell_type": "code",
      "source": [
        "house= house_data[['size', 'beds', 'baths', 'price']]\n",
        "house= house.rename(columns={'size':'SquareFootage', 'beds':'Bedrooms', 'baths':'Bathrooms', 'price':'price'})"
      ],
      "metadata": {
        "id": "QmK-gmz1tJzJ"
      },
      "execution_count": 5,
      "outputs": []
    },
    {
      "cell_type": "code",
      "source": [
        "house.head()"
      ],
      "metadata": {
        "colab": {
          "base_uri": "https://localhost:8080/",
          "height": 206
        },
        "id": "Tm8l7rO3ta3i",
        "outputId": "2f1bbb16-137e-477a-c91e-319c0ca9f4cf"
      },
      "execution_count": 6,
      "outputs": [
        {
          "output_type": "execute_result",
          "data": {
            "text/plain": [
              "   SquareFootage  Bedrooms  Bathrooms      price\n",
              "0         2590.0         3        2.5   795000.0\n",
              "1         2240.0         4        2.0   915000.0\n",
              "2         2040.0         4        3.0   950000.0\n",
              "3         3800.0         4        3.0  1950000.0\n",
              "4         1042.0         2        2.0   950000.0"
            ],
            "text/html": [
              "\n",
              "  <div id=\"df-84dadf06-7f83-4810-88a7-2ca0c6c8137a\" class=\"colab-df-container\">\n",
              "    <div>\n",
              "<style scoped>\n",
              "    .dataframe tbody tr th:only-of-type {\n",
              "        vertical-align: middle;\n",
              "    }\n",
              "\n",
              "    .dataframe tbody tr th {\n",
              "        vertical-align: top;\n",
              "    }\n",
              "\n",
              "    .dataframe thead th {\n",
              "        text-align: right;\n",
              "    }\n",
              "</style>\n",
              "<table border=\"1\" class=\"dataframe\">\n",
              "  <thead>\n",
              "    <tr style=\"text-align: right;\">\n",
              "      <th></th>\n",
              "      <th>SquareFootage</th>\n",
              "      <th>Bedrooms</th>\n",
              "      <th>Bathrooms</th>\n",
              "      <th>price</th>\n",
              "    </tr>\n",
              "  </thead>\n",
              "  <tbody>\n",
              "    <tr>\n",
              "      <th>0</th>\n",
              "      <td>2590.0</td>\n",
              "      <td>3</td>\n",
              "      <td>2.5</td>\n",
              "      <td>795000.0</td>\n",
              "    </tr>\n",
              "    <tr>\n",
              "      <th>1</th>\n",
              "      <td>2240.0</td>\n",
              "      <td>4</td>\n",
              "      <td>2.0</td>\n",
              "      <td>915000.0</td>\n",
              "    </tr>\n",
              "    <tr>\n",
              "      <th>2</th>\n",
              "      <td>2040.0</td>\n",
              "      <td>4</td>\n",
              "      <td>3.0</td>\n",
              "      <td>950000.0</td>\n",
              "    </tr>\n",
              "    <tr>\n",
              "      <th>3</th>\n",
              "      <td>3800.0</td>\n",
              "      <td>4</td>\n",
              "      <td>3.0</td>\n",
              "      <td>1950000.0</td>\n",
              "    </tr>\n",
              "    <tr>\n",
              "      <th>4</th>\n",
              "      <td>1042.0</td>\n",
              "      <td>2</td>\n",
              "      <td>2.0</td>\n",
              "      <td>950000.0</td>\n",
              "    </tr>\n",
              "  </tbody>\n",
              "</table>\n",
              "</div>\n",
              "    <div class=\"colab-df-buttons\">\n",
              "\n",
              "  <div class=\"colab-df-container\">\n",
              "    <button class=\"colab-df-convert\" onclick=\"convertToInteractive('df-84dadf06-7f83-4810-88a7-2ca0c6c8137a')\"\n",
              "            title=\"Convert this dataframe to an interactive table.\"\n",
              "            style=\"display:none;\">\n",
              "\n",
              "  <svg xmlns=\"http://www.w3.org/2000/svg\" height=\"24px\" viewBox=\"0 -960 960 960\">\n",
              "    <path d=\"M120-120v-720h720v720H120Zm60-500h600v-160H180v160Zm220 220h160v-160H400v160Zm0 220h160v-160H400v160ZM180-400h160v-160H180v160Zm440 0h160v-160H620v160ZM180-180h160v-160H180v160Zm440 0h160v-160H620v160Z\"/>\n",
              "  </svg>\n",
              "    </button>\n",
              "\n",
              "  <style>\n",
              "    .colab-df-container {\n",
              "      display:flex;\n",
              "      gap: 12px;\n",
              "    }\n",
              "\n",
              "    .colab-df-convert {\n",
              "      background-color: #E8F0FE;\n",
              "      border: none;\n",
              "      border-radius: 50%;\n",
              "      cursor: pointer;\n",
              "      display: none;\n",
              "      fill: #1967D2;\n",
              "      height: 32px;\n",
              "      padding: 0 0 0 0;\n",
              "      width: 32px;\n",
              "    }\n",
              "\n",
              "    .colab-df-convert:hover {\n",
              "      background-color: #E2EBFA;\n",
              "      box-shadow: 0px 1px 2px rgba(60, 64, 67, 0.3), 0px 1px 3px 1px rgba(60, 64, 67, 0.15);\n",
              "      fill: #174EA6;\n",
              "    }\n",
              "\n",
              "    .colab-df-buttons div {\n",
              "      margin-bottom: 4px;\n",
              "    }\n",
              "\n",
              "    [theme=dark] .colab-df-convert {\n",
              "      background-color: #3B4455;\n",
              "      fill: #D2E3FC;\n",
              "    }\n",
              "\n",
              "    [theme=dark] .colab-df-convert:hover {\n",
              "      background-color: #434B5C;\n",
              "      box-shadow: 0px 1px 3px 1px rgba(0, 0, 0, 0.15);\n",
              "      filter: drop-shadow(0px 1px 2px rgba(0, 0, 0, 0.3));\n",
              "      fill: #FFFFFF;\n",
              "    }\n",
              "  </style>\n",
              "\n",
              "    <script>\n",
              "      const buttonEl =\n",
              "        document.querySelector('#df-84dadf06-7f83-4810-88a7-2ca0c6c8137a button.colab-df-convert');\n",
              "      buttonEl.style.display =\n",
              "        google.colab.kernel.accessAllowed ? 'block' : 'none';\n",
              "\n",
              "      async function convertToInteractive(key) {\n",
              "        const element = document.querySelector('#df-84dadf06-7f83-4810-88a7-2ca0c6c8137a');\n",
              "        const dataTable =\n",
              "          await google.colab.kernel.invokeFunction('convertToInteractive',\n",
              "                                                    [key], {});\n",
              "        if (!dataTable) return;\n",
              "\n",
              "        const docLinkHtml = 'Like what you see? Visit the ' +\n",
              "          '<a target=\"_blank\" href=https://colab.research.google.com/notebooks/data_table.ipynb>data table notebook</a>'\n",
              "          + ' to learn more about interactive tables.';\n",
              "        element.innerHTML = '';\n",
              "        dataTable['output_type'] = 'display_data';\n",
              "        await google.colab.output.renderOutput(dataTable, element);\n",
              "        const docLink = document.createElement('div');\n",
              "        docLink.innerHTML = docLinkHtml;\n",
              "        element.appendChild(docLink);\n",
              "      }\n",
              "    </script>\n",
              "  </div>\n",
              "\n",
              "\n",
              "<div id=\"df-3886f8bd-0651-4b07-9640-c4aa6c686d38\">\n",
              "  <button class=\"colab-df-quickchart\" onclick=\"quickchart('df-3886f8bd-0651-4b07-9640-c4aa6c686d38')\"\n",
              "            title=\"Suggest charts\"\n",
              "            style=\"display:none;\">\n",
              "\n",
              "<svg xmlns=\"http://www.w3.org/2000/svg\" height=\"24px\"viewBox=\"0 0 24 24\"\n",
              "     width=\"24px\">\n",
              "    <g>\n",
              "        <path d=\"M19 3H5c-1.1 0-2 .9-2 2v14c0 1.1.9 2 2 2h14c1.1 0 2-.9 2-2V5c0-1.1-.9-2-2-2zM9 17H7v-7h2v7zm4 0h-2V7h2v10zm4 0h-2v-4h2v4z\"/>\n",
              "    </g>\n",
              "</svg>\n",
              "  </button>\n",
              "\n",
              "<style>\n",
              "  .colab-df-quickchart {\n",
              "      --bg-color: #E8F0FE;\n",
              "      --fill-color: #1967D2;\n",
              "      --hover-bg-color: #E2EBFA;\n",
              "      --hover-fill-color: #174EA6;\n",
              "      --disabled-fill-color: #AAA;\n",
              "      --disabled-bg-color: #DDD;\n",
              "  }\n",
              "\n",
              "  [theme=dark] .colab-df-quickchart {\n",
              "      --bg-color: #3B4455;\n",
              "      --fill-color: #D2E3FC;\n",
              "      --hover-bg-color: #434B5C;\n",
              "      --hover-fill-color: #FFFFFF;\n",
              "      --disabled-bg-color: #3B4455;\n",
              "      --disabled-fill-color: #666;\n",
              "  }\n",
              "\n",
              "  .colab-df-quickchart {\n",
              "    background-color: var(--bg-color);\n",
              "    border: none;\n",
              "    border-radius: 50%;\n",
              "    cursor: pointer;\n",
              "    display: none;\n",
              "    fill: var(--fill-color);\n",
              "    height: 32px;\n",
              "    padding: 0;\n",
              "    width: 32px;\n",
              "  }\n",
              "\n",
              "  .colab-df-quickchart:hover {\n",
              "    background-color: var(--hover-bg-color);\n",
              "    box-shadow: 0 1px 2px rgba(60, 64, 67, 0.3), 0 1px 3px 1px rgba(60, 64, 67, 0.15);\n",
              "    fill: var(--button-hover-fill-color);\n",
              "  }\n",
              "\n",
              "  .colab-df-quickchart-complete:disabled,\n",
              "  .colab-df-quickchart-complete:disabled:hover {\n",
              "    background-color: var(--disabled-bg-color);\n",
              "    fill: var(--disabled-fill-color);\n",
              "    box-shadow: none;\n",
              "  }\n",
              "\n",
              "  .colab-df-spinner {\n",
              "    border: 2px solid var(--fill-color);\n",
              "    border-color: transparent;\n",
              "    border-bottom-color: var(--fill-color);\n",
              "    animation:\n",
              "      spin 1s steps(1) infinite;\n",
              "  }\n",
              "\n",
              "  @keyframes spin {\n",
              "    0% {\n",
              "      border-color: transparent;\n",
              "      border-bottom-color: var(--fill-color);\n",
              "      border-left-color: var(--fill-color);\n",
              "    }\n",
              "    20% {\n",
              "      border-color: transparent;\n",
              "      border-left-color: var(--fill-color);\n",
              "      border-top-color: var(--fill-color);\n",
              "    }\n",
              "    30% {\n",
              "      border-color: transparent;\n",
              "      border-left-color: var(--fill-color);\n",
              "      border-top-color: var(--fill-color);\n",
              "      border-right-color: var(--fill-color);\n",
              "    }\n",
              "    40% {\n",
              "      border-color: transparent;\n",
              "      border-right-color: var(--fill-color);\n",
              "      border-top-color: var(--fill-color);\n",
              "    }\n",
              "    60% {\n",
              "      border-color: transparent;\n",
              "      border-right-color: var(--fill-color);\n",
              "    }\n",
              "    80% {\n",
              "      border-color: transparent;\n",
              "      border-right-color: var(--fill-color);\n",
              "      border-bottom-color: var(--fill-color);\n",
              "    }\n",
              "    90% {\n",
              "      border-color: transparent;\n",
              "      border-bottom-color: var(--fill-color);\n",
              "    }\n",
              "  }\n",
              "</style>\n",
              "\n",
              "  <script>\n",
              "    async function quickchart(key) {\n",
              "      const quickchartButtonEl =\n",
              "        document.querySelector('#' + key + ' button');\n",
              "      quickchartButtonEl.disabled = true;  // To prevent multiple clicks.\n",
              "      quickchartButtonEl.classList.add('colab-df-spinner');\n",
              "      try {\n",
              "        const charts = await google.colab.kernel.invokeFunction(\n",
              "            'suggestCharts', [key], {});\n",
              "      } catch (error) {\n",
              "        console.error('Error during call to suggestCharts:', error);\n",
              "      }\n",
              "      quickchartButtonEl.classList.remove('colab-df-spinner');\n",
              "      quickchartButtonEl.classList.add('colab-df-quickchart-complete');\n",
              "    }\n",
              "    (() => {\n",
              "      let quickchartButtonEl =\n",
              "        document.querySelector('#df-3886f8bd-0651-4b07-9640-c4aa6c686d38 button');\n",
              "      quickchartButtonEl.style.display =\n",
              "        google.colab.kernel.accessAllowed ? 'block' : 'none';\n",
              "    })();\n",
              "  </script>\n",
              "</div>\n",
              "\n",
              "    </div>\n",
              "  </div>\n"
            ]
          },
          "metadata": {},
          "execution_count": 6
        }
      ]
    },
    {
      "cell_type": "code",
      "source": [
        "house.tail()"
      ],
      "metadata": {
        "colab": {
          "base_uri": "https://localhost:8080/",
          "height": 206
        },
        "id": "RFptkghutrDf",
        "outputId": "caf4d456-7f5b-4982-d789-819519dddf54"
      },
      "execution_count": 7,
      "outputs": [
        {
          "output_type": "execute_result",
          "data": {
            "text/plain": [
              "      SquareFootage  Bedrooms  Bathrooms      price\n",
              "2011         1370.0         3        2.0   910000.0\n",
              "2012          889.0         1        1.0   550000.0\n",
              "2013         2140.0         4        2.0  1150000.0\n",
              "2014          795.0         2        2.0   590000.0\n",
              "2015         1710.0         3        2.0   659000.0"
            ],
            "text/html": [
              "\n",
              "  <div id=\"df-ad1e0bb1-86b8-46cf-9a45-f7e0d025a6fd\" class=\"colab-df-container\">\n",
              "    <div>\n",
              "<style scoped>\n",
              "    .dataframe tbody tr th:only-of-type {\n",
              "        vertical-align: middle;\n",
              "    }\n",
              "\n",
              "    .dataframe tbody tr th {\n",
              "        vertical-align: top;\n",
              "    }\n",
              "\n",
              "    .dataframe thead th {\n",
              "        text-align: right;\n",
              "    }\n",
              "</style>\n",
              "<table border=\"1\" class=\"dataframe\">\n",
              "  <thead>\n",
              "    <tr style=\"text-align: right;\">\n",
              "      <th></th>\n",
              "      <th>SquareFootage</th>\n",
              "      <th>Bedrooms</th>\n",
              "      <th>Bathrooms</th>\n",
              "      <th>price</th>\n",
              "    </tr>\n",
              "  </thead>\n",
              "  <tbody>\n",
              "    <tr>\n",
              "      <th>2011</th>\n",
              "      <td>1370.0</td>\n",
              "      <td>3</td>\n",
              "      <td>2.0</td>\n",
              "      <td>910000.0</td>\n",
              "    </tr>\n",
              "    <tr>\n",
              "      <th>2012</th>\n",
              "      <td>889.0</td>\n",
              "      <td>1</td>\n",
              "      <td>1.0</td>\n",
              "      <td>550000.0</td>\n",
              "    </tr>\n",
              "    <tr>\n",
              "      <th>2013</th>\n",
              "      <td>2140.0</td>\n",
              "      <td>4</td>\n",
              "      <td>2.0</td>\n",
              "      <td>1150000.0</td>\n",
              "    </tr>\n",
              "    <tr>\n",
              "      <th>2014</th>\n",
              "      <td>795.0</td>\n",
              "      <td>2</td>\n",
              "      <td>2.0</td>\n",
              "      <td>590000.0</td>\n",
              "    </tr>\n",
              "    <tr>\n",
              "      <th>2015</th>\n",
              "      <td>1710.0</td>\n",
              "      <td>3</td>\n",
              "      <td>2.0</td>\n",
              "      <td>659000.0</td>\n",
              "    </tr>\n",
              "  </tbody>\n",
              "</table>\n",
              "</div>\n",
              "    <div class=\"colab-df-buttons\">\n",
              "\n",
              "  <div class=\"colab-df-container\">\n",
              "    <button class=\"colab-df-convert\" onclick=\"convertToInteractive('df-ad1e0bb1-86b8-46cf-9a45-f7e0d025a6fd')\"\n",
              "            title=\"Convert this dataframe to an interactive table.\"\n",
              "            style=\"display:none;\">\n",
              "\n",
              "  <svg xmlns=\"http://www.w3.org/2000/svg\" height=\"24px\" viewBox=\"0 -960 960 960\">\n",
              "    <path d=\"M120-120v-720h720v720H120Zm60-500h600v-160H180v160Zm220 220h160v-160H400v160Zm0 220h160v-160H400v160ZM180-400h160v-160H180v160Zm440 0h160v-160H620v160ZM180-180h160v-160H180v160Zm440 0h160v-160H620v160Z\"/>\n",
              "  </svg>\n",
              "    </button>\n",
              "\n",
              "  <style>\n",
              "    .colab-df-container {\n",
              "      display:flex;\n",
              "      gap: 12px;\n",
              "    }\n",
              "\n",
              "    .colab-df-convert {\n",
              "      background-color: #E8F0FE;\n",
              "      border: none;\n",
              "      border-radius: 50%;\n",
              "      cursor: pointer;\n",
              "      display: none;\n",
              "      fill: #1967D2;\n",
              "      height: 32px;\n",
              "      padding: 0 0 0 0;\n",
              "      width: 32px;\n",
              "    }\n",
              "\n",
              "    .colab-df-convert:hover {\n",
              "      background-color: #E2EBFA;\n",
              "      box-shadow: 0px 1px 2px rgba(60, 64, 67, 0.3), 0px 1px 3px 1px rgba(60, 64, 67, 0.15);\n",
              "      fill: #174EA6;\n",
              "    }\n",
              "\n",
              "    .colab-df-buttons div {\n",
              "      margin-bottom: 4px;\n",
              "    }\n",
              "\n",
              "    [theme=dark] .colab-df-convert {\n",
              "      background-color: #3B4455;\n",
              "      fill: #D2E3FC;\n",
              "    }\n",
              "\n",
              "    [theme=dark] .colab-df-convert:hover {\n",
              "      background-color: #434B5C;\n",
              "      box-shadow: 0px 1px 3px 1px rgba(0, 0, 0, 0.15);\n",
              "      filter: drop-shadow(0px 1px 2px rgba(0, 0, 0, 0.3));\n",
              "      fill: #FFFFFF;\n",
              "    }\n",
              "  </style>\n",
              "\n",
              "    <script>\n",
              "      const buttonEl =\n",
              "        document.querySelector('#df-ad1e0bb1-86b8-46cf-9a45-f7e0d025a6fd button.colab-df-convert');\n",
              "      buttonEl.style.display =\n",
              "        google.colab.kernel.accessAllowed ? 'block' : 'none';\n",
              "\n",
              "      async function convertToInteractive(key) {\n",
              "        const element = document.querySelector('#df-ad1e0bb1-86b8-46cf-9a45-f7e0d025a6fd');\n",
              "        const dataTable =\n",
              "          await google.colab.kernel.invokeFunction('convertToInteractive',\n",
              "                                                    [key], {});\n",
              "        if (!dataTable) return;\n",
              "\n",
              "        const docLinkHtml = 'Like what you see? Visit the ' +\n",
              "          '<a target=\"_blank\" href=https://colab.research.google.com/notebooks/data_table.ipynb>data table notebook</a>'\n",
              "          + ' to learn more about interactive tables.';\n",
              "        element.innerHTML = '';\n",
              "        dataTable['output_type'] = 'display_data';\n",
              "        await google.colab.output.renderOutput(dataTable, element);\n",
              "        const docLink = document.createElement('div');\n",
              "        docLink.innerHTML = docLinkHtml;\n",
              "        element.appendChild(docLink);\n",
              "      }\n",
              "    </script>\n",
              "  </div>\n",
              "\n",
              "\n",
              "<div id=\"df-e08c7162-6fe6-48ed-920d-6a359eb1d326\">\n",
              "  <button class=\"colab-df-quickchart\" onclick=\"quickchart('df-e08c7162-6fe6-48ed-920d-6a359eb1d326')\"\n",
              "            title=\"Suggest charts\"\n",
              "            style=\"display:none;\">\n",
              "\n",
              "<svg xmlns=\"http://www.w3.org/2000/svg\" height=\"24px\"viewBox=\"0 0 24 24\"\n",
              "     width=\"24px\">\n",
              "    <g>\n",
              "        <path d=\"M19 3H5c-1.1 0-2 .9-2 2v14c0 1.1.9 2 2 2h14c1.1 0 2-.9 2-2V5c0-1.1-.9-2-2-2zM9 17H7v-7h2v7zm4 0h-2V7h2v10zm4 0h-2v-4h2v4z\"/>\n",
              "    </g>\n",
              "</svg>\n",
              "  </button>\n",
              "\n",
              "<style>\n",
              "  .colab-df-quickchart {\n",
              "      --bg-color: #E8F0FE;\n",
              "      --fill-color: #1967D2;\n",
              "      --hover-bg-color: #E2EBFA;\n",
              "      --hover-fill-color: #174EA6;\n",
              "      --disabled-fill-color: #AAA;\n",
              "      --disabled-bg-color: #DDD;\n",
              "  }\n",
              "\n",
              "  [theme=dark] .colab-df-quickchart {\n",
              "      --bg-color: #3B4455;\n",
              "      --fill-color: #D2E3FC;\n",
              "      --hover-bg-color: #434B5C;\n",
              "      --hover-fill-color: #FFFFFF;\n",
              "      --disabled-bg-color: #3B4455;\n",
              "      --disabled-fill-color: #666;\n",
              "  }\n",
              "\n",
              "  .colab-df-quickchart {\n",
              "    background-color: var(--bg-color);\n",
              "    border: none;\n",
              "    border-radius: 50%;\n",
              "    cursor: pointer;\n",
              "    display: none;\n",
              "    fill: var(--fill-color);\n",
              "    height: 32px;\n",
              "    padding: 0;\n",
              "    width: 32px;\n",
              "  }\n",
              "\n",
              "  .colab-df-quickchart:hover {\n",
              "    background-color: var(--hover-bg-color);\n",
              "    box-shadow: 0 1px 2px rgba(60, 64, 67, 0.3), 0 1px 3px 1px rgba(60, 64, 67, 0.15);\n",
              "    fill: var(--button-hover-fill-color);\n",
              "  }\n",
              "\n",
              "  .colab-df-quickchart-complete:disabled,\n",
              "  .colab-df-quickchart-complete:disabled:hover {\n",
              "    background-color: var(--disabled-bg-color);\n",
              "    fill: var(--disabled-fill-color);\n",
              "    box-shadow: none;\n",
              "  }\n",
              "\n",
              "  .colab-df-spinner {\n",
              "    border: 2px solid var(--fill-color);\n",
              "    border-color: transparent;\n",
              "    border-bottom-color: var(--fill-color);\n",
              "    animation:\n",
              "      spin 1s steps(1) infinite;\n",
              "  }\n",
              "\n",
              "  @keyframes spin {\n",
              "    0% {\n",
              "      border-color: transparent;\n",
              "      border-bottom-color: var(--fill-color);\n",
              "      border-left-color: var(--fill-color);\n",
              "    }\n",
              "    20% {\n",
              "      border-color: transparent;\n",
              "      border-left-color: var(--fill-color);\n",
              "      border-top-color: var(--fill-color);\n",
              "    }\n",
              "    30% {\n",
              "      border-color: transparent;\n",
              "      border-left-color: var(--fill-color);\n",
              "      border-top-color: var(--fill-color);\n",
              "      border-right-color: var(--fill-color);\n",
              "    }\n",
              "    40% {\n",
              "      border-color: transparent;\n",
              "      border-right-color: var(--fill-color);\n",
              "      border-top-color: var(--fill-color);\n",
              "    }\n",
              "    60% {\n",
              "      border-color: transparent;\n",
              "      border-right-color: var(--fill-color);\n",
              "    }\n",
              "    80% {\n",
              "      border-color: transparent;\n",
              "      border-right-color: var(--fill-color);\n",
              "      border-bottom-color: var(--fill-color);\n",
              "    }\n",
              "    90% {\n",
              "      border-color: transparent;\n",
              "      border-bottom-color: var(--fill-color);\n",
              "    }\n",
              "  }\n",
              "</style>\n",
              "\n",
              "  <script>\n",
              "    async function quickchart(key) {\n",
              "      const quickchartButtonEl =\n",
              "        document.querySelector('#' + key + ' button');\n",
              "      quickchartButtonEl.disabled = true;  // To prevent multiple clicks.\n",
              "      quickchartButtonEl.classList.add('colab-df-spinner');\n",
              "      try {\n",
              "        const charts = await google.colab.kernel.invokeFunction(\n",
              "            'suggestCharts', [key], {});\n",
              "      } catch (error) {\n",
              "        console.error('Error during call to suggestCharts:', error);\n",
              "      }\n",
              "      quickchartButtonEl.classList.remove('colab-df-spinner');\n",
              "      quickchartButtonEl.classList.add('colab-df-quickchart-complete');\n",
              "    }\n",
              "    (() => {\n",
              "      let quickchartButtonEl =\n",
              "        document.querySelector('#df-e08c7162-6fe6-48ed-920d-6a359eb1d326 button');\n",
              "      quickchartButtonEl.style.display =\n",
              "        google.colab.kernel.accessAllowed ? 'block' : 'none';\n",
              "    })();\n",
              "  </script>\n",
              "</div>\n",
              "\n",
              "    </div>\n",
              "  </div>\n"
            ]
          },
          "metadata": {},
          "execution_count": 7
        }
      ]
    },
    {
      "cell_type": "code",
      "source": [
        "house.info()"
      ],
      "metadata": {
        "colab": {
          "base_uri": "https://localhost:8080/"
        },
        "id": "xp8bR9CittPy",
        "outputId": "ca7d1059-fbf3-4145-8d34-934ced555eae"
      },
      "execution_count": 8,
      "outputs": [
        {
          "output_type": "stream",
          "name": "stdout",
          "text": [
            "<class 'pandas.core.frame.DataFrame'>\n",
            "RangeIndex: 2016 entries, 0 to 2015\n",
            "Data columns (total 4 columns):\n",
            " #   Column         Non-Null Count  Dtype  \n",
            "---  ------         --------------  -----  \n",
            " 0   SquareFootage  2016 non-null   float64\n",
            " 1   Bedrooms       2016 non-null   int64  \n",
            " 2   Bathrooms      2016 non-null   float64\n",
            " 3   price          2016 non-null   float64\n",
            "dtypes: float64(3), int64(1)\n",
            "memory usage: 63.1 KB\n"
          ]
        }
      ]
    },
    {
      "cell_type": "code",
      "source": [
        "house.describe()"
      ],
      "metadata": {
        "colab": {
          "base_uri": "https://localhost:8080/",
          "height": 300
        },
        "id": "yB53r5gst1j4",
        "outputId": "94e15136-80f4-409c-fa54-8329fa078c8c"
      },
      "execution_count": 9,
      "outputs": [
        {
          "output_type": "execute_result",
          "data": {
            "text/plain": [
              "       SquareFootage     Bedrooms    Bathrooms         price\n",
              "count    2016.000000  2016.000000  2016.000000  2.016000e+03\n",
              "mean     1735.740575     2.857639     2.159970  9.636252e+05\n",
              "std       920.132591     1.255092     1.002023  9.440954e+05\n",
              "min       250.000000     1.000000     0.500000  1.590000e+05\n",
              "25%      1068.750000     2.000000     1.500000  6.017500e+05\n",
              "50%      1560.000000     3.000000     2.000000  8.000000e+05\n",
              "75%      2222.500000     4.000000     2.500000  1.105250e+06\n",
              "max     11010.000000    15.000000     9.000000  2.500000e+07"
            ],
            "text/html": [
              "\n",
              "  <div id=\"df-f1a847f2-a779-4665-a73c-13e0d496ceee\" class=\"colab-df-container\">\n",
              "    <div>\n",
              "<style scoped>\n",
              "    .dataframe tbody tr th:only-of-type {\n",
              "        vertical-align: middle;\n",
              "    }\n",
              "\n",
              "    .dataframe tbody tr th {\n",
              "        vertical-align: top;\n",
              "    }\n",
              "\n",
              "    .dataframe thead th {\n",
              "        text-align: right;\n",
              "    }\n",
              "</style>\n",
              "<table border=\"1\" class=\"dataframe\">\n",
              "  <thead>\n",
              "    <tr style=\"text-align: right;\">\n",
              "      <th></th>\n",
              "      <th>SquareFootage</th>\n",
              "      <th>Bedrooms</th>\n",
              "      <th>Bathrooms</th>\n",
              "      <th>price</th>\n",
              "    </tr>\n",
              "  </thead>\n",
              "  <tbody>\n",
              "    <tr>\n",
              "      <th>count</th>\n",
              "      <td>2016.000000</td>\n",
              "      <td>2016.000000</td>\n",
              "      <td>2016.000000</td>\n",
              "      <td>2.016000e+03</td>\n",
              "    </tr>\n",
              "    <tr>\n",
              "      <th>mean</th>\n",
              "      <td>1735.740575</td>\n",
              "      <td>2.857639</td>\n",
              "      <td>2.159970</td>\n",
              "      <td>9.636252e+05</td>\n",
              "    </tr>\n",
              "    <tr>\n",
              "      <th>std</th>\n",
              "      <td>920.132591</td>\n",
              "      <td>1.255092</td>\n",
              "      <td>1.002023</td>\n",
              "      <td>9.440954e+05</td>\n",
              "    </tr>\n",
              "    <tr>\n",
              "      <th>min</th>\n",
              "      <td>250.000000</td>\n",
              "      <td>1.000000</td>\n",
              "      <td>0.500000</td>\n",
              "      <td>1.590000e+05</td>\n",
              "    </tr>\n",
              "    <tr>\n",
              "      <th>25%</th>\n",
              "      <td>1068.750000</td>\n",
              "      <td>2.000000</td>\n",
              "      <td>1.500000</td>\n",
              "      <td>6.017500e+05</td>\n",
              "    </tr>\n",
              "    <tr>\n",
              "      <th>50%</th>\n",
              "      <td>1560.000000</td>\n",
              "      <td>3.000000</td>\n",
              "      <td>2.000000</td>\n",
              "      <td>8.000000e+05</td>\n",
              "    </tr>\n",
              "    <tr>\n",
              "      <th>75%</th>\n",
              "      <td>2222.500000</td>\n",
              "      <td>4.000000</td>\n",
              "      <td>2.500000</td>\n",
              "      <td>1.105250e+06</td>\n",
              "    </tr>\n",
              "    <tr>\n",
              "      <th>max</th>\n",
              "      <td>11010.000000</td>\n",
              "      <td>15.000000</td>\n",
              "      <td>9.000000</td>\n",
              "      <td>2.500000e+07</td>\n",
              "    </tr>\n",
              "  </tbody>\n",
              "</table>\n",
              "</div>\n",
              "    <div class=\"colab-df-buttons\">\n",
              "\n",
              "  <div class=\"colab-df-container\">\n",
              "    <button class=\"colab-df-convert\" onclick=\"convertToInteractive('df-f1a847f2-a779-4665-a73c-13e0d496ceee')\"\n",
              "            title=\"Convert this dataframe to an interactive table.\"\n",
              "            style=\"display:none;\">\n",
              "\n",
              "  <svg xmlns=\"http://www.w3.org/2000/svg\" height=\"24px\" viewBox=\"0 -960 960 960\">\n",
              "    <path d=\"M120-120v-720h720v720H120Zm60-500h600v-160H180v160Zm220 220h160v-160H400v160Zm0 220h160v-160H400v160ZM180-400h160v-160H180v160Zm440 0h160v-160H620v160ZM180-180h160v-160H180v160Zm440 0h160v-160H620v160Z\"/>\n",
              "  </svg>\n",
              "    </button>\n",
              "\n",
              "  <style>\n",
              "    .colab-df-container {\n",
              "      display:flex;\n",
              "      gap: 12px;\n",
              "    }\n",
              "\n",
              "    .colab-df-convert {\n",
              "      background-color: #E8F0FE;\n",
              "      border: none;\n",
              "      border-radius: 50%;\n",
              "      cursor: pointer;\n",
              "      display: none;\n",
              "      fill: #1967D2;\n",
              "      height: 32px;\n",
              "      padding: 0 0 0 0;\n",
              "      width: 32px;\n",
              "    }\n",
              "\n",
              "    .colab-df-convert:hover {\n",
              "      background-color: #E2EBFA;\n",
              "      box-shadow: 0px 1px 2px rgba(60, 64, 67, 0.3), 0px 1px 3px 1px rgba(60, 64, 67, 0.15);\n",
              "      fill: #174EA6;\n",
              "    }\n",
              "\n",
              "    .colab-df-buttons div {\n",
              "      margin-bottom: 4px;\n",
              "    }\n",
              "\n",
              "    [theme=dark] .colab-df-convert {\n",
              "      background-color: #3B4455;\n",
              "      fill: #D2E3FC;\n",
              "    }\n",
              "\n",
              "    [theme=dark] .colab-df-convert:hover {\n",
              "      background-color: #434B5C;\n",
              "      box-shadow: 0px 1px 3px 1px rgba(0, 0, 0, 0.15);\n",
              "      filter: drop-shadow(0px 1px 2px rgba(0, 0, 0, 0.3));\n",
              "      fill: #FFFFFF;\n",
              "    }\n",
              "  </style>\n",
              "\n",
              "    <script>\n",
              "      const buttonEl =\n",
              "        document.querySelector('#df-f1a847f2-a779-4665-a73c-13e0d496ceee button.colab-df-convert');\n",
              "      buttonEl.style.display =\n",
              "        google.colab.kernel.accessAllowed ? 'block' : 'none';\n",
              "\n",
              "      async function convertToInteractive(key) {\n",
              "        const element = document.querySelector('#df-f1a847f2-a779-4665-a73c-13e0d496ceee');\n",
              "        const dataTable =\n",
              "          await google.colab.kernel.invokeFunction('convertToInteractive',\n",
              "                                                    [key], {});\n",
              "        if (!dataTable) return;\n",
              "\n",
              "        const docLinkHtml = 'Like what you see? Visit the ' +\n",
              "          '<a target=\"_blank\" href=https://colab.research.google.com/notebooks/data_table.ipynb>data table notebook</a>'\n",
              "          + ' to learn more about interactive tables.';\n",
              "        element.innerHTML = '';\n",
              "        dataTable['output_type'] = 'display_data';\n",
              "        await google.colab.output.renderOutput(dataTable, element);\n",
              "        const docLink = document.createElement('div');\n",
              "        docLink.innerHTML = docLinkHtml;\n",
              "        element.appendChild(docLink);\n",
              "      }\n",
              "    </script>\n",
              "  </div>\n",
              "\n",
              "\n",
              "<div id=\"df-a96e9a42-90c6-4fd0-a70c-0f6a0c09a720\">\n",
              "  <button class=\"colab-df-quickchart\" onclick=\"quickchart('df-a96e9a42-90c6-4fd0-a70c-0f6a0c09a720')\"\n",
              "            title=\"Suggest charts\"\n",
              "            style=\"display:none;\">\n",
              "\n",
              "<svg xmlns=\"http://www.w3.org/2000/svg\" height=\"24px\"viewBox=\"0 0 24 24\"\n",
              "     width=\"24px\">\n",
              "    <g>\n",
              "        <path d=\"M19 3H5c-1.1 0-2 .9-2 2v14c0 1.1.9 2 2 2h14c1.1 0 2-.9 2-2V5c0-1.1-.9-2-2-2zM9 17H7v-7h2v7zm4 0h-2V7h2v10zm4 0h-2v-4h2v4z\"/>\n",
              "    </g>\n",
              "</svg>\n",
              "  </button>\n",
              "\n",
              "<style>\n",
              "  .colab-df-quickchart {\n",
              "      --bg-color: #E8F0FE;\n",
              "      --fill-color: #1967D2;\n",
              "      --hover-bg-color: #E2EBFA;\n",
              "      --hover-fill-color: #174EA6;\n",
              "      --disabled-fill-color: #AAA;\n",
              "      --disabled-bg-color: #DDD;\n",
              "  }\n",
              "\n",
              "  [theme=dark] .colab-df-quickchart {\n",
              "      --bg-color: #3B4455;\n",
              "      --fill-color: #D2E3FC;\n",
              "      --hover-bg-color: #434B5C;\n",
              "      --hover-fill-color: #FFFFFF;\n",
              "      --disabled-bg-color: #3B4455;\n",
              "      --disabled-fill-color: #666;\n",
              "  }\n",
              "\n",
              "  .colab-df-quickchart {\n",
              "    background-color: var(--bg-color);\n",
              "    border: none;\n",
              "    border-radius: 50%;\n",
              "    cursor: pointer;\n",
              "    display: none;\n",
              "    fill: var(--fill-color);\n",
              "    height: 32px;\n",
              "    padding: 0;\n",
              "    width: 32px;\n",
              "  }\n",
              "\n",
              "  .colab-df-quickchart:hover {\n",
              "    background-color: var(--hover-bg-color);\n",
              "    box-shadow: 0 1px 2px rgba(60, 64, 67, 0.3), 0 1px 3px 1px rgba(60, 64, 67, 0.15);\n",
              "    fill: var(--button-hover-fill-color);\n",
              "  }\n",
              "\n",
              "  .colab-df-quickchart-complete:disabled,\n",
              "  .colab-df-quickchart-complete:disabled:hover {\n",
              "    background-color: var(--disabled-bg-color);\n",
              "    fill: var(--disabled-fill-color);\n",
              "    box-shadow: none;\n",
              "  }\n",
              "\n",
              "  .colab-df-spinner {\n",
              "    border: 2px solid var(--fill-color);\n",
              "    border-color: transparent;\n",
              "    border-bottom-color: var(--fill-color);\n",
              "    animation:\n",
              "      spin 1s steps(1) infinite;\n",
              "  }\n",
              "\n",
              "  @keyframes spin {\n",
              "    0% {\n",
              "      border-color: transparent;\n",
              "      border-bottom-color: var(--fill-color);\n",
              "      border-left-color: var(--fill-color);\n",
              "    }\n",
              "    20% {\n",
              "      border-color: transparent;\n",
              "      border-left-color: var(--fill-color);\n",
              "      border-top-color: var(--fill-color);\n",
              "    }\n",
              "    30% {\n",
              "      border-color: transparent;\n",
              "      border-left-color: var(--fill-color);\n",
              "      border-top-color: var(--fill-color);\n",
              "      border-right-color: var(--fill-color);\n",
              "    }\n",
              "    40% {\n",
              "      border-color: transparent;\n",
              "      border-right-color: var(--fill-color);\n",
              "      border-top-color: var(--fill-color);\n",
              "    }\n",
              "    60% {\n",
              "      border-color: transparent;\n",
              "      border-right-color: var(--fill-color);\n",
              "    }\n",
              "    80% {\n",
              "      border-color: transparent;\n",
              "      border-right-color: var(--fill-color);\n",
              "      border-bottom-color: var(--fill-color);\n",
              "    }\n",
              "    90% {\n",
              "      border-color: transparent;\n",
              "      border-bottom-color: var(--fill-color);\n",
              "    }\n",
              "  }\n",
              "</style>\n",
              "\n",
              "  <script>\n",
              "    async function quickchart(key) {\n",
              "      const quickchartButtonEl =\n",
              "        document.querySelector('#' + key + ' button');\n",
              "      quickchartButtonEl.disabled = true;  // To prevent multiple clicks.\n",
              "      quickchartButtonEl.classList.add('colab-df-spinner');\n",
              "      try {\n",
              "        const charts = await google.colab.kernel.invokeFunction(\n",
              "            'suggestCharts', [key], {});\n",
              "      } catch (error) {\n",
              "        console.error('Error during call to suggestCharts:', error);\n",
              "      }\n",
              "      quickchartButtonEl.classList.remove('colab-df-spinner');\n",
              "      quickchartButtonEl.classList.add('colab-df-quickchart-complete');\n",
              "    }\n",
              "    (() => {\n",
              "      let quickchartButtonEl =\n",
              "        document.querySelector('#df-a96e9a42-90c6-4fd0-a70c-0f6a0c09a720 button');\n",
              "      quickchartButtonEl.style.display =\n",
              "        google.colab.kernel.accessAllowed ? 'block' : 'none';\n",
              "    })();\n",
              "  </script>\n",
              "</div>\n",
              "\n",
              "    </div>\n",
              "  </div>\n"
            ]
          },
          "metadata": {},
          "execution_count": 9
        }
      ]
    },
    {
      "cell_type": "code",
      "source": [
        "house.isna().sum()"
      ],
      "metadata": {
        "colab": {
          "base_uri": "https://localhost:8080/"
        },
        "id": "_oQdJdNtt3_G",
        "outputId": "ad27b66a-1172-4ab5-8291-3dd8ba20b555"
      },
      "execution_count": 10,
      "outputs": [
        {
          "output_type": "execute_result",
          "data": {
            "text/plain": [
              "SquareFootage    0\n",
              "Bedrooms         0\n",
              "Bathrooms        0\n",
              "price            0\n",
              "dtype: int64"
            ]
          },
          "metadata": {},
          "execution_count": 10
        }
      ]
    },
    {
      "cell_type": "code",
      "source": [
        "house.duplicated().sum()"
      ],
      "metadata": {
        "colab": {
          "base_uri": "https://localhost:8080/"
        },
        "id": "um_lCi-7t_jG",
        "outputId": "8686fa39-2d75-48e5-ba8f-2b56b414faa6"
      },
      "execution_count": 11,
      "outputs": [
        {
          "output_type": "execute_result",
          "data": {
            "text/plain": [
              "32"
            ]
          },
          "metadata": {},
          "execution_count": 11
        }
      ]
    },
    {
      "cell_type": "code",
      "source": [
        "house.drop_duplicates(inplace=True)"
      ],
      "metadata": {
        "id": "7fNewyh_usKq"
      },
      "execution_count": 12,
      "outputs": []
    },
    {
      "cell_type": "code",
      "source": [
        "house.duplicated().sum()"
      ],
      "metadata": {
        "colab": {
          "base_uri": "https://localhost:8080/"
        },
        "id": "qByAQtelu1nv",
        "outputId": "2da5c4ce-fe01-45d5-9769-80e96c81fe50"
      },
      "execution_count": 13,
      "outputs": [
        {
          "output_type": "execute_result",
          "data": {
            "text/plain": [
              "0"
            ]
          },
          "metadata": {},
          "execution_count": 13
        }
      ]
    },
    {
      "cell_type": "markdown",
      "source": [
        "**EXPLORATORY ANALYSIS AND VISUALIZATION:**"
      ],
      "metadata": {
        "id": "h5mMx_jou9_W"
      }
    },
    {
      "cell_type": "markdown",
      "source": [
        "**IMPORT LIBRARIES**"
      ],
      "metadata": {
        "id": "t1B8YNGlvBIU"
      }
    },
    {
      "cell_type": "code",
      "source": [
        "import plotly.express as px\n",
        "import matplotlib\n",
        "import matplotlib.pyplot as plt\n",
        "import seaborn as sns\n",
        "%matplotlib inline"
      ],
      "metadata": {
        "id": "P6YBjwM2vAsE"
      },
      "execution_count": 14,
      "outputs": []
    },
    {
      "cell_type": "code",
      "source": [
        "sns.set_style('darkgrid')\n",
        "matplotlib.rcParams['font.size'] = 14\n",
        "matplotlib.rcParams['figure.figsize'] = (10, 6)\n",
        "matplotlib.rcParams['figure.facecolor'] = '#00000000'"
      ],
      "metadata": {
        "id": "GGa2zeoLu9Oy"
      },
      "execution_count": 15,
      "outputs": []
    },
    {
      "cell_type": "code",
      "source": [
        "fig = px.histogram(house,\n",
        "                   x='SquareFootage',\n",
        "                   marginal='box',\n",
        "                   nbins=47,\n",
        "                   title='Distribution of SquareFootage')\n",
        "fig.update_layout(bargap=0.1)\n",
        "fig.show()"
      ],
      "metadata": {
        "colab": {
          "base_uri": "https://localhost:8080/",
          "height": 542
        },
        "id": "1n6lk-yevYYl",
        "outputId": "1d35192a-10b9-4575-ae0c-176aa7eba77b"
      },
      "execution_count": 16,
      "outputs": [
        {
          "output_type": "display_data",
          "data": {
            "text/html": [
              "<html>\n",
              "<head><meta charset=\"utf-8\" /></head>\n",
              "<body>\n",
              "    <div>            <script src=\"https://cdnjs.cloudflare.com/ajax/libs/mathjax/2.7.5/MathJax.js?config=TeX-AMS-MML_SVG\"></script><script type=\"text/javascript\">if (window.MathJax && window.MathJax.Hub && window.MathJax.Hub.Config) {window.MathJax.Hub.Config({SVG: {font: \"STIX-Web\"}});}</script>                <script type=\"text/javascript\">window.PlotlyConfig = {MathJaxConfig: 'local'};</script>\n",
              "        <script charset=\"utf-8\" src=\"https://cdn.plot.ly/plotly-2.24.1.min.js\"></script>                <div id=\"6df42b52-542a-4224-a6e1-1490827a4f0e\" class=\"plotly-graph-div\" style=\"height:525px; width:100%;\"></div>            <script type=\"text/javascript\">                                    window.PLOTLYENV=window.PLOTLYENV || {};                                    if (document.getElementById(\"6df42b52-542a-4224-a6e1-1490827a4f0e\")) {                    Plotly.newPlot(                        \"6df42b52-542a-4224-a6e1-1490827a4f0e\",                        [{\"alignmentgroup\":\"True\",\"bingroup\":\"x\",\"hovertemplate\":\"SquareFootage=%{x}\\u003cbr\\u003ecount=%{y}\\u003cextra\\u003e\\u003c\\u002fextra\\u003e\",\"legendgroup\":\"\",\"marker\":{\"color\":\"#636efa\",\"pattern\":{\"shape\":\"\"}},\"name\":\"\",\"nbinsx\":47,\"offsetgroup\":\"\",\"orientation\":\"v\",\"showlegend\":false,\"x\":[2590.0,2240.0,2040.0,3800.0,1042.0,1190.0,670.0,4510.0,1520.0,2340.0,1320.0,1800.0,2490.0,2650.0,2560.0,900.0,1360.0,550.0,2974.0,1989.0,1332.0,2668.0,770.0,1280.0,3200.0,889.0,508.0,3140.0,2000.0,792.0,1690.0,3000.0,1550.0,871.0,1940.0,474.0,1770.0,2510.0,750.0,573.0,1500.0,2920.0,2817.0,617.0,1280.0,1523.0,1240.0,2280.0,3590.0,2478.0,2360.0,720.0,2480.0,1550.0,780.0,2820.0,2900.0,1092.0,1731.0,1500.0,1344.0,4040.0,2320.0,2820.0,1070.0,1113.0,2100.0,2620.0,1270.0,2702.0,2031.0,2350.0,2640.0,1340.0,8660.0,1365.0,635.0,1800.0,870.0,1510.0,1120.0,2580.0,875.0,2220.0,607.0,1496.0,2670.0,1810.0,582.0,1006.0,1530.0,820.0,1960.0,2110.0,3010.0,2200.0,1820.0,3040.0,1800.0,800.0,1450.0,756.0,742.0,2400.0,1607.0,3057.0,649.0,3142.0,1050.0,1720.0,2650.0,2680.0,2550.0,3800.0,1320.0,1910.0,773.0,589.0,510.0,2661.0,843.0,2250.0,2080.0,1370.0,699.0,1840.0,3040.0,858.0,3110.0,1147.0,868.0,1538.0,1480.0,932.0,981.0,866.0,2000.0,1470.0,1840.0,2230.0,1290.0,1670.0,630.0,1880.0,1188.0,1300.0,857.0,1071.0,2810.0,2400.0,1670.0,2734.0,1670.0,1530.0,1720.0,1200.0,2030.0,2370.0,1720.0,813.0,1590.0,626.0,840.0,1030.0,2870.0,792.0,994.0,1630.0,1172.0,1806.0,3060.0,3820.0,1328.0,2350.0,2080.0,1000.0,1131.0,2230.0,3130.0,3750.0,1080.0,1720.0,854.0,1286.0,1230.0,1422.0,3956.0,3620.0,1370.0,700.0,1824.0,956.0,2370.0,2200.0,3020.0,3400.0,1660.0,2080.0,917.0,900.0,3960.0,889.0,3310.0,621.0,1467.0,1910.0,1563.0,3340.0,2390.0,1131.0,1201.0,1940.0,519.0,1760.0,1680.0,1192.0,2300.0,2304.0,2650.0,4210.0,2840.0,980.0,2440.0,1140.0,1824.0,1115.0,2478.0,1140.0,1433.0,1520.0,1380.0,11010.0,1750.0,3590.0,646.0,2040.0,1560.0,1088.0,1460.0,1380.0,1000.0,1128.0,776.0,2000.0,2029.0,2867.0,1180.0,1920.0,2220.0,1300.0,596.0,1460.0,2500.0,1540.0,2550.0,1018.0,1520.0,640.0,2190.0,930.0,2900.0,2780.0,2560.0,613.0,1566.0,1245.0,1190.0,2760.0,3260.0,2380.0,1884.0,1712.0,1196.0,1098.0,1250.0,880.0,822.0,1595.0,2380.0,3190.0,1465.0,2910.0,1140.0,500.0,1580.0,683.0,2430.0,1128.0,2360.0,1396.0,615.0,2340.0,2140.0,2980.0,1390.0,720.0,712.0,1850.0,1710.0,970.0,1606.0,1815.0,1120.0,2220.0,570.0,1460.0,3820.0,2480.0,2777.0,1170.0,587.0,1430.0,1320.0,2170.0,635.0,1630.0,1900.0,1760.0,1712.0,3190.0,3590.0,630.0,1150.0,1830.0,760.0,2600.0,2130.0,2899.0,1090.0,3360.0,2240.0,886.0,1560.0,1730.0,1700.0,1909.0,2180.0,681.0,1460.0,704.0,1010.0,1635.0,1022.0,990.0,1164.0,583.0,888.0,2740.0,1670.0,830.0,1200.0,2530.0,2660.0,2820.0,1011.0,1088.0,3785.0,1540.0,1180.0,1968.0,610.0,1346.0,1320.0,3064.0,2980.0,3050.0,2020.0,1926.0,1330.0,2410.0,1580.0,1030.0,1630.0,2370.0,783.0,1310.0,1996.0,1580.0,781.0,1517.0,2360.0,1496.0,1250.0,1810.0,531.0,2380.0,1095.0,1080.0,1146.0,1544.0,707.0,2067.0,2360.0,724.0,1649.0,2180.0,1960.0,727.0,1209.0,650.0,3070.0,2130.0,2220.0,2288.0,1370.0,3120.0,2180.0,1590.0,2220.0,813.0,574.0,2480.0,3320.0,1720.0,2050.0,2370.0,3660.0,1670.0,990.0,3120.0,2260.0,650.0,1540.0,1980.0,2160.0,3080.0,1740.0,1900.0,3940.0,1366.0,1920.0,715.0,1610.0,2960.0,1810.0,1125.0,1893.0,1096.0,3760.0,2720.0,1510.0,1350.0,2980.0,1443.0,1170.0,2260.0,1990.0,1555.0,2350.0,1440.0,627.0,551.0,770.0,1570.0,699.0,2650.0,1070.0,1941.0,2030.0,1620.0,1400.0,2354.0,1155.0,1340.0,903.0,1220.0,1250.0,1040.0,1660.0,744.0,805.0,1060.0,3160.0,1120.0,1881.0,3460.0,376.0,880.0,794.0,1340.0,2560.0,2178.0,1180.0,3220.0,2070.0,2131.0,970.0,2430.0,1395.0,1810.0,904.0,717.0,2170.0,3120.0,1870.0,2285.0,2783.0,2540.0,1734.0,1010.0,1420.0,1410.0,2320.0,553.0,1719.0,2037.0,954.0,1370.0,1480.0,3636.0,1780.0,1094.0,830.0,834.0,1035.0,2790.0,859.0,5690.0,772.0,1430.0,1460.0,1386.0,2310.0,1340.0,1291.0,2320.0,2150.0,1885.0,1425.0,1810.0,1280.0,1480.0,2110.0,1027.0,808.0,1569.0,2247.0,1220.0,1060.0,1920.0,804.0,813.0,1740.0,2230.0,2760.0,1660.0,1360.0,5200.0,1573.0,700.0,1700.0,2560.0,1330.0,2180.0,1350.0,1720.0,3060.0,954.0,1460.0,1540.0,709.0,2560.0,534.0,1440.0,627.0,1324.0,1290.0,748.0,1830.0,1660.0,1964.0,1460.0,683.0,2060.0,1160.0,1540.0,529.0,1860.0,648.0,4490.0,2310.0,3130.0,2110.0,1590.0,1280.0,840.0,2020.0,3610.0,2336.0,1040.0,620.0,728.0,1970.0,2190.0,2120.0,1415.0,1835.0,1670.0,2570.0,2060.0,1740.0,2510.0,1000.0,1516.0,940.0,2440.0,2470.0,1288.0,3240.0,693.0,1550.0,2080.0,1400.0,1159.0,901.0,2900.0,2052.0,773.0,1040.0,2353.0,1212.0,2640.0,1090.0,3960.0,3030.0,3080.0,700.0,1276.0,910.0,4180.0,852.0,2830.0,970.0,1576.0,667.0,1080.0,2659.0,3623.0,2520.0,2720.0,968.0,839.0,2080.0,693.0,1580.0,860.0,1038.0,2860.0,557.0,1644.0,2340.0,2530.0,1820.0,648.0,1448.0,1660.0,2970.0,3030.0,1400.0,2740.0,720.0,1880.0,1681.0,3325.0,4397.0,1540.0,1530.0,1015.0,2340.0,836.0,492.0,1880.0,1570.0,1806.0,1595.0,1526.0,1346.0,1600.0,1170.0,1660.0,707.0,1390.0,2900.0,704.0,2400.0,1120.0,1710.0,1880.0,1454.0,3884.0,2300.0,2520.0,3335.0,2118.0,910.0,2080.0,2520.0,1560.0,1130.0,543.0,620.0,1720.0,1015.0,530.0,1350.0,1510.0,1021.0,1730.0,3120.0,2172.0,1410.0,578.0,1350.0,900.0,1865.0,1174.0,1250.0,3590.0,1548.0,3030.0,622.0,2245.0,2627.0,3680.0,2170.0,1600.0,2803.0,2120.0,1980.0,1370.0,723.0,1300.0,1060.0,531.0,770.0,2470.0,2260.0,1120.0,1936.0,1560.0,1020.0,1100.0,2120.0,1400.0,1429.0,1320.0,4790.0,1070.0,1966.0,1146.0,1047.0,1760.0,1030.0,1514.0,1520.0,3360.0,1910.0,1550.0,641.0,1190.0,2640.0,938.0,2206.0,680.0,749.0,1353.0,250.0,3136.0,1149.0,861.0,2050.0,1106.0,1930.0,3090.0,2437.0,1330.0,1680.0,834.0,1112.0,626.0,1230.0,2840.0,1115.0,2240.0,1687.0,1900.0,1970.0,1512.0,696.0,806.0,1319.0,2300.0,1127.0,2280.0,1120.0,1960.0,627.0,1228.0,1800.0,883.0,1190.0,5770.0,1710.0,968.0,790.0,4510.0,1300.0,2106.0,1573.0,2870.0,4006.0,1060.0,562.0,1610.0,1212.0,2390.0,1080.0,1350.0,2795.0,1369.0,970.0,1820.0,1770.0,3280.0,1260.0,1939.0,610.0,2200.0,3036.0,1861.0,1650.0,722.0,1260.0,2714.0,1471.0,1500.0,1080.0,1544.0,1004.0,1470.0,1680.0,2420.0,2011.0,896.0,1415.0,840.0,434.0,2730.0,1350.0,1740.0,1940.0,1340.0,1110.0,1380.0,1400.0,2110.0,557.0,1830.0,1480.0,1550.0,1670.0,2890.0,1590.0,630.0,1440.0,2529.0,1086.0,1565.0,916.0,2190.0,1400.0,1352.0,2030.0,1455.0,3240.0,924.0,1470.0,1758.0,1830.0,1019.0,2970.0,1500.0,2020.0,2188.0,507.0,1131.0,982.0,1889.0,1440.0,789.0,1131.0,3300.0,2510.0,1580.0,966.0,703.0,1220.0,3590.0,4299.0,900.0,1260.0,1048.0,1470.0,1113.0,1570.0,2740.0,1470.0,1710.0,1580.0,800.0,980.0,3700.0,2352.0,2320.0,1503.0,2410.0,950.0,1640.0,2440.0,594.0,1480.0,1220.0,2740.0,2160.0,1400.0,2650.0,2735.0,750.0,1201.0,3488.0,1742.0,2390.0,4018.0,1530.0,600.0,3340.0,2060.0,1650.0,640.0,1106.0,1200.0,1390.0,1759.0,1690.0,2191.0,1380.0,877.0,2754.0,2770.0,515.0,2560.0,2966.0,1763.0,1550.0,830.0,1019.0,696.0,5090.0,1460.0,1036.0,854.0,1687.0,1430.0,1960.0,2720.0,706.0,2600.0,1900.0,1580.0,1270.0,2320.0,910.0,878.0,1915.0,2462.0,2640.0,1670.0,1090.0,1621.0,2591.0,1400.0,840.0,2910.0,1410.0,1900.0,2760.0,1290.0,1111.0,850.0,900.0,2667.0,1320.0,1370.0,1140.0,1380.0,1422.0,1065.0,2943.0,1250.0,2390.0,569.0,1680.0,683.0,627.0,840.0,1880.0,881.0,850.0,525.0,2170.0,1110.0,3930.0,1047.0,653.0,1710.0,2120.0,2360.0,2250.0,2320.0,3490.0,2500.0,792.0,1490.0,1700.0,1261.0,2440.0,1420.0,1380.0,1920.0,1220.0,4010.0,1170.0,1600.0,760.0,1290.0,980.0,1022.0,1260.0,2660.0,644.0,664.0,468.0,2680.0,1640.0,2000.0,1523.0,2430.0,1199.0,2160.0,1354.0,738.0,1425.0,4570.0,940.0,1710.0,1430.0,1500.0,1376.0,4002.0,1600.0,807.0,2055.0,647.0,940.0,1150.0,1459.0,1910.0,2297.0,2320.0,2387.0,3270.0,1530.0,1150.0,1237.0,1760.0,808.0,2720.0,1345.0,2600.0,2209.0,950.0,1530.0,830.0,1590.0,1524.0,1920.0,2660.0,2284.0,1604.0,2555.0,2460.0,2793.0,1540.0,950.0,1720.0,1470.0,3500.0,984.0,1570.0,700.0,1188.0,2570.0,1631.0,1596.0,820.0,1610.0,812.0,1425.0,1086.0,1043.0,1440.0,590.0,1152.0,2040.0,2092.0,1780.0,3560.0,1475.0,1890.0,2790.0,2600.0,1060.0,2180.0,1761.0,1379.0,2550.0,3815.0,2634.0,540.0,860.0,1690.0,1800.0,807.0,1350.0,2900.0,677.0,703.0,527.0,820.0,1360.0,2600.0,2852.0,1370.0,2000.0,1096.0,3380.0,1616.0,1620.0,970.0,1009.0,2270.0,1200.0,1225.0,1081.0,1380.0,1200.0,1620.0,2950.0,513.0,2100.0,1705.0,3610.0,1800.0,2130.0,1367.0,1730.0,4194.0,3780.0,1778.0,1410.0,1088.0,1340.0,2380.0,2140.0,2080.0,1410.0,571.0,2340.0,5210.0,733.0,1060.0,996.0,1850.0,690.0,2260.0,3190.0,1846.0,1700.0,2240.0,1660.0,1780.0,2270.0,603.0,2024.0,1103.0,1460.0,4260.0,1660.0,1350.0,2949.0,1718.0,1370.0,1822.0,800.0,718.0,909.0,903.0,1297.0,2140.0,2970.0,900.0,2600.0,1180.0,564.0,1700.0,1524.0,1410.0,831.0,3060.0,1213.0,2352.0,534.0,724.0,2304.0,1450.0,980.0,1550.0,704.0,1425.0,794.0,4060.0,979.0,1830.0,1260.0,3210.0,968.0,1049.0,1054.0,1586.0,1760.0,860.0,1560.0,3110.0,1440.0,1500.0,2160.0,3100.0,522.0,1560.0,3400.0,1076.0,1217.0,1450.0,1000.0,1124.0,3070.0,480.0,1860.0,740.0,1440.0,758.0,1340.0,1700.0,2950.0,616.0,4240.0,3495.0,2560.0,2040.0,890.0,1730.0,816.0,2400.0,1270.0,1830.0,2470.0,2300.0,1600.0,510.0,1387.0,2230.0,1872.0,2030.0,1980.0,1180.0,2630.0,2010.0,3487.0,2570.0,1440.0,1131.0,1440.0,2010.0,1073.0,3300.0,3040.0,2500.0,1810.0,1878.0,1411.0,3960.0,1000.0,2300.0,890.0,2820.0,1620.0,1470.0,1088.0,2160.0,3105.0,1200.0,1240.0,1550.0,2300.0,2466.0,1817.0,1500.0,2380.0,1524.0,1370.0,1449.0,1140.0,1010.0,3014.0,1450.0,1248.0,2600.0,1328.0,614.0,2481.0,1420.0,2040.0,1390.0,920.0,1840.0,3020.0,2520.0,2240.0,1644.0,1880.0,995.0,568.0,1226.0,730.0,1500.0,2080.0,1425.0,3840.0,2074.0,3556.0,1100.0,730.0,1170.0,2240.0,1750.0,1695.0,2480.0,1420.0,990.0,1520.0,2100.0,1740.0,1760.0,1021.0,3018.0,1024.0,945.0,2380.0,3810.0,1048.0,1610.0,701.0,2213.0,1071.0,850.0,1280.0,980.0,3840.0,1006.0,1450.0,2140.0,2480.0,2420.0,1760.0,1730.0,636.0,1940.0,3400.0,1360.0,875.0,2230.0,4190.0,2220.0,830.0,2090.0,1210.0,691.0,3105.0,1680.0,2495.0,2450.0,2787.0,3310.0,1699.0,3180.0,3350.0,1365.0,1660.0,1880.0,580.0,1270.0,860.0,580.0,1840.0,615.0,2140.0,1437.0,1390.0,870.0,2840.0,2260.0,886.0,505.0,1048.0,1800.0,1390.0,2600.0,2640.0,1020.0,2630.0,2910.0,1580.0,885.0,2100.0,2010.0,1480.0,1560.0,889.0,664.0,804.0,2080.0,910.0,1620.0,1970.0,1720.0,1545.0,1710.0,1141.0,1276.0,1978.0,1060.0,3220.0,1170.0,1770.0,1420.0,2980.0,1630.0,743.0,680.0,900.0,635.0,3400.0,1300.0,1094.0,1763.0,940.0,1820.0,650.0,1939.0,1780.0,2370.0,1411.0,512.0,2360.0,2630.0,2700.0,605.0,767.0,1015.0,780.0,2050.0,1060.0,950.0,1870.0,1060.0,1860.0,1420.0,1390.0,1096.0,1100.0,1010.0,1730.0,1480.0,1890.0,2500.0,2840.0,1608.0,1701.0,1250.0,1790.0,1670.0,1640.0,3228.0,1720.0,2060.0,1840.0,3180.0,1760.0,1350.0,1403.0,1740.0,1490.0,2380.0,815.0,2900.0,2370.0,2470.0,1740.0,690.0,2610.0,2015.0,3880.0,2280.0,2570.0,2740.0,1469.0,2860.0,1479.0,3370.0,1300.0,780.0,6990.0,867.0,2120.0,1042.0,1163.0,1580.0,1740.0,1810.0,1186.0,1177.0,770.0,1870.0,696.0,1380.0,1650.0,1640.0,970.0,490.0,2180.0,2970.0,2340.0,1420.0,1520.0,1242.0,3410.0,1150.0,691.0,1170.0,1360.0,1200.0,2680.0,670.0,545.0,1240.0,700.0,2940.0,1187.0,1488.0,970.0,1681.0,1144.0,2860.0,773.0,3100.0,2400.0,2920.0,876.0,3450.0,1330.0,2440.0,1580.0,2299.0,594.0,475.0,2360.0,1780.0,2250.0,1073.0,1900.0,3090.0,6240.0,573.0,770.0,820.0,1622.0,1210.0,1240.0,2080.0,875.0,597.0,1370.0,2425.0,1760.0,994.0,515.0,1660.0,1730.0,1790.0,715.0,1470.0,2440.0,2880.0,1678.0,1400.0,5200.0,806.0,2311.0,1060.0,1150.0,2580.0,3240.0,3710.0,1632.0,4641.0,1846.0,1353.0,1240.0,1760.0,1290.0,1285.0,3707.0,1120.0,3300.0,2160.0,1440.0,2567.0,1960.0,1657.0,2610.0,1213.0,777.0,1590.0,1570.0,2440.0,3463.0,1840.0,1554.0,567.0,665.0,950.0,1371.0,2040.0,2780.0,3410.0,2280.0,2100.0,1101.0,1964.0,1030.0,1042.0,1740.0,1302.0,905.0,460.0,1540.0,656.0,2800.0,2480.0,2170.0,2447.0,2164.0,740.0,2080.0,1800.0,1180.0,2020.0,1150.0,1220.0,810.0,696.0,2030.0,3930.0,2920.0,1460.0,2770.0,1523.0,1690.0,1170.0,2370.0,712.0,976.0,1042.0,1040.0,722.0,733.0,970.0,1711.0,860.0,712.0,704.0,1790.0,2140.0,2040.0,1894.0,2750.0,2900.0,670.0,2190.0,1810.0,1440.0,2170.0,993.0,1450.0,2336.0,2320.0,1470.0,672.0,990.0,2110.0,1670.0,2060.0,1920.0,2910.0,912.0,645.0,1160.0,2280.0,1515.0,2600.0,1000.0,672.0,1320.0,2190.0,1517.0,2160.0,2290.0,1920.0,1540.0,983.0,1670.0,880.0,1526.0,569.0,2700.0,2282.0,4530.0,698.0,1590.0,770.0,2840.0,2350.0,630.0,482.0,4350.0,1730.0,761.0,1684.0,2040.0,1057.0,2256.0,1900.0,760.0,780.0,3020.0,2220.0,1530.0,850.0,1860.0,980.0,1470.0,980.0,1003.0,996.0,980.0,2380.0,2470.0,2120.0,840.0,1910.0,1380.0,2390.0,2840.0,875.0,1813.0,2996.0,5020.0,1498.0,711.0,2740.0,1328.0,2020.0,916.0,1546.0,2970.0,1615.0,1170.0,1350.0,1143.0,1220.0,2100.0,3200.0,1137.0,2930.0,808.0,2550.0,2546.0,680.0,1000.0,1676.0,985.0,750.0,843.0,3220.0,2340.0,543.0,4040.0,990.0,2850.0,1620.0,514.0,1240.0,1620.0,1608.0,1530.0,2270.0,908.0,1180.0,672.0,998.0,2220.0,7636.0,3530.0,1620.0,1620.0,1138.0,669.0,2600.0,1960.0,950.0,1410.0,1022.0,2840.0,712.0,1920.0,3880.0,1010.0,3300.0,1070.0,1270.0,1413.0,1820.0,1415.0,2212.0,3290.0,1391.0,1372.0,960.0,1890.0,2230.0,952.0,925.0,1820.0,3600.0,1305.0,1840.0,782.0,1040.0,1050.0,1019.0,3198.0,557.0,950.0,1050.0,533.0,860.0,1890.0,1138.0,1830.0,1980.0,1730.0,2462.0,1300.0,1550.0,1679.0,1220.0,1540.0,1520.0,1320.0,1290.0,1870.0,1762.0,1240.0,1307.0,1167.0,1070.0,1820.0,1790.0,3700.0,3340.0,2250.0,1799.0,584.0,4639.0,1810.0,907.0,2120.0,616.0,1780.0,2630.0,3060.0,2700.0,2030.0,1620.0,5704.0,700.0,1260.0,1770.0,1812.0,648.0,840.0,2100.0,2550.0,774.0,1736.0,2198.0,770.0,1150.0,2330.0,4693.0,1790.0,2960.0,591.0,1391.0,1160.0,720.0,701.0,2570.0,1611.0,2474.0,1300.0,840.0,1100.0,2730.0,1004.0,1650.0,1650.0,1850.0,4050.0,865.0,1252.0,1790.0,2020.0,1280.0,1630.0,1460.0,1210.0,2080.0,3542.0,2200.0,603.0,1456.0,1169.0,1770.0,1641.0,600.0,860.0,4990.0,1749.0,1580.0,2340.0,2440.0,705.0,1227.0,2734.0,1120.0,1482.0,1680.0,1400.0,1370.0,889.0,2140.0,795.0,1710.0],\"xaxis\":\"x\",\"yaxis\":\"y\",\"type\":\"histogram\"},{\"alignmentgroup\":\"True\",\"hovertemplate\":\"SquareFootage=%{x}\\u003cextra\\u003e\\u003c\\u002fextra\\u003e\",\"legendgroup\":\"\",\"marker\":{\"color\":\"#636efa\"},\"name\":\"\",\"notched\":true,\"offsetgroup\":\"\",\"showlegend\":false,\"x\":[2590.0,2240.0,2040.0,3800.0,1042.0,1190.0,670.0,4510.0,1520.0,2340.0,1320.0,1800.0,2490.0,2650.0,2560.0,900.0,1360.0,550.0,2974.0,1989.0,1332.0,2668.0,770.0,1280.0,3200.0,889.0,508.0,3140.0,2000.0,792.0,1690.0,3000.0,1550.0,871.0,1940.0,474.0,1770.0,2510.0,750.0,573.0,1500.0,2920.0,2817.0,617.0,1280.0,1523.0,1240.0,2280.0,3590.0,2478.0,2360.0,720.0,2480.0,1550.0,780.0,2820.0,2900.0,1092.0,1731.0,1500.0,1344.0,4040.0,2320.0,2820.0,1070.0,1113.0,2100.0,2620.0,1270.0,2702.0,2031.0,2350.0,2640.0,1340.0,8660.0,1365.0,635.0,1800.0,870.0,1510.0,1120.0,2580.0,875.0,2220.0,607.0,1496.0,2670.0,1810.0,582.0,1006.0,1530.0,820.0,1960.0,2110.0,3010.0,2200.0,1820.0,3040.0,1800.0,800.0,1450.0,756.0,742.0,2400.0,1607.0,3057.0,649.0,3142.0,1050.0,1720.0,2650.0,2680.0,2550.0,3800.0,1320.0,1910.0,773.0,589.0,510.0,2661.0,843.0,2250.0,2080.0,1370.0,699.0,1840.0,3040.0,858.0,3110.0,1147.0,868.0,1538.0,1480.0,932.0,981.0,866.0,2000.0,1470.0,1840.0,2230.0,1290.0,1670.0,630.0,1880.0,1188.0,1300.0,857.0,1071.0,2810.0,2400.0,1670.0,2734.0,1670.0,1530.0,1720.0,1200.0,2030.0,2370.0,1720.0,813.0,1590.0,626.0,840.0,1030.0,2870.0,792.0,994.0,1630.0,1172.0,1806.0,3060.0,3820.0,1328.0,2350.0,2080.0,1000.0,1131.0,2230.0,3130.0,3750.0,1080.0,1720.0,854.0,1286.0,1230.0,1422.0,3956.0,3620.0,1370.0,700.0,1824.0,956.0,2370.0,2200.0,3020.0,3400.0,1660.0,2080.0,917.0,900.0,3960.0,889.0,3310.0,621.0,1467.0,1910.0,1563.0,3340.0,2390.0,1131.0,1201.0,1940.0,519.0,1760.0,1680.0,1192.0,2300.0,2304.0,2650.0,4210.0,2840.0,980.0,2440.0,1140.0,1824.0,1115.0,2478.0,1140.0,1433.0,1520.0,1380.0,11010.0,1750.0,3590.0,646.0,2040.0,1560.0,1088.0,1460.0,1380.0,1000.0,1128.0,776.0,2000.0,2029.0,2867.0,1180.0,1920.0,2220.0,1300.0,596.0,1460.0,2500.0,1540.0,2550.0,1018.0,1520.0,640.0,2190.0,930.0,2900.0,2780.0,2560.0,613.0,1566.0,1245.0,1190.0,2760.0,3260.0,2380.0,1884.0,1712.0,1196.0,1098.0,1250.0,880.0,822.0,1595.0,2380.0,3190.0,1465.0,2910.0,1140.0,500.0,1580.0,683.0,2430.0,1128.0,2360.0,1396.0,615.0,2340.0,2140.0,2980.0,1390.0,720.0,712.0,1850.0,1710.0,970.0,1606.0,1815.0,1120.0,2220.0,570.0,1460.0,3820.0,2480.0,2777.0,1170.0,587.0,1430.0,1320.0,2170.0,635.0,1630.0,1900.0,1760.0,1712.0,3190.0,3590.0,630.0,1150.0,1830.0,760.0,2600.0,2130.0,2899.0,1090.0,3360.0,2240.0,886.0,1560.0,1730.0,1700.0,1909.0,2180.0,681.0,1460.0,704.0,1010.0,1635.0,1022.0,990.0,1164.0,583.0,888.0,2740.0,1670.0,830.0,1200.0,2530.0,2660.0,2820.0,1011.0,1088.0,3785.0,1540.0,1180.0,1968.0,610.0,1346.0,1320.0,3064.0,2980.0,3050.0,2020.0,1926.0,1330.0,2410.0,1580.0,1030.0,1630.0,2370.0,783.0,1310.0,1996.0,1580.0,781.0,1517.0,2360.0,1496.0,1250.0,1810.0,531.0,2380.0,1095.0,1080.0,1146.0,1544.0,707.0,2067.0,2360.0,724.0,1649.0,2180.0,1960.0,727.0,1209.0,650.0,3070.0,2130.0,2220.0,2288.0,1370.0,3120.0,2180.0,1590.0,2220.0,813.0,574.0,2480.0,3320.0,1720.0,2050.0,2370.0,3660.0,1670.0,990.0,3120.0,2260.0,650.0,1540.0,1980.0,2160.0,3080.0,1740.0,1900.0,3940.0,1366.0,1920.0,715.0,1610.0,2960.0,1810.0,1125.0,1893.0,1096.0,3760.0,2720.0,1510.0,1350.0,2980.0,1443.0,1170.0,2260.0,1990.0,1555.0,2350.0,1440.0,627.0,551.0,770.0,1570.0,699.0,2650.0,1070.0,1941.0,2030.0,1620.0,1400.0,2354.0,1155.0,1340.0,903.0,1220.0,1250.0,1040.0,1660.0,744.0,805.0,1060.0,3160.0,1120.0,1881.0,3460.0,376.0,880.0,794.0,1340.0,2560.0,2178.0,1180.0,3220.0,2070.0,2131.0,970.0,2430.0,1395.0,1810.0,904.0,717.0,2170.0,3120.0,1870.0,2285.0,2783.0,2540.0,1734.0,1010.0,1420.0,1410.0,2320.0,553.0,1719.0,2037.0,954.0,1370.0,1480.0,3636.0,1780.0,1094.0,830.0,834.0,1035.0,2790.0,859.0,5690.0,772.0,1430.0,1460.0,1386.0,2310.0,1340.0,1291.0,2320.0,2150.0,1885.0,1425.0,1810.0,1280.0,1480.0,2110.0,1027.0,808.0,1569.0,2247.0,1220.0,1060.0,1920.0,804.0,813.0,1740.0,2230.0,2760.0,1660.0,1360.0,5200.0,1573.0,700.0,1700.0,2560.0,1330.0,2180.0,1350.0,1720.0,3060.0,954.0,1460.0,1540.0,709.0,2560.0,534.0,1440.0,627.0,1324.0,1290.0,748.0,1830.0,1660.0,1964.0,1460.0,683.0,2060.0,1160.0,1540.0,529.0,1860.0,648.0,4490.0,2310.0,3130.0,2110.0,1590.0,1280.0,840.0,2020.0,3610.0,2336.0,1040.0,620.0,728.0,1970.0,2190.0,2120.0,1415.0,1835.0,1670.0,2570.0,2060.0,1740.0,2510.0,1000.0,1516.0,940.0,2440.0,2470.0,1288.0,3240.0,693.0,1550.0,2080.0,1400.0,1159.0,901.0,2900.0,2052.0,773.0,1040.0,2353.0,1212.0,2640.0,1090.0,3960.0,3030.0,3080.0,700.0,1276.0,910.0,4180.0,852.0,2830.0,970.0,1576.0,667.0,1080.0,2659.0,3623.0,2520.0,2720.0,968.0,839.0,2080.0,693.0,1580.0,860.0,1038.0,2860.0,557.0,1644.0,2340.0,2530.0,1820.0,648.0,1448.0,1660.0,2970.0,3030.0,1400.0,2740.0,720.0,1880.0,1681.0,3325.0,4397.0,1540.0,1530.0,1015.0,2340.0,836.0,492.0,1880.0,1570.0,1806.0,1595.0,1526.0,1346.0,1600.0,1170.0,1660.0,707.0,1390.0,2900.0,704.0,2400.0,1120.0,1710.0,1880.0,1454.0,3884.0,2300.0,2520.0,3335.0,2118.0,910.0,2080.0,2520.0,1560.0,1130.0,543.0,620.0,1720.0,1015.0,530.0,1350.0,1510.0,1021.0,1730.0,3120.0,2172.0,1410.0,578.0,1350.0,900.0,1865.0,1174.0,1250.0,3590.0,1548.0,3030.0,622.0,2245.0,2627.0,3680.0,2170.0,1600.0,2803.0,2120.0,1980.0,1370.0,723.0,1300.0,1060.0,531.0,770.0,2470.0,2260.0,1120.0,1936.0,1560.0,1020.0,1100.0,2120.0,1400.0,1429.0,1320.0,4790.0,1070.0,1966.0,1146.0,1047.0,1760.0,1030.0,1514.0,1520.0,3360.0,1910.0,1550.0,641.0,1190.0,2640.0,938.0,2206.0,680.0,749.0,1353.0,250.0,3136.0,1149.0,861.0,2050.0,1106.0,1930.0,3090.0,2437.0,1330.0,1680.0,834.0,1112.0,626.0,1230.0,2840.0,1115.0,2240.0,1687.0,1900.0,1970.0,1512.0,696.0,806.0,1319.0,2300.0,1127.0,2280.0,1120.0,1960.0,627.0,1228.0,1800.0,883.0,1190.0,5770.0,1710.0,968.0,790.0,4510.0,1300.0,2106.0,1573.0,2870.0,4006.0,1060.0,562.0,1610.0,1212.0,2390.0,1080.0,1350.0,2795.0,1369.0,970.0,1820.0,1770.0,3280.0,1260.0,1939.0,610.0,2200.0,3036.0,1861.0,1650.0,722.0,1260.0,2714.0,1471.0,1500.0,1080.0,1544.0,1004.0,1470.0,1680.0,2420.0,2011.0,896.0,1415.0,840.0,434.0,2730.0,1350.0,1740.0,1940.0,1340.0,1110.0,1380.0,1400.0,2110.0,557.0,1830.0,1480.0,1550.0,1670.0,2890.0,1590.0,630.0,1440.0,2529.0,1086.0,1565.0,916.0,2190.0,1400.0,1352.0,2030.0,1455.0,3240.0,924.0,1470.0,1758.0,1830.0,1019.0,2970.0,1500.0,2020.0,2188.0,507.0,1131.0,982.0,1889.0,1440.0,789.0,1131.0,3300.0,2510.0,1580.0,966.0,703.0,1220.0,3590.0,4299.0,900.0,1260.0,1048.0,1470.0,1113.0,1570.0,2740.0,1470.0,1710.0,1580.0,800.0,980.0,3700.0,2352.0,2320.0,1503.0,2410.0,950.0,1640.0,2440.0,594.0,1480.0,1220.0,2740.0,2160.0,1400.0,2650.0,2735.0,750.0,1201.0,3488.0,1742.0,2390.0,4018.0,1530.0,600.0,3340.0,2060.0,1650.0,640.0,1106.0,1200.0,1390.0,1759.0,1690.0,2191.0,1380.0,877.0,2754.0,2770.0,515.0,2560.0,2966.0,1763.0,1550.0,830.0,1019.0,696.0,5090.0,1460.0,1036.0,854.0,1687.0,1430.0,1960.0,2720.0,706.0,2600.0,1900.0,1580.0,1270.0,2320.0,910.0,878.0,1915.0,2462.0,2640.0,1670.0,1090.0,1621.0,2591.0,1400.0,840.0,2910.0,1410.0,1900.0,2760.0,1290.0,1111.0,850.0,900.0,2667.0,1320.0,1370.0,1140.0,1380.0,1422.0,1065.0,2943.0,1250.0,2390.0,569.0,1680.0,683.0,627.0,840.0,1880.0,881.0,850.0,525.0,2170.0,1110.0,3930.0,1047.0,653.0,1710.0,2120.0,2360.0,2250.0,2320.0,3490.0,2500.0,792.0,1490.0,1700.0,1261.0,2440.0,1420.0,1380.0,1920.0,1220.0,4010.0,1170.0,1600.0,760.0,1290.0,980.0,1022.0,1260.0,2660.0,644.0,664.0,468.0,2680.0,1640.0,2000.0,1523.0,2430.0,1199.0,2160.0,1354.0,738.0,1425.0,4570.0,940.0,1710.0,1430.0,1500.0,1376.0,4002.0,1600.0,807.0,2055.0,647.0,940.0,1150.0,1459.0,1910.0,2297.0,2320.0,2387.0,3270.0,1530.0,1150.0,1237.0,1760.0,808.0,2720.0,1345.0,2600.0,2209.0,950.0,1530.0,830.0,1590.0,1524.0,1920.0,2660.0,2284.0,1604.0,2555.0,2460.0,2793.0,1540.0,950.0,1720.0,1470.0,3500.0,984.0,1570.0,700.0,1188.0,2570.0,1631.0,1596.0,820.0,1610.0,812.0,1425.0,1086.0,1043.0,1440.0,590.0,1152.0,2040.0,2092.0,1780.0,3560.0,1475.0,1890.0,2790.0,2600.0,1060.0,2180.0,1761.0,1379.0,2550.0,3815.0,2634.0,540.0,860.0,1690.0,1800.0,807.0,1350.0,2900.0,677.0,703.0,527.0,820.0,1360.0,2600.0,2852.0,1370.0,2000.0,1096.0,3380.0,1616.0,1620.0,970.0,1009.0,2270.0,1200.0,1225.0,1081.0,1380.0,1200.0,1620.0,2950.0,513.0,2100.0,1705.0,3610.0,1800.0,2130.0,1367.0,1730.0,4194.0,3780.0,1778.0,1410.0,1088.0,1340.0,2380.0,2140.0,2080.0,1410.0,571.0,2340.0,5210.0,733.0,1060.0,996.0,1850.0,690.0,2260.0,3190.0,1846.0,1700.0,2240.0,1660.0,1780.0,2270.0,603.0,2024.0,1103.0,1460.0,4260.0,1660.0,1350.0,2949.0,1718.0,1370.0,1822.0,800.0,718.0,909.0,903.0,1297.0,2140.0,2970.0,900.0,2600.0,1180.0,564.0,1700.0,1524.0,1410.0,831.0,3060.0,1213.0,2352.0,534.0,724.0,2304.0,1450.0,980.0,1550.0,704.0,1425.0,794.0,4060.0,979.0,1830.0,1260.0,3210.0,968.0,1049.0,1054.0,1586.0,1760.0,860.0,1560.0,3110.0,1440.0,1500.0,2160.0,3100.0,522.0,1560.0,3400.0,1076.0,1217.0,1450.0,1000.0,1124.0,3070.0,480.0,1860.0,740.0,1440.0,758.0,1340.0,1700.0,2950.0,616.0,4240.0,3495.0,2560.0,2040.0,890.0,1730.0,816.0,2400.0,1270.0,1830.0,2470.0,2300.0,1600.0,510.0,1387.0,2230.0,1872.0,2030.0,1980.0,1180.0,2630.0,2010.0,3487.0,2570.0,1440.0,1131.0,1440.0,2010.0,1073.0,3300.0,3040.0,2500.0,1810.0,1878.0,1411.0,3960.0,1000.0,2300.0,890.0,2820.0,1620.0,1470.0,1088.0,2160.0,3105.0,1200.0,1240.0,1550.0,2300.0,2466.0,1817.0,1500.0,2380.0,1524.0,1370.0,1449.0,1140.0,1010.0,3014.0,1450.0,1248.0,2600.0,1328.0,614.0,2481.0,1420.0,2040.0,1390.0,920.0,1840.0,3020.0,2520.0,2240.0,1644.0,1880.0,995.0,568.0,1226.0,730.0,1500.0,2080.0,1425.0,3840.0,2074.0,3556.0,1100.0,730.0,1170.0,2240.0,1750.0,1695.0,2480.0,1420.0,990.0,1520.0,2100.0,1740.0,1760.0,1021.0,3018.0,1024.0,945.0,2380.0,3810.0,1048.0,1610.0,701.0,2213.0,1071.0,850.0,1280.0,980.0,3840.0,1006.0,1450.0,2140.0,2480.0,2420.0,1760.0,1730.0,636.0,1940.0,3400.0,1360.0,875.0,2230.0,4190.0,2220.0,830.0,2090.0,1210.0,691.0,3105.0,1680.0,2495.0,2450.0,2787.0,3310.0,1699.0,3180.0,3350.0,1365.0,1660.0,1880.0,580.0,1270.0,860.0,580.0,1840.0,615.0,2140.0,1437.0,1390.0,870.0,2840.0,2260.0,886.0,505.0,1048.0,1800.0,1390.0,2600.0,2640.0,1020.0,2630.0,2910.0,1580.0,885.0,2100.0,2010.0,1480.0,1560.0,889.0,664.0,804.0,2080.0,910.0,1620.0,1970.0,1720.0,1545.0,1710.0,1141.0,1276.0,1978.0,1060.0,3220.0,1170.0,1770.0,1420.0,2980.0,1630.0,743.0,680.0,900.0,635.0,3400.0,1300.0,1094.0,1763.0,940.0,1820.0,650.0,1939.0,1780.0,2370.0,1411.0,512.0,2360.0,2630.0,2700.0,605.0,767.0,1015.0,780.0,2050.0,1060.0,950.0,1870.0,1060.0,1860.0,1420.0,1390.0,1096.0,1100.0,1010.0,1730.0,1480.0,1890.0,2500.0,2840.0,1608.0,1701.0,1250.0,1790.0,1670.0,1640.0,3228.0,1720.0,2060.0,1840.0,3180.0,1760.0,1350.0,1403.0,1740.0,1490.0,2380.0,815.0,2900.0,2370.0,2470.0,1740.0,690.0,2610.0,2015.0,3880.0,2280.0,2570.0,2740.0,1469.0,2860.0,1479.0,3370.0,1300.0,780.0,6990.0,867.0,2120.0,1042.0,1163.0,1580.0,1740.0,1810.0,1186.0,1177.0,770.0,1870.0,696.0,1380.0,1650.0,1640.0,970.0,490.0,2180.0,2970.0,2340.0,1420.0,1520.0,1242.0,3410.0,1150.0,691.0,1170.0,1360.0,1200.0,2680.0,670.0,545.0,1240.0,700.0,2940.0,1187.0,1488.0,970.0,1681.0,1144.0,2860.0,773.0,3100.0,2400.0,2920.0,876.0,3450.0,1330.0,2440.0,1580.0,2299.0,594.0,475.0,2360.0,1780.0,2250.0,1073.0,1900.0,3090.0,6240.0,573.0,770.0,820.0,1622.0,1210.0,1240.0,2080.0,875.0,597.0,1370.0,2425.0,1760.0,994.0,515.0,1660.0,1730.0,1790.0,715.0,1470.0,2440.0,2880.0,1678.0,1400.0,5200.0,806.0,2311.0,1060.0,1150.0,2580.0,3240.0,3710.0,1632.0,4641.0,1846.0,1353.0,1240.0,1760.0,1290.0,1285.0,3707.0,1120.0,3300.0,2160.0,1440.0,2567.0,1960.0,1657.0,2610.0,1213.0,777.0,1590.0,1570.0,2440.0,3463.0,1840.0,1554.0,567.0,665.0,950.0,1371.0,2040.0,2780.0,3410.0,2280.0,2100.0,1101.0,1964.0,1030.0,1042.0,1740.0,1302.0,905.0,460.0,1540.0,656.0,2800.0,2480.0,2170.0,2447.0,2164.0,740.0,2080.0,1800.0,1180.0,2020.0,1150.0,1220.0,810.0,696.0,2030.0,3930.0,2920.0,1460.0,2770.0,1523.0,1690.0,1170.0,2370.0,712.0,976.0,1042.0,1040.0,722.0,733.0,970.0,1711.0,860.0,712.0,704.0,1790.0,2140.0,2040.0,1894.0,2750.0,2900.0,670.0,2190.0,1810.0,1440.0,2170.0,993.0,1450.0,2336.0,2320.0,1470.0,672.0,990.0,2110.0,1670.0,2060.0,1920.0,2910.0,912.0,645.0,1160.0,2280.0,1515.0,2600.0,1000.0,672.0,1320.0,2190.0,1517.0,2160.0,2290.0,1920.0,1540.0,983.0,1670.0,880.0,1526.0,569.0,2700.0,2282.0,4530.0,698.0,1590.0,770.0,2840.0,2350.0,630.0,482.0,4350.0,1730.0,761.0,1684.0,2040.0,1057.0,2256.0,1900.0,760.0,780.0,3020.0,2220.0,1530.0,850.0,1860.0,980.0,1470.0,980.0,1003.0,996.0,980.0,2380.0,2470.0,2120.0,840.0,1910.0,1380.0,2390.0,2840.0,875.0,1813.0,2996.0,5020.0,1498.0,711.0,2740.0,1328.0,2020.0,916.0,1546.0,2970.0,1615.0,1170.0,1350.0,1143.0,1220.0,2100.0,3200.0,1137.0,2930.0,808.0,2550.0,2546.0,680.0,1000.0,1676.0,985.0,750.0,843.0,3220.0,2340.0,543.0,4040.0,990.0,2850.0,1620.0,514.0,1240.0,1620.0,1608.0,1530.0,2270.0,908.0,1180.0,672.0,998.0,2220.0,7636.0,3530.0,1620.0,1620.0,1138.0,669.0,2600.0,1960.0,950.0,1410.0,1022.0,2840.0,712.0,1920.0,3880.0,1010.0,3300.0,1070.0,1270.0,1413.0,1820.0,1415.0,2212.0,3290.0,1391.0,1372.0,960.0,1890.0,2230.0,952.0,925.0,1820.0,3600.0,1305.0,1840.0,782.0,1040.0,1050.0,1019.0,3198.0,557.0,950.0,1050.0,533.0,860.0,1890.0,1138.0,1830.0,1980.0,1730.0,2462.0,1300.0,1550.0,1679.0,1220.0,1540.0,1520.0,1320.0,1290.0,1870.0,1762.0,1240.0,1307.0,1167.0,1070.0,1820.0,1790.0,3700.0,3340.0,2250.0,1799.0,584.0,4639.0,1810.0,907.0,2120.0,616.0,1780.0,2630.0,3060.0,2700.0,2030.0,1620.0,5704.0,700.0,1260.0,1770.0,1812.0,648.0,840.0,2100.0,2550.0,774.0,1736.0,2198.0,770.0,1150.0,2330.0,4693.0,1790.0,2960.0,591.0,1391.0,1160.0,720.0,701.0,2570.0,1611.0,2474.0,1300.0,840.0,1100.0,2730.0,1004.0,1650.0,1650.0,1850.0,4050.0,865.0,1252.0,1790.0,2020.0,1280.0,1630.0,1460.0,1210.0,2080.0,3542.0,2200.0,603.0,1456.0,1169.0,1770.0,1641.0,600.0,860.0,4990.0,1749.0,1580.0,2340.0,2440.0,705.0,1227.0,2734.0,1120.0,1482.0,1680.0,1400.0,1370.0,889.0,2140.0,795.0,1710.0],\"xaxis\":\"x2\",\"yaxis\":\"y2\",\"type\":\"box\"}],                        {\"template\":{\"data\":{\"histogram2dcontour\":[{\"type\":\"histogram2dcontour\",\"colorbar\":{\"outlinewidth\":0,\"ticks\":\"\"},\"colorscale\":[[0.0,\"#0d0887\"],[0.1111111111111111,\"#46039f\"],[0.2222222222222222,\"#7201a8\"],[0.3333333333333333,\"#9c179e\"],[0.4444444444444444,\"#bd3786\"],[0.5555555555555556,\"#d8576b\"],[0.6666666666666666,\"#ed7953\"],[0.7777777777777778,\"#fb9f3a\"],[0.8888888888888888,\"#fdca26\"],[1.0,\"#f0f921\"]]}],\"choropleth\":[{\"type\":\"choropleth\",\"colorbar\":{\"outlinewidth\":0,\"ticks\":\"\"}}],\"histogram2d\":[{\"type\":\"histogram2d\",\"colorbar\":{\"outlinewidth\":0,\"ticks\":\"\"},\"colorscale\":[[0.0,\"#0d0887\"],[0.1111111111111111,\"#46039f\"],[0.2222222222222222,\"#7201a8\"],[0.3333333333333333,\"#9c179e\"],[0.4444444444444444,\"#bd3786\"],[0.5555555555555556,\"#d8576b\"],[0.6666666666666666,\"#ed7953\"],[0.7777777777777778,\"#fb9f3a\"],[0.8888888888888888,\"#fdca26\"],[1.0,\"#f0f921\"]]}],\"heatmap\":[{\"type\":\"heatmap\",\"colorbar\":{\"outlinewidth\":0,\"ticks\":\"\"},\"colorscale\":[[0.0,\"#0d0887\"],[0.1111111111111111,\"#46039f\"],[0.2222222222222222,\"#7201a8\"],[0.3333333333333333,\"#9c179e\"],[0.4444444444444444,\"#bd3786\"],[0.5555555555555556,\"#d8576b\"],[0.6666666666666666,\"#ed7953\"],[0.7777777777777778,\"#fb9f3a\"],[0.8888888888888888,\"#fdca26\"],[1.0,\"#f0f921\"]]}],\"heatmapgl\":[{\"type\":\"heatmapgl\",\"colorbar\":{\"outlinewidth\":0,\"ticks\":\"\"},\"colorscale\":[[0.0,\"#0d0887\"],[0.1111111111111111,\"#46039f\"],[0.2222222222222222,\"#7201a8\"],[0.3333333333333333,\"#9c179e\"],[0.4444444444444444,\"#bd3786\"],[0.5555555555555556,\"#d8576b\"],[0.6666666666666666,\"#ed7953\"],[0.7777777777777778,\"#fb9f3a\"],[0.8888888888888888,\"#fdca26\"],[1.0,\"#f0f921\"]]}],\"contourcarpet\":[{\"type\":\"contourcarpet\",\"colorbar\":{\"outlinewidth\":0,\"ticks\":\"\"}}],\"contour\":[{\"type\":\"contour\",\"colorbar\":{\"outlinewidth\":0,\"ticks\":\"\"},\"colorscale\":[[0.0,\"#0d0887\"],[0.1111111111111111,\"#46039f\"],[0.2222222222222222,\"#7201a8\"],[0.3333333333333333,\"#9c179e\"],[0.4444444444444444,\"#bd3786\"],[0.5555555555555556,\"#d8576b\"],[0.6666666666666666,\"#ed7953\"],[0.7777777777777778,\"#fb9f3a\"],[0.8888888888888888,\"#fdca26\"],[1.0,\"#f0f921\"]]}],\"surface\":[{\"type\":\"surface\",\"colorbar\":{\"outlinewidth\":0,\"ticks\":\"\"},\"colorscale\":[[0.0,\"#0d0887\"],[0.1111111111111111,\"#46039f\"],[0.2222222222222222,\"#7201a8\"],[0.3333333333333333,\"#9c179e\"],[0.4444444444444444,\"#bd3786\"],[0.5555555555555556,\"#d8576b\"],[0.6666666666666666,\"#ed7953\"],[0.7777777777777778,\"#fb9f3a\"],[0.8888888888888888,\"#fdca26\"],[1.0,\"#f0f921\"]]}],\"mesh3d\":[{\"type\":\"mesh3d\",\"colorbar\":{\"outlinewidth\":0,\"ticks\":\"\"}}],\"scatter\":[{\"fillpattern\":{\"fillmode\":\"overlay\",\"size\":10,\"solidity\":0.2},\"type\":\"scatter\"}],\"parcoords\":[{\"type\":\"parcoords\",\"line\":{\"colorbar\":{\"outlinewidth\":0,\"ticks\":\"\"}}}],\"scatterpolargl\":[{\"type\":\"scatterpolargl\",\"marker\":{\"colorbar\":{\"outlinewidth\":0,\"ticks\":\"\"}}}],\"bar\":[{\"error_x\":{\"color\":\"#2a3f5f\"},\"error_y\":{\"color\":\"#2a3f5f\"},\"marker\":{\"line\":{\"color\":\"#E5ECF6\",\"width\":0.5},\"pattern\":{\"fillmode\":\"overlay\",\"size\":10,\"solidity\":0.2}},\"type\":\"bar\"}],\"scattergeo\":[{\"type\":\"scattergeo\",\"marker\":{\"colorbar\":{\"outlinewidth\":0,\"ticks\":\"\"}}}],\"scatterpolar\":[{\"type\":\"scatterpolar\",\"marker\":{\"colorbar\":{\"outlinewidth\":0,\"ticks\":\"\"}}}],\"histogram\":[{\"marker\":{\"pattern\":{\"fillmode\":\"overlay\",\"size\":10,\"solidity\":0.2}},\"type\":\"histogram\"}],\"scattergl\":[{\"type\":\"scattergl\",\"marker\":{\"colorbar\":{\"outlinewidth\":0,\"ticks\":\"\"}}}],\"scatter3d\":[{\"type\":\"scatter3d\",\"line\":{\"colorbar\":{\"outlinewidth\":0,\"ticks\":\"\"}},\"marker\":{\"colorbar\":{\"outlinewidth\":0,\"ticks\":\"\"}}}],\"scattermapbox\":[{\"type\":\"scattermapbox\",\"marker\":{\"colorbar\":{\"outlinewidth\":0,\"ticks\":\"\"}}}],\"scatterternary\":[{\"type\":\"scatterternary\",\"marker\":{\"colorbar\":{\"outlinewidth\":0,\"ticks\":\"\"}}}],\"scattercarpet\":[{\"type\":\"scattercarpet\",\"marker\":{\"colorbar\":{\"outlinewidth\":0,\"ticks\":\"\"}}}],\"carpet\":[{\"aaxis\":{\"endlinecolor\":\"#2a3f5f\",\"gridcolor\":\"white\",\"linecolor\":\"white\",\"minorgridcolor\":\"white\",\"startlinecolor\":\"#2a3f5f\"},\"baxis\":{\"endlinecolor\":\"#2a3f5f\",\"gridcolor\":\"white\",\"linecolor\":\"white\",\"minorgridcolor\":\"white\",\"startlinecolor\":\"#2a3f5f\"},\"type\":\"carpet\"}],\"table\":[{\"cells\":{\"fill\":{\"color\":\"#EBF0F8\"},\"line\":{\"color\":\"white\"}},\"header\":{\"fill\":{\"color\":\"#C8D4E3\"},\"line\":{\"color\":\"white\"}},\"type\":\"table\"}],\"barpolar\":[{\"marker\":{\"line\":{\"color\":\"#E5ECF6\",\"width\":0.5},\"pattern\":{\"fillmode\":\"overlay\",\"size\":10,\"solidity\":0.2}},\"type\":\"barpolar\"}],\"pie\":[{\"automargin\":true,\"type\":\"pie\"}]},\"layout\":{\"autotypenumbers\":\"strict\",\"colorway\":[\"#636efa\",\"#EF553B\",\"#00cc96\",\"#ab63fa\",\"#FFA15A\",\"#19d3f3\",\"#FF6692\",\"#B6E880\",\"#FF97FF\",\"#FECB52\"],\"font\":{\"color\":\"#2a3f5f\"},\"hovermode\":\"closest\",\"hoverlabel\":{\"align\":\"left\"},\"paper_bgcolor\":\"white\",\"plot_bgcolor\":\"#E5ECF6\",\"polar\":{\"bgcolor\":\"#E5ECF6\",\"angularaxis\":{\"gridcolor\":\"white\",\"linecolor\":\"white\",\"ticks\":\"\"},\"radialaxis\":{\"gridcolor\":\"white\",\"linecolor\":\"white\",\"ticks\":\"\"}},\"ternary\":{\"bgcolor\":\"#E5ECF6\",\"aaxis\":{\"gridcolor\":\"white\",\"linecolor\":\"white\",\"ticks\":\"\"},\"baxis\":{\"gridcolor\":\"white\",\"linecolor\":\"white\",\"ticks\":\"\"},\"caxis\":{\"gridcolor\":\"white\",\"linecolor\":\"white\",\"ticks\":\"\"}},\"coloraxis\":{\"colorbar\":{\"outlinewidth\":0,\"ticks\":\"\"}},\"colorscale\":{\"sequential\":[[0.0,\"#0d0887\"],[0.1111111111111111,\"#46039f\"],[0.2222222222222222,\"#7201a8\"],[0.3333333333333333,\"#9c179e\"],[0.4444444444444444,\"#bd3786\"],[0.5555555555555556,\"#d8576b\"],[0.6666666666666666,\"#ed7953\"],[0.7777777777777778,\"#fb9f3a\"],[0.8888888888888888,\"#fdca26\"],[1.0,\"#f0f921\"]],\"sequentialminus\":[[0.0,\"#0d0887\"],[0.1111111111111111,\"#46039f\"],[0.2222222222222222,\"#7201a8\"],[0.3333333333333333,\"#9c179e\"],[0.4444444444444444,\"#bd3786\"],[0.5555555555555556,\"#d8576b\"],[0.6666666666666666,\"#ed7953\"],[0.7777777777777778,\"#fb9f3a\"],[0.8888888888888888,\"#fdca26\"],[1.0,\"#f0f921\"]],\"diverging\":[[0,\"#8e0152\"],[0.1,\"#c51b7d\"],[0.2,\"#de77ae\"],[0.3,\"#f1b6da\"],[0.4,\"#fde0ef\"],[0.5,\"#f7f7f7\"],[0.6,\"#e6f5d0\"],[0.7,\"#b8e186\"],[0.8,\"#7fbc41\"],[0.9,\"#4d9221\"],[1,\"#276419\"]]},\"xaxis\":{\"gridcolor\":\"white\",\"linecolor\":\"white\",\"ticks\":\"\",\"title\":{\"standoff\":15},\"zerolinecolor\":\"white\",\"automargin\":true,\"zerolinewidth\":2},\"yaxis\":{\"gridcolor\":\"white\",\"linecolor\":\"white\",\"ticks\":\"\",\"title\":{\"standoff\":15},\"zerolinecolor\":\"white\",\"automargin\":true,\"zerolinewidth\":2},\"scene\":{\"xaxis\":{\"backgroundcolor\":\"#E5ECF6\",\"gridcolor\":\"white\",\"linecolor\":\"white\",\"showbackground\":true,\"ticks\":\"\",\"zerolinecolor\":\"white\",\"gridwidth\":2},\"yaxis\":{\"backgroundcolor\":\"#E5ECF6\",\"gridcolor\":\"white\",\"linecolor\":\"white\",\"showbackground\":true,\"ticks\":\"\",\"zerolinecolor\":\"white\",\"gridwidth\":2},\"zaxis\":{\"backgroundcolor\":\"#E5ECF6\",\"gridcolor\":\"white\",\"linecolor\":\"white\",\"showbackground\":true,\"ticks\":\"\",\"zerolinecolor\":\"white\",\"gridwidth\":2}},\"shapedefaults\":{\"line\":{\"color\":\"#2a3f5f\"}},\"annotationdefaults\":{\"arrowcolor\":\"#2a3f5f\",\"arrowhead\":0,\"arrowwidth\":1},\"geo\":{\"bgcolor\":\"white\",\"landcolor\":\"#E5ECF6\",\"subunitcolor\":\"white\",\"showland\":true,\"showlakes\":true,\"lakecolor\":\"white\"},\"title\":{\"x\":0.05},\"mapbox\":{\"style\":\"light\"}}},\"xaxis\":{\"anchor\":\"y\",\"domain\":[0.0,1.0],\"title\":{\"text\":\"SquareFootage\"}},\"yaxis\":{\"anchor\":\"x\",\"domain\":[0.0,0.8316],\"title\":{\"text\":\"count\"}},\"xaxis2\":{\"anchor\":\"y2\",\"domain\":[0.0,1.0],\"matches\":\"x\",\"showticklabels\":false,\"showgrid\":true},\"yaxis2\":{\"anchor\":\"x2\",\"domain\":[0.8416,1.0],\"matches\":\"y2\",\"showticklabels\":false,\"showline\":false,\"ticks\":\"\",\"showgrid\":false},\"legend\":{\"tracegroupgap\":0},\"title\":{\"text\":\"Distribution of SquareFootage\"},\"barmode\":\"relative\",\"bargap\":0.1},                        {\"responsive\": true}                    ).then(function(){\n",
              "                            \n",
              "var gd = document.getElementById('6df42b52-542a-4224-a6e1-1490827a4f0e');\n",
              "var x = new MutationObserver(function (mutations, observer) {{\n",
              "        var display = window.getComputedStyle(gd).display;\n",
              "        if (!display || display === 'none') {{\n",
              "            console.log([gd, 'removed!']);\n",
              "            Plotly.purge(gd);\n",
              "            observer.disconnect();\n",
              "        }}\n",
              "}});\n",
              "\n",
              "// Listen for the removal of the full notebook cells\n",
              "var notebookContainer = gd.closest('#notebook-container');\n",
              "if (notebookContainer) {{\n",
              "    x.observe(notebookContainer, {childList: true});\n",
              "}}\n",
              "\n",
              "// Listen for the clearing of the current output cell\n",
              "var outputEl = gd.closest('.output');\n",
              "if (outputEl) {{\n",
              "    x.observe(outputEl, {childList: true});\n",
              "}}\n",
              "\n",
              "                        })                };                            </script>        </div>\n",
              "</body>\n",
              "</html>"
            ]
          },
          "metadata": {}
        }
      ]
    },
    {
      "cell_type": "code",
      "source": [
        "fig = px.histogram(house,\n",
        "                   x='Bathrooms',\n",
        "                   marginal='box',\n",
        "                   nbins=47,\n",
        "                   color_discrete_sequence=['green'],\n",
        "                   title='Distribution of Bathrooms')\n",
        "fig.update_layout(bargap=0.1)\n",
        "fig.show()"
      ],
      "metadata": {
        "colab": {
          "base_uri": "https://localhost:8080/",
          "height": 542
        },
        "id": "RPW3zlPOvoD2",
        "outputId": "7661ad4d-6f49-4c54-a6eb-21db87fb1b86"
      },
      "execution_count": 17,
      "outputs": [
        {
          "output_type": "display_data",
          "data": {
            "text/html": [
              "<html>\n",
              "<head><meta charset=\"utf-8\" /></head>\n",
              "<body>\n",
              "    <div>            <script src=\"https://cdnjs.cloudflare.com/ajax/libs/mathjax/2.7.5/MathJax.js?config=TeX-AMS-MML_SVG\"></script><script type=\"text/javascript\">if (window.MathJax && window.MathJax.Hub && window.MathJax.Hub.Config) {window.MathJax.Hub.Config({SVG: {font: \"STIX-Web\"}});}</script>                <script type=\"text/javascript\">window.PlotlyConfig = {MathJaxConfig: 'local'};</script>\n",
              "        <script charset=\"utf-8\" src=\"https://cdn.plot.ly/plotly-2.24.1.min.js\"></script>                <div id=\"2203d40d-3faf-4a03-8d39-a93c24e44dab\" class=\"plotly-graph-div\" style=\"height:525px; width:100%;\"></div>            <script type=\"text/javascript\">                                    window.PLOTLYENV=window.PLOTLYENV || {};                                    if (document.getElementById(\"2203d40d-3faf-4a03-8d39-a93c24e44dab\")) {                    Plotly.newPlot(                        \"2203d40d-3faf-4a03-8d39-a93c24e44dab\",                        [{\"alignmentgroup\":\"True\",\"bingroup\":\"x\",\"hovertemplate\":\"Bathrooms=%{x}\\u003cbr\\u003ecount=%{y}\\u003cextra\\u003e\\u003c\\u002fextra\\u003e\",\"legendgroup\":\"\",\"marker\":{\"color\":\"green\",\"pattern\":{\"shape\":\"\"}},\"name\":\"\",\"nbinsx\":47,\"offsetgroup\":\"\",\"orientation\":\"v\",\"showlegend\":false,\"x\":[2.5,2.0,3.0,3.0,2.0,2.0,1.0,3.5,2.5,2.0,2.0,2.0,2.5,3.0,1.5,1.5,3.5,1.0,2.5,3.5,2.0,3.0,1.0,1.5,3.5,1.5,1.0,2.0,2.0,1.0,2.5,5.5,3.0,2.0,1.5,1.0,2.0,5.0,1.0,1.0,2.5,4.0,2.0,1.0,2.0,2.0,1.0,2.5,3.5,3.5,3.0,1.0,2.0,2.0,1.0,3.0,3.0,2.0,2.0,2.5,2.5,5.5,3.0,3.0,1.0,1.0,2.0,2.5,2.0,2.0,3.5,2.0,1.5,1.5,3.5,2.5,1.0,1.0,1.0,3.5,1.0,2.5,2.0,4.0,1.0,2.0,3.5,1.5,1.0,2.0,5.5,1.0,2.0,3.0,3.5,1.0,2.5,4.0,2.0,1.0,3.0,1.0,1.0,2.0,2.0,3.5,1.0,4.0,1.0,2.0,3.5,1.5,2.5,4.0,2.0,2.0,1.0,1.0,1.0,3.5,2.0,3.0,1.5,3.5,1.0,3.0,3.5,1.0,8.5,2.0,1.0,2.5,1.0,2.0,2.0,2.0,3.5,3.5,2.0,2.0,1.5,2.5,1.0,2.0,2.0,1.5,1.0,2.0,4.0,2.5,3.5,2.5,2.5,3.0,1.0,1.0,3.0,2.0,1.5,1.0,2.0,1.0,1.0,2.0,2.5,1.0,1.5,2.0,1.5,2.0,2.5,3.5,2.0,2.5,2.5,1.0,1.5,3.0,3.0,3.0,2.0,2.0,1.0,2.0,1.5,1.0,3.5,5.0,1.5,1.0,3.0,1.0,2.0,2.5,3.0,3.0,1.0,2.0,1.5,1.0,4.5,1.0,3.5,1.0,3.5,2.0,2.5,3.5,3.0,1.5,2.0,3.0,1.0,1.0,3.0,2.0,4.0,2.5,4.0,4.0,3.0,1.0,4.5,2.0,3.5,2.0,3.0,2.0,2.0,2.0,2.5,6.0,2.0,2.5,1.0,3.0,2.0,2.5,1.0,2.0,1.0,2.0,1.0,2.5,2.0,5.5,3.0,2.0,2.0,3.0,1.0,2.0,2.5,2.5,3.0,2.0,2.5,1.0,3.0,1.0,2.5,3.5,1.0,1.0,2.5,2.0,2.5,2.5,1.5,3.0,2.5,2.5,2.0,2.0,3.0,1.0,1.5,2.0,3.0,2.0,2.5,2.0,3.0,1.0,2.0,1.0,3.0,2.0,2.0,2.5,1.0,2.0,1.5,3.0,1.5,1.0,1.0,2.5,4.5,1.0,2.0,2.5,1.0,2.0,1.0,2.0,3.0,3.5,3.0,2.0,1.0,1.0,5.5,2.0,1.0,1.5,2.0,2.0,2.5,2.5,3.5,1.0,2.0,2.0,1.0,2.5,2.0,3.5,1.0,4.0,2.5,1.0,2.0,2.0,2.0,3.5,2.0,1.0,3.0,1.0,1.0,2.5,1.5,1.0,2.0,1.0,1.5,2.0,2.0,1.0,2.0,3.5,3.0,2.0,1.0,1.5,3.5,2.0,1.5,3.5,1.0,2.0,2.5,3.5,2.0,3.5,2.0,2.5,1.0,2.0,2.5,1.0,3.0,2.5,1.0,1.0,2.0,2.0,1.0,2.0,2.0,2.0,2.5,2.0,1.0,2.5,2.0,2.0,2.0,2.5,1.0,3.0,3.0,2.0,2.5,2.5,2.0,1.0,2.0,1.0,3.0,2.5,2.5,3.0,2.0,3.0,2.5,2.0,1.5,1.0,1.0,2.0,3.0,1.0,2.0,3.0,5.0,3.5,3.5,3.0,2.0,1.0,3.5,3.5,1.0,2.5,3.0,2.0,5.0,1.5,1.5,1.0,2.5,4.0,2.0,2.0,2.0,2.0,4.5,2.5,2.0,2.0,3.5,2.0,2.0,2.0,2.0,1.5,2.0,1.0,1.0,1.0,1.0,2.5,1.0,3.0,1.5,0.5,2.5,1.0,2.5,2.0,3.5,1.0,1.0,1.5,1.0,2.0,1.0,1.0,1.5,1.0,3.5,3.0,2.5,2.5,1.0,2.0,1.0,2.0,2.5,2.0,1.0,3.5,3.0,2.5,3.0,3.5,2.5,2.5,1.0,1.0,3.0,3.0,2.0,3.5,2.5,2.0,2.0,1.0,2.5,1.0,2.0,1.0,2.0,2.0,1.0,1.5,1.0,4.5,1.5,2.0,1.0,2.0,1.5,3.0,2.0,3.5,1.0,1.0,2.5,2.5,3.0,1.5,4.0,2.5,2.5,2.0,2.0,2.5,1.0,3.0,3.0,1.0,1.0,2.5,3.0,1.0,1.0,2.0,1.0,1.0,1.5,1.5,2.5,3.0,2.5,4.5,2.5,1.0,3.0,3.5,2.0,2.0,2.0,1.5,3.5,2.0,2.5,3.0,1.0,1.5,1.0,2.5,1.0,2.5,2.0,1.0,2.5,2.0,1.0,2.0,1.0,2.0,2.0,2.0,1.0,1.0,1.0,4.0,4.0,3.5,1.0,1.5,2.5,1.0,2.0,3.0,3.5,1.0,1.0,1.0,2.5,3.0,3.0,2.0,3.5,4.5,3.5,2.0,2.5,3.0,2.5,2.0,1.0,2.0,4.0,2.0,3.5,2.0,2.5,2.0,3.0,2.5,1.5,3.0,2.5,1.0,2.0,2.0,2.0,2.0,1.0,2.5,1.5,2.5,1.0,1.5,1.0,3.5,1.0,1.5,1.0,2.0,1.0,2.0,5.5,5.0,3.5,3.5,2.0,2.0,3.5,2.0,1.0,1.0,2.0,3.0,1.0,2.0,2.0,1.0,3.5,1.0,2.5,1.0,3.0,4.0,2.0,2.0,1.0,2.5,2.5,2.0,3.5,1.5,1.0,2.0,3.0,1.0,1.0,3.0,2.0,2.5,2.0,2.0,2.5,2.0,2.0,2.5,1.0,2.0,2.0,1.0,4.0,1.0,2.0,2.0,3.0,5.0,1.5,3.0,3.0,2.5,1.0,1.0,1.0,2.0,1.0,1.0,1.0,3.0,2.0,1.0,2.0,2.5,1.5,1.0,2.0,2.5,3.5,1.0,2.0,2.0,2.5,2.0,1.5,3.0,2.0,3.0,1.0,2.0,3.5,2.5,1.0,1.0,2.5,1.5,2.5,2.0,1.0,1.5,2.0,1.0,1.0,3.0,2.5,1.5,3.5,2.5,2.0,2.0,2.0,2.5,2.0,2.5,4.5,1.0,2.5,2.0,2.5,1.5,2.0,2.0,1.5,3.5,2.0,2.5,1.0,3.0,2.0,1.5,3.5,1.0,1.0,2.0,1.0,4.0,2.0,1.0,2.5,2.0,3.5,3.0,2.0,2.5,2.0,2.0,2.0,1.0,1.0,2.5,1.5,2.0,3.0,3.0,3.0,2.5,1.0,1.5,2.0,1.0,1.5,2.0,2.0,3.0,1.0,2.0,2.0,1.0,1.0,5.5,2.5,2.0,1.0,5.5,2.0,3.5,2.5,2.0,3.5,1.0,1.0,2.5,3.0,2.5,1.0,1.0,3.5,2.0,1.0,3.5,2.0,4.0,1.0,2.5,1.0,3.0,3.5,2.5,2.0,1.0,2.0,2.5,3.5,2.5,1.0,2.5,2.0,2.0,2.0,2.0,3.5,2.0,2.0,2.5,1.0,2.5,1.5,3.5,2.5,1.0,2.0,2.5,2.5,2.0,1.0,2.0,2.0,1.5,2.0,2.5,3.5,1.0,2.0,2.5,3.0,2.0,2.0,7.0,2.0,3.5,4.0,2.0,4.0,2.0,2.0,2.0,2.5,1.0,3.0,3.5,2.0,3.5,1.0,1.5,2.0,2.0,1.0,2.0,2.0,3.0,2.0,2.5,2.0,1.0,2.0,5.0,5.5,1.0,2.5,2.5,1.0,1.0,2.0,2.5,2.5,2.0,2.5,1.0,1.0,3.5,2.0,3.0,2.0,5.5,1.5,1.5,1.5,1.0,2.0,2.5,2.0,3.0,2.0,2.5,2.0,1.0,1.0,6.0,2.0,2.0,1.0,3.5,1.0,3.5,1.0,2.5,1.0,2.0,2.0,2.5,2.0,1.5,3.5,2.5,2.0,4.0,2.0,1.0,3.0,3.5,2.5,2.5,1.0,2.0,1.0,3.5,4.5,2.0,1.0,3.0,1.5,2.0,3.5,1.0,2.0,2.0,1.5,1.0,2.5,1.0,2.0,1.0,2.0,3.5,2.5,1.0,3.5,2.0,2.0,2.5,3.5,1.0,2.0,2.0,2.0,2.0,2.0,1.5,5.0,1.5,2.0,1.0,1.0,2.0,2.0,3.0,2.0,2.0,1.0,2.0,1.0,1.0,2.0,1.5,2.0,1.0,1.0,1.5,1.0,3.5,1.0,1.0,1.5,3.0,4.0,4.0,2.0,3.5,2.5,1.0,2.5,2.5,2.0,2.0,2.5,2.0,1.5,1.5,3.0,2.0,2.5,1.0,1.5,1.0,1.5,1.5,2.0,1.0,1.0,1.0,3.0,2.0,2.0,2.0,3.0,2.0,3.0,2.5,1.0,2.0,7.0,1.5,3.5,2.5,3.5,1.5,3.5,1.0,1.0,3.0,1.0,2.0,1.5,2.5,2.5,3.0,2.5,3.5,3.5,2.5,1.0,2.0,2.5,1.0,2.0,2.0,3.0,2.0,2.5,2.5,1.0,2.0,3.0,3.0,2.0,2.0,2.5,4.0,1.5,2.5,1.5,1.0,1.5,2.0,2.5,1.5,2.5,1.0,2.0,2.5,2.5,2.0,2.5,2.5,1.0,2.0,2.5,2.5,2.0,1.0,2.0,2.0,2.0,1.0,2.5,2.5,2.5,2.0,3.5,2.0,1.0,2.0,2.0,1.5,3.5,2.0,1.0,1.0,2.5,3.5,1.0,2.5,2.0,1.0,1.0,1.0,1.0,2.5,3.5,3.5,3.5,1.5,2.0,3.5,2.5,3.0,2.0,2.0,2.0,1.0,2.0,2.0,2.0,1.0,2.0,2.0,1.0,2.0,2.0,4.5,3.5,1.0,2.0,2.5,3.5,9.0,2.0,3.0,2.0,1.0,1.0,4.5,2.0,1.0,1.0,2.5,4.5,1.0,1.5,2.5,2.0,1.0,2.0,3.5,2.5,2.0,2.0,2.0,3.0,3.5,1.0,3.5,2.5,1.0,7.0,2.5,1.5,3.0,2.5,1.0,2.5,1.0,1.0,2.0,1.0,2.0,2.0,5.0,2.0,2.0,1.0,1.0,2.0,3.0,3.0,1.0,3.0,2.0,2.0,1.0,1.0,3.5,1.0,1.0,1.5,1.0,1.5,1.0,3.5,2.0,2.0,1.0,2.0,1.0,2.0,1.5,2.0,2.0,1.0,2.5,3.0,2.0,2.0,1.5,5.5,1.0,2.0,3.0,1.5,2.0,3.5,1.0,2.5,3.5,1.0,2.0,1.0,2.0,1.0,1.0,3.0,3.5,1.0,2.5,3.5,3.0,3.0,1.0,1.5,1.0,2.0,2.5,3.0,2.5,4.0,2.5,1.0,2.0,2.5,3.0,5.0,2.0,3.0,2.5,2.0,3.5,2.0,2.0,2.0,1.0,3.5,3.0,3.5,2.0,2.5,1.0,2.0,2.0,1.0,1.0,2.0,2.5,3.0,1.0,2.0,2.5,2.0,3.5,2.0,2.0,2.5,4.0,3.0,2.0,3.0,2.0,2.0,2.5,2.0,2.0,2.5,5.0,3.5,2.0,2.0,2.0,1.0,3.0,1.0,3.0,3.0,3.0,2.0,2.5,2.0,5.0,3.5,2.5,2.0,1.0,3.0,1.0,2.0,2.0,3.0,2.5,3.0,3.0,1.0,1.0,2.0,3.0,2.0,2.0,3.0,2.5,1.0,1.0,2.0,3.0,2.0,2.0,3.5,1.5,1.0,1.0,5.0,2.5,1.5,1.0,2.5,2.0,1.0,3.0,1.0,3.5,2.0,2.0,2.0,3.0,2.0,4.5,2.0,1.0,2.0,2.5,2.0,2.0,2.0,2.0,2.5,1.0,2.5,1.0,1.0,2.5,2.0,2.0,3.0,2.0,3.5,2.0,4.0,2.5,2.0,3.0,1.5,1.0,2.0,1.0,1.0,3.5,1.0,3.0,2.0,1.5,1.5,4.5,2.0,2.0,1.0,1.0,2.0,2.0,2.5,2.0,1.5,3.0,3.5,2.0,1.0,2.0,2.0,2.0,2.0,1.0,1.0,2.0,2.0,1.0,2.5,3.5,2.0,2.0,2.5,2.0,3.0,1.5,1.0,3.5,2.0,2.0,2.0,2.5,1.5,1.0,1.0,1.0,1.0,3.5,2.0,2.0,2.5,1.0,2.5,1.0,2.0,2.0,2.0,2.5,1.0,2.5,2.0,3.0,1.0,1.0,1.0,1.0,3.0,2.0,2.0,1.5,2.5,2.5,1.5,1.0,2.0,1.0,1.0,3.5,1.5,2.0,2.0,3.5,2.0,2.5,2.0,2.5,2.0,2.0,4.5,2.0,2.0,2.0,3.5,3.0,1.0,2.0,2.0,2.0,3.0,1.0,3.5,3.0,1.0,1.0,1.0,3.5,3.5,3.5,2.0,3.0,2.0,2.0,2.5,2.0,4.5,1.0,1.0,6.0,2.5,2.5,2.0,2.0,3.5,2.0,3.0,1.0,1.0,1.5,2.0,1.0,2.5,1.0,2.0,1.0,1.0,2.0,3.5,2.0,3.0,2.5,2.0,3.0,1.0,1.0,2.0,2.0,2.0,2.0,1.0,1.0,3.5,1.0,3.0,2.0,2.0,1.0,2.5,2.0,3.5,1.0,2.5,3.5,2.5,1.0,3.0,2.5,3.5,3.5,2.0,1.0,1.0,3.0,3.0,2.0,2.0,3.0,2.5,6.5,1.0,1.0,1.0,2.0,1.0,1.5,3.0,2.0,1.0,2.0,2.0,2.5,2.5,1.0,3.5,2.0,3.0,1.0,2.0,2.0,2.0,2.0,2.0,4.5,1.0,3.0,1.5,1.0,3.0,3.5,3.5,3.5,7.0,3.5,2.0,2.0,1.0,3.0,1.5,2.5,2.0,5.0,2.0,1.0,2.0,2.0,3.5,3.0,2.0,1.0,3.5,1.5,3.0,4.0,4.5,2.0,1.0,1.0,1.0,2.0,2.0,2.5,3.5,1.5,2.0,2.0,3.5,1.5,2.0,3.5,2.0,2.0,1.0,2.0,1.0,2.0,3.5,3.0,4.0,2.0,1.0,2.5,1.0,2.0,2.0,3.5,2.0,1.0,1.0,3.5,3.5,2.0,2.0,1.5,2.0,3.5,1.0,2.0,1.0,1.0,2.0,2.0,1.0,1.0,1.0,2.0,1.0,1.0,1.0,2.5,2.0,3.0,2.0,2.5,3.5,1.0,2.5,1.5,3.0,2.0,2.0,3.5,3.5,3.0,2.0,1.0,1.5,3.0,1.0,2.0,1.0,2.5,1.5,1.0,2.5,1.0,2.5,2.5,2.0,1.0,2.0,2.0,2.0,2.0,1.0,1.0,3.0,2.0,1.5,2.0,2.0,1.0,3.0,2.5,3.5,1.0,2.0,1.0,2.0,3.0,1.0,1.0,3.5,3.0,1.0,2.0,2.5,2.0,2.0,2.0,1.0,1.0,3.0,2.5,2.0,1.0,2.5,2.0,2.0,1.0,2.0,1.0,1.0,1.5,2.0,4.0,2.5,5.0,1.0,5.0,3.0,1.0,2.5,3.5,3.5,2.0,1.0,3.0,2.0,2.0,1.0,2.0,3.0,3.5,2.0,2.0,2.0,2.5,1.5,1.5,2.0,2.0,1.0,4.0,3.0,1.0,1.5,2.0,1.0,1.0,1.0,2.0,2.0,1.0,3.0,1.0,4.0,2.5,1.0,1.0,2.5,3.0,1.0,2.0,1.0,1.0,1.0,1.5,2.0,6.0,5.5,2.0,3.0,2.0,1.0,3.5,2.0,2.0,2.0,1.5,2.0,1.0,2.0,3.5,2.0,4.0,1.0,1.0,2.0,2.5,2.0,3.0,3.5,2.0,2.0,1.5,2.5,3.0,1.5,1.0,2.0,4.5,2.5,2.0,1.0,2.5,2.0,2.0,2.5,1.0,2.5,1.0,1.0,1.0,3.0,2.5,2.0,1.0,5.5,3.0,3.5,2.0,3.5,1.0,1.5,2.0,1.0,1.0,2.5,3.5,1.0,1.5,2.0,1.5,1.0,2.0,3.5,3.5,2.5,2.0,1.0,2.5,1.0,1.0,2.0,1.0,6.0,2.0,3.0,2.0,4.0,2.5,4.5,1.0,3.0,2.0,2.5,1.0,2.0,2.0,3.0,1.0,2.5,2.5,1.0,2.0,2.0,4.5,3.0,3.5,1.0,2.0,2.0,1.0,1.0,2.0,2.0,2.5,2.0,2.5,2.0,2.5,2.0,3.0,3.0,1.0,3.5,1.0,2.0,3.0,3.0,1.5,2.0,3.5,2.0,2.0,2.0,1.5,1.0,2.0,2.5,1.0,2.0,1.0,1.5,3.5,2.0,4.0,2.5,3.0,1.0,2.0,4.0,1.0,2.0,3.5,2.0,2.0,1.0,2.0,2.0,2.0],\"xaxis\":\"x\",\"yaxis\":\"y\",\"type\":\"histogram\"},{\"alignmentgroup\":\"True\",\"hovertemplate\":\"Bathrooms=%{x}\\u003cextra\\u003e\\u003c\\u002fextra\\u003e\",\"legendgroup\":\"\",\"marker\":{\"color\":\"green\"},\"name\":\"\",\"notched\":true,\"offsetgroup\":\"\",\"showlegend\":false,\"x\":[2.5,2.0,3.0,3.0,2.0,2.0,1.0,3.5,2.5,2.0,2.0,2.0,2.5,3.0,1.5,1.5,3.5,1.0,2.5,3.5,2.0,3.0,1.0,1.5,3.5,1.5,1.0,2.0,2.0,1.0,2.5,5.5,3.0,2.0,1.5,1.0,2.0,5.0,1.0,1.0,2.5,4.0,2.0,1.0,2.0,2.0,1.0,2.5,3.5,3.5,3.0,1.0,2.0,2.0,1.0,3.0,3.0,2.0,2.0,2.5,2.5,5.5,3.0,3.0,1.0,1.0,2.0,2.5,2.0,2.0,3.5,2.0,1.5,1.5,3.5,2.5,1.0,1.0,1.0,3.5,1.0,2.5,2.0,4.0,1.0,2.0,3.5,1.5,1.0,2.0,5.5,1.0,2.0,3.0,3.5,1.0,2.5,4.0,2.0,1.0,3.0,1.0,1.0,2.0,2.0,3.5,1.0,4.0,1.0,2.0,3.5,1.5,2.5,4.0,2.0,2.0,1.0,1.0,1.0,3.5,2.0,3.0,1.5,3.5,1.0,3.0,3.5,1.0,8.5,2.0,1.0,2.5,1.0,2.0,2.0,2.0,3.5,3.5,2.0,2.0,1.5,2.5,1.0,2.0,2.0,1.5,1.0,2.0,4.0,2.5,3.5,2.5,2.5,3.0,1.0,1.0,3.0,2.0,1.5,1.0,2.0,1.0,1.0,2.0,2.5,1.0,1.5,2.0,1.5,2.0,2.5,3.5,2.0,2.5,2.5,1.0,1.5,3.0,3.0,3.0,2.0,2.0,1.0,2.0,1.5,1.0,3.5,5.0,1.5,1.0,3.0,1.0,2.0,2.5,3.0,3.0,1.0,2.0,1.5,1.0,4.5,1.0,3.5,1.0,3.5,2.0,2.5,3.5,3.0,1.5,2.0,3.0,1.0,1.0,3.0,2.0,4.0,2.5,4.0,4.0,3.0,1.0,4.5,2.0,3.5,2.0,3.0,2.0,2.0,2.0,2.5,6.0,2.0,2.5,1.0,3.0,2.0,2.5,1.0,2.0,1.0,2.0,1.0,2.5,2.0,5.5,3.0,2.0,2.0,3.0,1.0,2.0,2.5,2.5,3.0,2.0,2.5,1.0,3.0,1.0,2.5,3.5,1.0,1.0,2.5,2.0,2.5,2.5,1.5,3.0,2.5,2.5,2.0,2.0,3.0,1.0,1.5,2.0,3.0,2.0,2.5,2.0,3.0,1.0,2.0,1.0,3.0,2.0,2.0,2.5,1.0,2.0,1.5,3.0,1.5,1.0,1.0,2.5,4.5,1.0,2.0,2.5,1.0,2.0,1.0,2.0,3.0,3.5,3.0,2.0,1.0,1.0,5.5,2.0,1.0,1.5,2.0,2.0,2.5,2.5,3.5,1.0,2.0,2.0,1.0,2.5,2.0,3.5,1.0,4.0,2.5,1.0,2.0,2.0,2.0,3.5,2.0,1.0,3.0,1.0,1.0,2.5,1.5,1.0,2.0,1.0,1.5,2.0,2.0,1.0,2.0,3.5,3.0,2.0,1.0,1.5,3.5,2.0,1.5,3.5,1.0,2.0,2.5,3.5,2.0,3.5,2.0,2.5,1.0,2.0,2.5,1.0,3.0,2.5,1.0,1.0,2.0,2.0,1.0,2.0,2.0,2.0,2.5,2.0,1.0,2.5,2.0,2.0,2.0,2.5,1.0,3.0,3.0,2.0,2.5,2.5,2.0,1.0,2.0,1.0,3.0,2.5,2.5,3.0,2.0,3.0,2.5,2.0,1.5,1.0,1.0,2.0,3.0,1.0,2.0,3.0,5.0,3.5,3.5,3.0,2.0,1.0,3.5,3.5,1.0,2.5,3.0,2.0,5.0,1.5,1.5,1.0,2.5,4.0,2.0,2.0,2.0,2.0,4.5,2.5,2.0,2.0,3.5,2.0,2.0,2.0,2.0,1.5,2.0,1.0,1.0,1.0,1.0,2.5,1.0,3.0,1.5,0.5,2.5,1.0,2.5,2.0,3.5,1.0,1.0,1.5,1.0,2.0,1.0,1.0,1.5,1.0,3.5,3.0,2.5,2.5,1.0,2.0,1.0,2.0,2.5,2.0,1.0,3.5,3.0,2.5,3.0,3.5,2.5,2.5,1.0,1.0,3.0,3.0,2.0,3.5,2.5,2.0,2.0,1.0,2.5,1.0,2.0,1.0,2.0,2.0,1.0,1.5,1.0,4.5,1.5,2.0,1.0,2.0,1.5,3.0,2.0,3.5,1.0,1.0,2.5,2.5,3.0,1.5,4.0,2.5,2.5,2.0,2.0,2.5,1.0,3.0,3.0,1.0,1.0,2.5,3.0,1.0,1.0,2.0,1.0,1.0,1.5,1.5,2.5,3.0,2.5,4.5,2.5,1.0,3.0,3.5,2.0,2.0,2.0,1.5,3.5,2.0,2.5,3.0,1.0,1.5,1.0,2.5,1.0,2.5,2.0,1.0,2.5,2.0,1.0,2.0,1.0,2.0,2.0,2.0,1.0,1.0,1.0,4.0,4.0,3.5,1.0,1.5,2.5,1.0,2.0,3.0,3.5,1.0,1.0,1.0,2.5,3.0,3.0,2.0,3.5,4.5,3.5,2.0,2.5,3.0,2.5,2.0,1.0,2.0,4.0,2.0,3.5,2.0,2.5,2.0,3.0,2.5,1.5,3.0,2.5,1.0,2.0,2.0,2.0,2.0,1.0,2.5,1.5,2.5,1.0,1.5,1.0,3.5,1.0,1.5,1.0,2.0,1.0,2.0,5.5,5.0,3.5,3.5,2.0,2.0,3.5,2.0,1.0,1.0,2.0,3.0,1.0,2.0,2.0,1.0,3.5,1.0,2.5,1.0,3.0,4.0,2.0,2.0,1.0,2.5,2.5,2.0,3.5,1.5,1.0,2.0,3.0,1.0,1.0,3.0,2.0,2.5,2.0,2.0,2.5,2.0,2.0,2.5,1.0,2.0,2.0,1.0,4.0,1.0,2.0,2.0,3.0,5.0,1.5,3.0,3.0,2.5,1.0,1.0,1.0,2.0,1.0,1.0,1.0,3.0,2.0,1.0,2.0,2.5,1.5,1.0,2.0,2.5,3.5,1.0,2.0,2.0,2.5,2.0,1.5,3.0,2.0,3.0,1.0,2.0,3.5,2.5,1.0,1.0,2.5,1.5,2.5,2.0,1.0,1.5,2.0,1.0,1.0,3.0,2.5,1.5,3.5,2.5,2.0,2.0,2.0,2.5,2.0,2.5,4.5,1.0,2.5,2.0,2.5,1.5,2.0,2.0,1.5,3.5,2.0,2.5,1.0,3.0,2.0,1.5,3.5,1.0,1.0,2.0,1.0,4.0,2.0,1.0,2.5,2.0,3.5,3.0,2.0,2.5,2.0,2.0,2.0,1.0,1.0,2.5,1.5,2.0,3.0,3.0,3.0,2.5,1.0,1.5,2.0,1.0,1.5,2.0,2.0,3.0,1.0,2.0,2.0,1.0,1.0,5.5,2.5,2.0,1.0,5.5,2.0,3.5,2.5,2.0,3.5,1.0,1.0,2.5,3.0,2.5,1.0,1.0,3.5,2.0,1.0,3.5,2.0,4.0,1.0,2.5,1.0,3.0,3.5,2.5,2.0,1.0,2.0,2.5,3.5,2.5,1.0,2.5,2.0,2.0,2.0,2.0,3.5,2.0,2.0,2.5,1.0,2.5,1.5,3.5,2.5,1.0,2.0,2.5,2.5,2.0,1.0,2.0,2.0,1.5,2.0,2.5,3.5,1.0,2.0,2.5,3.0,2.0,2.0,7.0,2.0,3.5,4.0,2.0,4.0,2.0,2.0,2.0,2.5,1.0,3.0,3.5,2.0,3.5,1.0,1.5,2.0,2.0,1.0,2.0,2.0,3.0,2.0,2.5,2.0,1.0,2.0,5.0,5.5,1.0,2.5,2.5,1.0,1.0,2.0,2.5,2.5,2.0,2.5,1.0,1.0,3.5,2.0,3.0,2.0,5.5,1.5,1.5,1.5,1.0,2.0,2.5,2.0,3.0,2.0,2.5,2.0,1.0,1.0,6.0,2.0,2.0,1.0,3.5,1.0,3.5,1.0,2.5,1.0,2.0,2.0,2.5,2.0,1.5,3.5,2.5,2.0,4.0,2.0,1.0,3.0,3.5,2.5,2.5,1.0,2.0,1.0,3.5,4.5,2.0,1.0,3.0,1.5,2.0,3.5,1.0,2.0,2.0,1.5,1.0,2.5,1.0,2.0,1.0,2.0,3.5,2.5,1.0,3.5,2.0,2.0,2.5,3.5,1.0,2.0,2.0,2.0,2.0,2.0,1.5,5.0,1.5,2.0,1.0,1.0,2.0,2.0,3.0,2.0,2.0,1.0,2.0,1.0,1.0,2.0,1.5,2.0,1.0,1.0,1.5,1.0,3.5,1.0,1.0,1.5,3.0,4.0,4.0,2.0,3.5,2.5,1.0,2.5,2.5,2.0,2.0,2.5,2.0,1.5,1.5,3.0,2.0,2.5,1.0,1.5,1.0,1.5,1.5,2.0,1.0,1.0,1.0,3.0,2.0,2.0,2.0,3.0,2.0,3.0,2.5,1.0,2.0,7.0,1.5,3.5,2.5,3.5,1.5,3.5,1.0,1.0,3.0,1.0,2.0,1.5,2.5,2.5,3.0,2.5,3.5,3.5,2.5,1.0,2.0,2.5,1.0,2.0,2.0,3.0,2.0,2.5,2.5,1.0,2.0,3.0,3.0,2.0,2.0,2.5,4.0,1.5,2.5,1.5,1.0,1.5,2.0,2.5,1.5,2.5,1.0,2.0,2.5,2.5,2.0,2.5,2.5,1.0,2.0,2.5,2.5,2.0,1.0,2.0,2.0,2.0,1.0,2.5,2.5,2.5,2.0,3.5,2.0,1.0,2.0,2.0,1.5,3.5,2.0,1.0,1.0,2.5,3.5,1.0,2.5,2.0,1.0,1.0,1.0,1.0,2.5,3.5,3.5,3.5,1.5,2.0,3.5,2.5,3.0,2.0,2.0,2.0,1.0,2.0,2.0,2.0,1.0,2.0,2.0,1.0,2.0,2.0,4.5,3.5,1.0,2.0,2.5,3.5,9.0,2.0,3.0,2.0,1.0,1.0,4.5,2.0,1.0,1.0,2.5,4.5,1.0,1.5,2.5,2.0,1.0,2.0,3.5,2.5,2.0,2.0,2.0,3.0,3.5,1.0,3.5,2.5,1.0,7.0,2.5,1.5,3.0,2.5,1.0,2.5,1.0,1.0,2.0,1.0,2.0,2.0,5.0,2.0,2.0,1.0,1.0,2.0,3.0,3.0,1.0,3.0,2.0,2.0,1.0,1.0,3.5,1.0,1.0,1.5,1.0,1.5,1.0,3.5,2.0,2.0,1.0,2.0,1.0,2.0,1.5,2.0,2.0,1.0,2.5,3.0,2.0,2.0,1.5,5.5,1.0,2.0,3.0,1.5,2.0,3.5,1.0,2.5,3.5,1.0,2.0,1.0,2.0,1.0,1.0,3.0,3.5,1.0,2.5,3.5,3.0,3.0,1.0,1.5,1.0,2.0,2.5,3.0,2.5,4.0,2.5,1.0,2.0,2.5,3.0,5.0,2.0,3.0,2.5,2.0,3.5,2.0,2.0,2.0,1.0,3.5,3.0,3.5,2.0,2.5,1.0,2.0,2.0,1.0,1.0,2.0,2.5,3.0,1.0,2.0,2.5,2.0,3.5,2.0,2.0,2.5,4.0,3.0,2.0,3.0,2.0,2.0,2.5,2.0,2.0,2.5,5.0,3.5,2.0,2.0,2.0,1.0,3.0,1.0,3.0,3.0,3.0,2.0,2.5,2.0,5.0,3.5,2.5,2.0,1.0,3.0,1.0,2.0,2.0,3.0,2.5,3.0,3.0,1.0,1.0,2.0,3.0,2.0,2.0,3.0,2.5,1.0,1.0,2.0,3.0,2.0,2.0,3.5,1.5,1.0,1.0,5.0,2.5,1.5,1.0,2.5,2.0,1.0,3.0,1.0,3.5,2.0,2.0,2.0,3.0,2.0,4.5,2.0,1.0,2.0,2.5,2.0,2.0,2.0,2.0,2.5,1.0,2.5,1.0,1.0,2.5,2.0,2.0,3.0,2.0,3.5,2.0,4.0,2.5,2.0,3.0,1.5,1.0,2.0,1.0,1.0,3.5,1.0,3.0,2.0,1.5,1.5,4.5,2.0,2.0,1.0,1.0,2.0,2.0,2.5,2.0,1.5,3.0,3.5,2.0,1.0,2.0,2.0,2.0,2.0,1.0,1.0,2.0,2.0,1.0,2.5,3.5,2.0,2.0,2.5,2.0,3.0,1.5,1.0,3.5,2.0,2.0,2.0,2.5,1.5,1.0,1.0,1.0,1.0,3.5,2.0,2.0,2.5,1.0,2.5,1.0,2.0,2.0,2.0,2.5,1.0,2.5,2.0,3.0,1.0,1.0,1.0,1.0,3.0,2.0,2.0,1.5,2.5,2.5,1.5,1.0,2.0,1.0,1.0,3.5,1.5,2.0,2.0,3.5,2.0,2.5,2.0,2.5,2.0,2.0,4.5,2.0,2.0,2.0,3.5,3.0,1.0,2.0,2.0,2.0,3.0,1.0,3.5,3.0,1.0,1.0,1.0,3.5,3.5,3.5,2.0,3.0,2.0,2.0,2.5,2.0,4.5,1.0,1.0,6.0,2.5,2.5,2.0,2.0,3.5,2.0,3.0,1.0,1.0,1.5,2.0,1.0,2.5,1.0,2.0,1.0,1.0,2.0,3.5,2.0,3.0,2.5,2.0,3.0,1.0,1.0,2.0,2.0,2.0,2.0,1.0,1.0,3.5,1.0,3.0,2.0,2.0,1.0,2.5,2.0,3.5,1.0,2.5,3.5,2.5,1.0,3.0,2.5,3.5,3.5,2.0,1.0,1.0,3.0,3.0,2.0,2.0,3.0,2.5,6.5,1.0,1.0,1.0,2.0,1.0,1.5,3.0,2.0,1.0,2.0,2.0,2.5,2.5,1.0,3.5,2.0,3.0,1.0,2.0,2.0,2.0,2.0,2.0,4.5,1.0,3.0,1.5,1.0,3.0,3.5,3.5,3.5,7.0,3.5,2.0,2.0,1.0,3.0,1.5,2.5,2.0,5.0,2.0,1.0,2.0,2.0,3.5,3.0,2.0,1.0,3.5,1.5,3.0,4.0,4.5,2.0,1.0,1.0,1.0,2.0,2.0,2.5,3.5,1.5,2.0,2.0,3.5,1.5,2.0,3.5,2.0,2.0,1.0,2.0,1.0,2.0,3.5,3.0,4.0,2.0,1.0,2.5,1.0,2.0,2.0,3.5,2.0,1.0,1.0,3.5,3.5,2.0,2.0,1.5,2.0,3.5,1.0,2.0,1.0,1.0,2.0,2.0,1.0,1.0,1.0,2.0,1.0,1.0,1.0,2.5,2.0,3.0,2.0,2.5,3.5,1.0,2.5,1.5,3.0,2.0,2.0,3.5,3.5,3.0,2.0,1.0,1.5,3.0,1.0,2.0,1.0,2.5,1.5,1.0,2.5,1.0,2.5,2.5,2.0,1.0,2.0,2.0,2.0,2.0,1.0,1.0,3.0,2.0,1.5,2.0,2.0,1.0,3.0,2.5,3.5,1.0,2.0,1.0,2.0,3.0,1.0,1.0,3.5,3.0,1.0,2.0,2.5,2.0,2.0,2.0,1.0,1.0,3.0,2.5,2.0,1.0,2.5,2.0,2.0,1.0,2.0,1.0,1.0,1.5,2.0,4.0,2.5,5.0,1.0,5.0,3.0,1.0,2.5,3.5,3.5,2.0,1.0,3.0,2.0,2.0,1.0,2.0,3.0,3.5,2.0,2.0,2.0,2.5,1.5,1.5,2.0,2.0,1.0,4.0,3.0,1.0,1.5,2.0,1.0,1.0,1.0,2.0,2.0,1.0,3.0,1.0,4.0,2.5,1.0,1.0,2.5,3.0,1.0,2.0,1.0,1.0,1.0,1.5,2.0,6.0,5.5,2.0,3.0,2.0,1.0,3.5,2.0,2.0,2.0,1.5,2.0,1.0,2.0,3.5,2.0,4.0,1.0,1.0,2.0,2.5,2.0,3.0,3.5,2.0,2.0,1.5,2.5,3.0,1.5,1.0,2.0,4.5,2.5,2.0,1.0,2.5,2.0,2.0,2.5,1.0,2.5,1.0,1.0,1.0,3.0,2.5,2.0,1.0,5.5,3.0,3.5,2.0,3.5,1.0,1.5,2.0,1.0,1.0,2.5,3.5,1.0,1.5,2.0,1.5,1.0,2.0,3.5,3.5,2.5,2.0,1.0,2.5,1.0,1.0,2.0,1.0,6.0,2.0,3.0,2.0,4.0,2.5,4.5,1.0,3.0,2.0,2.5,1.0,2.0,2.0,3.0,1.0,2.5,2.5,1.0,2.0,2.0,4.5,3.0,3.5,1.0,2.0,2.0,1.0,1.0,2.0,2.0,2.5,2.0,2.5,2.0,2.5,2.0,3.0,3.0,1.0,3.5,1.0,2.0,3.0,3.0,1.5,2.0,3.5,2.0,2.0,2.0,1.5,1.0,2.0,2.5,1.0,2.0,1.0,1.5,3.5,2.0,4.0,2.5,3.0,1.0,2.0,4.0,1.0,2.0,3.5,2.0,2.0,1.0,2.0,2.0,2.0],\"xaxis\":\"x2\",\"yaxis\":\"y2\",\"type\":\"box\"}],                        {\"template\":{\"data\":{\"histogram2dcontour\":[{\"type\":\"histogram2dcontour\",\"colorbar\":{\"outlinewidth\":0,\"ticks\":\"\"},\"colorscale\":[[0.0,\"#0d0887\"],[0.1111111111111111,\"#46039f\"],[0.2222222222222222,\"#7201a8\"],[0.3333333333333333,\"#9c179e\"],[0.4444444444444444,\"#bd3786\"],[0.5555555555555556,\"#d8576b\"],[0.6666666666666666,\"#ed7953\"],[0.7777777777777778,\"#fb9f3a\"],[0.8888888888888888,\"#fdca26\"],[1.0,\"#f0f921\"]]}],\"choropleth\":[{\"type\":\"choropleth\",\"colorbar\":{\"outlinewidth\":0,\"ticks\":\"\"}}],\"histogram2d\":[{\"type\":\"histogram2d\",\"colorbar\":{\"outlinewidth\":0,\"ticks\":\"\"},\"colorscale\":[[0.0,\"#0d0887\"],[0.1111111111111111,\"#46039f\"],[0.2222222222222222,\"#7201a8\"],[0.3333333333333333,\"#9c179e\"],[0.4444444444444444,\"#bd3786\"],[0.5555555555555556,\"#d8576b\"],[0.6666666666666666,\"#ed7953\"],[0.7777777777777778,\"#fb9f3a\"],[0.8888888888888888,\"#fdca26\"],[1.0,\"#f0f921\"]]}],\"heatmap\":[{\"type\":\"heatmap\",\"colorbar\":{\"outlinewidth\":0,\"ticks\":\"\"},\"colorscale\":[[0.0,\"#0d0887\"],[0.1111111111111111,\"#46039f\"],[0.2222222222222222,\"#7201a8\"],[0.3333333333333333,\"#9c179e\"],[0.4444444444444444,\"#bd3786\"],[0.5555555555555556,\"#d8576b\"],[0.6666666666666666,\"#ed7953\"],[0.7777777777777778,\"#fb9f3a\"],[0.8888888888888888,\"#fdca26\"],[1.0,\"#f0f921\"]]}],\"heatmapgl\":[{\"type\":\"heatmapgl\",\"colorbar\":{\"outlinewidth\":0,\"ticks\":\"\"},\"colorscale\":[[0.0,\"#0d0887\"],[0.1111111111111111,\"#46039f\"],[0.2222222222222222,\"#7201a8\"],[0.3333333333333333,\"#9c179e\"],[0.4444444444444444,\"#bd3786\"],[0.5555555555555556,\"#d8576b\"],[0.6666666666666666,\"#ed7953\"],[0.7777777777777778,\"#fb9f3a\"],[0.8888888888888888,\"#fdca26\"],[1.0,\"#f0f921\"]]}],\"contourcarpet\":[{\"type\":\"contourcarpet\",\"colorbar\":{\"outlinewidth\":0,\"ticks\":\"\"}}],\"contour\":[{\"type\":\"contour\",\"colorbar\":{\"outlinewidth\":0,\"ticks\":\"\"},\"colorscale\":[[0.0,\"#0d0887\"],[0.1111111111111111,\"#46039f\"],[0.2222222222222222,\"#7201a8\"],[0.3333333333333333,\"#9c179e\"],[0.4444444444444444,\"#bd3786\"],[0.5555555555555556,\"#d8576b\"],[0.6666666666666666,\"#ed7953\"],[0.7777777777777778,\"#fb9f3a\"],[0.8888888888888888,\"#fdca26\"],[1.0,\"#f0f921\"]]}],\"surface\":[{\"type\":\"surface\",\"colorbar\":{\"outlinewidth\":0,\"ticks\":\"\"},\"colorscale\":[[0.0,\"#0d0887\"],[0.1111111111111111,\"#46039f\"],[0.2222222222222222,\"#7201a8\"],[0.3333333333333333,\"#9c179e\"],[0.4444444444444444,\"#bd3786\"],[0.5555555555555556,\"#d8576b\"],[0.6666666666666666,\"#ed7953\"],[0.7777777777777778,\"#fb9f3a\"],[0.8888888888888888,\"#fdca26\"],[1.0,\"#f0f921\"]]}],\"mesh3d\":[{\"type\":\"mesh3d\",\"colorbar\":{\"outlinewidth\":0,\"ticks\":\"\"}}],\"scatter\":[{\"fillpattern\":{\"fillmode\":\"overlay\",\"size\":10,\"solidity\":0.2},\"type\":\"scatter\"}],\"parcoords\":[{\"type\":\"parcoords\",\"line\":{\"colorbar\":{\"outlinewidth\":0,\"ticks\":\"\"}}}],\"scatterpolargl\":[{\"type\":\"scatterpolargl\",\"marker\":{\"colorbar\":{\"outlinewidth\":0,\"ticks\":\"\"}}}],\"bar\":[{\"error_x\":{\"color\":\"#2a3f5f\"},\"error_y\":{\"color\":\"#2a3f5f\"},\"marker\":{\"line\":{\"color\":\"#E5ECF6\",\"width\":0.5},\"pattern\":{\"fillmode\":\"overlay\",\"size\":10,\"solidity\":0.2}},\"type\":\"bar\"}],\"scattergeo\":[{\"type\":\"scattergeo\",\"marker\":{\"colorbar\":{\"outlinewidth\":0,\"ticks\":\"\"}}}],\"scatterpolar\":[{\"type\":\"scatterpolar\",\"marker\":{\"colorbar\":{\"outlinewidth\":0,\"ticks\":\"\"}}}],\"histogram\":[{\"marker\":{\"pattern\":{\"fillmode\":\"overlay\",\"size\":10,\"solidity\":0.2}},\"type\":\"histogram\"}],\"scattergl\":[{\"type\":\"scattergl\",\"marker\":{\"colorbar\":{\"outlinewidth\":0,\"ticks\":\"\"}}}],\"scatter3d\":[{\"type\":\"scatter3d\",\"line\":{\"colorbar\":{\"outlinewidth\":0,\"ticks\":\"\"}},\"marker\":{\"colorbar\":{\"outlinewidth\":0,\"ticks\":\"\"}}}],\"scattermapbox\":[{\"type\":\"scattermapbox\",\"marker\":{\"colorbar\":{\"outlinewidth\":0,\"ticks\":\"\"}}}],\"scatterternary\":[{\"type\":\"scatterternary\",\"marker\":{\"colorbar\":{\"outlinewidth\":0,\"ticks\":\"\"}}}],\"scattercarpet\":[{\"type\":\"scattercarpet\",\"marker\":{\"colorbar\":{\"outlinewidth\":0,\"ticks\":\"\"}}}],\"carpet\":[{\"aaxis\":{\"endlinecolor\":\"#2a3f5f\",\"gridcolor\":\"white\",\"linecolor\":\"white\",\"minorgridcolor\":\"white\",\"startlinecolor\":\"#2a3f5f\"},\"baxis\":{\"endlinecolor\":\"#2a3f5f\",\"gridcolor\":\"white\",\"linecolor\":\"white\",\"minorgridcolor\":\"white\",\"startlinecolor\":\"#2a3f5f\"},\"type\":\"carpet\"}],\"table\":[{\"cells\":{\"fill\":{\"color\":\"#EBF0F8\"},\"line\":{\"color\":\"white\"}},\"header\":{\"fill\":{\"color\":\"#C8D4E3\"},\"line\":{\"color\":\"white\"}},\"type\":\"table\"}],\"barpolar\":[{\"marker\":{\"line\":{\"color\":\"#E5ECF6\",\"width\":0.5},\"pattern\":{\"fillmode\":\"overlay\",\"size\":10,\"solidity\":0.2}},\"type\":\"barpolar\"}],\"pie\":[{\"automargin\":true,\"type\":\"pie\"}]},\"layout\":{\"autotypenumbers\":\"strict\",\"colorway\":[\"#636efa\",\"#EF553B\",\"#00cc96\",\"#ab63fa\",\"#FFA15A\",\"#19d3f3\",\"#FF6692\",\"#B6E880\",\"#FF97FF\",\"#FECB52\"],\"font\":{\"color\":\"#2a3f5f\"},\"hovermode\":\"closest\",\"hoverlabel\":{\"align\":\"left\"},\"paper_bgcolor\":\"white\",\"plot_bgcolor\":\"#E5ECF6\",\"polar\":{\"bgcolor\":\"#E5ECF6\",\"angularaxis\":{\"gridcolor\":\"white\",\"linecolor\":\"white\",\"ticks\":\"\"},\"radialaxis\":{\"gridcolor\":\"white\",\"linecolor\":\"white\",\"ticks\":\"\"}},\"ternary\":{\"bgcolor\":\"#E5ECF6\",\"aaxis\":{\"gridcolor\":\"white\",\"linecolor\":\"white\",\"ticks\":\"\"},\"baxis\":{\"gridcolor\":\"white\",\"linecolor\":\"white\",\"ticks\":\"\"},\"caxis\":{\"gridcolor\":\"white\",\"linecolor\":\"white\",\"ticks\":\"\"}},\"coloraxis\":{\"colorbar\":{\"outlinewidth\":0,\"ticks\":\"\"}},\"colorscale\":{\"sequential\":[[0.0,\"#0d0887\"],[0.1111111111111111,\"#46039f\"],[0.2222222222222222,\"#7201a8\"],[0.3333333333333333,\"#9c179e\"],[0.4444444444444444,\"#bd3786\"],[0.5555555555555556,\"#d8576b\"],[0.6666666666666666,\"#ed7953\"],[0.7777777777777778,\"#fb9f3a\"],[0.8888888888888888,\"#fdca26\"],[1.0,\"#f0f921\"]],\"sequentialminus\":[[0.0,\"#0d0887\"],[0.1111111111111111,\"#46039f\"],[0.2222222222222222,\"#7201a8\"],[0.3333333333333333,\"#9c179e\"],[0.4444444444444444,\"#bd3786\"],[0.5555555555555556,\"#d8576b\"],[0.6666666666666666,\"#ed7953\"],[0.7777777777777778,\"#fb9f3a\"],[0.8888888888888888,\"#fdca26\"],[1.0,\"#f0f921\"]],\"diverging\":[[0,\"#8e0152\"],[0.1,\"#c51b7d\"],[0.2,\"#de77ae\"],[0.3,\"#f1b6da\"],[0.4,\"#fde0ef\"],[0.5,\"#f7f7f7\"],[0.6,\"#e6f5d0\"],[0.7,\"#b8e186\"],[0.8,\"#7fbc41\"],[0.9,\"#4d9221\"],[1,\"#276419\"]]},\"xaxis\":{\"gridcolor\":\"white\",\"linecolor\":\"white\",\"ticks\":\"\",\"title\":{\"standoff\":15},\"zerolinecolor\":\"white\",\"automargin\":true,\"zerolinewidth\":2},\"yaxis\":{\"gridcolor\":\"white\",\"linecolor\":\"white\",\"ticks\":\"\",\"title\":{\"standoff\":15},\"zerolinecolor\":\"white\",\"automargin\":true,\"zerolinewidth\":2},\"scene\":{\"xaxis\":{\"backgroundcolor\":\"#E5ECF6\",\"gridcolor\":\"white\",\"linecolor\":\"white\",\"showbackground\":true,\"ticks\":\"\",\"zerolinecolor\":\"white\",\"gridwidth\":2},\"yaxis\":{\"backgroundcolor\":\"#E5ECF6\",\"gridcolor\":\"white\",\"linecolor\":\"white\",\"showbackground\":true,\"ticks\":\"\",\"zerolinecolor\":\"white\",\"gridwidth\":2},\"zaxis\":{\"backgroundcolor\":\"#E5ECF6\",\"gridcolor\":\"white\",\"linecolor\":\"white\",\"showbackground\":true,\"ticks\":\"\",\"zerolinecolor\":\"white\",\"gridwidth\":2}},\"shapedefaults\":{\"line\":{\"color\":\"#2a3f5f\"}},\"annotationdefaults\":{\"arrowcolor\":\"#2a3f5f\",\"arrowhead\":0,\"arrowwidth\":1},\"geo\":{\"bgcolor\":\"white\",\"landcolor\":\"#E5ECF6\",\"subunitcolor\":\"white\",\"showland\":true,\"showlakes\":true,\"lakecolor\":\"white\"},\"title\":{\"x\":0.05},\"mapbox\":{\"style\":\"light\"}}},\"xaxis\":{\"anchor\":\"y\",\"domain\":[0.0,1.0],\"title\":{\"text\":\"Bathrooms\"}},\"yaxis\":{\"anchor\":\"x\",\"domain\":[0.0,0.8316],\"title\":{\"text\":\"count\"}},\"xaxis2\":{\"anchor\":\"y2\",\"domain\":[0.0,1.0],\"matches\":\"x\",\"showticklabels\":false,\"showgrid\":true},\"yaxis2\":{\"anchor\":\"x2\",\"domain\":[0.8416,1.0],\"matches\":\"y2\",\"showticklabels\":false,\"showline\":false,\"ticks\":\"\",\"showgrid\":false},\"legend\":{\"tracegroupgap\":0},\"title\":{\"text\":\"Distribution of Bathrooms\"},\"barmode\":\"relative\",\"bargap\":0.1},                        {\"responsive\": true}                    ).then(function(){\n",
              "                            \n",
              "var gd = document.getElementById('2203d40d-3faf-4a03-8d39-a93c24e44dab');\n",
              "var x = new MutationObserver(function (mutations, observer) {{\n",
              "        var display = window.getComputedStyle(gd).display;\n",
              "        if (!display || display === 'none') {{\n",
              "            console.log([gd, 'removed!']);\n",
              "            Plotly.purge(gd);\n",
              "            observer.disconnect();\n",
              "        }}\n",
              "}});\n",
              "\n",
              "// Listen for the removal of the full notebook cells\n",
              "var notebookContainer = gd.closest('#notebook-container');\n",
              "if (notebookContainer) {{\n",
              "    x.observe(notebookContainer, {childList: true});\n",
              "}}\n",
              "\n",
              "// Listen for the clearing of the current output cell\n",
              "var outputEl = gd.closest('.output');\n",
              "if (outputEl) {{\n",
              "    x.observe(outputEl, {childList: true});\n",
              "}}\n",
              "\n",
              "                        })                };                            </script>        </div>\n",
              "</body>\n",
              "</html>"
            ]
          },
          "metadata": {}
        }
      ]
    },
    {
      "cell_type": "code",
      "source": [
        "fig = px.histogram(house,\n",
        "                   x='price',\n",
        "                   marginal='box',\n",
        "                   nbins=47,\n",
        "                   color_discrete_sequence=['black'],\n",
        "                   title='Distribution of Price')\n",
        "fig.update_layout(bargap=0.1)\n",
        "fig.show()"
      ],
      "metadata": {
        "colab": {
          "base_uri": "https://localhost:8080/",
          "height": 542
        },
        "id": "noaKqPftwAzA",
        "outputId": "a9dc5daa-fc56-4577-a1c8-7ecd67ff7c26"
      },
      "execution_count": 18,
      "outputs": [
        {
          "output_type": "display_data",
          "data": {
            "text/html": [
              "<html>\n",
              "<head><meta charset=\"utf-8\" /></head>\n",
              "<body>\n",
              "    <div>            <script src=\"https://cdnjs.cloudflare.com/ajax/libs/mathjax/2.7.5/MathJax.js?config=TeX-AMS-MML_SVG\"></script><script type=\"text/javascript\">if (window.MathJax && window.MathJax.Hub && window.MathJax.Hub.Config) {window.MathJax.Hub.Config({SVG: {font: \"STIX-Web\"}});}</script>                <script type=\"text/javascript\">window.PlotlyConfig = {MathJaxConfig: 'local'};</script>\n",
              "        <script charset=\"utf-8\" src=\"https://cdn.plot.ly/plotly-2.24.1.min.js\"></script>                <div id=\"3d788106-93fd-4a25-9c39-bedb84ea7210\" class=\"plotly-graph-div\" style=\"height:525px; width:100%;\"></div>            <script type=\"text/javascript\">                                    window.PLOTLYENV=window.PLOTLYENV || {};                                    if (document.getElementById(\"3d788106-93fd-4a25-9c39-bedb84ea7210\")) {                    Plotly.newPlot(                        \"3d788106-93fd-4a25-9c39-bedb84ea7210\",                        [{\"alignmentgroup\":\"True\",\"bingroup\":\"x\",\"hovertemplate\":\"price=%{x}\\u003cbr\\u003ecount=%{y}\\u003cextra\\u003e\\u003c\\u002fextra\\u003e\",\"legendgroup\":\"\",\"marker\":{\"color\":\"black\",\"pattern\":{\"shape\":\"\"}},\"name\":\"\",\"nbinsx\":47,\"offsetgroup\":\"\",\"orientation\":\"v\",\"showlegend\":false,\"x\":[795000.0,915000.0,950000.0,1950000.0,950000.0,740000.0,460000.0,3150000.0,565000.0,699000.0,899000.0,1050000.0,935625.0,1511000.0,1330000.0,549755.0,700000.0,330000.0,1750000.0,980000.0,845000.0,1213000.0,530000.0,625000.0,1275000.0,680000.0,325000.0,1219700.0,907200.0,517000.0,760000.0,1484000.0,950000.0,430000.0,520000.0,335000.0,805000.0,1000000.0,375000.0,390000.0,1070000.0,948000.0,912000.0,480000.0,776000.0,1395000.0,750000.0,1065000.0,2350000.0,1580000.0,1775000.0,600000.0,800000.0,1100000.0,750000.0,865000.0,1450000.0,829000.0,575000.0,860000.0,770000.0,5495000.0,560000.0,900000.0,575000.0,595000.0,950000.0,1300000.0,727000.0,1605000.0,1480000.0,888000.0,1850000.0,615000.0,4100000.0,525000.0,509950.0,549000.0,555000.0,660000.0,615000.0,1635000.0,420000.0,1650000.0,427000.0,910000.0,1022700.0,925000.0,360000.0,928000.0,635000.0,490000.0,950000.0,760000.0,985000.0,1250000.0,690000.0,1585000.0,936000.0,450000.0,750000.0,550000.0,354000.0,1385000.0,1865000.0,1800000.0,346600.0,1600000.0,399950.0,855000.0,1095000.0,1125000.0,1560000.0,1343000.0,525000.0,630000.0,360000.0,375000.0,302500.0,1165000.0,346250.0,1150000.0,950000.0,699500.0,335000.0,800000.0,1495000.0,500000.0,1606500.0,749950.0,415000.0,895000.0,720000.0,435000.0,450000.0,555000.0,870000.0,845000.0,1200000.0,925000.0,795000.0,600000.0,459000.0,911000.0,1350000.0,570288.0,529000.0,605000.0,1295000.0,1595000.0,600000.0,1605200.0,865000.0,745000.0,543750.0,1099950.0,905000.0,1200000.0,825000.0,680000.0,720000.0,389200.0,489000.0,575000.0,520000.0,675000.0,580000.0,630000.0,685000.0,799000.0,1450000.0,1350000.0,510000.0,1582800.0,977000.0,710000.0,685000.0,1205000.0,2095000.0,1580000.0,450000.0,985000.0,455000.0,738000.0,650000.0,715000.0,3200000.0,1420000.0,659950.0,325100.0,2458000.0,870000.0,1350000.0,825000.0,775000.0,756500.0,749900.0,675000.0,625000.0,480000.0,2485000.0,723000.0,1575000.0,289900.0,859990.0,685000.0,839950.0,980000.0,1300000.0,670000.0,699950.0,450000.0,354000.0,715000.0,905000.0,719950.0,1440000.0,1100000.0,1000000.0,2625000.0,1350000.0,863000.0,1900000.0,590000.0,1299000.0,1069000.0,2095000.0,665000.0,750000.0,760000.0,590000.0,3700000.0,1025000.0,1725000.0,332000.0,605000.0,980000.0,835000.0,400000.0,800000.0,793000.0,625000.0,515000.0,799000.0,685000.0,1750000.0,956300.0,1067000.0,551000.0,780000.0,445000.0,583000.0,1685000.0,852500.0,940000.0,545000.0,540700.0,345000.0,860000.0,620000.0,800000.0,950000.0,776000.0,325000.0,875000.0,330000.0,750000.0,1025000.0,1695000.0,1399999.0,925000.0,910000.0,734999.0,864950.0,815000.0,700000.0,400000.0,525000.0,1230000.0,2700000.0,1175000.0,1400000.0,675000.0,385000.0,942000.0,601000.0,915000.0,479950.0,1460000.0,780000.0,485000.0,925000.0,700500.0,1090000.0,412000.0,525000.0,325000.0,945000.0,725000.0,386000.0,1450000.0,1295000.0,700000.0,995000.0,345000.0,888000.0,1575000.0,1795000.0,1338600.0,624999.0,260000.0,980000.0,679950.0,893000.0,495000.0,895000.0,1310000.0,689000.0,970000.0,1820000.0,2900000.0,255000.0,615000.0,665000.0,250000.0,1148000.0,990200.0,1800000.0,400000.0,1200000.0,1050000.0,620000.0,799000.0,852000.0,1150000.0,1500000.0,1012000.0,470000.0,1000000.0,365000.0,549950.0,1850000.0,655000.0,635000.0,706474.0,349000.0,700000.0,1400000.0,485000.0,660000.0,705000.0,1299000.0,1360000.0,1441000.0,159488.0,590000.0,3150000.0,630000.0,575000.0,980000.0,340000.0,800000.0,570000.0,2450000.0,1415000.0,2250000.0,917500.0,1148000.0,479000.0,1083000.0,699000.0,710000.0,615000.0,750000.0,530000.0,735000.0,986500.0,820000.0,481000.0,1350000.0,950000.0,824500.0,725000.0,1350000.0,489000.0,1900000.0,599950.0,533500.0,845000.0,850000.0,590000.0,1074900.0,1360000.0,430000.0,765000.0,1009975.0,955000.0,445000.0,725000.0,349000.0,1450000.0,960000.0,1235000.0,1105000.0,1050000.0,795000.0,1275000.0,560000.0,930000.0,240000.0,280000.0,825000.0,750000.0,575000.0,1265000.0,1830000.0,2695000.0,1115000.0,405000.0,1350000.0,1300000.0,708888.0,699950.0,1055000.0,920000.0,1650000.0,1395000.0,1766000.0,1089000.0,839000.0,850000.0,515000.0,895000.0,1050000.0,945000.0,705000.0,727000.0,875000.0,1570000.0,1315000.0,915000.0,1035000.0,2400000.0,325000.0,428000.0,865000.0,730000.0,677500.0,1140000.0,699950.0,429000.0,410000.0,560000.0,700000.0,390000.0,1600000.0,850000.0,892700.0,1439000.0,619000.0,850000.0,938000.0,219700.0,785000.0,363500.0,599000.0,500000.0,625000.0,850000.0,345000.0,500000.0,1125000.0,2300000.0,525000.0,870000.0,2425000.0,1000000.0,680000.0,660000.0,925000.0,1712000.0,880000.0,870260.0,2195000.0,730000.0,1520000.0,769900.0,870000.0,725000.0,922000.0,520000.0,425000.0,775000.0,1670000.0,849000.0,1500000.0,1640000.0,1280000.0,725000.0,870000.0,890000.0,475000.0,880000.0,335000.0,1160000.0,1247500.0,555000.0,700000.0,905000.0,2840000.0,650000.0,649995.0,695000.0,351000.0,656500.0,965000.0,499950.0,3630000.0,409000.0,499800.0,575000.0,999950.0,780000.0,675000.0,800500.0,949000.0,1360000.0,550000.0,750000.0,1000000.0,859000.0,729000.0,1270000.0,300000.0,730000.0,950000.0,1725000.0,750000.0,900000.0,1210000.0,425000.0,452500.0,649950.0,1075000.0,640000.0,795000.0,805000.0,2600000.0,1030000.0,645000.0,649000.0,1325000.0,680000.0,838000.0,785000.0,725000.0,3931000.0,380000.0,599950.0,1108000.0,470000.0,720000.0,324000.0,875000.0,462750.0,649950.0,635000.0,499000.0,1730000.0,795000.0,625000.0,759000.0,450500.0,812500.0,710000.0,680000.0,265000.0,898000.0,515000.0,1150000.0,849000.0,2350000.0,376000.0,700000.0,900000.0,495000.0,950000.0,2330000.0,1080000.0,350000.0,399000.0,360000.0,715000.0,1490000.0,920000.0,449000.0,1299950.0,1115000.0,2000000.0,700000.0,1678000.0,910000.0,660000.0,1150000.0,500000.0,1116000.0,1005000.0,755000.0,1995000.0,490000.0,825000.0,750000.0,1000000.0,885000.0,599000.0,1175000.0,865000.0,685000.0,345000.0,1160000.0,600000.0,1000000.0,580000.0,1850000.0,1500000.0,650000.0,405000.0,885000.0,480000.0,3000000.0,430000.0,766000.0,600000.0,974999.0,327500.0,875000.0,6250000.0,1975000.0,1765000.0,1750000.0,715000.0,385000.0,1495000.0,480000.0,500000.0,750000.0,600000.0,1600000.0,370000.0,2250000.0,613000.0,700000.0,1125000.0,430000.0,1325000.0,535000.0,1225000.0,1250000.0,530000.0,1278500.0,545000.0,1050000.0,650000.0,1650000.0,3400000.0,689000.0,435000.0,468000.0,780000.0,605000.0,205000.0,999950.0,849000.0,745000.0,945000.0,893000.0,899000.0,877500.0,655000.0,690000.0,325000.0,899950.0,1305000.0,519950.0,1460000.0,985000.0,1170000.0,955000.0,890955.0,1300000.0,1125000.0,1025000.0,1325000.0,837000.0,825000.0,800000.0,810000.0,965000.0,1180000.0,425000.0,524950.0,865000.0,500000.0,390800.0,700000.0,717500.0,1099900.0,900000.0,1050000.0,975000.0,740000.0,379000.0,960000.0,1650000.0,890000.0,779000.0,552000.0,1700000.0,850000.0,1119000.0,387000.0,775000.0,1650000.0,1880000.0,950000.0,1023000.0,2320000.0,865000.0,675000.0,1270000.0,315000.0,975000.0,599000.0,396000.0,490000.0,1180000.0,1406000.0,605000.0,1295000.0,730000.0,605000.0,645000.0,1130000.0,1062500.0,855000.0,835000.0,1750000.0,515000.0,1495000.0,675000.0,720000.0,650000.0,826500.0,915000.0,720000.0,1575000.0,725000.0,1051500.0,349000.0,765000.0,700000.0,425000.0,1116000.0,355000.0,489000.0,785000.0,159000.0,1005000.0,730000.0,405000.0,805000.0,700000.0,600000.0,210000.0,1275000.0,699950.0,910000.0,552450.0,675000.0,275000.0,326000.0,1200000.0,745000.0,750000.0,946000.0,1150000.0,1395000.0,760000.0,449000.0,510000.0,838000.0,525000.0,1008000.0,640000.0,789500.0,1270000.0,335000.0,900000.0,1130000.0,500000.0,463900.0,5000000.0,875000.0,700000.0,532500.0,2202718.0,1100000.0,1266000.0,1099950.0,703500.0,2940000.0,875000.0,285000.0,840000.0,600000.0,1350000.0,950000.0,850000.0,1740000.0,720000.0,1075000.0,1250000.0,500000.0,999950.0,440000.0,1025000.0,679950.0,874999.0,3250000.0,1395000.0,750000.0,299900.0,615000.0,1735000.0,799990.0,1023500.0,650000.0,889000.0,320000.0,460000.0,930000.0,948750.0,1130000.0,549250.0,445000.0,629000.0,345000.0,1175000.0,599000.0,840000.0,1140000.0,685000.0,689000.0,613000.0,785000.0,815000.0,399950.0,835000.0,780000.0,835000.0,620000.0,1650000.0,820000.0,439900.0,760000.0,1650000.0,539950.0,985000.0,760000.0,1868000.0,530000.0,886000.0,1349000.0,959822.0,1825000.0,422000.0,825000.0,1130000.0,960000.0,640000.0,1950000.0,700000.0,900000.0,1700000.0,460000.0,699950.0,705000.0,2750000.0,699990.0,475000.0,575000.0,1995000.0,1025000.0,1790000.0,640000.0,350000.0,600000.0,1100400.0,3300000.0,369950.0,750000.0,760000.0,699999.0,595000.0,715000.0,1375000.0,885000.0,685000.0,1095000.0,550000.0,500000.0,2075000.0,1450000.0,675000.0,729000.0,1500000.0,1270000.0,1060000.0,1400000.0,405000.0,665000.0,618000.0,1305000.0,1300000.0,850000.0,1112000.0,871000.0,420000.0,605000.0,1225000.0,781000.0,1195000.0,517500.0,1089000.0,370000.0,2500000.0,525000.0,675000.0,497000.0,1470000.0,519000.0,575000.0,890000.0,779000.0,1394600.0,655000.0,415000.0,956000.0,700000.0,309000.0,890000.0,1263500.0,1135000.0,1350000.0,645000.0,499000.0,385000.0,4325000.0,700000.0,789950.0,540000.0,1035000.0,438000.0,580000.0,1395000.0,520000.0,1525000.0,965000.0,1300000.0,915000.0,1001000.0,650000.0,675000.0,725000.0,1150000.0,1750000.0,875000.0,630000.0,1085000.0,800000.0,1295000.0,612500.0,2325000.0,590000.0,1299000.0,1256000.0,925000.0,849000.0,889900.0,568000.0,900000.0,810000.0,500000.0,528000.0,890000.0,780000.0,430000.0,1650000.0,625000.0,1150000.0,400000.0,1087500.0,679000.0,475000.0,645000.0,749000.0,550000.0,778000.0,375000.0,1250000.0,820000.0,2925000.0,762500.0,475000.0,1000000.0,750000.0,1325000.0,1070000.0,1150000.0,1480000.0,1295000.0,520000.0,855000.0,1475000.0,625000.0,1060000.0,750000.0,740000.0,865000.0,660000.0,3050000.0,644999.0,699900.0,309000.0,762500.0,800000.0,660000.0,715000.0,1125000.0,350000.0,305000.0,275000.0,2100000.0,730000.0,925000.0,639950.0,520000.0,375000.0,980000.0,485000.0,490000.0,899000.0,1950000.0,640000.0,699000.0,855000.0,598800.0,780000.0,2100000.0,652000.0,380000.0,1100000.0,377500.0,579000.0,590000.0,665000.0,1625000.0,783000.0,820000.0,1125000.0,2000000.0,899999.0,845714.0,747250.0,850000.0,560000.0,720000.0,962000.0,1750000.0,715000.0,695000.0,675000.0,942000.0,910000.0,850000.0,2095000.0,1357000.0,850000.0,760000.0,1500000.0,1150000.0,1732000.0,751000.0,589000.0,426000.0,707000.0,875000.0,499999.0,901000.0,647201.0,450000.0,1175000.0,1049950.0,505000.0,525000.0,875000.0,480000.0,759999.0,884950.0,690000.0,1195000.0,435000.0,1325000.0,1175000.0,2000000.0,975000.0,1575000.0,945000.0,668000.0,930000.0,2225000.0,575000.0,720000.0,665000.0,729950.0,958748.0,2895000.0,1500000.0,335000.0,565000.0,807500.0,750000.0,525000.0,899000.0,1275000.0,270000.0,498000.0,399000.0,530000.0,700000.0,1950000.0,1715000.0,619000.0,1400000.0,849950.0,1599500.0,990000.0,1058000.0,634400.0,525000.0,1550000.0,500000.0,725000.0,620000.0,775000.0,1025100.0,835000.0,1500000.0,315000.0,1225000.0,910000.0,2800000.0,1050000.0,850000.0,1350000.0,800000.0,3500000.0,1210000.0,1900000.0,865000.0,475000.0,875000.0,539000.0,1835000.0,738000.0,799000.0,331000.0,870000.0,3320000.0,545000.0,530000.0,799000.0,1200000.0,560000.0,1330000.0,2130000.0,1060000.0,999999.0,795000.0,1127500.0,720000.0,710000.0,432000.0,1200000.0,780000.0,880000.0,2300000.0,816750.0,750000.0,1610000.0,900000.0,1000000.0,1033000.0,690000.0,459000.0,420000.0,312500.0,880000.0,925000.0,1450000.0,590000.0,750000.0,419000.0,602000.0,891000.0,875000.0,1200000.0,480000.0,889000.0,422000.0,1295000.0,223000.0,530000.0,1550000.0,1125000.0,475000.0,1550000.0,645000.0,2200000.0,516000.0,2888000.0,470000.0,950000.0,626000.0,688000.0,399950.0,900000.0,709000.0,1460000.0,999950.0,480000.0,1110000.0,1500000.0,935000.0,770000.0,915000.0,1375000.0,325000.0,920000.0,1150000.0,549000.0,787950.0,670000.0,750000.0,799950.0,1900000.0,275000.0,1165000.0,500000.0,830000.0,469000.0,765000.0,1275000.0,1800000.0,374000.0,2725000.0,2000000.0,1300000.0,1000000.0,575000.0,870000.0,560000.0,900000.0,675000.0,1352000.0,800000.0,1210000.0,699000.0,308000.0,649000.0,555000.0,1050000.0,700000.0,785000.0,729000.0,1340000.0,1100000.0,2010000.0,850000.0,390000.0,470000.0,675000.0,1111111.0,429900.0,1575000.0,1665500.0,577000.0,655500.0,1171600.0,699000.0,722500.0,750000.0,1266000.0,510000.0,1550000.0,600000.0,875000.0,475000.0,795000.0,2250000.0,699950.0,710000.0,1065000.0,1095000.0,1299000.0,2100000.0,1155000.0,525000.0,710000.0,699500.0,720000.0,850000.0,615000.0,835000.0,580000.0,890955.0,1098500.0,929950.0,369950.0,999000.0,445000.0,1410000.0,1095000.0,690000.0,825000.0,1450000.0,1050000.0,965000.0,820000.0,725000.0,850000.0,330000.0,589990.0,25000000.0,947000.0,800000.0,819950.0,2195000.0,812500.0,2250000.0,745000.0,545000.0,390000.0,625000.0,855000.0,1150000.0,1135000.0,760000.0,474000.0,820000.0,599950.0,1010000.0,750000.0,981250.0,1795000.0,495000.0,385000.0,640000.0,1180000.0,899000.0,1106000.0,315000.0,1075000.0,719000.0,813000.0,900000.0,700000.0,1250000.0,650000.0,1185000.0,960000.0,1605000.0,960000.0,1440000.0,910000.0,450000.0,895000.0,2100000.0,830000.0,656500.0,700000.0,2300000.0,1167500.0,450000.0,820000.0,795000.0,998000.0,1040000.0,517500.0,1250000.0,1270000.0,1207000.0,1637500.0,640000.0,2100000.0,1275000.0,799000.0,1200000.0,489000.0,395000.0,590000.0,699000.0,475000.0,1025000.0,315000.0,850000.0,969950.0,759950.0,700000.0,500000.0,877000.0,660000.0,325000.0,760000.0,1100000.0,954500.0,1475000.0,780000.0,765000.0,1130000.0,1865000.0,1000000.0,389000.0,1325000.0,1250000.0,830000.0,1180000.0,648888.0,322000.0,465600.0,975000.0,800000.0,875100.0,868500.0,869000.0,1253000.0,1190000.0,699950.0,520000.0,858000.0,700000.0,820000.0,530000.0,660000.0,690000.0,1445000.0,734950.0,522250.0,625000.0,409050.0,380000.0,3340000.0,735000.0,675000.0,1125000.0,550000.0,990000.0,468000.0,1070000.0,1181500.0,1180000.0,830000.0,312000.0,1750000.0,1290000.0,1025000.0,370000.0,349950.0,650000.0,500000.0,920000.0,650000.0,705000.0,500000.0,765000.0,1025000.0,980000.0,850000.0,874500.0,468000.0,475000.0,975000.0,948800.0,700000.0,972500.0,925000.0,732000.0,1354000.0,160000.0,1050000.0,650000.0,900000.0,2050000.0,705000.0,575000.0,865000.0,2485000.0,670000.0,799950.0,480000.0,1310000.0,900000.0,1385000.0,465000.0,1337000.0,800000.0,770000.0,925000.0,290000.0,915000.0,1240000.0,2975000.0,625000.0,1555000.0,1175000.0,900000.0,1630000.0,640000.0,1975000.0,1000000.0,675000.0,1880000.0,679000.0,1365000.0,639000.0,648800.0,760000.0,1070000.0,1118000.0,665000.0,650000.0,550000.0,1040000.0,305000.0,523750.0,630000.0,700000.0,625000.0,250000.0,950000.0,2080000.0,1800000.0,950000.0,818000.0,769950.0,1850000.0,575000.0,321000.0,740000.0,850000.0,620000.0,950000.0,510000.0,350000.0,690000.0,300000.0,1250000.0,750000.0,750000.0,515000.0,610000.0,769950.0,1657500.0,425000.0,2610000.0,1750000.0,985000.0,550000.0,1981000.0,819999.0,1185000.0,950000.0,1435000.0,360000.0,385000.0,1240000.0,1184000.0,2080000.0,429900.0,895000.0,1600000.0,3122000.0,310000.0,640000.0,590000.0,692950.0,725000.0,850000.0,762000.0,625000.0,360000.0,280000.0,1295000.0,925000.0,670000.0,387000.0,765000.0,875000.0,964000.0,500000.0,718000.0,1000000.0,1485000.0,1160000.0,780000.0,3050000.0,525000.0,1211000.0,535000.0,575000.0,1500000.0,2675000.0,2525000.0,825000.0,1850000.0,1170000.0,770000.0,705000.0,550000.0,845000.0,1250000.0,2100000.0,600000.0,3598950.0,825000.0,488000.0,1550000.0,865000.0,847198.0,1795000.0,800000.0,244950.0,899000.0,975000.0,1850000.0,2050000.0,1049000.0,660000.0,451000.0,479425.0,337000.0,1295000.0,695000.0,1530000.0,1725000.0,650000.0,510000.0,780000.0,1180000.0,739000.0,630000.0,1020000.0,740000.0,670000.0,1250000.0,900000.0,470000.0,1200000.0,1500000.0,740000.0,1500000.0,800000.0,553500.0,1200000.0,25000000.0,527000.0,1625000.0,625000.0,824900.0,435000.0,400000.0,1200000.0,1800000.0,1359000.0,787500.0,850000.0,1425000.0,965000.0,825000.0,1125000.0,620000.0,475000.0,610000.0,685000.0,452100.0,490000.0,480000.0,675500.0,675000.0,385000.0,569000.0,590000.0,918000.0,940000.0,697000.0,1680000.0,1600000.0,490000.0,1075000.0,764000.0,1050000.0,560000.0,709600.0,835000.0,975000.0,1472500.0,600000.0,485000.0,775000.0,1180000.0,731000.0,756110.0,456000.0,1975000.0,819980.0,305000.0,850000.0,1005000.0,905000.0,875000.0,710000.0,373000.0,860000.0,840000.0,1350000.0,1400000.0,905000.0,725000.0,800000.0,542500.0,1025000.0,614500.0,825000.0,435000.0,1100000.0,475000.0,2950000.0,399999.0,880000.0,460000.0,1400000.0,850000.0,335000.0,220000.0,2000000.0,750000.0,400000.0,870000.0,1200000.0,599900.0,1370000.0,670000.0,775000.0,395000.0,1499000.0,1200000.0,645000.0,580000.0,1050000.0,849950.0,933500.0,598000.0,875000.0,560000.0,485000.0,937000.0,1525000.0,900000.0,720000.0,800000.0,640000.0,1500000.0,1399990.0,355000.0,1275000.0,2050000.0,1550000.0,935000.0,485000.0,1220000.0,920000.0,840000.0,652500.0,669000.0,720000.0,796000.0,625000.0,722500.0,689900.0,900000.0,875000.0,1290000.0,930000.0,775000.0,422500.0,1550000.0,1810000.0,565000.0,640000.0,840000.0,790000.0,725000.0,370000.0,2000000.0,1398000.0,390000.0,1650000.0,455000.0,1755000.0,849950.0,345000.0,656500.0,935000.0,625000.0,740000.0,1335000.0,475000.0,677000.0,464000.0,610000.0,740000.0,2225000.0,1550000.0,675000.0,950000.0,515000.0,385000.0,1060000.0,900000.0,395000.0,880000.0,729000.0,1175000.0,500000.0,739000.0,2500000.0,650000.0,1237500.0,580000.0,1050000.0,1099970.0,1030000.0,469000.0,1470000.0,1400000.0,672500.0,649950.0,515000.0,699000.0,1150000.0,750000.0,535000.0,760000.0,1500000.0,770000.0,959630.0,519990.0,705000.0,480000.0,813000.0,1712000.0,222000.0,675000.0,835000.0,300000.0,425000.0,699000.0,515000.0,535000.0,699950.0,850000.0,915000.0,583000.0,1325000.0,689000.0,680000.0,535000.0,916500.0,529000.0,640000.0,890000.0,1000000.0,531000.0,650000.0,650000.0,849950.0,1037300.0,900000.0,2050000.0,2100000.0,924900.0,940000.0,411000.0,3350000.0,512000.0,585000.0,1345000.0,399900.0,733500.0,1350000.0,950000.0,734000.0,670000.0,770000.0,4000000.0,800000.0,770000.0,1425000.0,825000.0,395000.0,725000.0,845000.0,1450000.0,265000.0,970000.0,1675000.0,620000.0,725000.0,1098000.0,2650000.0,755000.0,1700000.0,434000.0,860000.0,566000.0,365000.0,325000.0,1495000.0,915000.0,1725000.0,778000.0,620000.0,749000.0,1199000.0,325000.0,950000.0,974999.0,600000.0,2895000.0,712500.0,1349000.0,1325000.0,899000.0,750000.0,942000.0,740000.0,875000.0,1098000.0,1150000.0,860000.0,400000.0,575000.0,615000.0,926000.0,538800.0,310000.0,734950.0,4815000.0,699950.0,825000.0,1900000.0,925000.0,490000.0,715000.0,1300000.0,708000.0,919000.0,675000.0,699950.0,910000.0,550000.0,1150000.0,590000.0,659000.0],\"xaxis\":\"x\",\"yaxis\":\"y\",\"type\":\"histogram\"},{\"alignmentgroup\":\"True\",\"hovertemplate\":\"price=%{x}\\u003cextra\\u003e\\u003c\\u002fextra\\u003e\",\"legendgroup\":\"\",\"marker\":{\"color\":\"black\"},\"name\":\"\",\"notched\":true,\"offsetgroup\":\"\",\"showlegend\":false,\"x\":[795000.0,915000.0,950000.0,1950000.0,950000.0,740000.0,460000.0,3150000.0,565000.0,699000.0,899000.0,1050000.0,935625.0,1511000.0,1330000.0,549755.0,700000.0,330000.0,1750000.0,980000.0,845000.0,1213000.0,530000.0,625000.0,1275000.0,680000.0,325000.0,1219700.0,907200.0,517000.0,760000.0,1484000.0,950000.0,430000.0,520000.0,335000.0,805000.0,1000000.0,375000.0,390000.0,1070000.0,948000.0,912000.0,480000.0,776000.0,1395000.0,750000.0,1065000.0,2350000.0,1580000.0,1775000.0,600000.0,800000.0,1100000.0,750000.0,865000.0,1450000.0,829000.0,575000.0,860000.0,770000.0,5495000.0,560000.0,900000.0,575000.0,595000.0,950000.0,1300000.0,727000.0,1605000.0,1480000.0,888000.0,1850000.0,615000.0,4100000.0,525000.0,509950.0,549000.0,555000.0,660000.0,615000.0,1635000.0,420000.0,1650000.0,427000.0,910000.0,1022700.0,925000.0,360000.0,928000.0,635000.0,490000.0,950000.0,760000.0,985000.0,1250000.0,690000.0,1585000.0,936000.0,450000.0,750000.0,550000.0,354000.0,1385000.0,1865000.0,1800000.0,346600.0,1600000.0,399950.0,855000.0,1095000.0,1125000.0,1560000.0,1343000.0,525000.0,630000.0,360000.0,375000.0,302500.0,1165000.0,346250.0,1150000.0,950000.0,699500.0,335000.0,800000.0,1495000.0,500000.0,1606500.0,749950.0,415000.0,895000.0,720000.0,435000.0,450000.0,555000.0,870000.0,845000.0,1200000.0,925000.0,795000.0,600000.0,459000.0,911000.0,1350000.0,570288.0,529000.0,605000.0,1295000.0,1595000.0,600000.0,1605200.0,865000.0,745000.0,543750.0,1099950.0,905000.0,1200000.0,825000.0,680000.0,720000.0,389200.0,489000.0,575000.0,520000.0,675000.0,580000.0,630000.0,685000.0,799000.0,1450000.0,1350000.0,510000.0,1582800.0,977000.0,710000.0,685000.0,1205000.0,2095000.0,1580000.0,450000.0,985000.0,455000.0,738000.0,650000.0,715000.0,3200000.0,1420000.0,659950.0,325100.0,2458000.0,870000.0,1350000.0,825000.0,775000.0,756500.0,749900.0,675000.0,625000.0,480000.0,2485000.0,723000.0,1575000.0,289900.0,859990.0,685000.0,839950.0,980000.0,1300000.0,670000.0,699950.0,450000.0,354000.0,715000.0,905000.0,719950.0,1440000.0,1100000.0,1000000.0,2625000.0,1350000.0,863000.0,1900000.0,590000.0,1299000.0,1069000.0,2095000.0,665000.0,750000.0,760000.0,590000.0,3700000.0,1025000.0,1725000.0,332000.0,605000.0,980000.0,835000.0,400000.0,800000.0,793000.0,625000.0,515000.0,799000.0,685000.0,1750000.0,956300.0,1067000.0,551000.0,780000.0,445000.0,583000.0,1685000.0,852500.0,940000.0,545000.0,540700.0,345000.0,860000.0,620000.0,800000.0,950000.0,776000.0,325000.0,875000.0,330000.0,750000.0,1025000.0,1695000.0,1399999.0,925000.0,910000.0,734999.0,864950.0,815000.0,700000.0,400000.0,525000.0,1230000.0,2700000.0,1175000.0,1400000.0,675000.0,385000.0,942000.0,601000.0,915000.0,479950.0,1460000.0,780000.0,485000.0,925000.0,700500.0,1090000.0,412000.0,525000.0,325000.0,945000.0,725000.0,386000.0,1450000.0,1295000.0,700000.0,995000.0,345000.0,888000.0,1575000.0,1795000.0,1338600.0,624999.0,260000.0,980000.0,679950.0,893000.0,495000.0,895000.0,1310000.0,689000.0,970000.0,1820000.0,2900000.0,255000.0,615000.0,665000.0,250000.0,1148000.0,990200.0,1800000.0,400000.0,1200000.0,1050000.0,620000.0,799000.0,852000.0,1150000.0,1500000.0,1012000.0,470000.0,1000000.0,365000.0,549950.0,1850000.0,655000.0,635000.0,706474.0,349000.0,700000.0,1400000.0,485000.0,660000.0,705000.0,1299000.0,1360000.0,1441000.0,159488.0,590000.0,3150000.0,630000.0,575000.0,980000.0,340000.0,800000.0,570000.0,2450000.0,1415000.0,2250000.0,917500.0,1148000.0,479000.0,1083000.0,699000.0,710000.0,615000.0,750000.0,530000.0,735000.0,986500.0,820000.0,481000.0,1350000.0,950000.0,824500.0,725000.0,1350000.0,489000.0,1900000.0,599950.0,533500.0,845000.0,850000.0,590000.0,1074900.0,1360000.0,430000.0,765000.0,1009975.0,955000.0,445000.0,725000.0,349000.0,1450000.0,960000.0,1235000.0,1105000.0,1050000.0,795000.0,1275000.0,560000.0,930000.0,240000.0,280000.0,825000.0,750000.0,575000.0,1265000.0,1830000.0,2695000.0,1115000.0,405000.0,1350000.0,1300000.0,708888.0,699950.0,1055000.0,920000.0,1650000.0,1395000.0,1766000.0,1089000.0,839000.0,850000.0,515000.0,895000.0,1050000.0,945000.0,705000.0,727000.0,875000.0,1570000.0,1315000.0,915000.0,1035000.0,2400000.0,325000.0,428000.0,865000.0,730000.0,677500.0,1140000.0,699950.0,429000.0,410000.0,560000.0,700000.0,390000.0,1600000.0,850000.0,892700.0,1439000.0,619000.0,850000.0,938000.0,219700.0,785000.0,363500.0,599000.0,500000.0,625000.0,850000.0,345000.0,500000.0,1125000.0,2300000.0,525000.0,870000.0,2425000.0,1000000.0,680000.0,660000.0,925000.0,1712000.0,880000.0,870260.0,2195000.0,730000.0,1520000.0,769900.0,870000.0,725000.0,922000.0,520000.0,425000.0,775000.0,1670000.0,849000.0,1500000.0,1640000.0,1280000.0,725000.0,870000.0,890000.0,475000.0,880000.0,335000.0,1160000.0,1247500.0,555000.0,700000.0,905000.0,2840000.0,650000.0,649995.0,695000.0,351000.0,656500.0,965000.0,499950.0,3630000.0,409000.0,499800.0,575000.0,999950.0,780000.0,675000.0,800500.0,949000.0,1360000.0,550000.0,750000.0,1000000.0,859000.0,729000.0,1270000.0,300000.0,730000.0,950000.0,1725000.0,750000.0,900000.0,1210000.0,425000.0,452500.0,649950.0,1075000.0,640000.0,795000.0,805000.0,2600000.0,1030000.0,645000.0,649000.0,1325000.0,680000.0,838000.0,785000.0,725000.0,3931000.0,380000.0,599950.0,1108000.0,470000.0,720000.0,324000.0,875000.0,462750.0,649950.0,635000.0,499000.0,1730000.0,795000.0,625000.0,759000.0,450500.0,812500.0,710000.0,680000.0,265000.0,898000.0,515000.0,1150000.0,849000.0,2350000.0,376000.0,700000.0,900000.0,495000.0,950000.0,2330000.0,1080000.0,350000.0,399000.0,360000.0,715000.0,1490000.0,920000.0,449000.0,1299950.0,1115000.0,2000000.0,700000.0,1678000.0,910000.0,660000.0,1150000.0,500000.0,1116000.0,1005000.0,755000.0,1995000.0,490000.0,825000.0,750000.0,1000000.0,885000.0,599000.0,1175000.0,865000.0,685000.0,345000.0,1160000.0,600000.0,1000000.0,580000.0,1850000.0,1500000.0,650000.0,405000.0,885000.0,480000.0,3000000.0,430000.0,766000.0,600000.0,974999.0,327500.0,875000.0,6250000.0,1975000.0,1765000.0,1750000.0,715000.0,385000.0,1495000.0,480000.0,500000.0,750000.0,600000.0,1600000.0,370000.0,2250000.0,613000.0,700000.0,1125000.0,430000.0,1325000.0,535000.0,1225000.0,1250000.0,530000.0,1278500.0,545000.0,1050000.0,650000.0,1650000.0,3400000.0,689000.0,435000.0,468000.0,780000.0,605000.0,205000.0,999950.0,849000.0,745000.0,945000.0,893000.0,899000.0,877500.0,655000.0,690000.0,325000.0,899950.0,1305000.0,519950.0,1460000.0,985000.0,1170000.0,955000.0,890955.0,1300000.0,1125000.0,1025000.0,1325000.0,837000.0,825000.0,800000.0,810000.0,965000.0,1180000.0,425000.0,524950.0,865000.0,500000.0,390800.0,700000.0,717500.0,1099900.0,900000.0,1050000.0,975000.0,740000.0,379000.0,960000.0,1650000.0,890000.0,779000.0,552000.0,1700000.0,850000.0,1119000.0,387000.0,775000.0,1650000.0,1880000.0,950000.0,1023000.0,2320000.0,865000.0,675000.0,1270000.0,315000.0,975000.0,599000.0,396000.0,490000.0,1180000.0,1406000.0,605000.0,1295000.0,730000.0,605000.0,645000.0,1130000.0,1062500.0,855000.0,835000.0,1750000.0,515000.0,1495000.0,675000.0,720000.0,650000.0,826500.0,915000.0,720000.0,1575000.0,725000.0,1051500.0,349000.0,765000.0,700000.0,425000.0,1116000.0,355000.0,489000.0,785000.0,159000.0,1005000.0,730000.0,405000.0,805000.0,700000.0,600000.0,210000.0,1275000.0,699950.0,910000.0,552450.0,675000.0,275000.0,326000.0,1200000.0,745000.0,750000.0,946000.0,1150000.0,1395000.0,760000.0,449000.0,510000.0,838000.0,525000.0,1008000.0,640000.0,789500.0,1270000.0,335000.0,900000.0,1130000.0,500000.0,463900.0,5000000.0,875000.0,700000.0,532500.0,2202718.0,1100000.0,1266000.0,1099950.0,703500.0,2940000.0,875000.0,285000.0,840000.0,600000.0,1350000.0,950000.0,850000.0,1740000.0,720000.0,1075000.0,1250000.0,500000.0,999950.0,440000.0,1025000.0,679950.0,874999.0,3250000.0,1395000.0,750000.0,299900.0,615000.0,1735000.0,799990.0,1023500.0,650000.0,889000.0,320000.0,460000.0,930000.0,948750.0,1130000.0,549250.0,445000.0,629000.0,345000.0,1175000.0,599000.0,840000.0,1140000.0,685000.0,689000.0,613000.0,785000.0,815000.0,399950.0,835000.0,780000.0,835000.0,620000.0,1650000.0,820000.0,439900.0,760000.0,1650000.0,539950.0,985000.0,760000.0,1868000.0,530000.0,886000.0,1349000.0,959822.0,1825000.0,422000.0,825000.0,1130000.0,960000.0,640000.0,1950000.0,700000.0,900000.0,1700000.0,460000.0,699950.0,705000.0,2750000.0,699990.0,475000.0,575000.0,1995000.0,1025000.0,1790000.0,640000.0,350000.0,600000.0,1100400.0,3300000.0,369950.0,750000.0,760000.0,699999.0,595000.0,715000.0,1375000.0,885000.0,685000.0,1095000.0,550000.0,500000.0,2075000.0,1450000.0,675000.0,729000.0,1500000.0,1270000.0,1060000.0,1400000.0,405000.0,665000.0,618000.0,1305000.0,1300000.0,850000.0,1112000.0,871000.0,420000.0,605000.0,1225000.0,781000.0,1195000.0,517500.0,1089000.0,370000.0,2500000.0,525000.0,675000.0,497000.0,1470000.0,519000.0,575000.0,890000.0,779000.0,1394600.0,655000.0,415000.0,956000.0,700000.0,309000.0,890000.0,1263500.0,1135000.0,1350000.0,645000.0,499000.0,385000.0,4325000.0,700000.0,789950.0,540000.0,1035000.0,438000.0,580000.0,1395000.0,520000.0,1525000.0,965000.0,1300000.0,915000.0,1001000.0,650000.0,675000.0,725000.0,1150000.0,1750000.0,875000.0,630000.0,1085000.0,800000.0,1295000.0,612500.0,2325000.0,590000.0,1299000.0,1256000.0,925000.0,849000.0,889900.0,568000.0,900000.0,810000.0,500000.0,528000.0,890000.0,780000.0,430000.0,1650000.0,625000.0,1150000.0,400000.0,1087500.0,679000.0,475000.0,645000.0,749000.0,550000.0,778000.0,375000.0,1250000.0,820000.0,2925000.0,762500.0,475000.0,1000000.0,750000.0,1325000.0,1070000.0,1150000.0,1480000.0,1295000.0,520000.0,855000.0,1475000.0,625000.0,1060000.0,750000.0,740000.0,865000.0,660000.0,3050000.0,644999.0,699900.0,309000.0,762500.0,800000.0,660000.0,715000.0,1125000.0,350000.0,305000.0,275000.0,2100000.0,730000.0,925000.0,639950.0,520000.0,375000.0,980000.0,485000.0,490000.0,899000.0,1950000.0,640000.0,699000.0,855000.0,598800.0,780000.0,2100000.0,652000.0,380000.0,1100000.0,377500.0,579000.0,590000.0,665000.0,1625000.0,783000.0,820000.0,1125000.0,2000000.0,899999.0,845714.0,747250.0,850000.0,560000.0,720000.0,962000.0,1750000.0,715000.0,695000.0,675000.0,942000.0,910000.0,850000.0,2095000.0,1357000.0,850000.0,760000.0,1500000.0,1150000.0,1732000.0,751000.0,589000.0,426000.0,707000.0,875000.0,499999.0,901000.0,647201.0,450000.0,1175000.0,1049950.0,505000.0,525000.0,875000.0,480000.0,759999.0,884950.0,690000.0,1195000.0,435000.0,1325000.0,1175000.0,2000000.0,975000.0,1575000.0,945000.0,668000.0,930000.0,2225000.0,575000.0,720000.0,665000.0,729950.0,958748.0,2895000.0,1500000.0,335000.0,565000.0,807500.0,750000.0,525000.0,899000.0,1275000.0,270000.0,498000.0,399000.0,530000.0,700000.0,1950000.0,1715000.0,619000.0,1400000.0,849950.0,1599500.0,990000.0,1058000.0,634400.0,525000.0,1550000.0,500000.0,725000.0,620000.0,775000.0,1025100.0,835000.0,1500000.0,315000.0,1225000.0,910000.0,2800000.0,1050000.0,850000.0,1350000.0,800000.0,3500000.0,1210000.0,1900000.0,865000.0,475000.0,875000.0,539000.0,1835000.0,738000.0,799000.0,331000.0,870000.0,3320000.0,545000.0,530000.0,799000.0,1200000.0,560000.0,1330000.0,2130000.0,1060000.0,999999.0,795000.0,1127500.0,720000.0,710000.0,432000.0,1200000.0,780000.0,880000.0,2300000.0,816750.0,750000.0,1610000.0,900000.0,1000000.0,1033000.0,690000.0,459000.0,420000.0,312500.0,880000.0,925000.0,1450000.0,590000.0,750000.0,419000.0,602000.0,891000.0,875000.0,1200000.0,480000.0,889000.0,422000.0,1295000.0,223000.0,530000.0,1550000.0,1125000.0,475000.0,1550000.0,645000.0,2200000.0,516000.0,2888000.0,470000.0,950000.0,626000.0,688000.0,399950.0,900000.0,709000.0,1460000.0,999950.0,480000.0,1110000.0,1500000.0,935000.0,770000.0,915000.0,1375000.0,325000.0,920000.0,1150000.0,549000.0,787950.0,670000.0,750000.0,799950.0,1900000.0,275000.0,1165000.0,500000.0,830000.0,469000.0,765000.0,1275000.0,1800000.0,374000.0,2725000.0,2000000.0,1300000.0,1000000.0,575000.0,870000.0,560000.0,900000.0,675000.0,1352000.0,800000.0,1210000.0,699000.0,308000.0,649000.0,555000.0,1050000.0,700000.0,785000.0,729000.0,1340000.0,1100000.0,2010000.0,850000.0,390000.0,470000.0,675000.0,1111111.0,429900.0,1575000.0,1665500.0,577000.0,655500.0,1171600.0,699000.0,722500.0,750000.0,1266000.0,510000.0,1550000.0,600000.0,875000.0,475000.0,795000.0,2250000.0,699950.0,710000.0,1065000.0,1095000.0,1299000.0,2100000.0,1155000.0,525000.0,710000.0,699500.0,720000.0,850000.0,615000.0,835000.0,580000.0,890955.0,1098500.0,929950.0,369950.0,999000.0,445000.0,1410000.0,1095000.0,690000.0,825000.0,1450000.0,1050000.0,965000.0,820000.0,725000.0,850000.0,330000.0,589990.0,25000000.0,947000.0,800000.0,819950.0,2195000.0,812500.0,2250000.0,745000.0,545000.0,390000.0,625000.0,855000.0,1150000.0,1135000.0,760000.0,474000.0,820000.0,599950.0,1010000.0,750000.0,981250.0,1795000.0,495000.0,385000.0,640000.0,1180000.0,899000.0,1106000.0,315000.0,1075000.0,719000.0,813000.0,900000.0,700000.0,1250000.0,650000.0,1185000.0,960000.0,1605000.0,960000.0,1440000.0,910000.0,450000.0,895000.0,2100000.0,830000.0,656500.0,700000.0,2300000.0,1167500.0,450000.0,820000.0,795000.0,998000.0,1040000.0,517500.0,1250000.0,1270000.0,1207000.0,1637500.0,640000.0,2100000.0,1275000.0,799000.0,1200000.0,489000.0,395000.0,590000.0,699000.0,475000.0,1025000.0,315000.0,850000.0,969950.0,759950.0,700000.0,500000.0,877000.0,660000.0,325000.0,760000.0,1100000.0,954500.0,1475000.0,780000.0,765000.0,1130000.0,1865000.0,1000000.0,389000.0,1325000.0,1250000.0,830000.0,1180000.0,648888.0,322000.0,465600.0,975000.0,800000.0,875100.0,868500.0,869000.0,1253000.0,1190000.0,699950.0,520000.0,858000.0,700000.0,820000.0,530000.0,660000.0,690000.0,1445000.0,734950.0,522250.0,625000.0,409050.0,380000.0,3340000.0,735000.0,675000.0,1125000.0,550000.0,990000.0,468000.0,1070000.0,1181500.0,1180000.0,830000.0,312000.0,1750000.0,1290000.0,1025000.0,370000.0,349950.0,650000.0,500000.0,920000.0,650000.0,705000.0,500000.0,765000.0,1025000.0,980000.0,850000.0,874500.0,468000.0,475000.0,975000.0,948800.0,700000.0,972500.0,925000.0,732000.0,1354000.0,160000.0,1050000.0,650000.0,900000.0,2050000.0,705000.0,575000.0,865000.0,2485000.0,670000.0,799950.0,480000.0,1310000.0,900000.0,1385000.0,465000.0,1337000.0,800000.0,770000.0,925000.0,290000.0,915000.0,1240000.0,2975000.0,625000.0,1555000.0,1175000.0,900000.0,1630000.0,640000.0,1975000.0,1000000.0,675000.0,1880000.0,679000.0,1365000.0,639000.0,648800.0,760000.0,1070000.0,1118000.0,665000.0,650000.0,550000.0,1040000.0,305000.0,523750.0,630000.0,700000.0,625000.0,250000.0,950000.0,2080000.0,1800000.0,950000.0,818000.0,769950.0,1850000.0,575000.0,321000.0,740000.0,850000.0,620000.0,950000.0,510000.0,350000.0,690000.0,300000.0,1250000.0,750000.0,750000.0,515000.0,610000.0,769950.0,1657500.0,425000.0,2610000.0,1750000.0,985000.0,550000.0,1981000.0,819999.0,1185000.0,950000.0,1435000.0,360000.0,385000.0,1240000.0,1184000.0,2080000.0,429900.0,895000.0,1600000.0,3122000.0,310000.0,640000.0,590000.0,692950.0,725000.0,850000.0,762000.0,625000.0,360000.0,280000.0,1295000.0,925000.0,670000.0,387000.0,765000.0,875000.0,964000.0,500000.0,718000.0,1000000.0,1485000.0,1160000.0,780000.0,3050000.0,525000.0,1211000.0,535000.0,575000.0,1500000.0,2675000.0,2525000.0,825000.0,1850000.0,1170000.0,770000.0,705000.0,550000.0,845000.0,1250000.0,2100000.0,600000.0,3598950.0,825000.0,488000.0,1550000.0,865000.0,847198.0,1795000.0,800000.0,244950.0,899000.0,975000.0,1850000.0,2050000.0,1049000.0,660000.0,451000.0,479425.0,337000.0,1295000.0,695000.0,1530000.0,1725000.0,650000.0,510000.0,780000.0,1180000.0,739000.0,630000.0,1020000.0,740000.0,670000.0,1250000.0,900000.0,470000.0,1200000.0,1500000.0,740000.0,1500000.0,800000.0,553500.0,1200000.0,25000000.0,527000.0,1625000.0,625000.0,824900.0,435000.0,400000.0,1200000.0,1800000.0,1359000.0,787500.0,850000.0,1425000.0,965000.0,825000.0,1125000.0,620000.0,475000.0,610000.0,685000.0,452100.0,490000.0,480000.0,675500.0,675000.0,385000.0,569000.0,590000.0,918000.0,940000.0,697000.0,1680000.0,1600000.0,490000.0,1075000.0,764000.0,1050000.0,560000.0,709600.0,835000.0,975000.0,1472500.0,600000.0,485000.0,775000.0,1180000.0,731000.0,756110.0,456000.0,1975000.0,819980.0,305000.0,850000.0,1005000.0,905000.0,875000.0,710000.0,373000.0,860000.0,840000.0,1350000.0,1400000.0,905000.0,725000.0,800000.0,542500.0,1025000.0,614500.0,825000.0,435000.0,1100000.0,475000.0,2950000.0,399999.0,880000.0,460000.0,1400000.0,850000.0,335000.0,220000.0,2000000.0,750000.0,400000.0,870000.0,1200000.0,599900.0,1370000.0,670000.0,775000.0,395000.0,1499000.0,1200000.0,645000.0,580000.0,1050000.0,849950.0,933500.0,598000.0,875000.0,560000.0,485000.0,937000.0,1525000.0,900000.0,720000.0,800000.0,640000.0,1500000.0,1399990.0,355000.0,1275000.0,2050000.0,1550000.0,935000.0,485000.0,1220000.0,920000.0,840000.0,652500.0,669000.0,720000.0,796000.0,625000.0,722500.0,689900.0,900000.0,875000.0,1290000.0,930000.0,775000.0,422500.0,1550000.0,1810000.0,565000.0,640000.0,840000.0,790000.0,725000.0,370000.0,2000000.0,1398000.0,390000.0,1650000.0,455000.0,1755000.0,849950.0,345000.0,656500.0,935000.0,625000.0,740000.0,1335000.0,475000.0,677000.0,464000.0,610000.0,740000.0,2225000.0,1550000.0,675000.0,950000.0,515000.0,385000.0,1060000.0,900000.0,395000.0,880000.0,729000.0,1175000.0,500000.0,739000.0,2500000.0,650000.0,1237500.0,580000.0,1050000.0,1099970.0,1030000.0,469000.0,1470000.0,1400000.0,672500.0,649950.0,515000.0,699000.0,1150000.0,750000.0,535000.0,760000.0,1500000.0,770000.0,959630.0,519990.0,705000.0,480000.0,813000.0,1712000.0,222000.0,675000.0,835000.0,300000.0,425000.0,699000.0,515000.0,535000.0,699950.0,850000.0,915000.0,583000.0,1325000.0,689000.0,680000.0,535000.0,916500.0,529000.0,640000.0,890000.0,1000000.0,531000.0,650000.0,650000.0,849950.0,1037300.0,900000.0,2050000.0,2100000.0,924900.0,940000.0,411000.0,3350000.0,512000.0,585000.0,1345000.0,399900.0,733500.0,1350000.0,950000.0,734000.0,670000.0,770000.0,4000000.0,800000.0,770000.0,1425000.0,825000.0,395000.0,725000.0,845000.0,1450000.0,265000.0,970000.0,1675000.0,620000.0,725000.0,1098000.0,2650000.0,755000.0,1700000.0,434000.0,860000.0,566000.0,365000.0,325000.0,1495000.0,915000.0,1725000.0,778000.0,620000.0,749000.0,1199000.0,325000.0,950000.0,974999.0,600000.0,2895000.0,712500.0,1349000.0,1325000.0,899000.0,750000.0,942000.0,740000.0,875000.0,1098000.0,1150000.0,860000.0,400000.0,575000.0,615000.0,926000.0,538800.0,310000.0,734950.0,4815000.0,699950.0,825000.0,1900000.0,925000.0,490000.0,715000.0,1300000.0,708000.0,919000.0,675000.0,699950.0,910000.0,550000.0,1150000.0,590000.0,659000.0],\"xaxis\":\"x2\",\"yaxis\":\"y2\",\"type\":\"box\"}],                        {\"template\":{\"data\":{\"histogram2dcontour\":[{\"type\":\"histogram2dcontour\",\"colorbar\":{\"outlinewidth\":0,\"ticks\":\"\"},\"colorscale\":[[0.0,\"#0d0887\"],[0.1111111111111111,\"#46039f\"],[0.2222222222222222,\"#7201a8\"],[0.3333333333333333,\"#9c179e\"],[0.4444444444444444,\"#bd3786\"],[0.5555555555555556,\"#d8576b\"],[0.6666666666666666,\"#ed7953\"],[0.7777777777777778,\"#fb9f3a\"],[0.8888888888888888,\"#fdca26\"],[1.0,\"#f0f921\"]]}],\"choropleth\":[{\"type\":\"choropleth\",\"colorbar\":{\"outlinewidth\":0,\"ticks\":\"\"}}],\"histogram2d\":[{\"type\":\"histogram2d\",\"colorbar\":{\"outlinewidth\":0,\"ticks\":\"\"},\"colorscale\":[[0.0,\"#0d0887\"],[0.1111111111111111,\"#46039f\"],[0.2222222222222222,\"#7201a8\"],[0.3333333333333333,\"#9c179e\"],[0.4444444444444444,\"#bd3786\"],[0.5555555555555556,\"#d8576b\"],[0.6666666666666666,\"#ed7953\"],[0.7777777777777778,\"#fb9f3a\"],[0.8888888888888888,\"#fdca26\"],[1.0,\"#f0f921\"]]}],\"heatmap\":[{\"type\":\"heatmap\",\"colorbar\":{\"outlinewidth\":0,\"ticks\":\"\"},\"colorscale\":[[0.0,\"#0d0887\"],[0.1111111111111111,\"#46039f\"],[0.2222222222222222,\"#7201a8\"],[0.3333333333333333,\"#9c179e\"],[0.4444444444444444,\"#bd3786\"],[0.5555555555555556,\"#d8576b\"],[0.6666666666666666,\"#ed7953\"],[0.7777777777777778,\"#fb9f3a\"],[0.8888888888888888,\"#fdca26\"],[1.0,\"#f0f921\"]]}],\"heatmapgl\":[{\"type\":\"heatmapgl\",\"colorbar\":{\"outlinewidth\":0,\"ticks\":\"\"},\"colorscale\":[[0.0,\"#0d0887\"],[0.1111111111111111,\"#46039f\"],[0.2222222222222222,\"#7201a8\"],[0.3333333333333333,\"#9c179e\"],[0.4444444444444444,\"#bd3786\"],[0.5555555555555556,\"#d8576b\"],[0.6666666666666666,\"#ed7953\"],[0.7777777777777778,\"#fb9f3a\"],[0.8888888888888888,\"#fdca26\"],[1.0,\"#f0f921\"]]}],\"contourcarpet\":[{\"type\":\"contourcarpet\",\"colorbar\":{\"outlinewidth\":0,\"ticks\":\"\"}}],\"contour\":[{\"type\":\"contour\",\"colorbar\":{\"outlinewidth\":0,\"ticks\":\"\"},\"colorscale\":[[0.0,\"#0d0887\"],[0.1111111111111111,\"#46039f\"],[0.2222222222222222,\"#7201a8\"],[0.3333333333333333,\"#9c179e\"],[0.4444444444444444,\"#bd3786\"],[0.5555555555555556,\"#d8576b\"],[0.6666666666666666,\"#ed7953\"],[0.7777777777777778,\"#fb9f3a\"],[0.8888888888888888,\"#fdca26\"],[1.0,\"#f0f921\"]]}],\"surface\":[{\"type\":\"surface\",\"colorbar\":{\"outlinewidth\":0,\"ticks\":\"\"},\"colorscale\":[[0.0,\"#0d0887\"],[0.1111111111111111,\"#46039f\"],[0.2222222222222222,\"#7201a8\"],[0.3333333333333333,\"#9c179e\"],[0.4444444444444444,\"#bd3786\"],[0.5555555555555556,\"#d8576b\"],[0.6666666666666666,\"#ed7953\"],[0.7777777777777778,\"#fb9f3a\"],[0.8888888888888888,\"#fdca26\"],[1.0,\"#f0f921\"]]}],\"mesh3d\":[{\"type\":\"mesh3d\",\"colorbar\":{\"outlinewidth\":0,\"ticks\":\"\"}}],\"scatter\":[{\"fillpattern\":{\"fillmode\":\"overlay\",\"size\":10,\"solidity\":0.2},\"type\":\"scatter\"}],\"parcoords\":[{\"type\":\"parcoords\",\"line\":{\"colorbar\":{\"outlinewidth\":0,\"ticks\":\"\"}}}],\"scatterpolargl\":[{\"type\":\"scatterpolargl\",\"marker\":{\"colorbar\":{\"outlinewidth\":0,\"ticks\":\"\"}}}],\"bar\":[{\"error_x\":{\"color\":\"#2a3f5f\"},\"error_y\":{\"color\":\"#2a3f5f\"},\"marker\":{\"line\":{\"color\":\"#E5ECF6\",\"width\":0.5},\"pattern\":{\"fillmode\":\"overlay\",\"size\":10,\"solidity\":0.2}},\"type\":\"bar\"}],\"scattergeo\":[{\"type\":\"scattergeo\",\"marker\":{\"colorbar\":{\"outlinewidth\":0,\"ticks\":\"\"}}}],\"scatterpolar\":[{\"type\":\"scatterpolar\",\"marker\":{\"colorbar\":{\"outlinewidth\":0,\"ticks\":\"\"}}}],\"histogram\":[{\"marker\":{\"pattern\":{\"fillmode\":\"overlay\",\"size\":10,\"solidity\":0.2}},\"type\":\"histogram\"}],\"scattergl\":[{\"type\":\"scattergl\",\"marker\":{\"colorbar\":{\"outlinewidth\":0,\"ticks\":\"\"}}}],\"scatter3d\":[{\"type\":\"scatter3d\",\"line\":{\"colorbar\":{\"outlinewidth\":0,\"ticks\":\"\"}},\"marker\":{\"colorbar\":{\"outlinewidth\":0,\"ticks\":\"\"}}}],\"scattermapbox\":[{\"type\":\"scattermapbox\",\"marker\":{\"colorbar\":{\"outlinewidth\":0,\"ticks\":\"\"}}}],\"scatterternary\":[{\"type\":\"scatterternary\",\"marker\":{\"colorbar\":{\"outlinewidth\":0,\"ticks\":\"\"}}}],\"scattercarpet\":[{\"type\":\"scattercarpet\",\"marker\":{\"colorbar\":{\"outlinewidth\":0,\"ticks\":\"\"}}}],\"carpet\":[{\"aaxis\":{\"endlinecolor\":\"#2a3f5f\",\"gridcolor\":\"white\",\"linecolor\":\"white\",\"minorgridcolor\":\"white\",\"startlinecolor\":\"#2a3f5f\"},\"baxis\":{\"endlinecolor\":\"#2a3f5f\",\"gridcolor\":\"white\",\"linecolor\":\"white\",\"minorgridcolor\":\"white\",\"startlinecolor\":\"#2a3f5f\"},\"type\":\"carpet\"}],\"table\":[{\"cells\":{\"fill\":{\"color\":\"#EBF0F8\"},\"line\":{\"color\":\"white\"}},\"header\":{\"fill\":{\"color\":\"#C8D4E3\"},\"line\":{\"color\":\"white\"}},\"type\":\"table\"}],\"barpolar\":[{\"marker\":{\"line\":{\"color\":\"#E5ECF6\",\"width\":0.5},\"pattern\":{\"fillmode\":\"overlay\",\"size\":10,\"solidity\":0.2}},\"type\":\"barpolar\"}],\"pie\":[{\"automargin\":true,\"type\":\"pie\"}]},\"layout\":{\"autotypenumbers\":\"strict\",\"colorway\":[\"#636efa\",\"#EF553B\",\"#00cc96\",\"#ab63fa\",\"#FFA15A\",\"#19d3f3\",\"#FF6692\",\"#B6E880\",\"#FF97FF\",\"#FECB52\"],\"font\":{\"color\":\"#2a3f5f\"},\"hovermode\":\"closest\",\"hoverlabel\":{\"align\":\"left\"},\"paper_bgcolor\":\"white\",\"plot_bgcolor\":\"#E5ECF6\",\"polar\":{\"bgcolor\":\"#E5ECF6\",\"angularaxis\":{\"gridcolor\":\"white\",\"linecolor\":\"white\",\"ticks\":\"\"},\"radialaxis\":{\"gridcolor\":\"white\",\"linecolor\":\"white\",\"ticks\":\"\"}},\"ternary\":{\"bgcolor\":\"#E5ECF6\",\"aaxis\":{\"gridcolor\":\"white\",\"linecolor\":\"white\",\"ticks\":\"\"},\"baxis\":{\"gridcolor\":\"white\",\"linecolor\":\"white\",\"ticks\":\"\"},\"caxis\":{\"gridcolor\":\"white\",\"linecolor\":\"white\",\"ticks\":\"\"}},\"coloraxis\":{\"colorbar\":{\"outlinewidth\":0,\"ticks\":\"\"}},\"colorscale\":{\"sequential\":[[0.0,\"#0d0887\"],[0.1111111111111111,\"#46039f\"],[0.2222222222222222,\"#7201a8\"],[0.3333333333333333,\"#9c179e\"],[0.4444444444444444,\"#bd3786\"],[0.5555555555555556,\"#d8576b\"],[0.6666666666666666,\"#ed7953\"],[0.7777777777777778,\"#fb9f3a\"],[0.8888888888888888,\"#fdca26\"],[1.0,\"#f0f921\"]],\"sequentialminus\":[[0.0,\"#0d0887\"],[0.1111111111111111,\"#46039f\"],[0.2222222222222222,\"#7201a8\"],[0.3333333333333333,\"#9c179e\"],[0.4444444444444444,\"#bd3786\"],[0.5555555555555556,\"#d8576b\"],[0.6666666666666666,\"#ed7953\"],[0.7777777777777778,\"#fb9f3a\"],[0.8888888888888888,\"#fdca26\"],[1.0,\"#f0f921\"]],\"diverging\":[[0,\"#8e0152\"],[0.1,\"#c51b7d\"],[0.2,\"#de77ae\"],[0.3,\"#f1b6da\"],[0.4,\"#fde0ef\"],[0.5,\"#f7f7f7\"],[0.6,\"#e6f5d0\"],[0.7,\"#b8e186\"],[0.8,\"#7fbc41\"],[0.9,\"#4d9221\"],[1,\"#276419\"]]},\"xaxis\":{\"gridcolor\":\"white\",\"linecolor\":\"white\",\"ticks\":\"\",\"title\":{\"standoff\":15},\"zerolinecolor\":\"white\",\"automargin\":true,\"zerolinewidth\":2},\"yaxis\":{\"gridcolor\":\"white\",\"linecolor\":\"white\",\"ticks\":\"\",\"title\":{\"standoff\":15},\"zerolinecolor\":\"white\",\"automargin\":true,\"zerolinewidth\":2},\"scene\":{\"xaxis\":{\"backgroundcolor\":\"#E5ECF6\",\"gridcolor\":\"white\",\"linecolor\":\"white\",\"showbackground\":true,\"ticks\":\"\",\"zerolinecolor\":\"white\",\"gridwidth\":2},\"yaxis\":{\"backgroundcolor\":\"#E5ECF6\",\"gridcolor\":\"white\",\"linecolor\":\"white\",\"showbackground\":true,\"ticks\":\"\",\"zerolinecolor\":\"white\",\"gridwidth\":2},\"zaxis\":{\"backgroundcolor\":\"#E5ECF6\",\"gridcolor\":\"white\",\"linecolor\":\"white\",\"showbackground\":true,\"ticks\":\"\",\"zerolinecolor\":\"white\",\"gridwidth\":2}},\"shapedefaults\":{\"line\":{\"color\":\"#2a3f5f\"}},\"annotationdefaults\":{\"arrowcolor\":\"#2a3f5f\",\"arrowhead\":0,\"arrowwidth\":1},\"geo\":{\"bgcolor\":\"white\",\"landcolor\":\"#E5ECF6\",\"subunitcolor\":\"white\",\"showland\":true,\"showlakes\":true,\"lakecolor\":\"white\"},\"title\":{\"x\":0.05},\"mapbox\":{\"style\":\"light\"}}},\"xaxis\":{\"anchor\":\"y\",\"domain\":[0.0,1.0],\"title\":{\"text\":\"price\"}},\"yaxis\":{\"anchor\":\"x\",\"domain\":[0.0,0.8316],\"title\":{\"text\":\"count\"}},\"xaxis2\":{\"anchor\":\"y2\",\"domain\":[0.0,1.0],\"matches\":\"x\",\"showticklabels\":false,\"showgrid\":true},\"yaxis2\":{\"anchor\":\"x2\",\"domain\":[0.8416,1.0],\"matches\":\"y2\",\"showticklabels\":false,\"showline\":false,\"ticks\":\"\",\"showgrid\":false},\"legend\":{\"tracegroupgap\":0},\"title\":{\"text\":\"Distribution of Price\"},\"barmode\":\"relative\",\"bargap\":0.1},                        {\"responsive\": true}                    ).then(function(){\n",
              "                            \n",
              "var gd = document.getElementById('3d788106-93fd-4a25-9c39-bedb84ea7210');\n",
              "var x = new MutationObserver(function (mutations, observer) {{\n",
              "        var display = window.getComputedStyle(gd).display;\n",
              "        if (!display || display === 'none') {{\n",
              "            console.log([gd, 'removed!']);\n",
              "            Plotly.purge(gd);\n",
              "            observer.disconnect();\n",
              "        }}\n",
              "}});\n",
              "\n",
              "// Listen for the removal of the full notebook cells\n",
              "var notebookContainer = gd.closest('#notebook-container');\n",
              "if (notebookContainer) {{\n",
              "    x.observe(notebookContainer, {childList: true});\n",
              "}}\n",
              "\n",
              "// Listen for the clearing of the current output cell\n",
              "var outputEl = gd.closest('.output');\n",
              "if (outputEl) {{\n",
              "    x.observe(outputEl, {childList: true});\n",
              "}}\n",
              "\n",
              "                        })                };                            </script>        </div>\n",
              "</body>\n",
              "</html>"
            ]
          },
          "metadata": {}
        }
      ]
    },
    {
      "cell_type": "code",
      "source": [
        "fig = px.scatter(house,\n",
        "                 x='SquareFootage',\n",
        "                 y='price',\n",
        "                 opacity=0.8,\n",
        "                 title='SquareFootage vs. Price')\n",
        "fig.update_traces(marker_size=5)\n",
        "fig.show()"
      ],
      "metadata": {
        "colab": {
          "base_uri": "https://localhost:8080/",
          "height": 542
        },
        "id": "6mtaKuiuwKmf",
        "outputId": "c68d1937-82e5-4d2a-f244-f31de005e93e"
      },
      "execution_count": 19,
      "outputs": [
        {
          "output_type": "display_data",
          "data": {
            "text/html": [
              "<html>\n",
              "<head><meta charset=\"utf-8\" /></head>\n",
              "<body>\n",
              "    <div>            <script src=\"https://cdnjs.cloudflare.com/ajax/libs/mathjax/2.7.5/MathJax.js?config=TeX-AMS-MML_SVG\"></script><script type=\"text/javascript\">if (window.MathJax && window.MathJax.Hub && window.MathJax.Hub.Config) {window.MathJax.Hub.Config({SVG: {font: \"STIX-Web\"}});}</script>                <script type=\"text/javascript\">window.PlotlyConfig = {MathJaxConfig: 'local'};</script>\n",
              "        <script charset=\"utf-8\" src=\"https://cdn.plot.ly/plotly-2.24.1.min.js\"></script>                <div id=\"cbe4541c-6b85-4ac1-b919-1810b741cdf2\" class=\"plotly-graph-div\" style=\"height:525px; width:100%;\"></div>            <script type=\"text/javascript\">                                    window.PLOTLYENV=window.PLOTLYENV || {};                                    if (document.getElementById(\"cbe4541c-6b85-4ac1-b919-1810b741cdf2\")) {                    Plotly.newPlot(                        \"cbe4541c-6b85-4ac1-b919-1810b741cdf2\",                        [{\"hovertemplate\":\"SquareFootage=%{x}\\u003cbr\\u003eprice=%{y}\\u003cextra\\u003e\\u003c\\u002fextra\\u003e\",\"legendgroup\":\"\",\"marker\":{\"color\":\"#636efa\",\"opacity\":0.8,\"symbol\":\"circle\",\"size\":5},\"mode\":\"markers\",\"name\":\"\",\"showlegend\":false,\"x\":[2590.0,2240.0,2040.0,3800.0,1042.0,1190.0,670.0,4510.0,1520.0,2340.0,1320.0,1800.0,2490.0,2650.0,2560.0,900.0,1360.0,550.0,2974.0,1989.0,1332.0,2668.0,770.0,1280.0,3200.0,889.0,508.0,3140.0,2000.0,792.0,1690.0,3000.0,1550.0,871.0,1940.0,474.0,1770.0,2510.0,750.0,573.0,1500.0,2920.0,2817.0,617.0,1280.0,1523.0,1240.0,2280.0,3590.0,2478.0,2360.0,720.0,2480.0,1550.0,780.0,2820.0,2900.0,1092.0,1731.0,1500.0,1344.0,4040.0,2320.0,2820.0,1070.0,1113.0,2100.0,2620.0,1270.0,2702.0,2031.0,2350.0,2640.0,1340.0,8660.0,1365.0,635.0,1800.0,870.0,1510.0,1120.0,2580.0,875.0,2220.0,607.0,1496.0,2670.0,1810.0,582.0,1006.0,1530.0,820.0,1960.0,2110.0,3010.0,2200.0,1820.0,3040.0,1800.0,800.0,1450.0,756.0,742.0,2400.0,1607.0,3057.0,649.0,3142.0,1050.0,1720.0,2650.0,2680.0,2550.0,3800.0,1320.0,1910.0,773.0,589.0,510.0,2661.0,843.0,2250.0,2080.0,1370.0,699.0,1840.0,3040.0,858.0,3110.0,1147.0,868.0,1538.0,1480.0,932.0,981.0,866.0,2000.0,1470.0,1840.0,2230.0,1290.0,1670.0,630.0,1880.0,1188.0,1300.0,857.0,1071.0,2810.0,2400.0,1670.0,2734.0,1670.0,1530.0,1720.0,1200.0,2030.0,2370.0,1720.0,813.0,1590.0,626.0,840.0,1030.0,2870.0,792.0,994.0,1630.0,1172.0,1806.0,3060.0,3820.0,1328.0,2350.0,2080.0,1000.0,1131.0,2230.0,3130.0,3750.0,1080.0,1720.0,854.0,1286.0,1230.0,1422.0,3956.0,3620.0,1370.0,700.0,1824.0,956.0,2370.0,2200.0,3020.0,3400.0,1660.0,2080.0,917.0,900.0,3960.0,889.0,3310.0,621.0,1467.0,1910.0,1563.0,3340.0,2390.0,1131.0,1201.0,1940.0,519.0,1760.0,1680.0,1192.0,2300.0,2304.0,2650.0,4210.0,2840.0,980.0,2440.0,1140.0,1824.0,1115.0,2478.0,1140.0,1433.0,1520.0,1380.0,11010.0,1750.0,3590.0,646.0,2040.0,1560.0,1088.0,1460.0,1380.0,1000.0,1128.0,776.0,2000.0,2029.0,2867.0,1180.0,1920.0,2220.0,1300.0,596.0,1460.0,2500.0,1540.0,2550.0,1018.0,1520.0,640.0,2190.0,930.0,2900.0,2780.0,2560.0,613.0,1566.0,1245.0,1190.0,2760.0,3260.0,2380.0,1884.0,1712.0,1196.0,1098.0,1250.0,880.0,822.0,1595.0,2380.0,3190.0,1465.0,2910.0,1140.0,500.0,1580.0,683.0,2430.0,1128.0,2360.0,1396.0,615.0,2340.0,2140.0,2980.0,1390.0,720.0,712.0,1850.0,1710.0,970.0,1606.0,1815.0,1120.0,2220.0,570.0,1460.0,3820.0,2480.0,2777.0,1170.0,587.0,1430.0,1320.0,2170.0,635.0,1630.0,1900.0,1760.0,1712.0,3190.0,3590.0,630.0,1150.0,1830.0,760.0,2600.0,2130.0,2899.0,1090.0,3360.0,2240.0,886.0,1560.0,1730.0,1700.0,1909.0,2180.0,681.0,1460.0,704.0,1010.0,1635.0,1022.0,990.0,1164.0,583.0,888.0,2740.0,1670.0,830.0,1200.0,2530.0,2660.0,2820.0,1011.0,1088.0,3785.0,1540.0,1180.0,1968.0,610.0,1346.0,1320.0,3064.0,2980.0,3050.0,2020.0,1926.0,1330.0,2410.0,1580.0,1030.0,1630.0,2370.0,783.0,1310.0,1996.0,1580.0,781.0,1517.0,2360.0,1496.0,1250.0,1810.0,531.0,2380.0,1095.0,1080.0,1146.0,1544.0,707.0,2067.0,2360.0,724.0,1649.0,2180.0,1960.0,727.0,1209.0,650.0,3070.0,2130.0,2220.0,2288.0,1370.0,3120.0,2180.0,1590.0,2220.0,813.0,574.0,2480.0,3320.0,1720.0,2050.0,2370.0,3660.0,1670.0,990.0,3120.0,2260.0,650.0,1540.0,1980.0,2160.0,3080.0,1740.0,1900.0,3940.0,1366.0,1920.0,715.0,1610.0,2960.0,1810.0,1125.0,1893.0,1096.0,3760.0,2720.0,1510.0,1350.0,2980.0,1443.0,1170.0,2260.0,1990.0,1555.0,2350.0,1440.0,627.0,551.0,770.0,1570.0,699.0,2650.0,1070.0,1941.0,2030.0,1620.0,1400.0,2354.0,1155.0,1340.0,903.0,1220.0,1250.0,1040.0,1660.0,744.0,805.0,1060.0,3160.0,1120.0,1881.0,3460.0,376.0,880.0,794.0,1340.0,2560.0,2178.0,1180.0,3220.0,2070.0,2131.0,970.0,2430.0,1395.0,1810.0,904.0,717.0,2170.0,3120.0,1870.0,2285.0,2783.0,2540.0,1734.0,1010.0,1420.0,1410.0,2320.0,553.0,1719.0,2037.0,954.0,1370.0,1480.0,3636.0,1780.0,1094.0,830.0,834.0,1035.0,2790.0,859.0,5690.0,772.0,1430.0,1460.0,1386.0,2310.0,1340.0,1291.0,2320.0,2150.0,1885.0,1425.0,1810.0,1280.0,1480.0,2110.0,1027.0,808.0,1569.0,2247.0,1220.0,1060.0,1920.0,804.0,813.0,1740.0,2230.0,2760.0,1660.0,1360.0,5200.0,1573.0,700.0,1700.0,2560.0,1330.0,2180.0,1350.0,1720.0,3060.0,954.0,1460.0,1540.0,709.0,2560.0,534.0,1440.0,627.0,1324.0,1290.0,748.0,1830.0,1660.0,1964.0,1460.0,683.0,2060.0,1160.0,1540.0,529.0,1860.0,648.0,4490.0,2310.0,3130.0,2110.0,1590.0,1280.0,840.0,2020.0,3610.0,2336.0,1040.0,620.0,728.0,1970.0,2190.0,2120.0,1415.0,1835.0,1670.0,2570.0,2060.0,1740.0,2510.0,1000.0,1516.0,940.0,2440.0,2470.0,1288.0,3240.0,693.0,1550.0,2080.0,1400.0,1159.0,901.0,2900.0,2052.0,773.0,1040.0,2353.0,1212.0,2640.0,1090.0,3960.0,3030.0,3080.0,700.0,1276.0,910.0,4180.0,852.0,2830.0,970.0,1576.0,667.0,1080.0,2659.0,3623.0,2520.0,2720.0,968.0,839.0,2080.0,693.0,1580.0,860.0,1038.0,2860.0,557.0,1644.0,2340.0,2530.0,1820.0,648.0,1448.0,1660.0,2970.0,3030.0,1400.0,2740.0,720.0,1880.0,1681.0,3325.0,4397.0,1540.0,1530.0,1015.0,2340.0,836.0,492.0,1880.0,1570.0,1806.0,1595.0,1526.0,1346.0,1600.0,1170.0,1660.0,707.0,1390.0,2900.0,704.0,2400.0,1120.0,1710.0,1880.0,1454.0,3884.0,2300.0,2520.0,3335.0,2118.0,910.0,2080.0,2520.0,1560.0,1130.0,543.0,620.0,1720.0,1015.0,530.0,1350.0,1510.0,1021.0,1730.0,3120.0,2172.0,1410.0,578.0,1350.0,900.0,1865.0,1174.0,1250.0,3590.0,1548.0,3030.0,622.0,2245.0,2627.0,3680.0,2170.0,1600.0,2803.0,2120.0,1980.0,1370.0,723.0,1300.0,1060.0,531.0,770.0,2470.0,2260.0,1120.0,1936.0,1560.0,1020.0,1100.0,2120.0,1400.0,1429.0,1320.0,4790.0,1070.0,1966.0,1146.0,1047.0,1760.0,1030.0,1514.0,1520.0,3360.0,1910.0,1550.0,641.0,1190.0,2640.0,938.0,2206.0,680.0,749.0,1353.0,250.0,3136.0,1149.0,861.0,2050.0,1106.0,1930.0,3090.0,2437.0,1330.0,1680.0,834.0,1112.0,626.0,1230.0,2840.0,1115.0,2240.0,1687.0,1900.0,1970.0,1512.0,696.0,806.0,1319.0,2300.0,1127.0,2280.0,1120.0,1960.0,627.0,1228.0,1800.0,883.0,1190.0,5770.0,1710.0,968.0,790.0,4510.0,1300.0,2106.0,1573.0,2870.0,4006.0,1060.0,562.0,1610.0,1212.0,2390.0,1080.0,1350.0,2795.0,1369.0,970.0,1820.0,1770.0,3280.0,1260.0,1939.0,610.0,2200.0,3036.0,1861.0,1650.0,722.0,1260.0,2714.0,1471.0,1500.0,1080.0,1544.0,1004.0,1470.0,1680.0,2420.0,2011.0,896.0,1415.0,840.0,434.0,2730.0,1350.0,1740.0,1940.0,1340.0,1110.0,1380.0,1400.0,2110.0,557.0,1830.0,1480.0,1550.0,1670.0,2890.0,1590.0,630.0,1440.0,2529.0,1086.0,1565.0,916.0,2190.0,1400.0,1352.0,2030.0,1455.0,3240.0,924.0,1470.0,1758.0,1830.0,1019.0,2970.0,1500.0,2020.0,2188.0,507.0,1131.0,982.0,1889.0,1440.0,789.0,1131.0,3300.0,2510.0,1580.0,966.0,703.0,1220.0,3590.0,4299.0,900.0,1260.0,1048.0,1470.0,1113.0,1570.0,2740.0,1470.0,1710.0,1580.0,800.0,980.0,3700.0,2352.0,2320.0,1503.0,2410.0,950.0,1640.0,2440.0,594.0,1480.0,1220.0,2740.0,2160.0,1400.0,2650.0,2735.0,750.0,1201.0,3488.0,1742.0,2390.0,4018.0,1530.0,600.0,3340.0,2060.0,1650.0,640.0,1106.0,1200.0,1390.0,1759.0,1690.0,2191.0,1380.0,877.0,2754.0,2770.0,515.0,2560.0,2966.0,1763.0,1550.0,830.0,1019.0,696.0,5090.0,1460.0,1036.0,854.0,1687.0,1430.0,1960.0,2720.0,706.0,2600.0,1900.0,1580.0,1270.0,2320.0,910.0,878.0,1915.0,2462.0,2640.0,1670.0,1090.0,1621.0,2591.0,1400.0,840.0,2910.0,1410.0,1900.0,2760.0,1290.0,1111.0,850.0,900.0,2667.0,1320.0,1370.0,1140.0,1380.0,1422.0,1065.0,2943.0,1250.0,2390.0,569.0,1680.0,683.0,627.0,840.0,1880.0,881.0,850.0,525.0,2170.0,1110.0,3930.0,1047.0,653.0,1710.0,2120.0,2360.0,2250.0,2320.0,3490.0,2500.0,792.0,1490.0,1700.0,1261.0,2440.0,1420.0,1380.0,1920.0,1220.0,4010.0,1170.0,1600.0,760.0,1290.0,980.0,1022.0,1260.0,2660.0,644.0,664.0,468.0,2680.0,1640.0,2000.0,1523.0,2430.0,1199.0,2160.0,1354.0,738.0,1425.0,4570.0,940.0,1710.0,1430.0,1500.0,1376.0,4002.0,1600.0,807.0,2055.0,647.0,940.0,1150.0,1459.0,1910.0,2297.0,2320.0,2387.0,3270.0,1530.0,1150.0,1237.0,1760.0,808.0,2720.0,1345.0,2600.0,2209.0,950.0,1530.0,830.0,1590.0,1524.0,1920.0,2660.0,2284.0,1604.0,2555.0,2460.0,2793.0,1540.0,950.0,1720.0,1470.0,3500.0,984.0,1570.0,700.0,1188.0,2570.0,1631.0,1596.0,820.0,1610.0,812.0,1425.0,1086.0,1043.0,1440.0,590.0,1152.0,2040.0,2092.0,1780.0,3560.0,1475.0,1890.0,2790.0,2600.0,1060.0,2180.0,1761.0,1379.0,2550.0,3815.0,2634.0,540.0,860.0,1690.0,1800.0,807.0,1350.0,2900.0,677.0,703.0,527.0,820.0,1360.0,2600.0,2852.0,1370.0,2000.0,1096.0,3380.0,1616.0,1620.0,970.0,1009.0,2270.0,1200.0,1225.0,1081.0,1380.0,1200.0,1620.0,2950.0,513.0,2100.0,1705.0,3610.0,1800.0,2130.0,1367.0,1730.0,4194.0,3780.0,1778.0,1410.0,1088.0,1340.0,2380.0,2140.0,2080.0,1410.0,571.0,2340.0,5210.0,733.0,1060.0,996.0,1850.0,690.0,2260.0,3190.0,1846.0,1700.0,2240.0,1660.0,1780.0,2270.0,603.0,2024.0,1103.0,1460.0,4260.0,1660.0,1350.0,2949.0,1718.0,1370.0,1822.0,800.0,718.0,909.0,903.0,1297.0,2140.0,2970.0,900.0,2600.0,1180.0,564.0,1700.0,1524.0,1410.0,831.0,3060.0,1213.0,2352.0,534.0,724.0,2304.0,1450.0,980.0,1550.0,704.0,1425.0,794.0,4060.0,979.0,1830.0,1260.0,3210.0,968.0,1049.0,1054.0,1586.0,1760.0,860.0,1560.0,3110.0,1440.0,1500.0,2160.0,3100.0,522.0,1560.0,3400.0,1076.0,1217.0,1450.0,1000.0,1124.0,3070.0,480.0,1860.0,740.0,1440.0,758.0,1340.0,1700.0,2950.0,616.0,4240.0,3495.0,2560.0,2040.0,890.0,1730.0,816.0,2400.0,1270.0,1830.0,2470.0,2300.0,1600.0,510.0,1387.0,2230.0,1872.0,2030.0,1980.0,1180.0,2630.0,2010.0,3487.0,2570.0,1440.0,1131.0,1440.0,2010.0,1073.0,3300.0,3040.0,2500.0,1810.0,1878.0,1411.0,3960.0,1000.0,2300.0,890.0,2820.0,1620.0,1470.0,1088.0,2160.0,3105.0,1200.0,1240.0,1550.0,2300.0,2466.0,1817.0,1500.0,2380.0,1524.0,1370.0,1449.0,1140.0,1010.0,3014.0,1450.0,1248.0,2600.0,1328.0,614.0,2481.0,1420.0,2040.0,1390.0,920.0,1840.0,3020.0,2520.0,2240.0,1644.0,1880.0,995.0,568.0,1226.0,730.0,1500.0,2080.0,1425.0,3840.0,2074.0,3556.0,1100.0,730.0,1170.0,2240.0,1750.0,1695.0,2480.0,1420.0,990.0,1520.0,2100.0,1740.0,1760.0,1021.0,3018.0,1024.0,945.0,2380.0,3810.0,1048.0,1610.0,701.0,2213.0,1071.0,850.0,1280.0,980.0,3840.0,1006.0,1450.0,2140.0,2480.0,2420.0,1760.0,1730.0,636.0,1940.0,3400.0,1360.0,875.0,2230.0,4190.0,2220.0,830.0,2090.0,1210.0,691.0,3105.0,1680.0,2495.0,2450.0,2787.0,3310.0,1699.0,3180.0,3350.0,1365.0,1660.0,1880.0,580.0,1270.0,860.0,580.0,1840.0,615.0,2140.0,1437.0,1390.0,870.0,2840.0,2260.0,886.0,505.0,1048.0,1800.0,1390.0,2600.0,2640.0,1020.0,2630.0,2910.0,1580.0,885.0,2100.0,2010.0,1480.0,1560.0,889.0,664.0,804.0,2080.0,910.0,1620.0,1970.0,1720.0,1545.0,1710.0,1141.0,1276.0,1978.0,1060.0,3220.0,1170.0,1770.0,1420.0,2980.0,1630.0,743.0,680.0,900.0,635.0,3400.0,1300.0,1094.0,1763.0,940.0,1820.0,650.0,1939.0,1780.0,2370.0,1411.0,512.0,2360.0,2630.0,2700.0,605.0,767.0,1015.0,780.0,2050.0,1060.0,950.0,1870.0,1060.0,1860.0,1420.0,1390.0,1096.0,1100.0,1010.0,1730.0,1480.0,1890.0,2500.0,2840.0,1608.0,1701.0,1250.0,1790.0,1670.0,1640.0,3228.0,1720.0,2060.0,1840.0,3180.0,1760.0,1350.0,1403.0,1740.0,1490.0,2380.0,815.0,2900.0,2370.0,2470.0,1740.0,690.0,2610.0,2015.0,3880.0,2280.0,2570.0,2740.0,1469.0,2860.0,1479.0,3370.0,1300.0,780.0,6990.0,867.0,2120.0,1042.0,1163.0,1580.0,1740.0,1810.0,1186.0,1177.0,770.0,1870.0,696.0,1380.0,1650.0,1640.0,970.0,490.0,2180.0,2970.0,2340.0,1420.0,1520.0,1242.0,3410.0,1150.0,691.0,1170.0,1360.0,1200.0,2680.0,670.0,545.0,1240.0,700.0,2940.0,1187.0,1488.0,970.0,1681.0,1144.0,2860.0,773.0,3100.0,2400.0,2920.0,876.0,3450.0,1330.0,2440.0,1580.0,2299.0,594.0,475.0,2360.0,1780.0,2250.0,1073.0,1900.0,3090.0,6240.0,573.0,770.0,820.0,1622.0,1210.0,1240.0,2080.0,875.0,597.0,1370.0,2425.0,1760.0,994.0,515.0,1660.0,1730.0,1790.0,715.0,1470.0,2440.0,2880.0,1678.0,1400.0,5200.0,806.0,2311.0,1060.0,1150.0,2580.0,3240.0,3710.0,1632.0,4641.0,1846.0,1353.0,1240.0,1760.0,1290.0,1285.0,3707.0,1120.0,3300.0,2160.0,1440.0,2567.0,1960.0,1657.0,2610.0,1213.0,777.0,1590.0,1570.0,2440.0,3463.0,1840.0,1554.0,567.0,665.0,950.0,1371.0,2040.0,2780.0,3410.0,2280.0,2100.0,1101.0,1964.0,1030.0,1042.0,1740.0,1302.0,905.0,460.0,1540.0,656.0,2800.0,2480.0,2170.0,2447.0,2164.0,740.0,2080.0,1800.0,1180.0,2020.0,1150.0,1220.0,810.0,696.0,2030.0,3930.0,2920.0,1460.0,2770.0,1523.0,1690.0,1170.0,2370.0,712.0,976.0,1042.0,1040.0,722.0,733.0,970.0,1711.0,860.0,712.0,704.0,1790.0,2140.0,2040.0,1894.0,2750.0,2900.0,670.0,2190.0,1810.0,1440.0,2170.0,993.0,1450.0,2336.0,2320.0,1470.0,672.0,990.0,2110.0,1670.0,2060.0,1920.0,2910.0,912.0,645.0,1160.0,2280.0,1515.0,2600.0,1000.0,672.0,1320.0,2190.0,1517.0,2160.0,2290.0,1920.0,1540.0,983.0,1670.0,880.0,1526.0,569.0,2700.0,2282.0,4530.0,698.0,1590.0,770.0,2840.0,2350.0,630.0,482.0,4350.0,1730.0,761.0,1684.0,2040.0,1057.0,2256.0,1900.0,760.0,780.0,3020.0,2220.0,1530.0,850.0,1860.0,980.0,1470.0,980.0,1003.0,996.0,980.0,2380.0,2470.0,2120.0,840.0,1910.0,1380.0,2390.0,2840.0,875.0,1813.0,2996.0,5020.0,1498.0,711.0,2740.0,1328.0,2020.0,916.0,1546.0,2970.0,1615.0,1170.0,1350.0,1143.0,1220.0,2100.0,3200.0,1137.0,2930.0,808.0,2550.0,2546.0,680.0,1000.0,1676.0,985.0,750.0,843.0,3220.0,2340.0,543.0,4040.0,990.0,2850.0,1620.0,514.0,1240.0,1620.0,1608.0,1530.0,2270.0,908.0,1180.0,672.0,998.0,2220.0,7636.0,3530.0,1620.0,1620.0,1138.0,669.0,2600.0,1960.0,950.0,1410.0,1022.0,2840.0,712.0,1920.0,3880.0,1010.0,3300.0,1070.0,1270.0,1413.0,1820.0,1415.0,2212.0,3290.0,1391.0,1372.0,960.0,1890.0,2230.0,952.0,925.0,1820.0,3600.0,1305.0,1840.0,782.0,1040.0,1050.0,1019.0,3198.0,557.0,950.0,1050.0,533.0,860.0,1890.0,1138.0,1830.0,1980.0,1730.0,2462.0,1300.0,1550.0,1679.0,1220.0,1540.0,1520.0,1320.0,1290.0,1870.0,1762.0,1240.0,1307.0,1167.0,1070.0,1820.0,1790.0,3700.0,3340.0,2250.0,1799.0,584.0,4639.0,1810.0,907.0,2120.0,616.0,1780.0,2630.0,3060.0,2700.0,2030.0,1620.0,5704.0,700.0,1260.0,1770.0,1812.0,648.0,840.0,2100.0,2550.0,774.0,1736.0,2198.0,770.0,1150.0,2330.0,4693.0,1790.0,2960.0,591.0,1391.0,1160.0,720.0,701.0,2570.0,1611.0,2474.0,1300.0,840.0,1100.0,2730.0,1004.0,1650.0,1650.0,1850.0,4050.0,865.0,1252.0,1790.0,2020.0,1280.0,1630.0,1460.0,1210.0,2080.0,3542.0,2200.0,603.0,1456.0,1169.0,1770.0,1641.0,600.0,860.0,4990.0,1749.0,1580.0,2340.0,2440.0,705.0,1227.0,2734.0,1120.0,1482.0,1680.0,1400.0,1370.0,889.0,2140.0,795.0,1710.0],\"xaxis\":\"x\",\"y\":[795000.0,915000.0,950000.0,1950000.0,950000.0,740000.0,460000.0,3150000.0,565000.0,699000.0,899000.0,1050000.0,935625.0,1511000.0,1330000.0,549755.0,700000.0,330000.0,1750000.0,980000.0,845000.0,1213000.0,530000.0,625000.0,1275000.0,680000.0,325000.0,1219700.0,907200.0,517000.0,760000.0,1484000.0,950000.0,430000.0,520000.0,335000.0,805000.0,1000000.0,375000.0,390000.0,1070000.0,948000.0,912000.0,480000.0,776000.0,1395000.0,750000.0,1065000.0,2350000.0,1580000.0,1775000.0,600000.0,800000.0,1100000.0,750000.0,865000.0,1450000.0,829000.0,575000.0,860000.0,770000.0,5495000.0,560000.0,900000.0,575000.0,595000.0,950000.0,1300000.0,727000.0,1605000.0,1480000.0,888000.0,1850000.0,615000.0,4100000.0,525000.0,509950.0,549000.0,555000.0,660000.0,615000.0,1635000.0,420000.0,1650000.0,427000.0,910000.0,1022700.0,925000.0,360000.0,928000.0,635000.0,490000.0,950000.0,760000.0,985000.0,1250000.0,690000.0,1585000.0,936000.0,450000.0,750000.0,550000.0,354000.0,1385000.0,1865000.0,1800000.0,346600.0,1600000.0,399950.0,855000.0,1095000.0,1125000.0,1560000.0,1343000.0,525000.0,630000.0,360000.0,375000.0,302500.0,1165000.0,346250.0,1150000.0,950000.0,699500.0,335000.0,800000.0,1495000.0,500000.0,1606500.0,749950.0,415000.0,895000.0,720000.0,435000.0,450000.0,555000.0,870000.0,845000.0,1200000.0,925000.0,795000.0,600000.0,459000.0,911000.0,1350000.0,570288.0,529000.0,605000.0,1295000.0,1595000.0,600000.0,1605200.0,865000.0,745000.0,543750.0,1099950.0,905000.0,1200000.0,825000.0,680000.0,720000.0,389200.0,489000.0,575000.0,520000.0,675000.0,580000.0,630000.0,685000.0,799000.0,1450000.0,1350000.0,510000.0,1582800.0,977000.0,710000.0,685000.0,1205000.0,2095000.0,1580000.0,450000.0,985000.0,455000.0,738000.0,650000.0,715000.0,3200000.0,1420000.0,659950.0,325100.0,2458000.0,870000.0,1350000.0,825000.0,775000.0,756500.0,749900.0,675000.0,625000.0,480000.0,2485000.0,723000.0,1575000.0,289900.0,859990.0,685000.0,839950.0,980000.0,1300000.0,670000.0,699950.0,450000.0,354000.0,715000.0,905000.0,719950.0,1440000.0,1100000.0,1000000.0,2625000.0,1350000.0,863000.0,1900000.0,590000.0,1299000.0,1069000.0,2095000.0,665000.0,750000.0,760000.0,590000.0,3700000.0,1025000.0,1725000.0,332000.0,605000.0,980000.0,835000.0,400000.0,800000.0,793000.0,625000.0,515000.0,799000.0,685000.0,1750000.0,956300.0,1067000.0,551000.0,780000.0,445000.0,583000.0,1685000.0,852500.0,940000.0,545000.0,540700.0,345000.0,860000.0,620000.0,800000.0,950000.0,776000.0,325000.0,875000.0,330000.0,750000.0,1025000.0,1695000.0,1399999.0,925000.0,910000.0,734999.0,864950.0,815000.0,700000.0,400000.0,525000.0,1230000.0,2700000.0,1175000.0,1400000.0,675000.0,385000.0,942000.0,601000.0,915000.0,479950.0,1460000.0,780000.0,485000.0,925000.0,700500.0,1090000.0,412000.0,525000.0,325000.0,945000.0,725000.0,386000.0,1450000.0,1295000.0,700000.0,995000.0,345000.0,888000.0,1575000.0,1795000.0,1338600.0,624999.0,260000.0,980000.0,679950.0,893000.0,495000.0,895000.0,1310000.0,689000.0,970000.0,1820000.0,2900000.0,255000.0,615000.0,665000.0,250000.0,1148000.0,990200.0,1800000.0,400000.0,1200000.0,1050000.0,620000.0,799000.0,852000.0,1150000.0,1500000.0,1012000.0,470000.0,1000000.0,365000.0,549950.0,1850000.0,655000.0,635000.0,706474.0,349000.0,700000.0,1400000.0,485000.0,660000.0,705000.0,1299000.0,1360000.0,1441000.0,159488.0,590000.0,3150000.0,630000.0,575000.0,980000.0,340000.0,800000.0,570000.0,2450000.0,1415000.0,2250000.0,917500.0,1148000.0,479000.0,1083000.0,699000.0,710000.0,615000.0,750000.0,530000.0,735000.0,986500.0,820000.0,481000.0,1350000.0,950000.0,824500.0,725000.0,1350000.0,489000.0,1900000.0,599950.0,533500.0,845000.0,850000.0,590000.0,1074900.0,1360000.0,430000.0,765000.0,1009975.0,955000.0,445000.0,725000.0,349000.0,1450000.0,960000.0,1235000.0,1105000.0,1050000.0,795000.0,1275000.0,560000.0,930000.0,240000.0,280000.0,825000.0,750000.0,575000.0,1265000.0,1830000.0,2695000.0,1115000.0,405000.0,1350000.0,1300000.0,708888.0,699950.0,1055000.0,920000.0,1650000.0,1395000.0,1766000.0,1089000.0,839000.0,850000.0,515000.0,895000.0,1050000.0,945000.0,705000.0,727000.0,875000.0,1570000.0,1315000.0,915000.0,1035000.0,2400000.0,325000.0,428000.0,865000.0,730000.0,677500.0,1140000.0,699950.0,429000.0,410000.0,560000.0,700000.0,390000.0,1600000.0,850000.0,892700.0,1439000.0,619000.0,850000.0,938000.0,219700.0,785000.0,363500.0,599000.0,500000.0,625000.0,850000.0,345000.0,500000.0,1125000.0,2300000.0,525000.0,870000.0,2425000.0,1000000.0,680000.0,660000.0,925000.0,1712000.0,880000.0,870260.0,2195000.0,730000.0,1520000.0,769900.0,870000.0,725000.0,922000.0,520000.0,425000.0,775000.0,1670000.0,849000.0,1500000.0,1640000.0,1280000.0,725000.0,870000.0,890000.0,475000.0,880000.0,335000.0,1160000.0,1247500.0,555000.0,700000.0,905000.0,2840000.0,650000.0,649995.0,695000.0,351000.0,656500.0,965000.0,499950.0,3630000.0,409000.0,499800.0,575000.0,999950.0,780000.0,675000.0,800500.0,949000.0,1360000.0,550000.0,750000.0,1000000.0,859000.0,729000.0,1270000.0,300000.0,730000.0,950000.0,1725000.0,750000.0,900000.0,1210000.0,425000.0,452500.0,649950.0,1075000.0,640000.0,795000.0,805000.0,2600000.0,1030000.0,645000.0,649000.0,1325000.0,680000.0,838000.0,785000.0,725000.0,3931000.0,380000.0,599950.0,1108000.0,470000.0,720000.0,324000.0,875000.0,462750.0,649950.0,635000.0,499000.0,1730000.0,795000.0,625000.0,759000.0,450500.0,812500.0,710000.0,680000.0,265000.0,898000.0,515000.0,1150000.0,849000.0,2350000.0,376000.0,700000.0,900000.0,495000.0,950000.0,2330000.0,1080000.0,350000.0,399000.0,360000.0,715000.0,1490000.0,920000.0,449000.0,1299950.0,1115000.0,2000000.0,700000.0,1678000.0,910000.0,660000.0,1150000.0,500000.0,1116000.0,1005000.0,755000.0,1995000.0,490000.0,825000.0,750000.0,1000000.0,885000.0,599000.0,1175000.0,865000.0,685000.0,345000.0,1160000.0,600000.0,1000000.0,580000.0,1850000.0,1500000.0,650000.0,405000.0,885000.0,480000.0,3000000.0,430000.0,766000.0,600000.0,974999.0,327500.0,875000.0,6250000.0,1975000.0,1765000.0,1750000.0,715000.0,385000.0,1495000.0,480000.0,500000.0,750000.0,600000.0,1600000.0,370000.0,2250000.0,613000.0,700000.0,1125000.0,430000.0,1325000.0,535000.0,1225000.0,1250000.0,530000.0,1278500.0,545000.0,1050000.0,650000.0,1650000.0,3400000.0,689000.0,435000.0,468000.0,780000.0,605000.0,205000.0,999950.0,849000.0,745000.0,945000.0,893000.0,899000.0,877500.0,655000.0,690000.0,325000.0,899950.0,1305000.0,519950.0,1460000.0,985000.0,1170000.0,955000.0,890955.0,1300000.0,1125000.0,1025000.0,1325000.0,837000.0,825000.0,800000.0,810000.0,965000.0,1180000.0,425000.0,524950.0,865000.0,500000.0,390800.0,700000.0,717500.0,1099900.0,900000.0,1050000.0,975000.0,740000.0,379000.0,960000.0,1650000.0,890000.0,779000.0,552000.0,1700000.0,850000.0,1119000.0,387000.0,775000.0,1650000.0,1880000.0,950000.0,1023000.0,2320000.0,865000.0,675000.0,1270000.0,315000.0,975000.0,599000.0,396000.0,490000.0,1180000.0,1406000.0,605000.0,1295000.0,730000.0,605000.0,645000.0,1130000.0,1062500.0,855000.0,835000.0,1750000.0,515000.0,1495000.0,675000.0,720000.0,650000.0,826500.0,915000.0,720000.0,1575000.0,725000.0,1051500.0,349000.0,765000.0,700000.0,425000.0,1116000.0,355000.0,489000.0,785000.0,159000.0,1005000.0,730000.0,405000.0,805000.0,700000.0,600000.0,210000.0,1275000.0,699950.0,910000.0,552450.0,675000.0,275000.0,326000.0,1200000.0,745000.0,750000.0,946000.0,1150000.0,1395000.0,760000.0,449000.0,510000.0,838000.0,525000.0,1008000.0,640000.0,789500.0,1270000.0,335000.0,900000.0,1130000.0,500000.0,463900.0,5000000.0,875000.0,700000.0,532500.0,2202718.0,1100000.0,1266000.0,1099950.0,703500.0,2940000.0,875000.0,285000.0,840000.0,600000.0,1350000.0,950000.0,850000.0,1740000.0,720000.0,1075000.0,1250000.0,500000.0,999950.0,440000.0,1025000.0,679950.0,874999.0,3250000.0,1395000.0,750000.0,299900.0,615000.0,1735000.0,799990.0,1023500.0,650000.0,889000.0,320000.0,460000.0,930000.0,948750.0,1130000.0,549250.0,445000.0,629000.0,345000.0,1175000.0,599000.0,840000.0,1140000.0,685000.0,689000.0,613000.0,785000.0,815000.0,399950.0,835000.0,780000.0,835000.0,620000.0,1650000.0,820000.0,439900.0,760000.0,1650000.0,539950.0,985000.0,760000.0,1868000.0,530000.0,886000.0,1349000.0,959822.0,1825000.0,422000.0,825000.0,1130000.0,960000.0,640000.0,1950000.0,700000.0,900000.0,1700000.0,460000.0,699950.0,705000.0,2750000.0,699990.0,475000.0,575000.0,1995000.0,1025000.0,1790000.0,640000.0,350000.0,600000.0,1100400.0,3300000.0,369950.0,750000.0,760000.0,699999.0,595000.0,715000.0,1375000.0,885000.0,685000.0,1095000.0,550000.0,500000.0,2075000.0,1450000.0,675000.0,729000.0,1500000.0,1270000.0,1060000.0,1400000.0,405000.0,665000.0,618000.0,1305000.0,1300000.0,850000.0,1112000.0,871000.0,420000.0,605000.0,1225000.0,781000.0,1195000.0,517500.0,1089000.0,370000.0,2500000.0,525000.0,675000.0,497000.0,1470000.0,519000.0,575000.0,890000.0,779000.0,1394600.0,655000.0,415000.0,956000.0,700000.0,309000.0,890000.0,1263500.0,1135000.0,1350000.0,645000.0,499000.0,385000.0,4325000.0,700000.0,789950.0,540000.0,1035000.0,438000.0,580000.0,1395000.0,520000.0,1525000.0,965000.0,1300000.0,915000.0,1001000.0,650000.0,675000.0,725000.0,1150000.0,1750000.0,875000.0,630000.0,1085000.0,800000.0,1295000.0,612500.0,2325000.0,590000.0,1299000.0,1256000.0,925000.0,849000.0,889900.0,568000.0,900000.0,810000.0,500000.0,528000.0,890000.0,780000.0,430000.0,1650000.0,625000.0,1150000.0,400000.0,1087500.0,679000.0,475000.0,645000.0,749000.0,550000.0,778000.0,375000.0,1250000.0,820000.0,2925000.0,762500.0,475000.0,1000000.0,750000.0,1325000.0,1070000.0,1150000.0,1480000.0,1295000.0,520000.0,855000.0,1475000.0,625000.0,1060000.0,750000.0,740000.0,865000.0,660000.0,3050000.0,644999.0,699900.0,309000.0,762500.0,800000.0,660000.0,715000.0,1125000.0,350000.0,305000.0,275000.0,2100000.0,730000.0,925000.0,639950.0,520000.0,375000.0,980000.0,485000.0,490000.0,899000.0,1950000.0,640000.0,699000.0,855000.0,598800.0,780000.0,2100000.0,652000.0,380000.0,1100000.0,377500.0,579000.0,590000.0,665000.0,1625000.0,783000.0,820000.0,1125000.0,2000000.0,899999.0,845714.0,747250.0,850000.0,560000.0,720000.0,962000.0,1750000.0,715000.0,695000.0,675000.0,942000.0,910000.0,850000.0,2095000.0,1357000.0,850000.0,760000.0,1500000.0,1150000.0,1732000.0,751000.0,589000.0,426000.0,707000.0,875000.0,499999.0,901000.0,647201.0,450000.0,1175000.0,1049950.0,505000.0,525000.0,875000.0,480000.0,759999.0,884950.0,690000.0,1195000.0,435000.0,1325000.0,1175000.0,2000000.0,975000.0,1575000.0,945000.0,668000.0,930000.0,2225000.0,575000.0,720000.0,665000.0,729950.0,958748.0,2895000.0,1500000.0,335000.0,565000.0,807500.0,750000.0,525000.0,899000.0,1275000.0,270000.0,498000.0,399000.0,530000.0,700000.0,1950000.0,1715000.0,619000.0,1400000.0,849950.0,1599500.0,990000.0,1058000.0,634400.0,525000.0,1550000.0,500000.0,725000.0,620000.0,775000.0,1025100.0,835000.0,1500000.0,315000.0,1225000.0,910000.0,2800000.0,1050000.0,850000.0,1350000.0,800000.0,3500000.0,1210000.0,1900000.0,865000.0,475000.0,875000.0,539000.0,1835000.0,738000.0,799000.0,331000.0,870000.0,3320000.0,545000.0,530000.0,799000.0,1200000.0,560000.0,1330000.0,2130000.0,1060000.0,999999.0,795000.0,1127500.0,720000.0,710000.0,432000.0,1200000.0,780000.0,880000.0,2300000.0,816750.0,750000.0,1610000.0,900000.0,1000000.0,1033000.0,690000.0,459000.0,420000.0,312500.0,880000.0,925000.0,1450000.0,590000.0,750000.0,419000.0,602000.0,891000.0,875000.0,1200000.0,480000.0,889000.0,422000.0,1295000.0,223000.0,530000.0,1550000.0,1125000.0,475000.0,1550000.0,645000.0,2200000.0,516000.0,2888000.0,470000.0,950000.0,626000.0,688000.0,399950.0,900000.0,709000.0,1460000.0,999950.0,480000.0,1110000.0,1500000.0,935000.0,770000.0,915000.0,1375000.0,325000.0,920000.0,1150000.0,549000.0,787950.0,670000.0,750000.0,799950.0,1900000.0,275000.0,1165000.0,500000.0,830000.0,469000.0,765000.0,1275000.0,1800000.0,374000.0,2725000.0,2000000.0,1300000.0,1000000.0,575000.0,870000.0,560000.0,900000.0,675000.0,1352000.0,800000.0,1210000.0,699000.0,308000.0,649000.0,555000.0,1050000.0,700000.0,785000.0,729000.0,1340000.0,1100000.0,2010000.0,850000.0,390000.0,470000.0,675000.0,1111111.0,429900.0,1575000.0,1665500.0,577000.0,655500.0,1171600.0,699000.0,722500.0,750000.0,1266000.0,510000.0,1550000.0,600000.0,875000.0,475000.0,795000.0,2250000.0,699950.0,710000.0,1065000.0,1095000.0,1299000.0,2100000.0,1155000.0,525000.0,710000.0,699500.0,720000.0,850000.0,615000.0,835000.0,580000.0,890955.0,1098500.0,929950.0,369950.0,999000.0,445000.0,1410000.0,1095000.0,690000.0,825000.0,1450000.0,1050000.0,965000.0,820000.0,725000.0,850000.0,330000.0,589990.0,25000000.0,947000.0,800000.0,819950.0,2195000.0,812500.0,2250000.0,745000.0,545000.0,390000.0,625000.0,855000.0,1150000.0,1135000.0,760000.0,474000.0,820000.0,599950.0,1010000.0,750000.0,981250.0,1795000.0,495000.0,385000.0,640000.0,1180000.0,899000.0,1106000.0,315000.0,1075000.0,719000.0,813000.0,900000.0,700000.0,1250000.0,650000.0,1185000.0,960000.0,1605000.0,960000.0,1440000.0,910000.0,450000.0,895000.0,2100000.0,830000.0,656500.0,700000.0,2300000.0,1167500.0,450000.0,820000.0,795000.0,998000.0,1040000.0,517500.0,1250000.0,1270000.0,1207000.0,1637500.0,640000.0,2100000.0,1275000.0,799000.0,1200000.0,489000.0,395000.0,590000.0,699000.0,475000.0,1025000.0,315000.0,850000.0,969950.0,759950.0,700000.0,500000.0,877000.0,660000.0,325000.0,760000.0,1100000.0,954500.0,1475000.0,780000.0,765000.0,1130000.0,1865000.0,1000000.0,389000.0,1325000.0,1250000.0,830000.0,1180000.0,648888.0,322000.0,465600.0,975000.0,800000.0,875100.0,868500.0,869000.0,1253000.0,1190000.0,699950.0,520000.0,858000.0,700000.0,820000.0,530000.0,660000.0,690000.0,1445000.0,734950.0,522250.0,625000.0,409050.0,380000.0,3340000.0,735000.0,675000.0,1125000.0,550000.0,990000.0,468000.0,1070000.0,1181500.0,1180000.0,830000.0,312000.0,1750000.0,1290000.0,1025000.0,370000.0,349950.0,650000.0,500000.0,920000.0,650000.0,705000.0,500000.0,765000.0,1025000.0,980000.0,850000.0,874500.0,468000.0,475000.0,975000.0,948800.0,700000.0,972500.0,925000.0,732000.0,1354000.0,160000.0,1050000.0,650000.0,900000.0,2050000.0,705000.0,575000.0,865000.0,2485000.0,670000.0,799950.0,480000.0,1310000.0,900000.0,1385000.0,465000.0,1337000.0,800000.0,770000.0,925000.0,290000.0,915000.0,1240000.0,2975000.0,625000.0,1555000.0,1175000.0,900000.0,1630000.0,640000.0,1975000.0,1000000.0,675000.0,1880000.0,679000.0,1365000.0,639000.0,648800.0,760000.0,1070000.0,1118000.0,665000.0,650000.0,550000.0,1040000.0,305000.0,523750.0,630000.0,700000.0,625000.0,250000.0,950000.0,2080000.0,1800000.0,950000.0,818000.0,769950.0,1850000.0,575000.0,321000.0,740000.0,850000.0,620000.0,950000.0,510000.0,350000.0,690000.0,300000.0,1250000.0,750000.0,750000.0,515000.0,610000.0,769950.0,1657500.0,425000.0,2610000.0,1750000.0,985000.0,550000.0,1981000.0,819999.0,1185000.0,950000.0,1435000.0,360000.0,385000.0,1240000.0,1184000.0,2080000.0,429900.0,895000.0,1600000.0,3122000.0,310000.0,640000.0,590000.0,692950.0,725000.0,850000.0,762000.0,625000.0,360000.0,280000.0,1295000.0,925000.0,670000.0,387000.0,765000.0,875000.0,964000.0,500000.0,718000.0,1000000.0,1485000.0,1160000.0,780000.0,3050000.0,525000.0,1211000.0,535000.0,575000.0,1500000.0,2675000.0,2525000.0,825000.0,1850000.0,1170000.0,770000.0,705000.0,550000.0,845000.0,1250000.0,2100000.0,600000.0,3598950.0,825000.0,488000.0,1550000.0,865000.0,847198.0,1795000.0,800000.0,244950.0,899000.0,975000.0,1850000.0,2050000.0,1049000.0,660000.0,451000.0,479425.0,337000.0,1295000.0,695000.0,1530000.0,1725000.0,650000.0,510000.0,780000.0,1180000.0,739000.0,630000.0,1020000.0,740000.0,670000.0,1250000.0,900000.0,470000.0,1200000.0,1500000.0,740000.0,1500000.0,800000.0,553500.0,1200000.0,25000000.0,527000.0,1625000.0,625000.0,824900.0,435000.0,400000.0,1200000.0,1800000.0,1359000.0,787500.0,850000.0,1425000.0,965000.0,825000.0,1125000.0,620000.0,475000.0,610000.0,685000.0,452100.0,490000.0,480000.0,675500.0,675000.0,385000.0,569000.0,590000.0,918000.0,940000.0,697000.0,1680000.0,1600000.0,490000.0,1075000.0,764000.0,1050000.0,560000.0,709600.0,835000.0,975000.0,1472500.0,600000.0,485000.0,775000.0,1180000.0,731000.0,756110.0,456000.0,1975000.0,819980.0,305000.0,850000.0,1005000.0,905000.0,875000.0,710000.0,373000.0,860000.0,840000.0,1350000.0,1400000.0,905000.0,725000.0,800000.0,542500.0,1025000.0,614500.0,825000.0,435000.0,1100000.0,475000.0,2950000.0,399999.0,880000.0,460000.0,1400000.0,850000.0,335000.0,220000.0,2000000.0,750000.0,400000.0,870000.0,1200000.0,599900.0,1370000.0,670000.0,775000.0,395000.0,1499000.0,1200000.0,645000.0,580000.0,1050000.0,849950.0,933500.0,598000.0,875000.0,560000.0,485000.0,937000.0,1525000.0,900000.0,720000.0,800000.0,640000.0,1500000.0,1399990.0,355000.0,1275000.0,2050000.0,1550000.0,935000.0,485000.0,1220000.0,920000.0,840000.0,652500.0,669000.0,720000.0,796000.0,625000.0,722500.0,689900.0,900000.0,875000.0,1290000.0,930000.0,775000.0,422500.0,1550000.0,1810000.0,565000.0,640000.0,840000.0,790000.0,725000.0,370000.0,2000000.0,1398000.0,390000.0,1650000.0,455000.0,1755000.0,849950.0,345000.0,656500.0,935000.0,625000.0,740000.0,1335000.0,475000.0,677000.0,464000.0,610000.0,740000.0,2225000.0,1550000.0,675000.0,950000.0,515000.0,385000.0,1060000.0,900000.0,395000.0,880000.0,729000.0,1175000.0,500000.0,739000.0,2500000.0,650000.0,1237500.0,580000.0,1050000.0,1099970.0,1030000.0,469000.0,1470000.0,1400000.0,672500.0,649950.0,515000.0,699000.0,1150000.0,750000.0,535000.0,760000.0,1500000.0,770000.0,959630.0,519990.0,705000.0,480000.0,813000.0,1712000.0,222000.0,675000.0,835000.0,300000.0,425000.0,699000.0,515000.0,535000.0,699950.0,850000.0,915000.0,583000.0,1325000.0,689000.0,680000.0,535000.0,916500.0,529000.0,640000.0,890000.0,1000000.0,531000.0,650000.0,650000.0,849950.0,1037300.0,900000.0,2050000.0,2100000.0,924900.0,940000.0,411000.0,3350000.0,512000.0,585000.0,1345000.0,399900.0,733500.0,1350000.0,950000.0,734000.0,670000.0,770000.0,4000000.0,800000.0,770000.0,1425000.0,825000.0,395000.0,725000.0,845000.0,1450000.0,265000.0,970000.0,1675000.0,620000.0,725000.0,1098000.0,2650000.0,755000.0,1700000.0,434000.0,860000.0,566000.0,365000.0,325000.0,1495000.0,915000.0,1725000.0,778000.0,620000.0,749000.0,1199000.0,325000.0,950000.0,974999.0,600000.0,2895000.0,712500.0,1349000.0,1325000.0,899000.0,750000.0,942000.0,740000.0,875000.0,1098000.0,1150000.0,860000.0,400000.0,575000.0,615000.0,926000.0,538800.0,310000.0,734950.0,4815000.0,699950.0,825000.0,1900000.0,925000.0,490000.0,715000.0,1300000.0,708000.0,919000.0,675000.0,699950.0,910000.0,550000.0,1150000.0,590000.0,659000.0],\"yaxis\":\"y\",\"type\":\"scattergl\"}],                        {\"template\":{\"data\":{\"histogram2dcontour\":[{\"type\":\"histogram2dcontour\",\"colorbar\":{\"outlinewidth\":0,\"ticks\":\"\"},\"colorscale\":[[0.0,\"#0d0887\"],[0.1111111111111111,\"#46039f\"],[0.2222222222222222,\"#7201a8\"],[0.3333333333333333,\"#9c179e\"],[0.4444444444444444,\"#bd3786\"],[0.5555555555555556,\"#d8576b\"],[0.6666666666666666,\"#ed7953\"],[0.7777777777777778,\"#fb9f3a\"],[0.8888888888888888,\"#fdca26\"],[1.0,\"#f0f921\"]]}],\"choropleth\":[{\"type\":\"choropleth\",\"colorbar\":{\"outlinewidth\":0,\"ticks\":\"\"}}],\"histogram2d\":[{\"type\":\"histogram2d\",\"colorbar\":{\"outlinewidth\":0,\"ticks\":\"\"},\"colorscale\":[[0.0,\"#0d0887\"],[0.1111111111111111,\"#46039f\"],[0.2222222222222222,\"#7201a8\"],[0.3333333333333333,\"#9c179e\"],[0.4444444444444444,\"#bd3786\"],[0.5555555555555556,\"#d8576b\"],[0.6666666666666666,\"#ed7953\"],[0.7777777777777778,\"#fb9f3a\"],[0.8888888888888888,\"#fdca26\"],[1.0,\"#f0f921\"]]}],\"heatmap\":[{\"type\":\"heatmap\",\"colorbar\":{\"outlinewidth\":0,\"ticks\":\"\"},\"colorscale\":[[0.0,\"#0d0887\"],[0.1111111111111111,\"#46039f\"],[0.2222222222222222,\"#7201a8\"],[0.3333333333333333,\"#9c179e\"],[0.4444444444444444,\"#bd3786\"],[0.5555555555555556,\"#d8576b\"],[0.6666666666666666,\"#ed7953\"],[0.7777777777777778,\"#fb9f3a\"],[0.8888888888888888,\"#fdca26\"],[1.0,\"#f0f921\"]]}],\"heatmapgl\":[{\"type\":\"heatmapgl\",\"colorbar\":{\"outlinewidth\":0,\"ticks\":\"\"},\"colorscale\":[[0.0,\"#0d0887\"],[0.1111111111111111,\"#46039f\"],[0.2222222222222222,\"#7201a8\"],[0.3333333333333333,\"#9c179e\"],[0.4444444444444444,\"#bd3786\"],[0.5555555555555556,\"#d8576b\"],[0.6666666666666666,\"#ed7953\"],[0.7777777777777778,\"#fb9f3a\"],[0.8888888888888888,\"#fdca26\"],[1.0,\"#f0f921\"]]}],\"contourcarpet\":[{\"type\":\"contourcarpet\",\"colorbar\":{\"outlinewidth\":0,\"ticks\":\"\"}}],\"contour\":[{\"type\":\"contour\",\"colorbar\":{\"outlinewidth\":0,\"ticks\":\"\"},\"colorscale\":[[0.0,\"#0d0887\"],[0.1111111111111111,\"#46039f\"],[0.2222222222222222,\"#7201a8\"],[0.3333333333333333,\"#9c179e\"],[0.4444444444444444,\"#bd3786\"],[0.5555555555555556,\"#d8576b\"],[0.6666666666666666,\"#ed7953\"],[0.7777777777777778,\"#fb9f3a\"],[0.8888888888888888,\"#fdca26\"],[1.0,\"#f0f921\"]]}],\"surface\":[{\"type\":\"surface\",\"colorbar\":{\"outlinewidth\":0,\"ticks\":\"\"},\"colorscale\":[[0.0,\"#0d0887\"],[0.1111111111111111,\"#46039f\"],[0.2222222222222222,\"#7201a8\"],[0.3333333333333333,\"#9c179e\"],[0.4444444444444444,\"#bd3786\"],[0.5555555555555556,\"#d8576b\"],[0.6666666666666666,\"#ed7953\"],[0.7777777777777778,\"#fb9f3a\"],[0.8888888888888888,\"#fdca26\"],[1.0,\"#f0f921\"]]}],\"mesh3d\":[{\"type\":\"mesh3d\",\"colorbar\":{\"outlinewidth\":0,\"ticks\":\"\"}}],\"scatter\":[{\"fillpattern\":{\"fillmode\":\"overlay\",\"size\":10,\"solidity\":0.2},\"type\":\"scatter\"}],\"parcoords\":[{\"type\":\"parcoords\",\"line\":{\"colorbar\":{\"outlinewidth\":0,\"ticks\":\"\"}}}],\"scatterpolargl\":[{\"type\":\"scatterpolargl\",\"marker\":{\"colorbar\":{\"outlinewidth\":0,\"ticks\":\"\"}}}],\"bar\":[{\"error_x\":{\"color\":\"#2a3f5f\"},\"error_y\":{\"color\":\"#2a3f5f\"},\"marker\":{\"line\":{\"color\":\"#E5ECF6\",\"width\":0.5},\"pattern\":{\"fillmode\":\"overlay\",\"size\":10,\"solidity\":0.2}},\"type\":\"bar\"}],\"scattergeo\":[{\"type\":\"scattergeo\",\"marker\":{\"colorbar\":{\"outlinewidth\":0,\"ticks\":\"\"}}}],\"scatterpolar\":[{\"type\":\"scatterpolar\",\"marker\":{\"colorbar\":{\"outlinewidth\":0,\"ticks\":\"\"}}}],\"histogram\":[{\"marker\":{\"pattern\":{\"fillmode\":\"overlay\",\"size\":10,\"solidity\":0.2}},\"type\":\"histogram\"}],\"scattergl\":[{\"type\":\"scattergl\",\"marker\":{\"colorbar\":{\"outlinewidth\":0,\"ticks\":\"\"}}}],\"scatter3d\":[{\"type\":\"scatter3d\",\"line\":{\"colorbar\":{\"outlinewidth\":0,\"ticks\":\"\"}},\"marker\":{\"colorbar\":{\"outlinewidth\":0,\"ticks\":\"\"}}}],\"scattermapbox\":[{\"type\":\"scattermapbox\",\"marker\":{\"colorbar\":{\"outlinewidth\":0,\"ticks\":\"\"}}}],\"scatterternary\":[{\"type\":\"scatterternary\",\"marker\":{\"colorbar\":{\"outlinewidth\":0,\"ticks\":\"\"}}}],\"scattercarpet\":[{\"type\":\"scattercarpet\",\"marker\":{\"colorbar\":{\"outlinewidth\":0,\"ticks\":\"\"}}}],\"carpet\":[{\"aaxis\":{\"endlinecolor\":\"#2a3f5f\",\"gridcolor\":\"white\",\"linecolor\":\"white\",\"minorgridcolor\":\"white\",\"startlinecolor\":\"#2a3f5f\"},\"baxis\":{\"endlinecolor\":\"#2a3f5f\",\"gridcolor\":\"white\",\"linecolor\":\"white\",\"minorgridcolor\":\"white\",\"startlinecolor\":\"#2a3f5f\"},\"type\":\"carpet\"}],\"table\":[{\"cells\":{\"fill\":{\"color\":\"#EBF0F8\"},\"line\":{\"color\":\"white\"}},\"header\":{\"fill\":{\"color\":\"#C8D4E3\"},\"line\":{\"color\":\"white\"}},\"type\":\"table\"}],\"barpolar\":[{\"marker\":{\"line\":{\"color\":\"#E5ECF6\",\"width\":0.5},\"pattern\":{\"fillmode\":\"overlay\",\"size\":10,\"solidity\":0.2}},\"type\":\"barpolar\"}],\"pie\":[{\"automargin\":true,\"type\":\"pie\"}]},\"layout\":{\"autotypenumbers\":\"strict\",\"colorway\":[\"#636efa\",\"#EF553B\",\"#00cc96\",\"#ab63fa\",\"#FFA15A\",\"#19d3f3\",\"#FF6692\",\"#B6E880\",\"#FF97FF\",\"#FECB52\"],\"font\":{\"color\":\"#2a3f5f\"},\"hovermode\":\"closest\",\"hoverlabel\":{\"align\":\"left\"},\"paper_bgcolor\":\"white\",\"plot_bgcolor\":\"#E5ECF6\",\"polar\":{\"bgcolor\":\"#E5ECF6\",\"angularaxis\":{\"gridcolor\":\"white\",\"linecolor\":\"white\",\"ticks\":\"\"},\"radialaxis\":{\"gridcolor\":\"white\",\"linecolor\":\"white\",\"ticks\":\"\"}},\"ternary\":{\"bgcolor\":\"#E5ECF6\",\"aaxis\":{\"gridcolor\":\"white\",\"linecolor\":\"white\",\"ticks\":\"\"},\"baxis\":{\"gridcolor\":\"white\",\"linecolor\":\"white\",\"ticks\":\"\"},\"caxis\":{\"gridcolor\":\"white\",\"linecolor\":\"white\",\"ticks\":\"\"}},\"coloraxis\":{\"colorbar\":{\"outlinewidth\":0,\"ticks\":\"\"}},\"colorscale\":{\"sequential\":[[0.0,\"#0d0887\"],[0.1111111111111111,\"#46039f\"],[0.2222222222222222,\"#7201a8\"],[0.3333333333333333,\"#9c179e\"],[0.4444444444444444,\"#bd3786\"],[0.5555555555555556,\"#d8576b\"],[0.6666666666666666,\"#ed7953\"],[0.7777777777777778,\"#fb9f3a\"],[0.8888888888888888,\"#fdca26\"],[1.0,\"#f0f921\"]],\"sequentialminus\":[[0.0,\"#0d0887\"],[0.1111111111111111,\"#46039f\"],[0.2222222222222222,\"#7201a8\"],[0.3333333333333333,\"#9c179e\"],[0.4444444444444444,\"#bd3786\"],[0.5555555555555556,\"#d8576b\"],[0.6666666666666666,\"#ed7953\"],[0.7777777777777778,\"#fb9f3a\"],[0.8888888888888888,\"#fdca26\"],[1.0,\"#f0f921\"]],\"diverging\":[[0,\"#8e0152\"],[0.1,\"#c51b7d\"],[0.2,\"#de77ae\"],[0.3,\"#f1b6da\"],[0.4,\"#fde0ef\"],[0.5,\"#f7f7f7\"],[0.6,\"#e6f5d0\"],[0.7,\"#b8e186\"],[0.8,\"#7fbc41\"],[0.9,\"#4d9221\"],[1,\"#276419\"]]},\"xaxis\":{\"gridcolor\":\"white\",\"linecolor\":\"white\",\"ticks\":\"\",\"title\":{\"standoff\":15},\"zerolinecolor\":\"white\",\"automargin\":true,\"zerolinewidth\":2},\"yaxis\":{\"gridcolor\":\"white\",\"linecolor\":\"white\",\"ticks\":\"\",\"title\":{\"standoff\":15},\"zerolinecolor\":\"white\",\"automargin\":true,\"zerolinewidth\":2},\"scene\":{\"xaxis\":{\"backgroundcolor\":\"#E5ECF6\",\"gridcolor\":\"white\",\"linecolor\":\"white\",\"showbackground\":true,\"ticks\":\"\",\"zerolinecolor\":\"white\",\"gridwidth\":2},\"yaxis\":{\"backgroundcolor\":\"#E5ECF6\",\"gridcolor\":\"white\",\"linecolor\":\"white\",\"showbackground\":true,\"ticks\":\"\",\"zerolinecolor\":\"white\",\"gridwidth\":2},\"zaxis\":{\"backgroundcolor\":\"#E5ECF6\",\"gridcolor\":\"white\",\"linecolor\":\"white\",\"showbackground\":true,\"ticks\":\"\",\"zerolinecolor\":\"white\",\"gridwidth\":2}},\"shapedefaults\":{\"line\":{\"color\":\"#2a3f5f\"}},\"annotationdefaults\":{\"arrowcolor\":\"#2a3f5f\",\"arrowhead\":0,\"arrowwidth\":1},\"geo\":{\"bgcolor\":\"white\",\"landcolor\":\"#E5ECF6\",\"subunitcolor\":\"white\",\"showland\":true,\"showlakes\":true,\"lakecolor\":\"white\"},\"title\":{\"x\":0.05},\"mapbox\":{\"style\":\"light\"}}},\"xaxis\":{\"anchor\":\"y\",\"domain\":[0.0,1.0],\"title\":{\"text\":\"SquareFootage\"}},\"yaxis\":{\"anchor\":\"x\",\"domain\":[0.0,1.0],\"title\":{\"text\":\"price\"}},\"legend\":{\"tracegroupgap\":0},\"title\":{\"text\":\"SquareFootage vs. Price\"}},                        {\"responsive\": true}                    ).then(function(){\n",
              "                            \n",
              "var gd = document.getElementById('cbe4541c-6b85-4ac1-b919-1810b741cdf2');\n",
              "var x = new MutationObserver(function (mutations, observer) {{\n",
              "        var display = window.getComputedStyle(gd).display;\n",
              "        if (!display || display === 'none') {{\n",
              "            console.log([gd, 'removed!']);\n",
              "            Plotly.purge(gd);\n",
              "            observer.disconnect();\n",
              "        }}\n",
              "}});\n",
              "\n",
              "// Listen for the removal of the full notebook cells\n",
              "var notebookContainer = gd.closest('#notebook-container');\n",
              "if (notebookContainer) {{\n",
              "    x.observe(notebookContainer, {childList: true});\n",
              "}}\n",
              "\n",
              "// Listen for the clearing of the current output cell\n",
              "var outputEl = gd.closest('.output');\n",
              "if (outputEl) {{\n",
              "    x.observe(outputEl, {childList: true});\n",
              "}}\n",
              "\n",
              "                        })                };                            </script>        </div>\n",
              "</body>\n",
              "</html>"
            ]
          },
          "metadata": {}
        }
      ]
    },
    {
      "cell_type": "code",
      "source": [
        "fig = px.scatter(house,\n",
        "                 x='Bedrooms',\n",
        "                 y='price',\n",
        "                 opacity=0.8,\n",
        "                 title='Bedrooms vs. Price')\n",
        "fig.update_traces(marker_size=5)\n",
        "fig.show()"
      ],
      "metadata": {
        "colab": {
          "base_uri": "https://localhost:8080/",
          "height": 542
        },
        "id": "2j6P80IKwold",
        "outputId": "3c1dbb48-b07d-4c41-dbff-24c8aa956a06"
      },
      "execution_count": 20,
      "outputs": [
        {
          "output_type": "display_data",
          "data": {
            "text/html": [
              "<html>\n",
              "<head><meta charset=\"utf-8\" /></head>\n",
              "<body>\n",
              "    <div>            <script src=\"https://cdnjs.cloudflare.com/ajax/libs/mathjax/2.7.5/MathJax.js?config=TeX-AMS-MML_SVG\"></script><script type=\"text/javascript\">if (window.MathJax && window.MathJax.Hub && window.MathJax.Hub.Config) {window.MathJax.Hub.Config({SVG: {font: \"STIX-Web\"}});}</script>                <script type=\"text/javascript\">window.PlotlyConfig = {MathJaxConfig: 'local'};</script>\n",
              "        <script charset=\"utf-8\" src=\"https://cdn.plot.ly/plotly-2.24.1.min.js\"></script>                <div id=\"e5618325-cf60-4dd8-8e94-ac1817944799\" class=\"plotly-graph-div\" style=\"height:525px; width:100%;\"></div>            <script type=\"text/javascript\">                                    window.PLOTLYENV=window.PLOTLYENV || {};                                    if (document.getElementById(\"e5618325-cf60-4dd8-8e94-ac1817944799\")) {                    Plotly.newPlot(                        \"e5618325-cf60-4dd8-8e94-ac1817944799\",                        [{\"hovertemplate\":\"Bedrooms=%{x}\\u003cbr\\u003eprice=%{y}\\u003cextra\\u003e\\u003c\\u002fextra\\u003e\",\"legendgroup\":\"\",\"marker\":{\"color\":\"#636efa\",\"opacity\":0.8,\"symbol\":\"circle\",\"size\":5},\"mode\":\"markers\",\"name\":\"\",\"showlegend\":false,\"x\":[3,4,4,4,2,2,1,5,3,4,3,3,3,4,5,2,3,1,3,4,2,4,2,3,5,2,1,3,4,1,3,4,3,2,4,1,3,5,1,1,3,5,3,1,2,2,2,4,5,4,3,2,3,3,2,5,5,2,3,3,2,4,5,5,3,2,4,3,3,3,4,3,4,3,6,2,1,3,2,3,3,4,2,3,1,3,4,2,1,2,3,2,3,4,4,3,3,4,3,1,3,1,1,4,2,4,1,4,3,3,3,2,4,9,2,4,2,1,1,4,2,4,4,3,1,2,4,2,5,2,2,2,2,2,2,2,4,3,2,4,2,3,1,3,2,2,1,2,5,4,3,3,3,3,4,3,5,3,3,1,3,1,2,2,5,1,2,3,3,3,4,5,2,3,3,3,2,4,5,5,2,2,1,3,2,2,4,6,3,1,2,1,4,4,6,5,3,4,2,2,4,1,5,1,3,4,3,5,4,2,2,3,1,2,4,2,4,3,4,5,4,2,4,2,4,2,4,2,2,3,3,15,4,3,1,5,2,2,2,3,2,2,1,3,3,4,4,3,2,2,1,3,3,3,5,2,3,1,4,2,5,4,3,1,3,2,3,5,4,4,2,3,2,3,3,1,2,4,3,3,3,4,2,1,3,1,5,2,2,3,1,4,4,4,3,2,1,4,3,2,3,3,2,4,1,3,5,3,5,2,1,3,2,2,1,3,2,3,3,4,4,1,2,5,2,3,3,3,3,4,4,2,3,4,3,4,3,1,3,1,2,2,2,3,2,1,2,4,3,3,2,3,4,4,2,2,6,3,2,3,1,2,2,3,3,4,3,3,2,3,2,3,3,4,1,4,3,3,1,2,4,3,2,2,1,4,2,2,2,4,1,4,4,2,2,5,3,1,3,1,5,4,4,4,2,5,4,3,3,1,1,4,4,2,3,4,4,3,2,3,3,2,3,3,3,4,2,3,9,2,4,1,3,6,4,2,2,3,3,4,2,2,4,2,2,5,3,2,3,2,1,1,2,3,1,3,2,3,3,2,2,3,2,3,2,3,2,2,2,1,2,3,5,3,4,5,1,2,1,3,4,4,2,4,3,3,2,6,3,3,2,1,5,4,3,4,3,4,2,2,3,3,3,1,3,4,1,2,2,5,3,3,1,2,2,4,2,4,2,3,3,3,5,2,2,3,3,2,3,3,2,3,3,2,1,3,3,3,2,4,1,2,4,3,4,3,3,4,3,1,4,4,3,4,3,2,4,2,2,4,1,3,1,2,1,3,2,1,2,3,3,3,1,4,4,3,1,2,1,5,6,3,2,3,3,2,3,4,4,2,1,1,3,4,4,2,4,2,3,3,3,5,2,3,3,4,5,2,4,2,3,4,4,2,2,4,4,1,2,2,2,5,2,5,4,4,1,2,3,5,1,5,2,3,1,3,2,5,4,4,2,2,2,2,2,2,2,4,1,2,5,2,3,2,2,2,5,5,3,3,2,4,3,4,5,3,3,2,4,1,1,3,2,4,2,2,3,3,2,3,1,3,3,1,3,3,4,3,3,14,3,4,4,3,2,4,2,3,2,1,1,3,2,1,4,3,1,3,2,4,3,1,2,2,2,2,3,5,3,4,1,4,4,4,2,3,2,3,3,3,1,4,3,1,2,4,3,2,3,2,2,3,3,2,2,3,4,3,2,2,3,2,2,3,3,4,3,2,1,3,4,2,3,1,2,2,1,8,2,1,4,2,3,4,3,2,3,2,2,1,2,4,2,4,3,4,3,3,1,2,2,2,2,4,2,4,1,2,3,1,4,5,2,2,2,6,3,3,3,4,4,2,1,3,2,4,2,2,4,2,2,3,3,6,3,4,1,4,3,3,3,1,3,2,3,3,2,4,2,4,4,4,4,2,2,2,1,4,3,3,3,4,2,3,3,3,1,3,3,3,3,4,3,1,4,3,3,3,2,3,2,3,4,3,5,3,2,3,3,2,4,3,3,3,1,2,2,2,2,2,2,4,4,2,1,1,2,9,6,1,3,2,4,1,2,3,2,4,3,2,3,5,4,3,2,4,2,3,3,1,4,3,3,3,2,3,2,1,2,6,4,4,3,3,1,5,2,3,1,2,2,3,3,2,4,3,2,5,3,1,4,5,3,3,2,2,1,5,3,2,1,3,3,2,4,1,3,3,2,1,4,3,2,2,3,4,3,3,3,4,2,2,4,2,3,3,3,3,2,2,6,2,2,2,3,3,2,2,3,3,1,3,1,1,2,3,2,2,1,3,2,4,2,1,3,5,3,4,4,4,4,2,2,3,2,4,3,3,3,3,3,2,3,1,2,2,2,2,5,1,1,1,4,4,3,2,4,2,4,4,1,2,6,2,3,3,3,3,4,4,1,5,1,2,2,2,4,4,4,5,5,3,2,3,3,1,2,4,4,3,2,4,2,3,3,4,4,3,3,4,3,3,2,3,3,2,5,2,3,1,2,3,3,3,2,3,1,3,2,2,3,1,2,4,3,3,3,2,4,4,4,3,3,2,3,3,4,4,1,2,3,3,2,3,4,1,1,1,1,3,4,4,3,3,3,3,3,3,2,1,3,3,2,2,3,2,2,3,1,4,3,4,3,3,2,3,4,9,2,3,2,4,5,3,3,2,1,4,5,1,2,2,4,1,4,4,3,3,4,4,2,4,1,3,2,3,6,3,3,4,3,2,4,2,1,2,2,2,3,4,2,2,2,1,4,3,3,1,5,2,4,1,2,4,3,2,2,1,1,1,5,2,4,2,5,2,3,2,2,4,2,4,4,3,3,3,4,1,3,3,2,2,3,2,2,4,1,3,2,3,1,3,3,4,1,3,4,3,3,3,3,1,4,3,4,3,4,4,1,2,3,3,4,4,3,4,4,4,4,2,2,2,3,2,4,4,4,4,2,3,3,3,5,2,5,3,3,2,5,3,2,2,3,7,4,2,4,4,2,3,3,2,3,9,3,2,4,3,1,4,4,4,3,2,4,3,3,4,3,3,2,1,2,2,4,3,3,4,4,5,1,2,4,4,4,2,5,4,2,2,5,3,2,2,4,2,1,2,5,2,3,1,4,2,2,3,3,4,2,4,4,4,5,3,3,1,3,4,3,2,6,5,3,2,3,3,2,4,4,3,5,4,5,2,5,5,2,3,3,1,3,3,1,3,1,5,2,2,2,5,3,2,1,2,4,2,3,4,2,3,4,3,2,3,4,4,3,1,1,2,4,2,3,3,3,4,3,1,2,2,2,5,4,3,2,4,4,1,2,2,1,5,3,2,3,2,3,1,3,4,3,2,2,4,3,5,1,2,2,1,4,2,2,3,3,3,3,3,3,3,3,3,2,3,4,4,3,2,1,3,4,3,4,4,4,3,4,3,2,2,3,3,3,1,4,5,4,4,1,5,4,5,4,4,5,2,3,2,5,3,2,5,2,3,2,2,3,3,4,1,3,2,4,1,3,2,3,3,1,5,4,4,3,3,2,4,4,1,3,3,2,4,2,1,3,1,4,2,4,3,3,2,4,1,3,4,3,2,5,3,4,3,3,1,1,5,4,3,2,5,5,5,1,2,1,3,2,3,3,2,1,2,4,4,2,1,3,4,5,1,2,3,4,3,3,6,1,4,3,2,5,4,5,4,6,3,2,3,2,2,1,4,3,6,3,2,5,3,3,5,2,1,3,3,4,4,2,2,1,1,2,2,3,4,5,2,3,2,4,3,2,3,1,2,1,3,1,5,3,5,5,3,2,3,2,2,3,3,3,2,1,3,5,5,4,4,2,3,3,4,1,2,2,2,1,1,2,3,2,1,1,3,3,4,3,4,4,2,4,4,3,3,2,3,4,4,3,1,3,4,3,3,3,3,2,1,2,3,3,3,3,2,2,3,1,4,4,3,3,2,2,2,2,1,4,2,7,1,3,2,3,6,1,1,4,1,1,3,3,2,3,4,2,2,4,1,4,2,3,2,3,2,2,3,1,4,2,4,2,4,2,4,4,2,3,3,5,3,2,4,3,3,1,2,4,3,2,3,2,3,4,4,1,3,2,4,3,2,2,3,2,1,1,4,2,1,5,2,4,4,1,2,3,3,4,4,1,2,1,3,4,7,4,3,4,2,1,4,3,2,2,2,4,1,5,3,3,6,3,3,3,3,2,3,3,2,2,2,3,4,1,2,4,8,2,3,1,2,2,2,4,1,2,3,1,3,4,2,4,2,3,3,3,4,3,3,3,3,3,2,3,3,3,3,2,2,2,3,5,4,4,3,1,5,3,1,3,1,6,4,5,3,5,3,5,2,2,4,4,1,2,3,5,1,2,3,2,2,3,5,3,4,1,2,3,1,1,4,3,4,3,2,2,3,2,3,3,4,5,1,2,3,5,3,4,3,3,4,4,3,1,2,2,2,4,1,2,4,3,3,3,6,1,2,5,3,3,3,2,3,1,4,2,3],\"xaxis\":\"x\",\"y\":[795000.0,915000.0,950000.0,1950000.0,950000.0,740000.0,460000.0,3150000.0,565000.0,699000.0,899000.0,1050000.0,935625.0,1511000.0,1330000.0,549755.0,700000.0,330000.0,1750000.0,980000.0,845000.0,1213000.0,530000.0,625000.0,1275000.0,680000.0,325000.0,1219700.0,907200.0,517000.0,760000.0,1484000.0,950000.0,430000.0,520000.0,335000.0,805000.0,1000000.0,375000.0,390000.0,1070000.0,948000.0,912000.0,480000.0,776000.0,1395000.0,750000.0,1065000.0,2350000.0,1580000.0,1775000.0,600000.0,800000.0,1100000.0,750000.0,865000.0,1450000.0,829000.0,575000.0,860000.0,770000.0,5495000.0,560000.0,900000.0,575000.0,595000.0,950000.0,1300000.0,727000.0,1605000.0,1480000.0,888000.0,1850000.0,615000.0,4100000.0,525000.0,509950.0,549000.0,555000.0,660000.0,615000.0,1635000.0,420000.0,1650000.0,427000.0,910000.0,1022700.0,925000.0,360000.0,928000.0,635000.0,490000.0,950000.0,760000.0,985000.0,1250000.0,690000.0,1585000.0,936000.0,450000.0,750000.0,550000.0,354000.0,1385000.0,1865000.0,1800000.0,346600.0,1600000.0,399950.0,855000.0,1095000.0,1125000.0,1560000.0,1343000.0,525000.0,630000.0,360000.0,375000.0,302500.0,1165000.0,346250.0,1150000.0,950000.0,699500.0,335000.0,800000.0,1495000.0,500000.0,1606500.0,749950.0,415000.0,895000.0,720000.0,435000.0,450000.0,555000.0,870000.0,845000.0,1200000.0,925000.0,795000.0,600000.0,459000.0,911000.0,1350000.0,570288.0,529000.0,605000.0,1295000.0,1595000.0,600000.0,1605200.0,865000.0,745000.0,543750.0,1099950.0,905000.0,1200000.0,825000.0,680000.0,720000.0,389200.0,489000.0,575000.0,520000.0,675000.0,580000.0,630000.0,685000.0,799000.0,1450000.0,1350000.0,510000.0,1582800.0,977000.0,710000.0,685000.0,1205000.0,2095000.0,1580000.0,450000.0,985000.0,455000.0,738000.0,650000.0,715000.0,3200000.0,1420000.0,659950.0,325100.0,2458000.0,870000.0,1350000.0,825000.0,775000.0,756500.0,749900.0,675000.0,625000.0,480000.0,2485000.0,723000.0,1575000.0,289900.0,859990.0,685000.0,839950.0,980000.0,1300000.0,670000.0,699950.0,450000.0,354000.0,715000.0,905000.0,719950.0,1440000.0,1100000.0,1000000.0,2625000.0,1350000.0,863000.0,1900000.0,590000.0,1299000.0,1069000.0,2095000.0,665000.0,750000.0,760000.0,590000.0,3700000.0,1025000.0,1725000.0,332000.0,605000.0,980000.0,835000.0,400000.0,800000.0,793000.0,625000.0,515000.0,799000.0,685000.0,1750000.0,956300.0,1067000.0,551000.0,780000.0,445000.0,583000.0,1685000.0,852500.0,940000.0,545000.0,540700.0,345000.0,860000.0,620000.0,800000.0,950000.0,776000.0,325000.0,875000.0,330000.0,750000.0,1025000.0,1695000.0,1399999.0,925000.0,910000.0,734999.0,864950.0,815000.0,700000.0,400000.0,525000.0,1230000.0,2700000.0,1175000.0,1400000.0,675000.0,385000.0,942000.0,601000.0,915000.0,479950.0,1460000.0,780000.0,485000.0,925000.0,700500.0,1090000.0,412000.0,525000.0,325000.0,945000.0,725000.0,386000.0,1450000.0,1295000.0,700000.0,995000.0,345000.0,888000.0,1575000.0,1795000.0,1338600.0,624999.0,260000.0,980000.0,679950.0,893000.0,495000.0,895000.0,1310000.0,689000.0,970000.0,1820000.0,2900000.0,255000.0,615000.0,665000.0,250000.0,1148000.0,990200.0,1800000.0,400000.0,1200000.0,1050000.0,620000.0,799000.0,852000.0,1150000.0,1500000.0,1012000.0,470000.0,1000000.0,365000.0,549950.0,1850000.0,655000.0,635000.0,706474.0,349000.0,700000.0,1400000.0,485000.0,660000.0,705000.0,1299000.0,1360000.0,1441000.0,159488.0,590000.0,3150000.0,630000.0,575000.0,980000.0,340000.0,800000.0,570000.0,2450000.0,1415000.0,2250000.0,917500.0,1148000.0,479000.0,1083000.0,699000.0,710000.0,615000.0,750000.0,530000.0,735000.0,986500.0,820000.0,481000.0,1350000.0,950000.0,824500.0,725000.0,1350000.0,489000.0,1900000.0,599950.0,533500.0,845000.0,850000.0,590000.0,1074900.0,1360000.0,430000.0,765000.0,1009975.0,955000.0,445000.0,725000.0,349000.0,1450000.0,960000.0,1235000.0,1105000.0,1050000.0,795000.0,1275000.0,560000.0,930000.0,240000.0,280000.0,825000.0,750000.0,575000.0,1265000.0,1830000.0,2695000.0,1115000.0,405000.0,1350000.0,1300000.0,708888.0,699950.0,1055000.0,920000.0,1650000.0,1395000.0,1766000.0,1089000.0,839000.0,850000.0,515000.0,895000.0,1050000.0,945000.0,705000.0,727000.0,875000.0,1570000.0,1315000.0,915000.0,1035000.0,2400000.0,325000.0,428000.0,865000.0,730000.0,677500.0,1140000.0,699950.0,429000.0,410000.0,560000.0,700000.0,390000.0,1600000.0,850000.0,892700.0,1439000.0,619000.0,850000.0,938000.0,219700.0,785000.0,363500.0,599000.0,500000.0,625000.0,850000.0,345000.0,500000.0,1125000.0,2300000.0,525000.0,870000.0,2425000.0,1000000.0,680000.0,660000.0,925000.0,1712000.0,880000.0,870260.0,2195000.0,730000.0,1520000.0,769900.0,870000.0,725000.0,922000.0,520000.0,425000.0,775000.0,1670000.0,849000.0,1500000.0,1640000.0,1280000.0,725000.0,870000.0,890000.0,475000.0,880000.0,335000.0,1160000.0,1247500.0,555000.0,700000.0,905000.0,2840000.0,650000.0,649995.0,695000.0,351000.0,656500.0,965000.0,499950.0,3630000.0,409000.0,499800.0,575000.0,999950.0,780000.0,675000.0,800500.0,949000.0,1360000.0,550000.0,750000.0,1000000.0,859000.0,729000.0,1270000.0,300000.0,730000.0,950000.0,1725000.0,750000.0,900000.0,1210000.0,425000.0,452500.0,649950.0,1075000.0,640000.0,795000.0,805000.0,2600000.0,1030000.0,645000.0,649000.0,1325000.0,680000.0,838000.0,785000.0,725000.0,3931000.0,380000.0,599950.0,1108000.0,470000.0,720000.0,324000.0,875000.0,462750.0,649950.0,635000.0,499000.0,1730000.0,795000.0,625000.0,759000.0,450500.0,812500.0,710000.0,680000.0,265000.0,898000.0,515000.0,1150000.0,849000.0,2350000.0,376000.0,700000.0,900000.0,495000.0,950000.0,2330000.0,1080000.0,350000.0,399000.0,360000.0,715000.0,1490000.0,920000.0,449000.0,1299950.0,1115000.0,2000000.0,700000.0,1678000.0,910000.0,660000.0,1150000.0,500000.0,1116000.0,1005000.0,755000.0,1995000.0,490000.0,825000.0,750000.0,1000000.0,885000.0,599000.0,1175000.0,865000.0,685000.0,345000.0,1160000.0,600000.0,1000000.0,580000.0,1850000.0,1500000.0,650000.0,405000.0,885000.0,480000.0,3000000.0,430000.0,766000.0,600000.0,974999.0,327500.0,875000.0,6250000.0,1975000.0,1765000.0,1750000.0,715000.0,385000.0,1495000.0,480000.0,500000.0,750000.0,600000.0,1600000.0,370000.0,2250000.0,613000.0,700000.0,1125000.0,430000.0,1325000.0,535000.0,1225000.0,1250000.0,530000.0,1278500.0,545000.0,1050000.0,650000.0,1650000.0,3400000.0,689000.0,435000.0,468000.0,780000.0,605000.0,205000.0,999950.0,849000.0,745000.0,945000.0,893000.0,899000.0,877500.0,655000.0,690000.0,325000.0,899950.0,1305000.0,519950.0,1460000.0,985000.0,1170000.0,955000.0,890955.0,1300000.0,1125000.0,1025000.0,1325000.0,837000.0,825000.0,800000.0,810000.0,965000.0,1180000.0,425000.0,524950.0,865000.0,500000.0,390800.0,700000.0,717500.0,1099900.0,900000.0,1050000.0,975000.0,740000.0,379000.0,960000.0,1650000.0,890000.0,779000.0,552000.0,1700000.0,850000.0,1119000.0,387000.0,775000.0,1650000.0,1880000.0,950000.0,1023000.0,2320000.0,865000.0,675000.0,1270000.0,315000.0,975000.0,599000.0,396000.0,490000.0,1180000.0,1406000.0,605000.0,1295000.0,730000.0,605000.0,645000.0,1130000.0,1062500.0,855000.0,835000.0,1750000.0,515000.0,1495000.0,675000.0,720000.0,650000.0,826500.0,915000.0,720000.0,1575000.0,725000.0,1051500.0,349000.0,765000.0,700000.0,425000.0,1116000.0,355000.0,489000.0,785000.0,159000.0,1005000.0,730000.0,405000.0,805000.0,700000.0,600000.0,210000.0,1275000.0,699950.0,910000.0,552450.0,675000.0,275000.0,326000.0,1200000.0,745000.0,750000.0,946000.0,1150000.0,1395000.0,760000.0,449000.0,510000.0,838000.0,525000.0,1008000.0,640000.0,789500.0,1270000.0,335000.0,900000.0,1130000.0,500000.0,463900.0,5000000.0,875000.0,700000.0,532500.0,2202718.0,1100000.0,1266000.0,1099950.0,703500.0,2940000.0,875000.0,285000.0,840000.0,600000.0,1350000.0,950000.0,850000.0,1740000.0,720000.0,1075000.0,1250000.0,500000.0,999950.0,440000.0,1025000.0,679950.0,874999.0,3250000.0,1395000.0,750000.0,299900.0,615000.0,1735000.0,799990.0,1023500.0,650000.0,889000.0,320000.0,460000.0,930000.0,948750.0,1130000.0,549250.0,445000.0,629000.0,345000.0,1175000.0,599000.0,840000.0,1140000.0,685000.0,689000.0,613000.0,785000.0,815000.0,399950.0,835000.0,780000.0,835000.0,620000.0,1650000.0,820000.0,439900.0,760000.0,1650000.0,539950.0,985000.0,760000.0,1868000.0,530000.0,886000.0,1349000.0,959822.0,1825000.0,422000.0,825000.0,1130000.0,960000.0,640000.0,1950000.0,700000.0,900000.0,1700000.0,460000.0,699950.0,705000.0,2750000.0,699990.0,475000.0,575000.0,1995000.0,1025000.0,1790000.0,640000.0,350000.0,600000.0,1100400.0,3300000.0,369950.0,750000.0,760000.0,699999.0,595000.0,715000.0,1375000.0,885000.0,685000.0,1095000.0,550000.0,500000.0,2075000.0,1450000.0,675000.0,729000.0,1500000.0,1270000.0,1060000.0,1400000.0,405000.0,665000.0,618000.0,1305000.0,1300000.0,850000.0,1112000.0,871000.0,420000.0,605000.0,1225000.0,781000.0,1195000.0,517500.0,1089000.0,370000.0,2500000.0,525000.0,675000.0,497000.0,1470000.0,519000.0,575000.0,890000.0,779000.0,1394600.0,655000.0,415000.0,956000.0,700000.0,309000.0,890000.0,1263500.0,1135000.0,1350000.0,645000.0,499000.0,385000.0,4325000.0,700000.0,789950.0,540000.0,1035000.0,438000.0,580000.0,1395000.0,520000.0,1525000.0,965000.0,1300000.0,915000.0,1001000.0,650000.0,675000.0,725000.0,1150000.0,1750000.0,875000.0,630000.0,1085000.0,800000.0,1295000.0,612500.0,2325000.0,590000.0,1299000.0,1256000.0,925000.0,849000.0,889900.0,568000.0,900000.0,810000.0,500000.0,528000.0,890000.0,780000.0,430000.0,1650000.0,625000.0,1150000.0,400000.0,1087500.0,679000.0,475000.0,645000.0,749000.0,550000.0,778000.0,375000.0,1250000.0,820000.0,2925000.0,762500.0,475000.0,1000000.0,750000.0,1325000.0,1070000.0,1150000.0,1480000.0,1295000.0,520000.0,855000.0,1475000.0,625000.0,1060000.0,750000.0,740000.0,865000.0,660000.0,3050000.0,644999.0,699900.0,309000.0,762500.0,800000.0,660000.0,715000.0,1125000.0,350000.0,305000.0,275000.0,2100000.0,730000.0,925000.0,639950.0,520000.0,375000.0,980000.0,485000.0,490000.0,899000.0,1950000.0,640000.0,699000.0,855000.0,598800.0,780000.0,2100000.0,652000.0,380000.0,1100000.0,377500.0,579000.0,590000.0,665000.0,1625000.0,783000.0,820000.0,1125000.0,2000000.0,899999.0,845714.0,747250.0,850000.0,560000.0,720000.0,962000.0,1750000.0,715000.0,695000.0,675000.0,942000.0,910000.0,850000.0,2095000.0,1357000.0,850000.0,760000.0,1500000.0,1150000.0,1732000.0,751000.0,589000.0,426000.0,707000.0,875000.0,499999.0,901000.0,647201.0,450000.0,1175000.0,1049950.0,505000.0,525000.0,875000.0,480000.0,759999.0,884950.0,690000.0,1195000.0,435000.0,1325000.0,1175000.0,2000000.0,975000.0,1575000.0,945000.0,668000.0,930000.0,2225000.0,575000.0,720000.0,665000.0,729950.0,958748.0,2895000.0,1500000.0,335000.0,565000.0,807500.0,750000.0,525000.0,899000.0,1275000.0,270000.0,498000.0,399000.0,530000.0,700000.0,1950000.0,1715000.0,619000.0,1400000.0,849950.0,1599500.0,990000.0,1058000.0,634400.0,525000.0,1550000.0,500000.0,725000.0,620000.0,775000.0,1025100.0,835000.0,1500000.0,315000.0,1225000.0,910000.0,2800000.0,1050000.0,850000.0,1350000.0,800000.0,3500000.0,1210000.0,1900000.0,865000.0,475000.0,875000.0,539000.0,1835000.0,738000.0,799000.0,331000.0,870000.0,3320000.0,545000.0,530000.0,799000.0,1200000.0,560000.0,1330000.0,2130000.0,1060000.0,999999.0,795000.0,1127500.0,720000.0,710000.0,432000.0,1200000.0,780000.0,880000.0,2300000.0,816750.0,750000.0,1610000.0,900000.0,1000000.0,1033000.0,690000.0,459000.0,420000.0,312500.0,880000.0,925000.0,1450000.0,590000.0,750000.0,419000.0,602000.0,891000.0,875000.0,1200000.0,480000.0,889000.0,422000.0,1295000.0,223000.0,530000.0,1550000.0,1125000.0,475000.0,1550000.0,645000.0,2200000.0,516000.0,2888000.0,470000.0,950000.0,626000.0,688000.0,399950.0,900000.0,709000.0,1460000.0,999950.0,480000.0,1110000.0,1500000.0,935000.0,770000.0,915000.0,1375000.0,325000.0,920000.0,1150000.0,549000.0,787950.0,670000.0,750000.0,799950.0,1900000.0,275000.0,1165000.0,500000.0,830000.0,469000.0,765000.0,1275000.0,1800000.0,374000.0,2725000.0,2000000.0,1300000.0,1000000.0,575000.0,870000.0,560000.0,900000.0,675000.0,1352000.0,800000.0,1210000.0,699000.0,308000.0,649000.0,555000.0,1050000.0,700000.0,785000.0,729000.0,1340000.0,1100000.0,2010000.0,850000.0,390000.0,470000.0,675000.0,1111111.0,429900.0,1575000.0,1665500.0,577000.0,655500.0,1171600.0,699000.0,722500.0,750000.0,1266000.0,510000.0,1550000.0,600000.0,875000.0,475000.0,795000.0,2250000.0,699950.0,710000.0,1065000.0,1095000.0,1299000.0,2100000.0,1155000.0,525000.0,710000.0,699500.0,720000.0,850000.0,615000.0,835000.0,580000.0,890955.0,1098500.0,929950.0,369950.0,999000.0,445000.0,1410000.0,1095000.0,690000.0,825000.0,1450000.0,1050000.0,965000.0,820000.0,725000.0,850000.0,330000.0,589990.0,25000000.0,947000.0,800000.0,819950.0,2195000.0,812500.0,2250000.0,745000.0,545000.0,390000.0,625000.0,855000.0,1150000.0,1135000.0,760000.0,474000.0,820000.0,599950.0,1010000.0,750000.0,981250.0,1795000.0,495000.0,385000.0,640000.0,1180000.0,899000.0,1106000.0,315000.0,1075000.0,719000.0,813000.0,900000.0,700000.0,1250000.0,650000.0,1185000.0,960000.0,1605000.0,960000.0,1440000.0,910000.0,450000.0,895000.0,2100000.0,830000.0,656500.0,700000.0,2300000.0,1167500.0,450000.0,820000.0,795000.0,998000.0,1040000.0,517500.0,1250000.0,1270000.0,1207000.0,1637500.0,640000.0,2100000.0,1275000.0,799000.0,1200000.0,489000.0,395000.0,590000.0,699000.0,475000.0,1025000.0,315000.0,850000.0,969950.0,759950.0,700000.0,500000.0,877000.0,660000.0,325000.0,760000.0,1100000.0,954500.0,1475000.0,780000.0,765000.0,1130000.0,1865000.0,1000000.0,389000.0,1325000.0,1250000.0,830000.0,1180000.0,648888.0,322000.0,465600.0,975000.0,800000.0,875100.0,868500.0,869000.0,1253000.0,1190000.0,699950.0,520000.0,858000.0,700000.0,820000.0,530000.0,660000.0,690000.0,1445000.0,734950.0,522250.0,625000.0,409050.0,380000.0,3340000.0,735000.0,675000.0,1125000.0,550000.0,990000.0,468000.0,1070000.0,1181500.0,1180000.0,830000.0,312000.0,1750000.0,1290000.0,1025000.0,370000.0,349950.0,650000.0,500000.0,920000.0,650000.0,705000.0,500000.0,765000.0,1025000.0,980000.0,850000.0,874500.0,468000.0,475000.0,975000.0,948800.0,700000.0,972500.0,925000.0,732000.0,1354000.0,160000.0,1050000.0,650000.0,900000.0,2050000.0,705000.0,575000.0,865000.0,2485000.0,670000.0,799950.0,480000.0,1310000.0,900000.0,1385000.0,465000.0,1337000.0,800000.0,770000.0,925000.0,290000.0,915000.0,1240000.0,2975000.0,625000.0,1555000.0,1175000.0,900000.0,1630000.0,640000.0,1975000.0,1000000.0,675000.0,1880000.0,679000.0,1365000.0,639000.0,648800.0,760000.0,1070000.0,1118000.0,665000.0,650000.0,550000.0,1040000.0,305000.0,523750.0,630000.0,700000.0,625000.0,250000.0,950000.0,2080000.0,1800000.0,950000.0,818000.0,769950.0,1850000.0,575000.0,321000.0,740000.0,850000.0,620000.0,950000.0,510000.0,350000.0,690000.0,300000.0,1250000.0,750000.0,750000.0,515000.0,610000.0,769950.0,1657500.0,425000.0,2610000.0,1750000.0,985000.0,550000.0,1981000.0,819999.0,1185000.0,950000.0,1435000.0,360000.0,385000.0,1240000.0,1184000.0,2080000.0,429900.0,895000.0,1600000.0,3122000.0,310000.0,640000.0,590000.0,692950.0,725000.0,850000.0,762000.0,625000.0,360000.0,280000.0,1295000.0,925000.0,670000.0,387000.0,765000.0,875000.0,964000.0,500000.0,718000.0,1000000.0,1485000.0,1160000.0,780000.0,3050000.0,525000.0,1211000.0,535000.0,575000.0,1500000.0,2675000.0,2525000.0,825000.0,1850000.0,1170000.0,770000.0,705000.0,550000.0,845000.0,1250000.0,2100000.0,600000.0,3598950.0,825000.0,488000.0,1550000.0,865000.0,847198.0,1795000.0,800000.0,244950.0,899000.0,975000.0,1850000.0,2050000.0,1049000.0,660000.0,451000.0,479425.0,337000.0,1295000.0,695000.0,1530000.0,1725000.0,650000.0,510000.0,780000.0,1180000.0,739000.0,630000.0,1020000.0,740000.0,670000.0,1250000.0,900000.0,470000.0,1200000.0,1500000.0,740000.0,1500000.0,800000.0,553500.0,1200000.0,25000000.0,527000.0,1625000.0,625000.0,824900.0,435000.0,400000.0,1200000.0,1800000.0,1359000.0,787500.0,850000.0,1425000.0,965000.0,825000.0,1125000.0,620000.0,475000.0,610000.0,685000.0,452100.0,490000.0,480000.0,675500.0,675000.0,385000.0,569000.0,590000.0,918000.0,940000.0,697000.0,1680000.0,1600000.0,490000.0,1075000.0,764000.0,1050000.0,560000.0,709600.0,835000.0,975000.0,1472500.0,600000.0,485000.0,775000.0,1180000.0,731000.0,756110.0,456000.0,1975000.0,819980.0,305000.0,850000.0,1005000.0,905000.0,875000.0,710000.0,373000.0,860000.0,840000.0,1350000.0,1400000.0,905000.0,725000.0,800000.0,542500.0,1025000.0,614500.0,825000.0,435000.0,1100000.0,475000.0,2950000.0,399999.0,880000.0,460000.0,1400000.0,850000.0,335000.0,220000.0,2000000.0,750000.0,400000.0,870000.0,1200000.0,599900.0,1370000.0,670000.0,775000.0,395000.0,1499000.0,1200000.0,645000.0,580000.0,1050000.0,849950.0,933500.0,598000.0,875000.0,560000.0,485000.0,937000.0,1525000.0,900000.0,720000.0,800000.0,640000.0,1500000.0,1399990.0,355000.0,1275000.0,2050000.0,1550000.0,935000.0,485000.0,1220000.0,920000.0,840000.0,652500.0,669000.0,720000.0,796000.0,625000.0,722500.0,689900.0,900000.0,875000.0,1290000.0,930000.0,775000.0,422500.0,1550000.0,1810000.0,565000.0,640000.0,840000.0,790000.0,725000.0,370000.0,2000000.0,1398000.0,390000.0,1650000.0,455000.0,1755000.0,849950.0,345000.0,656500.0,935000.0,625000.0,740000.0,1335000.0,475000.0,677000.0,464000.0,610000.0,740000.0,2225000.0,1550000.0,675000.0,950000.0,515000.0,385000.0,1060000.0,900000.0,395000.0,880000.0,729000.0,1175000.0,500000.0,739000.0,2500000.0,650000.0,1237500.0,580000.0,1050000.0,1099970.0,1030000.0,469000.0,1470000.0,1400000.0,672500.0,649950.0,515000.0,699000.0,1150000.0,750000.0,535000.0,760000.0,1500000.0,770000.0,959630.0,519990.0,705000.0,480000.0,813000.0,1712000.0,222000.0,675000.0,835000.0,300000.0,425000.0,699000.0,515000.0,535000.0,699950.0,850000.0,915000.0,583000.0,1325000.0,689000.0,680000.0,535000.0,916500.0,529000.0,640000.0,890000.0,1000000.0,531000.0,650000.0,650000.0,849950.0,1037300.0,900000.0,2050000.0,2100000.0,924900.0,940000.0,411000.0,3350000.0,512000.0,585000.0,1345000.0,399900.0,733500.0,1350000.0,950000.0,734000.0,670000.0,770000.0,4000000.0,800000.0,770000.0,1425000.0,825000.0,395000.0,725000.0,845000.0,1450000.0,265000.0,970000.0,1675000.0,620000.0,725000.0,1098000.0,2650000.0,755000.0,1700000.0,434000.0,860000.0,566000.0,365000.0,325000.0,1495000.0,915000.0,1725000.0,778000.0,620000.0,749000.0,1199000.0,325000.0,950000.0,974999.0,600000.0,2895000.0,712500.0,1349000.0,1325000.0,899000.0,750000.0,942000.0,740000.0,875000.0,1098000.0,1150000.0,860000.0,400000.0,575000.0,615000.0,926000.0,538800.0,310000.0,734950.0,4815000.0,699950.0,825000.0,1900000.0,925000.0,490000.0,715000.0,1300000.0,708000.0,919000.0,675000.0,699950.0,910000.0,550000.0,1150000.0,590000.0,659000.0],\"yaxis\":\"y\",\"type\":\"scattergl\"}],                        {\"template\":{\"data\":{\"histogram2dcontour\":[{\"type\":\"histogram2dcontour\",\"colorbar\":{\"outlinewidth\":0,\"ticks\":\"\"},\"colorscale\":[[0.0,\"#0d0887\"],[0.1111111111111111,\"#46039f\"],[0.2222222222222222,\"#7201a8\"],[0.3333333333333333,\"#9c179e\"],[0.4444444444444444,\"#bd3786\"],[0.5555555555555556,\"#d8576b\"],[0.6666666666666666,\"#ed7953\"],[0.7777777777777778,\"#fb9f3a\"],[0.8888888888888888,\"#fdca26\"],[1.0,\"#f0f921\"]]}],\"choropleth\":[{\"type\":\"choropleth\",\"colorbar\":{\"outlinewidth\":0,\"ticks\":\"\"}}],\"histogram2d\":[{\"type\":\"histogram2d\",\"colorbar\":{\"outlinewidth\":0,\"ticks\":\"\"},\"colorscale\":[[0.0,\"#0d0887\"],[0.1111111111111111,\"#46039f\"],[0.2222222222222222,\"#7201a8\"],[0.3333333333333333,\"#9c179e\"],[0.4444444444444444,\"#bd3786\"],[0.5555555555555556,\"#d8576b\"],[0.6666666666666666,\"#ed7953\"],[0.7777777777777778,\"#fb9f3a\"],[0.8888888888888888,\"#fdca26\"],[1.0,\"#f0f921\"]]}],\"heatmap\":[{\"type\":\"heatmap\",\"colorbar\":{\"outlinewidth\":0,\"ticks\":\"\"},\"colorscale\":[[0.0,\"#0d0887\"],[0.1111111111111111,\"#46039f\"],[0.2222222222222222,\"#7201a8\"],[0.3333333333333333,\"#9c179e\"],[0.4444444444444444,\"#bd3786\"],[0.5555555555555556,\"#d8576b\"],[0.6666666666666666,\"#ed7953\"],[0.7777777777777778,\"#fb9f3a\"],[0.8888888888888888,\"#fdca26\"],[1.0,\"#f0f921\"]]}],\"heatmapgl\":[{\"type\":\"heatmapgl\",\"colorbar\":{\"outlinewidth\":0,\"ticks\":\"\"},\"colorscale\":[[0.0,\"#0d0887\"],[0.1111111111111111,\"#46039f\"],[0.2222222222222222,\"#7201a8\"],[0.3333333333333333,\"#9c179e\"],[0.4444444444444444,\"#bd3786\"],[0.5555555555555556,\"#d8576b\"],[0.6666666666666666,\"#ed7953\"],[0.7777777777777778,\"#fb9f3a\"],[0.8888888888888888,\"#fdca26\"],[1.0,\"#f0f921\"]]}],\"contourcarpet\":[{\"type\":\"contourcarpet\",\"colorbar\":{\"outlinewidth\":0,\"ticks\":\"\"}}],\"contour\":[{\"type\":\"contour\",\"colorbar\":{\"outlinewidth\":0,\"ticks\":\"\"},\"colorscale\":[[0.0,\"#0d0887\"],[0.1111111111111111,\"#46039f\"],[0.2222222222222222,\"#7201a8\"],[0.3333333333333333,\"#9c179e\"],[0.4444444444444444,\"#bd3786\"],[0.5555555555555556,\"#d8576b\"],[0.6666666666666666,\"#ed7953\"],[0.7777777777777778,\"#fb9f3a\"],[0.8888888888888888,\"#fdca26\"],[1.0,\"#f0f921\"]]}],\"surface\":[{\"type\":\"surface\",\"colorbar\":{\"outlinewidth\":0,\"ticks\":\"\"},\"colorscale\":[[0.0,\"#0d0887\"],[0.1111111111111111,\"#46039f\"],[0.2222222222222222,\"#7201a8\"],[0.3333333333333333,\"#9c179e\"],[0.4444444444444444,\"#bd3786\"],[0.5555555555555556,\"#d8576b\"],[0.6666666666666666,\"#ed7953\"],[0.7777777777777778,\"#fb9f3a\"],[0.8888888888888888,\"#fdca26\"],[1.0,\"#f0f921\"]]}],\"mesh3d\":[{\"type\":\"mesh3d\",\"colorbar\":{\"outlinewidth\":0,\"ticks\":\"\"}}],\"scatter\":[{\"fillpattern\":{\"fillmode\":\"overlay\",\"size\":10,\"solidity\":0.2},\"type\":\"scatter\"}],\"parcoords\":[{\"type\":\"parcoords\",\"line\":{\"colorbar\":{\"outlinewidth\":0,\"ticks\":\"\"}}}],\"scatterpolargl\":[{\"type\":\"scatterpolargl\",\"marker\":{\"colorbar\":{\"outlinewidth\":0,\"ticks\":\"\"}}}],\"bar\":[{\"error_x\":{\"color\":\"#2a3f5f\"},\"error_y\":{\"color\":\"#2a3f5f\"},\"marker\":{\"line\":{\"color\":\"#E5ECF6\",\"width\":0.5},\"pattern\":{\"fillmode\":\"overlay\",\"size\":10,\"solidity\":0.2}},\"type\":\"bar\"}],\"scattergeo\":[{\"type\":\"scattergeo\",\"marker\":{\"colorbar\":{\"outlinewidth\":0,\"ticks\":\"\"}}}],\"scatterpolar\":[{\"type\":\"scatterpolar\",\"marker\":{\"colorbar\":{\"outlinewidth\":0,\"ticks\":\"\"}}}],\"histogram\":[{\"marker\":{\"pattern\":{\"fillmode\":\"overlay\",\"size\":10,\"solidity\":0.2}},\"type\":\"histogram\"}],\"scattergl\":[{\"type\":\"scattergl\",\"marker\":{\"colorbar\":{\"outlinewidth\":0,\"ticks\":\"\"}}}],\"scatter3d\":[{\"type\":\"scatter3d\",\"line\":{\"colorbar\":{\"outlinewidth\":0,\"ticks\":\"\"}},\"marker\":{\"colorbar\":{\"outlinewidth\":0,\"ticks\":\"\"}}}],\"scattermapbox\":[{\"type\":\"scattermapbox\",\"marker\":{\"colorbar\":{\"outlinewidth\":0,\"ticks\":\"\"}}}],\"scatterternary\":[{\"type\":\"scatterternary\",\"marker\":{\"colorbar\":{\"outlinewidth\":0,\"ticks\":\"\"}}}],\"scattercarpet\":[{\"type\":\"scattercarpet\",\"marker\":{\"colorbar\":{\"outlinewidth\":0,\"ticks\":\"\"}}}],\"carpet\":[{\"aaxis\":{\"endlinecolor\":\"#2a3f5f\",\"gridcolor\":\"white\",\"linecolor\":\"white\",\"minorgridcolor\":\"white\",\"startlinecolor\":\"#2a3f5f\"},\"baxis\":{\"endlinecolor\":\"#2a3f5f\",\"gridcolor\":\"white\",\"linecolor\":\"white\",\"minorgridcolor\":\"white\",\"startlinecolor\":\"#2a3f5f\"},\"type\":\"carpet\"}],\"table\":[{\"cells\":{\"fill\":{\"color\":\"#EBF0F8\"},\"line\":{\"color\":\"white\"}},\"header\":{\"fill\":{\"color\":\"#C8D4E3\"},\"line\":{\"color\":\"white\"}},\"type\":\"table\"}],\"barpolar\":[{\"marker\":{\"line\":{\"color\":\"#E5ECF6\",\"width\":0.5},\"pattern\":{\"fillmode\":\"overlay\",\"size\":10,\"solidity\":0.2}},\"type\":\"barpolar\"}],\"pie\":[{\"automargin\":true,\"type\":\"pie\"}]},\"layout\":{\"autotypenumbers\":\"strict\",\"colorway\":[\"#636efa\",\"#EF553B\",\"#00cc96\",\"#ab63fa\",\"#FFA15A\",\"#19d3f3\",\"#FF6692\",\"#B6E880\",\"#FF97FF\",\"#FECB52\"],\"font\":{\"color\":\"#2a3f5f\"},\"hovermode\":\"closest\",\"hoverlabel\":{\"align\":\"left\"},\"paper_bgcolor\":\"white\",\"plot_bgcolor\":\"#E5ECF6\",\"polar\":{\"bgcolor\":\"#E5ECF6\",\"angularaxis\":{\"gridcolor\":\"white\",\"linecolor\":\"white\",\"ticks\":\"\"},\"radialaxis\":{\"gridcolor\":\"white\",\"linecolor\":\"white\",\"ticks\":\"\"}},\"ternary\":{\"bgcolor\":\"#E5ECF6\",\"aaxis\":{\"gridcolor\":\"white\",\"linecolor\":\"white\",\"ticks\":\"\"},\"baxis\":{\"gridcolor\":\"white\",\"linecolor\":\"white\",\"ticks\":\"\"},\"caxis\":{\"gridcolor\":\"white\",\"linecolor\":\"white\",\"ticks\":\"\"}},\"coloraxis\":{\"colorbar\":{\"outlinewidth\":0,\"ticks\":\"\"}},\"colorscale\":{\"sequential\":[[0.0,\"#0d0887\"],[0.1111111111111111,\"#46039f\"],[0.2222222222222222,\"#7201a8\"],[0.3333333333333333,\"#9c179e\"],[0.4444444444444444,\"#bd3786\"],[0.5555555555555556,\"#d8576b\"],[0.6666666666666666,\"#ed7953\"],[0.7777777777777778,\"#fb9f3a\"],[0.8888888888888888,\"#fdca26\"],[1.0,\"#f0f921\"]],\"sequentialminus\":[[0.0,\"#0d0887\"],[0.1111111111111111,\"#46039f\"],[0.2222222222222222,\"#7201a8\"],[0.3333333333333333,\"#9c179e\"],[0.4444444444444444,\"#bd3786\"],[0.5555555555555556,\"#d8576b\"],[0.6666666666666666,\"#ed7953\"],[0.7777777777777778,\"#fb9f3a\"],[0.8888888888888888,\"#fdca26\"],[1.0,\"#f0f921\"]],\"diverging\":[[0,\"#8e0152\"],[0.1,\"#c51b7d\"],[0.2,\"#de77ae\"],[0.3,\"#f1b6da\"],[0.4,\"#fde0ef\"],[0.5,\"#f7f7f7\"],[0.6,\"#e6f5d0\"],[0.7,\"#b8e186\"],[0.8,\"#7fbc41\"],[0.9,\"#4d9221\"],[1,\"#276419\"]]},\"xaxis\":{\"gridcolor\":\"white\",\"linecolor\":\"white\",\"ticks\":\"\",\"title\":{\"standoff\":15},\"zerolinecolor\":\"white\",\"automargin\":true,\"zerolinewidth\":2},\"yaxis\":{\"gridcolor\":\"white\",\"linecolor\":\"white\",\"ticks\":\"\",\"title\":{\"standoff\":15},\"zerolinecolor\":\"white\",\"automargin\":true,\"zerolinewidth\":2},\"scene\":{\"xaxis\":{\"backgroundcolor\":\"#E5ECF6\",\"gridcolor\":\"white\",\"linecolor\":\"white\",\"showbackground\":true,\"ticks\":\"\",\"zerolinecolor\":\"white\",\"gridwidth\":2},\"yaxis\":{\"backgroundcolor\":\"#E5ECF6\",\"gridcolor\":\"white\",\"linecolor\":\"white\",\"showbackground\":true,\"ticks\":\"\",\"zerolinecolor\":\"white\",\"gridwidth\":2},\"zaxis\":{\"backgroundcolor\":\"#E5ECF6\",\"gridcolor\":\"white\",\"linecolor\":\"white\",\"showbackground\":true,\"ticks\":\"\",\"zerolinecolor\":\"white\",\"gridwidth\":2}},\"shapedefaults\":{\"line\":{\"color\":\"#2a3f5f\"}},\"annotationdefaults\":{\"arrowcolor\":\"#2a3f5f\",\"arrowhead\":0,\"arrowwidth\":1},\"geo\":{\"bgcolor\":\"white\",\"landcolor\":\"#E5ECF6\",\"subunitcolor\":\"white\",\"showland\":true,\"showlakes\":true,\"lakecolor\":\"white\"},\"title\":{\"x\":0.05},\"mapbox\":{\"style\":\"light\"}}},\"xaxis\":{\"anchor\":\"y\",\"domain\":[0.0,1.0],\"title\":{\"text\":\"Bedrooms\"}},\"yaxis\":{\"anchor\":\"x\",\"domain\":[0.0,1.0],\"title\":{\"text\":\"price\"}},\"legend\":{\"tracegroupgap\":0},\"title\":{\"text\":\"Bedrooms vs. Price\"}},                        {\"responsive\": true}                    ).then(function(){\n",
              "                            \n",
              "var gd = document.getElementById('e5618325-cf60-4dd8-8e94-ac1817944799');\n",
              "var x = new MutationObserver(function (mutations, observer) {{\n",
              "        var display = window.getComputedStyle(gd).display;\n",
              "        if (!display || display === 'none') {{\n",
              "            console.log([gd, 'removed!']);\n",
              "            Plotly.purge(gd);\n",
              "            observer.disconnect();\n",
              "        }}\n",
              "}});\n",
              "\n",
              "// Listen for the removal of the full notebook cells\n",
              "var notebookContainer = gd.closest('#notebook-container');\n",
              "if (notebookContainer) {{\n",
              "    x.observe(notebookContainer, {childList: true});\n",
              "}}\n",
              "\n",
              "// Listen for the clearing of the current output cell\n",
              "var outputEl = gd.closest('.output');\n",
              "if (outputEl) {{\n",
              "    x.observe(outputEl, {childList: true});\n",
              "}}\n",
              "\n",
              "                        })                };                            </script>        </div>\n",
              "</body>\n",
              "</html>"
            ]
          },
          "metadata": {}
        }
      ]
    },
    {
      "cell_type": "code",
      "source": [
        "house.corr()\n",
        ""
      ],
      "metadata": {
        "colab": {
          "base_uri": "https://localhost:8080/",
          "height": 175
        },
        "id": "JTwfoQ9Qwyo7",
        "outputId": "70066cad-bf23-4dab-edd8-03915f5cf574"
      },
      "execution_count": 22,
      "outputs": [
        {
          "output_type": "execute_result",
          "data": {
            "text/plain": [
              "               SquareFootage  Bedrooms  Bathrooms     price\n",
              "SquareFootage       1.000000  0.771003   0.666942  0.443082\n",
              "Bedrooms            0.771003  1.000000   0.651903  0.292381\n",
              "Bathrooms           0.666942  0.651903   1.000000  0.316350\n",
              "price               0.443082  0.292381   0.316350  1.000000"
            ],
            "text/html": [
              "\n",
              "  <div id=\"df-09796da3-9554-4670-a832-e1d3b3834086\" class=\"colab-df-container\">\n",
              "    <div>\n",
              "<style scoped>\n",
              "    .dataframe tbody tr th:only-of-type {\n",
              "        vertical-align: middle;\n",
              "    }\n",
              "\n",
              "    .dataframe tbody tr th {\n",
              "        vertical-align: top;\n",
              "    }\n",
              "\n",
              "    .dataframe thead th {\n",
              "        text-align: right;\n",
              "    }\n",
              "</style>\n",
              "<table border=\"1\" class=\"dataframe\">\n",
              "  <thead>\n",
              "    <tr style=\"text-align: right;\">\n",
              "      <th></th>\n",
              "      <th>SquareFootage</th>\n",
              "      <th>Bedrooms</th>\n",
              "      <th>Bathrooms</th>\n",
              "      <th>price</th>\n",
              "    </tr>\n",
              "  </thead>\n",
              "  <tbody>\n",
              "    <tr>\n",
              "      <th>SquareFootage</th>\n",
              "      <td>1.000000</td>\n",
              "      <td>0.771003</td>\n",
              "      <td>0.666942</td>\n",
              "      <td>0.443082</td>\n",
              "    </tr>\n",
              "    <tr>\n",
              "      <th>Bedrooms</th>\n",
              "      <td>0.771003</td>\n",
              "      <td>1.000000</td>\n",
              "      <td>0.651903</td>\n",
              "      <td>0.292381</td>\n",
              "    </tr>\n",
              "    <tr>\n",
              "      <th>Bathrooms</th>\n",
              "      <td>0.666942</td>\n",
              "      <td>0.651903</td>\n",
              "      <td>1.000000</td>\n",
              "      <td>0.316350</td>\n",
              "    </tr>\n",
              "    <tr>\n",
              "      <th>price</th>\n",
              "      <td>0.443082</td>\n",
              "      <td>0.292381</td>\n",
              "      <td>0.316350</td>\n",
              "      <td>1.000000</td>\n",
              "    </tr>\n",
              "  </tbody>\n",
              "</table>\n",
              "</div>\n",
              "    <div class=\"colab-df-buttons\">\n",
              "\n",
              "  <div class=\"colab-df-container\">\n",
              "    <button class=\"colab-df-convert\" onclick=\"convertToInteractive('df-09796da3-9554-4670-a832-e1d3b3834086')\"\n",
              "            title=\"Convert this dataframe to an interactive table.\"\n",
              "            style=\"display:none;\">\n",
              "\n",
              "  <svg xmlns=\"http://www.w3.org/2000/svg\" height=\"24px\" viewBox=\"0 -960 960 960\">\n",
              "    <path d=\"M120-120v-720h720v720H120Zm60-500h600v-160H180v160Zm220 220h160v-160H400v160Zm0 220h160v-160H400v160ZM180-400h160v-160H180v160Zm440 0h160v-160H620v160ZM180-180h160v-160H180v160Zm440 0h160v-160H620v160Z\"/>\n",
              "  </svg>\n",
              "    </button>\n",
              "\n",
              "  <style>\n",
              "    .colab-df-container {\n",
              "      display:flex;\n",
              "      gap: 12px;\n",
              "    }\n",
              "\n",
              "    .colab-df-convert {\n",
              "      background-color: #E8F0FE;\n",
              "      border: none;\n",
              "      border-radius: 50%;\n",
              "      cursor: pointer;\n",
              "      display: none;\n",
              "      fill: #1967D2;\n",
              "      height: 32px;\n",
              "      padding: 0 0 0 0;\n",
              "      width: 32px;\n",
              "    }\n",
              "\n",
              "    .colab-df-convert:hover {\n",
              "      background-color: #E2EBFA;\n",
              "      box-shadow: 0px 1px 2px rgba(60, 64, 67, 0.3), 0px 1px 3px 1px rgba(60, 64, 67, 0.15);\n",
              "      fill: #174EA6;\n",
              "    }\n",
              "\n",
              "    .colab-df-buttons div {\n",
              "      margin-bottom: 4px;\n",
              "    }\n",
              "\n",
              "    [theme=dark] .colab-df-convert {\n",
              "      background-color: #3B4455;\n",
              "      fill: #D2E3FC;\n",
              "    }\n",
              "\n",
              "    [theme=dark] .colab-df-convert:hover {\n",
              "      background-color: #434B5C;\n",
              "      box-shadow: 0px 1px 3px 1px rgba(0, 0, 0, 0.15);\n",
              "      filter: drop-shadow(0px 1px 2px rgba(0, 0, 0, 0.3));\n",
              "      fill: #FFFFFF;\n",
              "    }\n",
              "  </style>\n",
              "\n",
              "    <script>\n",
              "      const buttonEl =\n",
              "        document.querySelector('#df-09796da3-9554-4670-a832-e1d3b3834086 button.colab-df-convert');\n",
              "      buttonEl.style.display =\n",
              "        google.colab.kernel.accessAllowed ? 'block' : 'none';\n",
              "\n",
              "      async function convertToInteractive(key) {\n",
              "        const element = document.querySelector('#df-09796da3-9554-4670-a832-e1d3b3834086');\n",
              "        const dataTable =\n",
              "          await google.colab.kernel.invokeFunction('convertToInteractive',\n",
              "                                                    [key], {});\n",
              "        if (!dataTable) return;\n",
              "\n",
              "        const docLinkHtml = 'Like what you see? Visit the ' +\n",
              "          '<a target=\"_blank\" href=https://colab.research.google.com/notebooks/data_table.ipynb>data table notebook</a>'\n",
              "          + ' to learn more about interactive tables.';\n",
              "        element.innerHTML = '';\n",
              "        dataTable['output_type'] = 'display_data';\n",
              "        await google.colab.output.renderOutput(dataTable, element);\n",
              "        const docLink = document.createElement('div');\n",
              "        docLink.innerHTML = docLinkHtml;\n",
              "        element.appendChild(docLink);\n",
              "      }\n",
              "    </script>\n",
              "  </div>\n",
              "\n",
              "\n",
              "<div id=\"df-b79c9816-b40d-4e82-9bac-f98594f7dbc1\">\n",
              "  <button class=\"colab-df-quickchart\" onclick=\"quickchart('df-b79c9816-b40d-4e82-9bac-f98594f7dbc1')\"\n",
              "            title=\"Suggest charts\"\n",
              "            style=\"display:none;\">\n",
              "\n",
              "<svg xmlns=\"http://www.w3.org/2000/svg\" height=\"24px\"viewBox=\"0 0 24 24\"\n",
              "     width=\"24px\">\n",
              "    <g>\n",
              "        <path d=\"M19 3H5c-1.1 0-2 .9-2 2v14c0 1.1.9 2 2 2h14c1.1 0 2-.9 2-2V5c0-1.1-.9-2-2-2zM9 17H7v-7h2v7zm4 0h-2V7h2v10zm4 0h-2v-4h2v4z\"/>\n",
              "    </g>\n",
              "</svg>\n",
              "  </button>\n",
              "\n",
              "<style>\n",
              "  .colab-df-quickchart {\n",
              "      --bg-color: #E8F0FE;\n",
              "      --fill-color: #1967D2;\n",
              "      --hover-bg-color: #E2EBFA;\n",
              "      --hover-fill-color: #174EA6;\n",
              "      --disabled-fill-color: #AAA;\n",
              "      --disabled-bg-color: #DDD;\n",
              "  }\n",
              "\n",
              "  [theme=dark] .colab-df-quickchart {\n",
              "      --bg-color: #3B4455;\n",
              "      --fill-color: #D2E3FC;\n",
              "      --hover-bg-color: #434B5C;\n",
              "      --hover-fill-color: #FFFFFF;\n",
              "      --disabled-bg-color: #3B4455;\n",
              "      --disabled-fill-color: #666;\n",
              "  }\n",
              "\n",
              "  .colab-df-quickchart {\n",
              "    background-color: var(--bg-color);\n",
              "    border: none;\n",
              "    border-radius: 50%;\n",
              "    cursor: pointer;\n",
              "    display: none;\n",
              "    fill: var(--fill-color);\n",
              "    height: 32px;\n",
              "    padding: 0;\n",
              "    width: 32px;\n",
              "  }\n",
              "\n",
              "  .colab-df-quickchart:hover {\n",
              "    background-color: var(--hover-bg-color);\n",
              "    box-shadow: 0 1px 2px rgba(60, 64, 67, 0.3), 0 1px 3px 1px rgba(60, 64, 67, 0.15);\n",
              "    fill: var(--button-hover-fill-color);\n",
              "  }\n",
              "\n",
              "  .colab-df-quickchart-complete:disabled,\n",
              "  .colab-df-quickchart-complete:disabled:hover {\n",
              "    background-color: var(--disabled-bg-color);\n",
              "    fill: var(--disabled-fill-color);\n",
              "    box-shadow: none;\n",
              "  }\n",
              "\n",
              "  .colab-df-spinner {\n",
              "    border: 2px solid var(--fill-color);\n",
              "    border-color: transparent;\n",
              "    border-bottom-color: var(--fill-color);\n",
              "    animation:\n",
              "      spin 1s steps(1) infinite;\n",
              "  }\n",
              "\n",
              "  @keyframes spin {\n",
              "    0% {\n",
              "      border-color: transparent;\n",
              "      border-bottom-color: var(--fill-color);\n",
              "      border-left-color: var(--fill-color);\n",
              "    }\n",
              "    20% {\n",
              "      border-color: transparent;\n",
              "      border-left-color: var(--fill-color);\n",
              "      border-top-color: var(--fill-color);\n",
              "    }\n",
              "    30% {\n",
              "      border-color: transparent;\n",
              "      border-left-color: var(--fill-color);\n",
              "      border-top-color: var(--fill-color);\n",
              "      border-right-color: var(--fill-color);\n",
              "    }\n",
              "    40% {\n",
              "      border-color: transparent;\n",
              "      border-right-color: var(--fill-color);\n",
              "      border-top-color: var(--fill-color);\n",
              "    }\n",
              "    60% {\n",
              "      border-color: transparent;\n",
              "      border-right-color: var(--fill-color);\n",
              "    }\n",
              "    80% {\n",
              "      border-color: transparent;\n",
              "      border-right-color: var(--fill-color);\n",
              "      border-bottom-color: var(--fill-color);\n",
              "    }\n",
              "    90% {\n",
              "      border-color: transparent;\n",
              "      border-bottom-color: var(--fill-color);\n",
              "    }\n",
              "  }\n",
              "</style>\n",
              "\n",
              "  <script>\n",
              "    async function quickchart(key) {\n",
              "      const quickchartButtonEl =\n",
              "        document.querySelector('#' + key + ' button');\n",
              "      quickchartButtonEl.disabled = true;  // To prevent multiple clicks.\n",
              "      quickchartButtonEl.classList.add('colab-df-spinner');\n",
              "      try {\n",
              "        const charts = await google.colab.kernel.invokeFunction(\n",
              "            'suggestCharts', [key], {});\n",
              "      } catch (error) {\n",
              "        console.error('Error during call to suggestCharts:', error);\n",
              "      }\n",
              "      quickchartButtonEl.classList.remove('colab-df-spinner');\n",
              "      quickchartButtonEl.classList.add('colab-df-quickchart-complete');\n",
              "    }\n",
              "    (() => {\n",
              "      let quickchartButtonEl =\n",
              "        document.querySelector('#df-b79c9816-b40d-4e82-9bac-f98594f7dbc1 button');\n",
              "      quickchartButtonEl.style.display =\n",
              "        google.colab.kernel.accessAllowed ? 'block' : 'none';\n",
              "    })();\n",
              "  </script>\n",
              "</div>\n",
              "\n",
              "    </div>\n",
              "  </div>\n"
            ]
          },
          "metadata": {},
          "execution_count": 22
        }
      ]
    },
    {
      "cell_type": "code",
      "source": [
        "inputs = house[house.columns[:-1]]\n",
        "target = house['price']"
      ],
      "metadata": {
        "id": "kbwLK3v8xBOC"
      },
      "execution_count": 24,
      "outputs": []
    },
    {
      "cell_type": "code",
      "source": [
        "inputs.shape"
      ],
      "metadata": {
        "colab": {
          "base_uri": "https://localhost:8080/"
        },
        "id": "HJf5ZAf6xZxr",
        "outputId": "80aee76e-7513-4358-e91b-da916e4919e0"
      },
      "execution_count": 25,
      "outputs": [
        {
          "output_type": "execute_result",
          "data": {
            "text/plain": [
              "(1984, 3)"
            ]
          },
          "metadata": {},
          "execution_count": 25
        }
      ]
    },
    {
      "cell_type": "code",
      "source": [
        "inputs.head()"
      ],
      "metadata": {
        "colab": {
          "base_uri": "https://localhost:8080/",
          "height": 206
        },
        "id": "nMc_1DAVxbXr",
        "outputId": "7d3faa38-42e7-422e-c810-7866f73f7be5"
      },
      "execution_count": 26,
      "outputs": [
        {
          "output_type": "execute_result",
          "data": {
            "text/plain": [
              "   SquareFootage  Bedrooms  Bathrooms\n",
              "0         2590.0         3        2.5\n",
              "1         2240.0         4        2.0\n",
              "2         2040.0         4        3.0\n",
              "3         3800.0         4        3.0\n",
              "4         1042.0         2        2.0"
            ],
            "text/html": [
              "\n",
              "  <div id=\"df-9913ba4d-ea0e-45aa-a815-0498e171f8ab\" class=\"colab-df-container\">\n",
              "    <div>\n",
              "<style scoped>\n",
              "    .dataframe tbody tr th:only-of-type {\n",
              "        vertical-align: middle;\n",
              "    }\n",
              "\n",
              "    .dataframe tbody tr th {\n",
              "        vertical-align: top;\n",
              "    }\n",
              "\n",
              "    .dataframe thead th {\n",
              "        text-align: right;\n",
              "    }\n",
              "</style>\n",
              "<table border=\"1\" class=\"dataframe\">\n",
              "  <thead>\n",
              "    <tr style=\"text-align: right;\">\n",
              "      <th></th>\n",
              "      <th>SquareFootage</th>\n",
              "      <th>Bedrooms</th>\n",
              "      <th>Bathrooms</th>\n",
              "    </tr>\n",
              "  </thead>\n",
              "  <tbody>\n",
              "    <tr>\n",
              "      <th>0</th>\n",
              "      <td>2590.0</td>\n",
              "      <td>3</td>\n",
              "      <td>2.5</td>\n",
              "    </tr>\n",
              "    <tr>\n",
              "      <th>1</th>\n",
              "      <td>2240.0</td>\n",
              "      <td>4</td>\n",
              "      <td>2.0</td>\n",
              "    </tr>\n",
              "    <tr>\n",
              "      <th>2</th>\n",
              "      <td>2040.0</td>\n",
              "      <td>4</td>\n",
              "      <td>3.0</td>\n",
              "    </tr>\n",
              "    <tr>\n",
              "      <th>3</th>\n",
              "      <td>3800.0</td>\n",
              "      <td>4</td>\n",
              "      <td>3.0</td>\n",
              "    </tr>\n",
              "    <tr>\n",
              "      <th>4</th>\n",
              "      <td>1042.0</td>\n",
              "      <td>2</td>\n",
              "      <td>2.0</td>\n",
              "    </tr>\n",
              "  </tbody>\n",
              "</table>\n",
              "</div>\n",
              "    <div class=\"colab-df-buttons\">\n",
              "\n",
              "  <div class=\"colab-df-container\">\n",
              "    <button class=\"colab-df-convert\" onclick=\"convertToInteractive('df-9913ba4d-ea0e-45aa-a815-0498e171f8ab')\"\n",
              "            title=\"Convert this dataframe to an interactive table.\"\n",
              "            style=\"display:none;\">\n",
              "\n",
              "  <svg xmlns=\"http://www.w3.org/2000/svg\" height=\"24px\" viewBox=\"0 -960 960 960\">\n",
              "    <path d=\"M120-120v-720h720v720H120Zm60-500h600v-160H180v160Zm220 220h160v-160H400v160Zm0 220h160v-160H400v160ZM180-400h160v-160H180v160Zm440 0h160v-160H620v160ZM180-180h160v-160H180v160Zm440 0h160v-160H620v160Z\"/>\n",
              "  </svg>\n",
              "    </button>\n",
              "\n",
              "  <style>\n",
              "    .colab-df-container {\n",
              "      display:flex;\n",
              "      gap: 12px;\n",
              "    }\n",
              "\n",
              "    .colab-df-convert {\n",
              "      background-color: #E8F0FE;\n",
              "      border: none;\n",
              "      border-radius: 50%;\n",
              "      cursor: pointer;\n",
              "      display: none;\n",
              "      fill: #1967D2;\n",
              "      height: 32px;\n",
              "      padding: 0 0 0 0;\n",
              "      width: 32px;\n",
              "    }\n",
              "\n",
              "    .colab-df-convert:hover {\n",
              "      background-color: #E2EBFA;\n",
              "      box-shadow: 0px 1px 2px rgba(60, 64, 67, 0.3), 0px 1px 3px 1px rgba(60, 64, 67, 0.15);\n",
              "      fill: #174EA6;\n",
              "    }\n",
              "\n",
              "    .colab-df-buttons div {\n",
              "      margin-bottom: 4px;\n",
              "    }\n",
              "\n",
              "    [theme=dark] .colab-df-convert {\n",
              "      background-color: #3B4455;\n",
              "      fill: #D2E3FC;\n",
              "    }\n",
              "\n",
              "    [theme=dark] .colab-df-convert:hover {\n",
              "      background-color: #434B5C;\n",
              "      box-shadow: 0px 1px 3px 1px rgba(0, 0, 0, 0.15);\n",
              "      filter: drop-shadow(0px 1px 2px rgba(0, 0, 0, 0.3));\n",
              "      fill: #FFFFFF;\n",
              "    }\n",
              "  </style>\n",
              "\n",
              "    <script>\n",
              "      const buttonEl =\n",
              "        document.querySelector('#df-9913ba4d-ea0e-45aa-a815-0498e171f8ab button.colab-df-convert');\n",
              "      buttonEl.style.display =\n",
              "        google.colab.kernel.accessAllowed ? 'block' : 'none';\n",
              "\n",
              "      async function convertToInteractive(key) {\n",
              "        const element = document.querySelector('#df-9913ba4d-ea0e-45aa-a815-0498e171f8ab');\n",
              "        const dataTable =\n",
              "          await google.colab.kernel.invokeFunction('convertToInteractive',\n",
              "                                                    [key], {});\n",
              "        if (!dataTable) return;\n",
              "\n",
              "        const docLinkHtml = 'Like what you see? Visit the ' +\n",
              "          '<a target=\"_blank\" href=https://colab.research.google.com/notebooks/data_table.ipynb>data table notebook</a>'\n",
              "          + ' to learn more about interactive tables.';\n",
              "        element.innerHTML = '';\n",
              "        dataTable['output_type'] = 'display_data';\n",
              "        await google.colab.output.renderOutput(dataTable, element);\n",
              "        const docLink = document.createElement('div');\n",
              "        docLink.innerHTML = docLinkHtml;\n",
              "        element.appendChild(docLink);\n",
              "      }\n",
              "    </script>\n",
              "  </div>\n",
              "\n",
              "\n",
              "<div id=\"df-f2f8ce7c-a65b-48a0-a146-a8027d48bf90\">\n",
              "  <button class=\"colab-df-quickchart\" onclick=\"quickchart('df-f2f8ce7c-a65b-48a0-a146-a8027d48bf90')\"\n",
              "            title=\"Suggest charts\"\n",
              "            style=\"display:none;\">\n",
              "\n",
              "<svg xmlns=\"http://www.w3.org/2000/svg\" height=\"24px\"viewBox=\"0 0 24 24\"\n",
              "     width=\"24px\">\n",
              "    <g>\n",
              "        <path d=\"M19 3H5c-1.1 0-2 .9-2 2v14c0 1.1.9 2 2 2h14c1.1 0 2-.9 2-2V5c0-1.1-.9-2-2-2zM9 17H7v-7h2v7zm4 0h-2V7h2v10zm4 0h-2v-4h2v4z\"/>\n",
              "    </g>\n",
              "</svg>\n",
              "  </button>\n",
              "\n",
              "<style>\n",
              "  .colab-df-quickchart {\n",
              "      --bg-color: #E8F0FE;\n",
              "      --fill-color: #1967D2;\n",
              "      --hover-bg-color: #E2EBFA;\n",
              "      --hover-fill-color: #174EA6;\n",
              "      --disabled-fill-color: #AAA;\n",
              "      --disabled-bg-color: #DDD;\n",
              "  }\n",
              "\n",
              "  [theme=dark] .colab-df-quickchart {\n",
              "      --bg-color: #3B4455;\n",
              "      --fill-color: #D2E3FC;\n",
              "      --hover-bg-color: #434B5C;\n",
              "      --hover-fill-color: #FFFFFF;\n",
              "      --disabled-bg-color: #3B4455;\n",
              "      --disabled-fill-color: #666;\n",
              "  }\n",
              "\n",
              "  .colab-df-quickchart {\n",
              "    background-color: var(--bg-color);\n",
              "    border: none;\n",
              "    border-radius: 50%;\n",
              "    cursor: pointer;\n",
              "    display: none;\n",
              "    fill: var(--fill-color);\n",
              "    height: 32px;\n",
              "    padding: 0;\n",
              "    width: 32px;\n",
              "  }\n",
              "\n",
              "  .colab-df-quickchart:hover {\n",
              "    background-color: var(--hover-bg-color);\n",
              "    box-shadow: 0 1px 2px rgba(60, 64, 67, 0.3), 0 1px 3px 1px rgba(60, 64, 67, 0.15);\n",
              "    fill: var(--button-hover-fill-color);\n",
              "  }\n",
              "\n",
              "  .colab-df-quickchart-complete:disabled,\n",
              "  .colab-df-quickchart-complete:disabled:hover {\n",
              "    background-color: var(--disabled-bg-color);\n",
              "    fill: var(--disabled-fill-color);\n",
              "    box-shadow: none;\n",
              "  }\n",
              "\n",
              "  .colab-df-spinner {\n",
              "    border: 2px solid var(--fill-color);\n",
              "    border-color: transparent;\n",
              "    border-bottom-color: var(--fill-color);\n",
              "    animation:\n",
              "      spin 1s steps(1) infinite;\n",
              "  }\n",
              "\n",
              "  @keyframes spin {\n",
              "    0% {\n",
              "      border-color: transparent;\n",
              "      border-bottom-color: var(--fill-color);\n",
              "      border-left-color: var(--fill-color);\n",
              "    }\n",
              "    20% {\n",
              "      border-color: transparent;\n",
              "      border-left-color: var(--fill-color);\n",
              "      border-top-color: var(--fill-color);\n",
              "    }\n",
              "    30% {\n",
              "      border-color: transparent;\n",
              "      border-left-color: var(--fill-color);\n",
              "      border-top-color: var(--fill-color);\n",
              "      border-right-color: var(--fill-color);\n",
              "    }\n",
              "    40% {\n",
              "      border-color: transparent;\n",
              "      border-right-color: var(--fill-color);\n",
              "      border-top-color: var(--fill-color);\n",
              "    }\n",
              "    60% {\n",
              "      border-color: transparent;\n",
              "      border-right-color: var(--fill-color);\n",
              "    }\n",
              "    80% {\n",
              "      border-color: transparent;\n",
              "      border-right-color: var(--fill-color);\n",
              "      border-bottom-color: var(--fill-color);\n",
              "    }\n",
              "    90% {\n",
              "      border-color: transparent;\n",
              "      border-bottom-color: var(--fill-color);\n",
              "    }\n",
              "  }\n",
              "</style>\n",
              "\n",
              "  <script>\n",
              "    async function quickchart(key) {\n",
              "      const quickchartButtonEl =\n",
              "        document.querySelector('#' + key + ' button');\n",
              "      quickchartButtonEl.disabled = true;  // To prevent multiple clicks.\n",
              "      quickchartButtonEl.classList.add('colab-df-spinner');\n",
              "      try {\n",
              "        const charts = await google.colab.kernel.invokeFunction(\n",
              "            'suggestCharts', [key], {});\n",
              "      } catch (error) {\n",
              "        console.error('Error during call to suggestCharts:', error);\n",
              "      }\n",
              "      quickchartButtonEl.classList.remove('colab-df-spinner');\n",
              "      quickchartButtonEl.classList.add('colab-df-quickchart-complete');\n",
              "    }\n",
              "    (() => {\n",
              "      let quickchartButtonEl =\n",
              "        document.querySelector('#df-f2f8ce7c-a65b-48a0-a146-a8027d48bf90 button');\n",
              "      quickchartButtonEl.style.display =\n",
              "        google.colab.kernel.accessAllowed ? 'block' : 'none';\n",
              "    })();\n",
              "  </script>\n",
              "</div>\n",
              "\n",
              "    </div>\n",
              "  </div>\n"
            ]
          },
          "metadata": {},
          "execution_count": 26
        }
      ]
    },
    {
      "cell_type": "code",
      "source": [
        "target"
      ],
      "metadata": {
        "colab": {
          "base_uri": "https://localhost:8080/"
        },
        "id": "YxcECN06xf_G",
        "outputId": "a962cdb7-70ec-4f3a-f20a-9528394d9dbe"
      },
      "execution_count": 27,
      "outputs": [
        {
          "output_type": "execute_result",
          "data": {
            "text/plain": [
              "0        795000.0\n",
              "1        915000.0\n",
              "2        950000.0\n",
              "3       1950000.0\n",
              "4        950000.0\n",
              "          ...    \n",
              "2011     910000.0\n",
              "2012     550000.0\n",
              "2013    1150000.0\n",
              "2014     590000.0\n",
              "2015     659000.0\n",
              "Name: price, Length: 1984, dtype: float64"
            ]
          },
          "metadata": {},
          "execution_count": 27
        }
      ]
    },
    {
      "cell_type": "code",
      "source": [
        "column =['SquareFootage', 'Bedrooms', 'Bathrooms']"
      ],
      "metadata": {
        "id": "1TBHYgebxnX4"
      },
      "execution_count": 28,
      "outputs": []
    },
    {
      "cell_type": "markdown",
      "source": [
        "**SCALING OF NUMERICAL COLUMNS**"
      ],
      "metadata": {
        "id": "az7wT2lIxznN"
      }
    },
    {
      "cell_type": "code",
      "source": [
        "from sklearn.preprocessing import StandardScaler\n",
        "scaler = StandardScaler()\n",
        "scaler.fit(inputs[column])\n",
        "inputs = scaler.transform(inputs[column])"
      ],
      "metadata": {
        "id": "0dxqY1eBxxD6"
      },
      "execution_count": 29,
      "outputs": []
    },
    {
      "cell_type": "code",
      "source": [
        "inputs"
      ],
      "metadata": {
        "colab": {
          "base_uri": "https://localhost:8080/"
        },
        "id": "_ckEkJE4yMi9",
        "outputId": "932ab49e-e5f1-49a5-b88a-6fa4b7608a80"
      },
      "execution_count": 30,
      "outputs": [
        {
          "output_type": "execute_result",
          "data": {
            "text/plain": [
              "array([[ 0.91741049,  0.10378156,  0.33470209],\n",
              "       [ 0.53788162,  0.89877236, -0.16271285],\n",
              "       [ 0.32100797,  0.89877236,  0.83211702],\n",
              "       ...,\n",
              "       [ 0.42944479,  0.89877236, -0.16271285],\n",
              "       [-1.02903046, -0.69120924, -0.16271285],\n",
              "       [-0.03683354,  0.10378156, -0.16271285]])"
            ]
          },
          "metadata": {},
          "execution_count": 30
        }
      ]
    },
    {
      "cell_type": "code",
      "source": [
        "inputs.shape"
      ],
      "metadata": {
        "colab": {
          "base_uri": "https://localhost:8080/"
        },
        "id": "yJzZkI2iyTd3",
        "outputId": "6be89095-0d75-4a55-c1d6-225211ae881a"
      },
      "execution_count": 31,
      "outputs": [
        {
          "output_type": "execute_result",
          "data": {
            "text/plain": [
              "(1984, 3)"
            ]
          },
          "metadata": {},
          "execution_count": 31
        }
      ]
    },
    {
      "cell_type": "code",
      "source": [
        "target.shape"
      ],
      "metadata": {
        "colab": {
          "base_uri": "https://localhost:8080/"
        },
        "id": "4rQVSxBJyW1s",
        "outputId": "bc81d893-4bf1-4f39-f429-7e793b72c134"
      },
      "execution_count": 32,
      "outputs": [
        {
          "output_type": "execute_result",
          "data": {
            "text/plain": [
              "(1984,)"
            ]
          },
          "metadata": {},
          "execution_count": 32
        }
      ]
    },
    {
      "cell_type": "markdown",
      "source": [
        "**SPLIT DATASET INTO TRAIN AND TEST DATASET**"
      ],
      "metadata": {
        "id": "N4r4-N3fydij"
      }
    },
    {
      "cell_type": "code",
      "source": [
        "from sklearn.model_selection import train_test_split\n",
        "x_train, x_test, y_train, y_test = train_test_split(inputs, target, random_state=42, test_size=0.2)\n",
        "print(\"shape of x_train\", x_train.shape)\n",
        "print(\"shape of y_train\", y_train.shape)\n",
        "print(\"shape of x_test\", x_test.shape)\n",
        "print(\"shape of y_test\", y_test.shape)\n",
        ""
      ],
      "metadata": {
        "colab": {
          "base_uri": "https://localhost:8080/"
        },
        "id": "oOnA7e19ydD6",
        "outputId": "b15c7f19-c046-4cbe-94b3-2aaf99e9d941"
      },
      "execution_count": 33,
      "outputs": [
        {
          "output_type": "stream",
          "name": "stdout",
          "text": [
            "shape of x_train (1587, 3)\n",
            "shape of y_train (1587,)\n",
            "shape of x_test (397, 3)\n",
            "shape of y_test (397,)\n"
          ]
        }
      ]
    },
    {
      "cell_type": "markdown",
      "source": [
        "**TRAIN & EVALUATE THE LINEAR REGRESSION MODEL**"
      ],
      "metadata": {
        "id": "d3FqZ0f_zOPP"
      }
    },
    {
      "cell_type": "code",
      "source": [
        "from sklearn.linear_model import LinearRegression\n",
        "model = LinearRegression()\n",
        "model.fit(x_train, y_train)\n"
      ],
      "metadata": {
        "colab": {
          "base_uri": "https://localhost:8080/",
          "height": 74
        },
        "id": "SQ2GZEPxzJ-h",
        "outputId": "9be39e78-4f6e-435a-b4ab-707e2768ef59"
      },
      "execution_count": 34,
      "outputs": [
        {
          "output_type": "execute_result",
          "data": {
            "text/plain": [
              "LinearRegression()"
            ],
            "text/html": [
              "<style>#sk-container-id-1 {color: black;background-color: white;}#sk-container-id-1 pre{padding: 0;}#sk-container-id-1 div.sk-toggleable {background-color: white;}#sk-container-id-1 label.sk-toggleable__label {cursor: pointer;display: block;width: 100%;margin-bottom: 0;padding: 0.3em;box-sizing: border-box;text-align: center;}#sk-container-id-1 label.sk-toggleable__label-arrow:before {content: \"▸\";float: left;margin-right: 0.25em;color: #696969;}#sk-container-id-1 label.sk-toggleable__label-arrow:hover:before {color: black;}#sk-container-id-1 div.sk-estimator:hover label.sk-toggleable__label-arrow:before {color: black;}#sk-container-id-1 div.sk-toggleable__content {max-height: 0;max-width: 0;overflow: hidden;text-align: left;background-color: #f0f8ff;}#sk-container-id-1 div.sk-toggleable__content pre {margin: 0.2em;color: black;border-radius: 0.25em;background-color: #f0f8ff;}#sk-container-id-1 input.sk-toggleable__control:checked~div.sk-toggleable__content {max-height: 200px;max-width: 100%;overflow: auto;}#sk-container-id-1 input.sk-toggleable__control:checked~label.sk-toggleable__label-arrow:before {content: \"▾\";}#sk-container-id-1 div.sk-estimator input.sk-toggleable__control:checked~label.sk-toggleable__label {background-color: #d4ebff;}#sk-container-id-1 div.sk-label input.sk-toggleable__control:checked~label.sk-toggleable__label {background-color: #d4ebff;}#sk-container-id-1 input.sk-hidden--visually {border: 0;clip: rect(1px 1px 1px 1px);clip: rect(1px, 1px, 1px, 1px);height: 1px;margin: -1px;overflow: hidden;padding: 0;position: absolute;width: 1px;}#sk-container-id-1 div.sk-estimator {font-family: monospace;background-color: #f0f8ff;border: 1px dotted black;border-radius: 0.25em;box-sizing: border-box;margin-bottom: 0.5em;}#sk-container-id-1 div.sk-estimator:hover {background-color: #d4ebff;}#sk-container-id-1 div.sk-parallel-item::after {content: \"\";width: 100%;border-bottom: 1px solid gray;flex-grow: 1;}#sk-container-id-1 div.sk-label:hover label.sk-toggleable__label {background-color: #d4ebff;}#sk-container-id-1 div.sk-serial::before {content: \"\";position: absolute;border-left: 1px solid gray;box-sizing: border-box;top: 0;bottom: 0;left: 50%;z-index: 0;}#sk-container-id-1 div.sk-serial {display: flex;flex-direction: column;align-items: center;background-color: white;padding-right: 0.2em;padding-left: 0.2em;position: relative;}#sk-container-id-1 div.sk-item {position: relative;z-index: 1;}#sk-container-id-1 div.sk-parallel {display: flex;align-items: stretch;justify-content: center;background-color: white;position: relative;}#sk-container-id-1 div.sk-item::before, #sk-container-id-1 div.sk-parallel-item::before {content: \"\";position: absolute;border-left: 1px solid gray;box-sizing: border-box;top: 0;bottom: 0;left: 50%;z-index: -1;}#sk-container-id-1 div.sk-parallel-item {display: flex;flex-direction: column;z-index: 1;position: relative;background-color: white;}#sk-container-id-1 div.sk-parallel-item:first-child::after {align-self: flex-end;width: 50%;}#sk-container-id-1 div.sk-parallel-item:last-child::after {align-self: flex-start;width: 50%;}#sk-container-id-1 div.sk-parallel-item:only-child::after {width: 0;}#sk-container-id-1 div.sk-dashed-wrapped {border: 1px dashed gray;margin: 0 0.4em 0.5em 0.4em;box-sizing: border-box;padding-bottom: 0.4em;background-color: white;}#sk-container-id-1 div.sk-label label {font-family: monospace;font-weight: bold;display: inline-block;line-height: 1.2em;}#sk-container-id-1 div.sk-label-container {text-align: center;}#sk-container-id-1 div.sk-container {/* jupyter's `normalize.less` sets `[hidden] { display: none; }` but bootstrap.min.css set `[hidden] { display: none !important; }` so we also need the `!important` here to be able to override the default hidden behavior on the sphinx rendered scikit-learn.org. See: https://github.com/scikit-learn/scikit-learn/issues/21755 */display: inline-block !important;position: relative;}#sk-container-id-1 div.sk-text-repr-fallback {display: none;}</style><div id=\"sk-container-id-1\" class=\"sk-top-container\"><div class=\"sk-text-repr-fallback\"><pre>LinearRegression()</pre><b>In a Jupyter environment, please rerun this cell to show the HTML representation or trust the notebook. <br />On GitHub, the HTML representation is unable to render, please try loading this page with nbviewer.org.</b></div><div class=\"sk-container\" hidden><div class=\"sk-item\"><div class=\"sk-estimator sk-toggleable\"><input class=\"sk-toggleable__control sk-hidden--visually\" id=\"sk-estimator-id-1\" type=\"checkbox\" checked><label for=\"sk-estimator-id-1\" class=\"sk-toggleable__label sk-toggleable__label-arrow\">LinearRegression</label><div class=\"sk-toggleable__content\"><pre>LinearRegression()</pre></div></div></div></div></div>"
            ]
          },
          "metadata": {},
          "execution_count": 34
        }
      ]
    },
    {
      "cell_type": "code",
      "source": [
        "# predict the value at test datasets\n",
        "preds = model.predict(x_test)"
      ],
      "metadata": {
        "id": "Cixe-gGTzVzp"
      },
      "execution_count": 35,
      "outputs": []
    },
    {
      "cell_type": "markdown",
      "source": [
        "**ACCURACY OF MODEL AT TEST DATASETS**"
      ],
      "metadata": {
        "id": "Wo_lNx0Ozcn2"
      }
    },
    {
      "cell_type": "code",
      "source": [
        "# check the accuracy of model at test datasets\n",
        "from sklearn.metrics import mean_squared_error, r2_score\n",
        "print(\"Model: Linear Regression\")\n",
        "print(\"Accuracy = {:0.2f}%\".format(r2_score(y_test, preds)*100))\n",
        "print(\"Mean Squared Error = {:0.2f}\\n\".format(mean_squared_error(y_test, preds, squared=False)))"
      ],
      "metadata": {
        "colab": {
          "base_uri": "https://localhost:8080/"
        },
        "id": "4BwZjkqMzaHy",
        "outputId": "3cbe6e67-e7fa-4da7-e52e-28cd5032023b"
      },
      "execution_count": 36,
      "outputs": [
        {
          "output_type": "stream",
          "name": "stdout",
          "text": [
            "Model: Linear Regression\n",
            "Accuracy = 62.61%\n",
            "Mean Squared Error = 326365.42\n",
            "\n"
          ]
        }
      ]
    },
    {
      "cell_type": "markdown",
      "source": [
        "**TRAIN & EVALUATE THE RIDGE MODEL**"
      ],
      "metadata": {
        "id": "wEZWyx3z6lWD"
      }
    },
    {
      "cell_type": "code",
      "source": [
        "from sklearn.linear_model import Ridge\n",
        "model2 = Ridge(alpha=0.6)\n",
        "model2.fit(x_train, y_train)"
      ],
      "metadata": {
        "colab": {
          "base_uri": "https://localhost:8080/",
          "height": 74
        },
        "id": "0Vel1A4k6k8h",
        "outputId": "ed445ca4-ac2d-46b3-d339-97fd28884639"
      },
      "execution_count": 37,
      "outputs": [
        {
          "output_type": "execute_result",
          "data": {
            "text/plain": [
              "Ridge(alpha=0.6)"
            ],
            "text/html": [
              "<style>#sk-container-id-2 {color: black;background-color: white;}#sk-container-id-2 pre{padding: 0;}#sk-container-id-2 div.sk-toggleable {background-color: white;}#sk-container-id-2 label.sk-toggleable__label {cursor: pointer;display: block;width: 100%;margin-bottom: 0;padding: 0.3em;box-sizing: border-box;text-align: center;}#sk-container-id-2 label.sk-toggleable__label-arrow:before {content: \"▸\";float: left;margin-right: 0.25em;color: #696969;}#sk-container-id-2 label.sk-toggleable__label-arrow:hover:before {color: black;}#sk-container-id-2 div.sk-estimator:hover label.sk-toggleable__label-arrow:before {color: black;}#sk-container-id-2 div.sk-toggleable__content {max-height: 0;max-width: 0;overflow: hidden;text-align: left;background-color: #f0f8ff;}#sk-container-id-2 div.sk-toggleable__content pre {margin: 0.2em;color: black;border-radius: 0.25em;background-color: #f0f8ff;}#sk-container-id-2 input.sk-toggleable__control:checked~div.sk-toggleable__content {max-height: 200px;max-width: 100%;overflow: auto;}#sk-container-id-2 input.sk-toggleable__control:checked~label.sk-toggleable__label-arrow:before {content: \"▾\";}#sk-container-id-2 div.sk-estimator input.sk-toggleable__control:checked~label.sk-toggleable__label {background-color: #d4ebff;}#sk-container-id-2 div.sk-label input.sk-toggleable__control:checked~label.sk-toggleable__label {background-color: #d4ebff;}#sk-container-id-2 input.sk-hidden--visually {border: 0;clip: rect(1px 1px 1px 1px);clip: rect(1px, 1px, 1px, 1px);height: 1px;margin: -1px;overflow: hidden;padding: 0;position: absolute;width: 1px;}#sk-container-id-2 div.sk-estimator {font-family: monospace;background-color: #f0f8ff;border: 1px dotted black;border-radius: 0.25em;box-sizing: border-box;margin-bottom: 0.5em;}#sk-container-id-2 div.sk-estimator:hover {background-color: #d4ebff;}#sk-container-id-2 div.sk-parallel-item::after {content: \"\";width: 100%;border-bottom: 1px solid gray;flex-grow: 1;}#sk-container-id-2 div.sk-label:hover label.sk-toggleable__label {background-color: #d4ebff;}#sk-container-id-2 div.sk-serial::before {content: \"\";position: absolute;border-left: 1px solid gray;box-sizing: border-box;top: 0;bottom: 0;left: 50%;z-index: 0;}#sk-container-id-2 div.sk-serial {display: flex;flex-direction: column;align-items: center;background-color: white;padding-right: 0.2em;padding-left: 0.2em;position: relative;}#sk-container-id-2 div.sk-item {position: relative;z-index: 1;}#sk-container-id-2 div.sk-parallel {display: flex;align-items: stretch;justify-content: center;background-color: white;position: relative;}#sk-container-id-2 div.sk-item::before, #sk-container-id-2 div.sk-parallel-item::before {content: \"\";position: absolute;border-left: 1px solid gray;box-sizing: border-box;top: 0;bottom: 0;left: 50%;z-index: -1;}#sk-container-id-2 div.sk-parallel-item {display: flex;flex-direction: column;z-index: 1;position: relative;background-color: white;}#sk-container-id-2 div.sk-parallel-item:first-child::after {align-self: flex-end;width: 50%;}#sk-container-id-2 div.sk-parallel-item:last-child::after {align-self: flex-start;width: 50%;}#sk-container-id-2 div.sk-parallel-item:only-child::after {width: 0;}#sk-container-id-2 div.sk-dashed-wrapped {border: 1px dashed gray;margin: 0 0.4em 0.5em 0.4em;box-sizing: border-box;padding-bottom: 0.4em;background-color: white;}#sk-container-id-2 div.sk-label label {font-family: monospace;font-weight: bold;display: inline-block;line-height: 1.2em;}#sk-container-id-2 div.sk-label-container {text-align: center;}#sk-container-id-2 div.sk-container {/* jupyter's `normalize.less` sets `[hidden] { display: none; }` but bootstrap.min.css set `[hidden] { display: none !important; }` so we also need the `!important` here to be able to override the default hidden behavior on the sphinx rendered scikit-learn.org. See: https://github.com/scikit-learn/scikit-learn/issues/21755 */display: inline-block !important;position: relative;}#sk-container-id-2 div.sk-text-repr-fallback {display: none;}</style><div id=\"sk-container-id-2\" class=\"sk-top-container\"><div class=\"sk-text-repr-fallback\"><pre>Ridge(alpha=0.6)</pre><b>In a Jupyter environment, please rerun this cell to show the HTML representation or trust the notebook. <br />On GitHub, the HTML representation is unable to render, please try loading this page with nbviewer.org.</b></div><div class=\"sk-container\" hidden><div class=\"sk-item\"><div class=\"sk-estimator sk-toggleable\"><input class=\"sk-toggleable__control sk-hidden--visually\" id=\"sk-estimator-id-2\" type=\"checkbox\" checked><label for=\"sk-estimator-id-2\" class=\"sk-toggleable__label sk-toggleable__label-arrow\">Ridge</label><div class=\"sk-toggleable__content\"><pre>Ridge(alpha=0.6)</pre></div></div></div></div></div>"
            ]
          },
          "metadata": {},
          "execution_count": 37
        }
      ]
    },
    {
      "cell_type": "code",
      "source": [
        "r_preds = model2.predict(x_test)"
      ],
      "metadata": {
        "id": "Wv3-Jkz06Xsr"
      },
      "execution_count": 38,
      "outputs": []
    },
    {
      "cell_type": "markdown",
      "source": [
        "**ACCURACY OF MODEL ON TEST DATASET**"
      ],
      "metadata": {
        "id": "9jTvC-hr61VQ"
      }
    },
    {
      "cell_type": "code",
      "source": [
        "print(\"Model: Linear Ridge\")\n",
        "print(\"Accuracy = {:0.2f}%\".format(r2_score(y_test, r_preds)*100))\n",
        "print(\"Mean Squared Error = {:0.2f}\\n\".format(mean_squared_error(y_test, r_preds, squared=False)))"
      ],
      "metadata": {
        "colab": {
          "base_uri": "https://localhost:8080/"
        },
        "id": "nZVE9L9_620D",
        "outputId": "34a5d415-4a54-48ad-a928-719476785a72"
      },
      "execution_count": 39,
      "outputs": [
        {
          "output_type": "stream",
          "name": "stdout",
          "text": [
            "Model: Linear Ridge\n",
            "Accuracy = 62.62%\n",
            "Mean Squared Error = 326324.01\n",
            "\n"
          ]
        }
      ]
    },
    {
      "cell_type": "markdown",
      "source": [
        "**TRAIN & EVALUATE THE LASSO MODEL**"
      ],
      "metadata": {
        "id": "8zfyjIZN7DtZ"
      }
    },
    {
      "cell_type": "code",
      "source": [
        "from sklearn.linear_model import Lasso\n",
        "model2 = Lasso(alpha=0.6)\n",
        "model2.fit(x_train, y_train)\n",
        "l_preds = model2.predict(x_test)"
      ],
      "metadata": {
        "id": "SDrmRugL7DN6"
      },
      "execution_count": 40,
      "outputs": []
    },
    {
      "cell_type": "markdown",
      "source": [
        "**ACCURACY OF MODEL AT TEST DATASETS**"
      ],
      "metadata": {
        "id": "wnKhmkhH7Ng-"
      }
    },
    {
      "cell_type": "code",
      "source": [
        "print(\"Model: Linear Regression\")\n",
        "print(\"Accuracy = {:0.2f}%\".format(r2_score(y_test, l_preds)*100))\n",
        "print(\"Mean Squared Error = {:0.2f}\\n\".format(mean_squared_error(y_test, l_preds, squared=False)))"
      ],
      "metadata": {
        "colab": {
          "base_uri": "https://localhost:8080/"
        },
        "id": "0SePfjtd7NF-",
        "outputId": "ea323cfa-ef72-414d-afb6-8bc7223f6cb4"
      },
      "execution_count": 41,
      "outputs": [
        {
          "output_type": "stream",
          "name": "stdout",
          "text": [
            "Model: Linear Regression\n",
            "Accuracy = 62.61%\n",
            "Mean Squared Error = 326365.32\n",
            "\n"
          ]
        }
      ]
    },
    {
      "cell_type": "markdown",
      "source": [
        "**PREDICT THE HOUSE PRICE OF HOUSE BY USING NEW INPUTS**"
      ],
      "metadata": {
        "id": "9pTKpEKz7cFb"
      }
    },
    {
      "cell_type": "code",
      "source": [
        "def predict_input(single_input):\n",
        "    input_df = pd.DataFrame([single_input])\n",
        "    input_df = scaler.transform(input_df)\n",
        "    pred = model2.predict(input_df)\n",
        "    return pred[0]"
      ],
      "metadata": {
        "id": "RYrCf52S7KCP"
      },
      "execution_count": 42,
      "outputs": []
    },
    {
      "cell_type": "code",
      "source": [
        "new_input = {'SquareFootage': 2540,\n",
        "             'Bedrooms': 5,\n",
        "             'Bathrooms': 6,\n",
        "        }"
      ],
      "metadata": {
        "id": "8jtgUBlw7keK"
      },
      "execution_count": 43,
      "outputs": []
    },
    {
      "cell_type": "code",
      "source": [
        "predict_input(new_input)"
      ],
      "metadata": {
        "colab": {
          "base_uri": "https://localhost:8080/"
        },
        "id": "W8utbfDP7q8l",
        "outputId": "6829291b-dfaf-47bc-dbde-137822f098f2"
      },
      "execution_count": 44,
      "outputs": [
        {
          "output_type": "execute_result",
          "data": {
            "text/plain": [
              "1415848.8845684342"
            ]
          },
          "metadata": {},
          "execution_count": 44
        }
      ]
    },
    {
      "cell_type": "markdown",
      "source": [
        "**HOME_PRICER CALCULATER**"
      ],
      "metadata": {
        "id": "ePOJxhFj7zs2"
      }
    },
    {
      "cell_type": "code",
      "source": [
        "columns = ['SquareFootage', 'Bedrooms', 'Bathrooms']\n",
        "\n",
        "# Separate features and target variable\n",
        "inputs = house[columns]\n",
        "target = house['price']\n",
        "\n",
        "# Scale numerical columns\n",
        "scaler = StandardScaler()\n",
        "scaler.fit(inputs)\n",
        "inputs_scaled = scaler.transform(inputs)\n",
        "\n",
        "# Train the Lasso model\n",
        "model = Lasso(alpha=0.6)\n",
        "model.fit(inputs_scaled, target)\n",
        "\n",
        "def predict_house_price(square_footage, bedrooms, bathrooms):\n",
        "    # Scale the user input data\n",
        "    input_data = scaler.transform([[square_footage, bedrooms, bathrooms]])\n",
        "\n",
        "    # Predict the house price\n",
        "    predicted_price = model.predict(input_data)\n",
        "\n",
        "    return predicted_price[0]\n",
        "\n",
        "# Take user inputs\n",
        "input_square_footage = float(input(\"Enter the square footage: \"))\n",
        "input_bedrooms = int(input(\"Enter the number of bedrooms: \"))\n",
        "input_bathrooms = float(input(\"Enter the number of bathrooms: \"))\n",
        "\n",
        "# Predict house price based on user inputs\n",
        "predicted_price = predict_house_price(input_square_footage, input_bedrooms, input_bathrooms)\n",
        "print(f\"The predicted price for a house with {input_square_footage} square feet, {input_bedrooms} bedrooms, and {input_bathrooms} bathrooms is ${predicted_price:.2f}\")\n"
      ],
      "metadata": {
        "colab": {
          "base_uri": "https://localhost:8080/"
        },
        "id": "nswzpfpe7zQF",
        "outputId": "bd5e6093-602e-471a-8cae-5b9f8cd1d5d1"
      },
      "execution_count": 45,
      "outputs": [
        {
          "output_type": "stream",
          "name": "stdout",
          "text": [
            "Enter the square footage: 4679\n",
            "Enter the number of bedrooms: 12\n",
            "Enter the number of bathrooms: 15\n",
            "The predicted price for a house with 4679.0 square feet, 12 bedrooms, and 15.0 bathrooms is $2384652.35\n"
          ]
        },
        {
          "output_type": "stream",
          "name": "stderr",
          "text": [
            "/usr/local/lib/python3.10/dist-packages/sklearn/base.py:439: UserWarning:\n",
            "\n",
            "X does not have valid feature names, but StandardScaler was fitted with feature names\n",
            "\n"
          ]
        }
      ]
    }
  ]
}